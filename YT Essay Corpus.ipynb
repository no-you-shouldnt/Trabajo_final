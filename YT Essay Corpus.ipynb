{
 "cells": [
  {
   "cell_type": "code",
   "execution_count": 1,
   "id": "1d67fdb4-aad1-43e2-949c-664d82eb1075",
   "metadata": {},
   "outputs": [],
   "source": [
    "#leyendo texto 1 de prueba\n",
    "#este en realidad ya no sirve pero lo dejo como evidencia de que se hizo prueba con este texto\n",
    "\n",
    "with open('Essays/TiffanyFerg/CGIinfluencers.txt') as f:\n",
    "    contents=f.read()"
   ]
  },
  {
   "cell_type": "code",
   "execution_count": 2,
   "id": "bc98573f-6644-4c5a-9a08-66dbbe12e0d3",
   "metadata": {},
   "outputs": [],
   "source": [
    "##Abriendo corpus\n",
    "import glob\n",
    "\n",
    "lista_files = glob.glob('YTessays/*.txt')\n",
    "corpus = []\n",
    "\n",
    "for file in lista_files:\n",
    "    with open(file, 'r', encoding='utf8') as f:\n",
    "        corpus+=[f.read()]"
   ]
  },
  {
   "cell_type": "code",
   "execution_count": 3,
   "id": "cd9dd9bf-b5ef-4505-8c67-ad3b187aea16",
   "metadata": {},
   "outputs": [],
   "source": [
    "#importando librerias\n",
    "import spacy\n",
    "import nltk\n",
    "import string"
   ]
  },
  {
   "cell_type": "code",
   "execution_count": 4,
   "id": "4e2fce56-63cb-495b-aaf8-fa7feae6b852",
   "metadata": {},
   "outputs": [
    {
     "name": "stderr",
     "output_type": "stream",
     "text": [
      "[nltk_data] Downloading package punkt to\n",
      "[nltk_data]     C:\\Users\\pauba\\AppData\\Roaming\\nltk_data...\n",
      "[nltk_data]   Package punkt is already up-to-date!\n"
     ]
    },
    {
     "data": {
      "text/plain": [
       "True"
      ]
     },
     "execution_count": 4,
     "metadata": {},
     "output_type": "execute_result"
    }
   ],
   "source": [
    "nltk.download('punkt')"
   ]
  },
  {
   "cell_type": "code",
   "execution_count": 5,
   "id": "20361ab2-6bda-46f4-b9bb-561d725c68e9",
   "metadata": {},
   "outputs": [],
   "source": [
    "#eliminar () y []\n",
    "def a(test_str):\n",
    "    ret = ''\n",
    "    skip1c = 0\n",
    "    skip2c = 0\n",
    "    for i in test_str:\n",
    "        if i == '[':\n",
    "            skip1c += 1\n",
    "        elif i == '(':\n",
    "            skip2c += 1\n",
    "        elif i == ']' and skip1c > 0:\n",
    "            skip1c -= 1\n",
    "        elif i == ')'and skip2c > 0:\n",
    "            skip2c -= 1\n",
    "        elif skip1c == 0 and skip2c == 0:\n",
    "            ret += i\n",
    "    return ret"
   ]
  },
  {
   "cell_type": "code",
   "execution_count": 6,
   "id": "14780019-9aa6-4c52-a49a-c526220df1a8",
   "metadata": {},
   "outputs": [],
   "source": [
    "corpus = a(corpus)"
   ]
  },
  {
   "cell_type": "code",
   "execution_count": 7,
   "id": "a6ae884b-c67b-4443-b710-6b0f085cb5e7",
   "metadata": {},
   "outputs": [],
   "source": [
    "#dividir por salto de linea\n",
    "corpus= corpus.split('\\n')"
   ]
  },
  {
   "cell_type": "code",
   "execution_count": 8,
   "id": "34c624d8-96bd-449d-8378-ec716a91a987",
   "metadata": {},
   "outputs": [
    {
     "data": {
      "text/plain": [
       "['(\"Faceshopping\" by Sophie)',\n",
       " '♪ My face is the front of shop ♪',\n",
       " '♪ My face is the real shop front ♪',\n",
       " '♪ My shop is the face I front ♪',\n",
       " \"♪ I'm real when I shop my face ♪\",\n",
       " '♪ Artificial bloom ♪',\n",
       " '♪ Hydroponic skin ♪',\n",
       " '♪ Chemical release ♪',\n",
       " '♪ Synthesize the real ♪',\n",
       " \"(upbeat electronic music) - Hey guys, it's Natalie,\",\n",
       " 'welcome back to my channel.',\n",
       " \"Today I'm gonna do a makeup tutorial, as always,\",\n",
       " 'but first, story time, story time, story time!',\n",
       " 'I just wanna be upfront with you guys',\n",
       " \"and let you know that I've had some facial surgery.\"]"
      ]
     },
     "execution_count": 8,
     "metadata": {},
     "output_type": "execute_result"
    }
   ],
   "source": [
    "corpus[:15]"
   ]
  },
  {
   "cell_type": "code",
   "execution_count": 9,
   "id": "42d62326-be95-4b3d-817f-a1bfbe6bc0ff",
   "metadata": {},
   "outputs": [
    {
     "data": {
      "text/plain": [
       "17002"
      ]
     },
     "execution_count": 9,
     "metadata": {},
     "output_type": "execute_result"
    }
   ],
   "source": [
    "len(corpus)"
   ]
  },
  {
   "cell_type": "code",
   "execution_count": 10,
   "id": "2510c493-7857-46ca-9a32-cddbf7b058db",
   "metadata": {},
   "outputs": [],
   "source": [
    "#dividir en oraciones, importar la funcion\n",
    "from nltk import sent_tokenize"
   ]
  },
  {
   "cell_type": "code",
   "execution_count": 11,
   "id": "34f16613-b9c2-4ec3-9a90-b9097145f6c0",
   "metadata": {},
   "outputs": [],
   "source": [
    "#dividir en oraciones\n",
    "sentences = []\n",
    "for sentence in corpus:\n",
    "    sent_token = sent_tokenize(sentence)\n",
    "    sentences+=[sent_token]"
   ]
  },
  {
   "cell_type": "code",
   "execution_count": 12,
   "id": "3ba60933-2a54-4a8d-9400-618c95b1cd43",
   "metadata": {},
   "outputs": [
    {
     "data": {
      "text/plain": [
       "[['(\"Faceshopping\" by Sophie)'],\n",
       " ['♪ My face is the front of shop ♪'],\n",
       " ['♪ My face is the real shop front ♪'],\n",
       " ['♪ My shop is the face I front ♪'],\n",
       " [\"♪ I'm real when I shop my face ♪\"],\n",
       " ['♪ Artificial bloom ♪'],\n",
       " ['♪ Hydroponic skin ♪'],\n",
       " ['♪ Chemical release ♪'],\n",
       " ['♪ Synthesize the real ♪'],\n",
       " [\"(upbeat electronic music) - Hey guys, it's Natalie,\"],\n",
       " ['welcome back to my channel.'],\n",
       " [\"Today I'm gonna do a makeup tutorial, as always,\"],\n",
       " ['but first, story time, story time, story time!'],\n",
       " ['I just wanna be upfront with you guys'],\n",
       " [\"and let you know that I've had some facial surgery.\"]]"
      ]
     },
     "execution_count": 12,
     "metadata": {},
     "output_type": "execute_result"
    }
   ],
   "source": [
    "sentences[:15]"
   ]
  },
  {
   "cell_type": "code",
   "execution_count": 13,
   "id": "2cab91a6-580d-477e-9af2-f5a533a787f8",
   "metadata": {},
   "outputs": [
    {
     "data": {
      "text/plain": [
       "17002"
      ]
     },
     "execution_count": 13,
     "metadata": {},
     "output_type": "execute_result"
    }
   ],
   "source": [
    "#numero de oraciones\n",
    "len(sentences)"
   ]
  },
  {
   "cell_type": "code",
   "execution_count": 14,
   "id": "3eff9026-d769-47a8-9ea0-4afe5ec09d91",
   "metadata": {},
   "outputs": [
    {
     "data": {
      "text/plain": [
       "708.4166666666666"
      ]
     },
     "execution_count": 14,
     "metadata": {},
     "output_type": "execute_result"
    }
   ],
   "source": [
    "#promedio oraciones\n",
    "len(sentences)/24"
   ]
  },
  {
   "cell_type": "code",
   "execution_count": 15,
   "id": "5213c312-cca6-4c3b-8c1e-21d79e8ed727",
   "metadata": {},
   "outputs": [
    {
     "data": {
      "text/plain": [
       "True"
      ]
     },
     "execution_count": 15,
     "metadata": {},
     "output_type": "execute_result"
    }
   ],
   "source": [
    "#reglas de nominalization\n",
    "no_nom = 'thing', 'things', 'somethings', 'something', 'anything', 'everything', 'nothing','original', 'special', 'normal', 'version'\n",
    "terminacion = 'ment','ments','tions', 'tion','sions', 'sion', 'ibility','ibilities', 'ity','ities', 'ness','nesses', 'al','als','ings', 'ing' \n",
    "s='involvement'\n",
    "s.endswith(terminacion)"
   ]
  },
  {
   "cell_type": "code",
   "execution_count": 16,
   "id": "479fb98c-f47d-42ca-9ace-16487adfefe3",
   "metadata": {},
   "outputs": [],
   "source": [
    "nominalization = []\n",
    "for oracion in sentences:\n",
    "    for word in oracion:\n",
    "        nom = False \n",
    "        for term in terminacion: \n",
    "            if word.endswith(term):\n",
    "                nom = True\n",
    "                if nom==True and word not in no_nom: \n",
    "                    nominalization +=[word]"
   ]
  },
  {
   "cell_type": "code",
   "execution_count": 17,
   "id": "49afcb73-3ad9-44bf-b359-e05a54830310",
   "metadata": {},
   "outputs": [
    {
     "data": {
      "text/plain": [
       "888"
      ]
     },
     "execution_count": 17,
     "metadata": {},
     "output_type": "execute_result"
    }
   ],
   "source": [
    "len(nominalization)"
   ]
  },
  {
   "cell_type": "code",
   "execution_count": 18,
   "id": "cef0e8f3-730d-49ff-9987-3e0a343cfbf8",
   "metadata": {},
   "outputs": [
    {
     "data": {
      "text/plain": [
       "888"
      ]
     },
     "execution_count": 18,
     "metadata": {},
     "output_type": "execute_result"
    }
   ],
   "source": [
    "#oraciones con POSIBLES nominalizaciones\n",
    "\n",
    "nominalization = []\n",
    "for oracion in sentences:\n",
    "     for word in oracion:\n",
    "        nom = False \n",
    "        for term in terminacion: \n",
    "                if word.endswith(term):\n",
    "                    nom = True \n",
    "                    if nom==True and word not in no_nom: \n",
    "                            nominalization +=[word]\n",
    "len(nominalization)   "
   ]
  },
  {
   "cell_type": "code",
   "execution_count": 19,
   "id": "b4207ca4-5ab7-4834-aaf5-efca9ef6d959",
   "metadata": {
    "scrolled": true,
    "tags": []
   },
   "outputs": [
    {
     "data": {
      "text/plain": [
       "['and you guys are just so special',\n",
       " '(regal classical music) - A coronal incision',\n",
       " 'of the nasal septum, facilitating a reconstruction',\n",
       " 'But hypothetically speaking, I think the reality',\n",
       " 'telling me that I was suffering',\n",
       " \"(tense music) guys it's the only thing\",\n",
       " 'and Mozart sh*t you out while he was getting',\n",
       " 'heteronormative, and tragically sincere aspiration',\n",
       " 'I wanna say, \"F*ck you,\" by looking',\n",
       " \"but I think it's actually pretty normal\",\n",
       " 'The incel newspeak word for beauty is looksmaxing',\n",
       " '(intense rock music) It is imperative to implement',\n",
       " \"If you read looksmax forums, they're filled with discussions\",\n",
       " \"and said that women wear makeup because they're trying\",\n",
       " \"Here's a chart I made illustrating\",\n",
       " 'how women would engage in sexual bartering',\n",
       " \"And I'm not just saying that 'cause I'm trying\",\n",
       " '(ominous music) Your disgusting',\n",
       " \"I'm perfect aware that it's wild exaggeration\",\n",
       " 'of photo doctoring people have been doing',\n",
       " 'this is just me supporting corporations',\n",
       " \"Now if I'm not running late for something\",\n",
       " 'for 10 minutes and contemplate the futility',\n",
       " 'Where I can see an escape from my particular doom spiral',\n",
       " 'I can strut with confidence because I am basking',\n",
       " \"So, that's it for me, I guess I have nothing\",\n",
       " 'for bringing justice and accountability',\n",
       " 'to use social media shaming',\n",
       " 'The promise of canceling was that it was going',\n",
       " \"It's, in a way, the 21st century version\",\n",
       " \"Now there's a version of this conversation\",\n",
       " 'without these Millennial jackals trying',\n",
       " 'are finally being held accountable for their actions',\n",
       " 'The most high-profile YouTube canceling',\n",
       " \"There's a traditional understanding of justice according\",\n",
       " 'is an incredibly vague statement',\n",
       " \"So I'm immediately gonna feel a little bit skeptical\",\n",
       " \"But I'm not gonna have an opportunity\",\n",
       " 'Essentialism is when we go from criticizing',\n",
       " 'not a teenage twink hung up on wanting',\n",
       " \"when what you're really doing is attacking\",\n",
       " \"I see a very young person who's still working\",\n",
       " 'on understanding his own sexuality and is trying',\n",
       " 'to figure out where his attraction',\n",
       " 'we have to immediately escalate every situation',\n",
       " '\"but that stereotype and implication',\n",
       " 'but he also demonstrates a clear understanding',\n",
       " \"And that's what happened to James during\",\n",
       " 'What if you belong to a marginalized community',\n",
       " 'to learn about cancel culture and the entertainment',\n",
       " 'I am a prime target for cancellation',\n",
       " \"So basically I'm canceled for collaborating\",\n",
       " 'He grew up in a world where there was not anything',\n",
       " 'like the visibility and access to information',\n",
       " 'He wanted to create more positive trans representation',\n",
       " 'I was having myself, although I ended up deciding',\n",
       " '- \"One must remember, there is such a thing',\n",
       " \"Now, so far, I've been telling\",\n",
       " \"so much, they're willing\",\n",
       " \"So that's a vish of transness\",\n",
       " 'truscum obviously being',\n",
       " 'He certainly said some things',\n",
       " 'because truscum often call themselves transsexuals',\n",
       " 'the word transsexual was just the word for his identity',\n",
       " 'he feels like these ungrateful Millennials',\n",
       " \"it's not that he invalidates non-binary identities\",\n",
       " 'of people have been doing nothing',\n",
       " 'it does upset me when he does this distancing thing',\n",
       " 'as much as possible instead of splitting',\n",
       " \"I don't think it would be the right thing\",\n",
       " 'the whole transgender umbrella instead of trying',\n",
       " \"and I'm finally able to reveal\",\n",
       " 'If your answer is social justice advocates fighting',\n",
       " \"So I'm pretty suspicious of anyone pushing\",\n",
       " 'they, \"say I can\\'t believe you\\'re ignoring',\n",
       " 'Do I really believe all these awful things',\n",
       " \"I've also made at least five videos on this channel arguing\",\n",
       " \"But there's still hundreds of people on Twitter saying\",\n",
       " 'I was defending myself from accusations',\n",
       " 'my self-esteem is totally based on sleeping',\n",
       " 'And anyone who knows anything',\n",
       " 'You can tell the whisky is getting',\n",
       " 'But still some people on Twitter were saying',\n",
       " 'And transmedicalism is another thing',\n",
       " 'And me and this kink activists were just casually discussing',\n",
       " 'This was actually really f*cking upsetting',\n",
       " 'because they were having a trauma trigger reaction',\n",
       " \"But when you produce content online that's going\",\n",
       " \"there's always some people out there who are going\",\n",
       " 'And I was simply looking for a more persuasive argument']"
      ]
     },
     "execution_count": 19,
     "metadata": {},
     "output_type": "execute_result"
    }
   ],
   "source": [
    "#10% para analizar\n",
    "nominalization[:90]"
   ]
  },
  {
   "cell_type": "code",
   "execution_count": 20,
   "id": "00667dfc-2816-42a7-96f0-8385b6a8c442",
   "metadata": {},
   "outputs": [
    {
     "data": {
      "text/plain": [
       "5.222914951182213"
      ]
     },
     "execution_count": 20,
     "metadata": {},
     "output_type": "execute_result"
    }
   ],
   "source": [
    "##porcentaje nominalizaciones\n",
    "\n",
    "len(nominalization)/len(sentences)*100"
   ]
  },
  {
   "cell_type": "code",
   "execution_count": 21,
   "id": "796cb18d-a852-45d0-a99b-7d4365b7ccca",
   "metadata": {},
   "outputs": [],
   "source": [
    "#aplanar la lista de strings\n",
    "\n",
    "flat_sentences = []\n",
    "for item in sentences:\n",
    "        for word in item:\n",
    "            flat_sentences+=[word]"
   ]
  },
  {
   "cell_type": "code",
   "execution_count": 22,
   "id": "7f1aca73-2fe0-40fb-b09a-af2b4c8faab7",
   "metadata": {},
   "outputs": [
    {
     "data": {
      "text/plain": [
       "['(\"Faceshopping\" by Sophie)',\n",
       " '♪ My face is the front of shop ♪',\n",
       " '♪ My face is the real shop front ♪',\n",
       " '♪ My shop is the face I front ♪',\n",
       " \"♪ I'm real when I shop my face ♪\"]"
      ]
     },
     "execution_count": 22,
     "metadata": {},
     "output_type": "execute_result"
    }
   ],
   "source": [
    "flat_sentences[:5]"
   ]
  },
  {
   "cell_type": "code",
   "execution_count": 23,
   "id": "e155e649-9285-49a2-ae09-7ffb83df3597",
   "metadata": {},
   "outputs": [],
   "source": [
    "#palabras en minuscula\n",
    "\n",
    "flat_sentences_lower =[]\n",
    "\n",
    "for sentence in flat_sentences:\n",
    "    flat_sentences_lower+=[sentence.lower()]"
   ]
  },
  {
   "cell_type": "code",
   "execution_count": 24,
   "id": "8278cdac-b1ad-4a83-acff-8d75ab595731",
   "metadata": {},
   "outputs": [
    {
     "data": {
      "text/plain": [
       "['(\"faceshopping\" by sophie)',\n",
       " '♪ my face is the front of shop ♪',\n",
       " '♪ my face is the real shop front ♪',\n",
       " '♪ my shop is the face i front ♪',\n",
       " \"♪ i'm real when i shop my face ♪\"]"
      ]
     },
     "execution_count": 24,
     "metadata": {},
     "output_type": "execute_result"
    }
   ],
   "source": [
    "flat_sentences_lower [:5]"
   ]
  },
  {
   "cell_type": "code",
   "execution_count": 25,
   "id": "ddf07744-c84b-4ec3-9e2a-d7c1a337580b",
   "metadata": {},
   "outputs": [],
   "source": [
    "##eliminar puntuación\n",
    "\n",
    "import re\n",
    "\n",
    "def remove_punctuation(s):\n",
    "    return re.sub(r'[^\\w\\s]','',s)"
   ]
  },
  {
   "cell_type": "code",
   "execution_count": 26,
   "id": "fc76b179-3723-40e0-a324-30add6ccec55",
   "metadata": {},
   "outputs": [],
   "source": [
    "flat_sentences_nopunc =[]\n",
    "\n",
    "for sent in flat_sentences_lower:\n",
    "    flat_sentences_nopunc+=[remove_punctuation(sent)]"
   ]
  },
  {
   "cell_type": "code",
   "execution_count": 27,
   "id": "522bde11-2738-466a-94a5-25ae83ea5585",
   "metadata": {},
   "outputs": [
    {
     "data": {
      "text/plain": [
       "['faceshopping by sophie',\n",
       " ' my face is the front of shop ',\n",
       " ' my face is the real shop front ',\n",
       " ' my shop is the face i front ',\n",
       " ' im real when i shop my face ',\n",
       " ' artificial bloom ',\n",
       " ' hydroponic skin ',\n",
       " ' chemical release ',\n",
       " ' synthesize the real ',\n",
       " 'upbeat electronic music  hey guys its natalie',\n",
       " 'welcome back to my channel',\n",
       " 'today im gonna do a makeup tutorial as always',\n",
       " 'but first story time story time story time',\n",
       " 'i just wanna be upfront with you guys',\n",
       " 'and let you know that ive had some facial surgery']"
      ]
     },
     "execution_count": 27,
     "metadata": {},
     "output_type": "execute_result"
    }
   ],
   "source": [
    "flat_sentences_nopunc[:15]"
   ]
  },
  {
   "cell_type": "code",
   "execution_count": 28,
   "id": "56ccba6a-01d8-4b29-813e-303ad40daa9b",
   "metadata": {},
   "outputs": [
    {
     "data": {
      "text/plain": [
       "['faceshopping',\n",
       " 'by',\n",
       " 'sophie',\n",
       " '',\n",
       " 'my',\n",
       " 'face',\n",
       " 'is',\n",
       " 'the',\n",
       " 'front',\n",
       " 'of',\n",
       " 'shop',\n",
       " '',\n",
       " '',\n",
       " 'my',\n",
       " 'face']"
      ]
     },
     "execution_count": 28,
     "metadata": {},
     "output_type": "execute_result"
    }
   ],
   "source": [
    "##SEPARAR POR PALABRAS\n",
    "\n",
    "words=[]\n",
    "for sentence in flat_sentences_nopunc:\n",
    "    for word in sentence.split(' '):\n",
    "        words+=[word]\n",
    "words[:15]"
   ]
  },
  {
   "cell_type": "code",
   "execution_count": 29,
   "id": "5579ff31-d447-4e5d-bc8c-ba4016e7c3f5",
   "metadata": {},
   "outputs": [],
   "source": [
    "##eliminar espacios en blanco\n",
    "words = [palabra for palabra in words if len(palabra)>0]"
   ]
  },
  {
   "cell_type": "code",
   "execution_count": 30,
   "id": "39ddffc4-600a-4418-ab4d-35ec7fc4ba9d",
   "metadata": {},
   "outputs": [
    {
     "data": {
      "text/plain": [
       "['faceshopping',\n",
       " 'by',\n",
       " 'sophie',\n",
       " 'my',\n",
       " 'face',\n",
       " 'is',\n",
       " 'the',\n",
       " 'front',\n",
       " 'of',\n",
       " 'shop',\n",
       " 'my',\n",
       " 'face',\n",
       " 'is',\n",
       " 'the',\n",
       " 'real']"
      ]
     },
     "execution_count": 30,
     "metadata": {},
     "output_type": "execute_result"
    }
   ],
   "source": [
    "words[:15]"
   ]
  },
  {
   "cell_type": "code",
   "execution_count": 31,
   "id": "84f99c04-3172-481a-a5b5-9e5ca368ef7e",
   "metadata": {},
   "outputs": [
    {
     "data": {
      "text/plain": [
       "146763"
      ]
     },
     "execution_count": 31,
     "metadata": {},
     "output_type": "execute_result"
    }
   ],
   "source": [
    "len(words)"
   ]
  },
  {
   "cell_type": "code",
   "execution_count": 32,
   "id": "8a33d5fc-b26a-4f7e-863e-66cbfb813161",
   "metadata": {},
   "outputs": [
    {
     "data": {
      "text/plain": [
       "8.632102105634631"
      ]
     },
     "execution_count": 32,
     "metadata": {},
     "output_type": "execute_result"
    }
   ],
   "source": [
    "#promedio palabra por oración\n",
    "\n",
    "len(words)/len(sentences)"
   ]
  },
  {
   "cell_type": "code",
   "execution_count": 33,
   "id": "178cac45-5a08-4491-b0b9-248e1efa99c5",
   "metadata": {},
   "outputs": [
    {
     "data": {
      "text/plain": [
       "6115.125"
      ]
     },
     "execution_count": 33,
     "metadata": {},
     "output_type": "execute_result"
    }
   ],
   "source": [
    "#promedio palabra por texto\n",
    "\n",
    "len(words)/24"
   ]
  },
  {
   "cell_type": "code",
   "execution_count": 34,
   "id": "48d902e9-f4a7-4201-80bc-5f7713af5178",
   "metadata": {},
   "outputs": [],
   "source": [
    "##palabras uncias\n",
    "\n",
    "types = []\n",
    "for palabra in words:\n",
    "    if palabra not in types:\n",
    "        types += [palabra]"
   ]
  },
  {
   "cell_type": "code",
   "execution_count": 35,
   "id": "cd9b8607-cba2-42d5-9051-a1766fc30565",
   "metadata": {},
   "outputs": [
    {
     "data": {
      "text/plain": [
       "['faceshopping',\n",
       " 'by',\n",
       " 'sophie',\n",
       " 'my',\n",
       " 'face',\n",
       " 'is',\n",
       " 'the',\n",
       " 'front',\n",
       " 'of',\n",
       " 'shop',\n",
       " 'real',\n",
       " 'i',\n",
       " 'im',\n",
       " 'when',\n",
       " 'artificial']"
      ]
     },
     "execution_count": 35,
     "metadata": {},
     "output_type": "execute_result"
    }
   ],
   "source": [
    "types[:15]"
   ]
  },
  {
   "cell_type": "code",
   "execution_count": 36,
   "id": "b77d9327-30bb-47de-9b52-235240459c64",
   "metadata": {},
   "outputs": [
    {
     "data": {
      "text/plain": [
       "11506"
      ]
     },
     "execution_count": 36,
     "metadata": {},
     "output_type": "execute_result"
    }
   ],
   "source": [
    "#numero de palabras unicas\n",
    "len(types)"
   ]
  },
  {
   "cell_type": "code",
   "execution_count": 37,
   "id": "0120676c-4a21-4bee-95b6-e28a9d15ddd9",
   "metadata": {},
   "outputs": [
    {
     "data": {
      "text/plain": [
       "7.839850643554574"
      ]
     },
     "execution_count": 37,
     "metadata": {},
     "output_type": "execute_result"
    }
   ],
   "source": [
    "# % de palabras unicas dentro de las palabras totales\n",
    "len(types)/len(words)*100"
   ]
  },
  {
   "cell_type": "code",
   "execution_count": 38,
   "id": "219652bd-83d1-425f-b462-7b3298ba46da",
   "metadata": {
    "scrolled": true,
    "tags": []
   },
   "outputs": [
    {
     "data": {
      "text/plain": [
       "['sophie',\n",
       " 'face',\n",
       " 'front',\n",
       " 'shop',\n",
       " 'face',\n",
       " 'shop',\n",
       " 'front',\n",
       " 'shop',\n",
       " 'face',\n",
       " 'face',\n",
       " 'bloom',\n",
       " 'skin',\n",
       " 'chemical',\n",
       " 'release',\n",
       " 'music']"
      ]
     },
     "execution_count": 38,
     "metadata": {},
     "output_type": "execute_result"
    }
   ],
   "source": [
    "##TAGGEANDO EL LEMMA Y EL POS\n",
    "nouns=[]\n",
    "nlp = spacy.load(\"en_core_web_sm\")\n",
    "for oracion in flat_sentences_nopunc:\n",
    "    doc = nlp(oracion)\n",
    "\n",
    "    for token in doc:\n",
    "        ##print(token.text, token.lemma_, token.pos_, token.tag_)\n",
    "        if token.pos_ ==\"NOUN\":\n",
    "            nouns+=[token.text]\n",
    "nouns[:15]"
   ]
  },
  {
   "cell_type": "code",
   "execution_count": 39,
   "id": "305f91a4-6a0e-47a8-9154-462a1fcc01fa",
   "metadata": {},
   "outputs": [
    {
     "data": {
      "text/plain": [
       "6100"
      ]
     },
     "execution_count": 39,
     "metadata": {},
     "output_type": "execute_result"
    }
   ],
   "source": [
    "len(set(nouns))"
   ]
  },
  {
   "cell_type": "code",
   "execution_count": 40,
   "id": "bc8ba818-fd2a-4b9a-ad78-e98b7cbb0f10",
   "metadata": {},
   "outputs": [],
   "source": [
    "#lista POSIBLES nominalizaciones, solo palabras\n",
    "nom1= []\n",
    "for word in words:\n",
    "    for term in terminacion:\n",
    "        if word.endswith(term):\n",
    "            if word not in no_nom:\n",
    "                if word not in nom1:\n",
    "                    nom1+=[word]"
   ]
  },
  {
   "cell_type": "code",
   "execution_count": 41,
   "id": "32c5c58c-f781-4587-b02f-55aa4c39ec17",
   "metadata": {},
   "outputs": [
    {
     "data": {
      "text/plain": [
       "['faceshopping',\n",
       " 'real',\n",
       " 'artificial',\n",
       " 'chemical',\n",
       " 'tutorial',\n",
       " 'facial',\n",
       " 'beginning',\n",
       " 'moment',\n",
       " 'overlapping',\n",
       " 'going',\n",
       " 'blending',\n",
       " 'feminization',\n",
       " 'contouring',\n",
       " 'regal',\n",
       " 'classical']"
      ]
     },
     "execution_count": 41,
     "metadata": {},
     "output_type": "execute_result"
    }
   ],
   "source": [
    "nom1[:15]"
   ]
  },
  {
   "cell_type": "code",
   "execution_count": 42,
   "id": "51c4eb8d-098e-4c1e-bedb-64ab01d1eebf",
   "metadata": {},
   "outputs": [
    {
     "data": {
      "text/plain": [
       "1952"
      ]
     },
     "execution_count": 42,
     "metadata": {},
     "output_type": "execute_result"
    }
   ],
   "source": [
    "len(nom1)"
   ]
  },
  {
   "cell_type": "code",
   "execution_count": 43,
   "id": "d0419c8d-46bc-4a1f-aca5-044736826d56",
   "metadata": {},
   "outputs": [],
   "source": [
    "#abriendo la lista de palabras academicas\n",
    "with open('AcademicWordList.txt') as f:\n",
    "    AWL=f.read()"
   ]
  },
  {
   "cell_type": "code",
   "execution_count": 44,
   "id": "10bbc775-4fe3-4046-947c-9bc31fbfca1d",
   "metadata": {},
   "outputs": [],
   "source": [
    "#dividir por salto de linea\n",
    "AWL= AWL.split('\\n')"
   ]
  },
  {
   "cell_type": "code",
   "execution_count": 45,
   "id": "a7c8a0b0-6ef2-4655-81a3-ec29783d1fa9",
   "metadata": {},
   "outputs": [],
   "source": [
    "##palabras uncias\n",
    "\n",
    "for palabra in AWL:\n",
    "    if palabra not in AWL:\n",
    "        AWL += [palabra]"
   ]
  },
  {
   "cell_type": "code",
   "execution_count": 46,
   "id": "f7bb0bf8-b29b-4cab-a6c1-d6f0f51e44b0",
   "metadata": {},
   "outputs": [
    {
     "data": {
      "text/plain": [
       "['analysis',\n",
       " 'approach',\n",
       " 'area',\n",
       " 'assessment',\n",
       " 'assume',\n",
       " 'authority',\n",
       " 'available',\n",
       " 'benefit',\n",
       " 'concept',\n",
       " 'consistent']"
      ]
     },
     "execution_count": 46,
     "metadata": {},
     "output_type": "execute_result"
    }
   ],
   "source": [
    "##eliminar espacios en blanco\n",
    "AWL = [palabra for palabra in AWL if len(palabra)>0]\n",
    "AWL[:10]"
   ]
  },
  {
   "cell_type": "code",
   "execution_count": 47,
   "id": "22240cd0-6376-4778-ab49-d8f75c4c9f18",
   "metadata": {},
   "outputs": [],
   "source": [
    "AWL_dic={palabra:0 for palabra in AWL}"
   ]
  },
  {
   "cell_type": "code",
   "execution_count": 48,
   "id": "8acac3c8-9127-49e7-b960-a2c51350f2ad",
   "metadata": {},
   "outputs": [],
   "source": [
    "for palabra in words:\n",
    "    if palabra in AWL:    \n",
    "        AWL_dic[palabra]+=1"
   ]
  },
  {
   "cell_type": "code",
   "execution_count": 49,
   "id": "fcaa4c72-9b7c-4ce1-bf39-baed935dafb2",
   "metadata": {
    "scrolled": true,
    "tags": []
   },
   "outputs": [
    {
     "data": {
      "text/plain": [
       "{'analysis': 15,\n",
       " 'approach': 7,\n",
       " 'area': 5,\n",
       " 'assessment': 1,\n",
       " 'assume': 9,\n",
       " 'authority': 7,\n",
       " 'available': 6,\n",
       " 'benefit': 13,\n",
       " 'concept': 25,\n",
       " 'consistent': 3,\n",
       " 'constitutional': 0,\n",
       " 'context': 20,\n",
       " 'contract': 11,\n",
       " 'create': 23,\n",
       " 'data': 15,\n",
       " 'definition': 9,\n",
       " 'derived': 0,\n",
       " 'distribution': 1,\n",
       " 'economic': 2,\n",
       " 'environment': 7,\n",
       " 'established': 7,\n",
       " 'estimate': 1,\n",
       " 'evidence': 23,\n",
       " 'export': 0,\n",
       " 'factors': 1,\n",
       " 'financial': 7,\n",
       " 'formula': 4,\n",
       " 'function': 11,\n",
       " 'identified': 3,\n",
       " 'income': 0,\n",
       " 'indicate': 0,\n",
       " 'individual': 17,\n",
       " 'interpretation': 6,\n",
       " 'involved': 10,\n",
       " 'issues': 42,\n",
       " 'labour': 0,\n",
       " 'legal': 9,\n",
       " 'legislation': 2,\n",
       " 'major': 14,\n",
       " 'method': 0,\n",
       " 'occur': 1,\n",
       " 'percent': 2,\n",
       " 'period': 11,\n",
       " 'policy': 1,\n",
       " 'principle': 0,\n",
       " '\\x0cprocedure': 0,\n",
       " 'process': 22,\n",
       " 'required': 7,\n",
       " 'research': 22,\n",
       " 'response': 25,\n",
       " 'role': 26,\n",
       " 'section': 10,\n",
       " 'sector': 1,\n",
       " 'significant': 6,\n",
       " 'similar': 21,\n",
       " 'source': 8,\n",
       " 'specific': 27,\n",
       " 'structure': 10,\n",
       " 'theory': 21,\n",
       " 'variables': 0,\n",
       " 'achieve': 0,\n",
       " 'acquisition': 0,\n",
       " 'administration': 2,\n",
       " 'affect': 4,\n",
       " 'appropriate': 2,\n",
       " 'aspects': 4,\n",
       " 'assistance': 0,\n",
       " 'categories': 1,\n",
       " 'chapter': 4,\n",
       " 'commission': 2,\n",
       " 'community': 50,\n",
       " 'complex': 10,\n",
       " 'computer': 1,\n",
       " 'conclusion': 8,\n",
       " 'conduct': 0,\n",
       " 'consequences': 14,\n",
       " 'construction': 0,\n",
       " 'consumer': 1,\n",
       " 'credit': 5,\n",
       " 'cultural': 14,\n",
       " 'design': 9,\n",
       " 'distinction': 2,\n",
       " 'elements': 23,\n",
       " 'equation': 0,\n",
       " 'evaluation': 1,\n",
       " 'features': 10,\n",
       " 'final': 17,\n",
       " 'focus': 17,\n",
       " 'impact': 9,\n",
       " 'injury': 0,\n",
       " 'institute': 0,\n",
       " 'investment': 1,\n",
       " 'items': 3,\n",
       " 'journal': 2,\n",
       " 'maintenance': 2,\n",
       " 'normal': 10,\n",
       " 'obtained': 0,\n",
       " 'participation': 0,\n",
       " 'perceived': 5,\n",
       " 'positive': 15,\n",
       " 'potential': 11,\n",
       " 'previous': 7,\n",
       " 'primary': 6,\n",
       " 'purchase': 1,\n",
       " 'range': 2,\n",
       " '\\x0cregion': 0,\n",
       " 'regulations': 1,\n",
       " 'relevant': 10,\n",
       " 'resident': 0,\n",
       " 'resources': 5,\n",
       " 'restricted': 0,\n",
       " 'security': 5,\n",
       " 'sought': 1,\n",
       " 'select': 0,\n",
       " 'site': 3,\n",
       " 'strategies': 1,\n",
       " 'survey': 2,\n",
       " 'text': 19,\n",
       " 'traditional': 10,\n",
       " 'transfer': 0,\n",
       " 'alternative': 8,\n",
       " 'circumstances': 8,\n",
       " 'comments': 26,\n",
       " 'compensation': 0,\n",
       " 'components': 0,\n",
       " 'consent': 1,\n",
       " 'considerable': 0,\n",
       " 'constant': 5,\n",
       " 'constraints': 1,\n",
       " 'contribution': 1,\n",
       " 'convention': 0,\n",
       " 'coordination': 0,\n",
       " 'core': 8,\n",
       " 'corporate': 2,\n",
       " 'corresponding': 0,\n",
       " 'criteria': 0,\n",
       " 'deduction': 1,\n",
       " 'demonstrate': 3,\n",
       " 'document': 1,\n",
       " 'dominant': 2,\n",
       " 'emphasis': 6,\n",
       " 'ensure': 4,\n",
       " 'excluded': 5,\n",
       " 'framework': 2,\n",
       " 'funds': 2,\n",
       " 'illustrated': 1,\n",
       " 'immigration': 0,\n",
       " 'implies': 6,\n",
       " 'initial': 7,\n",
       " 'instance': 13,\n",
       " 'interaction': 2,\n",
       " 'justification': 8,\n",
       " 'layer': 3,\n",
       " 'link': 20,\n",
       " 'location': 0,\n",
       " 'maximum': 0,\n",
       " 'minorities': 0,\n",
       " 'negative': 14,\n",
       " 'outcomes': 1,\n",
       " 'partnership': 0,\n",
       " 'philosophy': 20,\n",
       " 'physical': 12,\n",
       " 'proportion': 1,\n",
       " 'published': 6,\n",
       " 'reaction': 10,\n",
       " '\\x0cregistered': 0,\n",
       " 'reliance': 1,\n",
       " 'removed': 5,\n",
       " 'scheme': 1,\n",
       " 'sequence': 0,\n",
       " 'sex': 88,\n",
       " 'shift': 4,\n",
       " 'specified': 1,\n",
       " 'sufficient': 0,\n",
       " 'task': 3,\n",
       " 'technical': 1,\n",
       " 'techniques': 1,\n",
       " 'technology': 7,\n",
       " 'validity': 5,\n",
       " 'volume': 2,\n",
       " 'access': 25,\n",
       " 'adequate': 0,\n",
       " 'annual': 0,\n",
       " 'apparent': 2,\n",
       " 'approximated': 0,\n",
       " 'attitudes': 1,\n",
       " 'attributed': 0,\n",
       " 'civil': 2,\n",
       " 'code': 7,\n",
       " 'commitment': 2,\n",
       " 'communication': 2,\n",
       " 'concentration': 0,\n",
       " 'conference': 0,\n",
       " 'contrast': 4,\n",
       " 'cycle': 4,\n",
       " 'debate': 17,\n",
       " 'despite': 17,\n",
       " 'dimensions': 0,\n",
       " 'domestic': 3,\n",
       " 'emerged': 1,\n",
       " 'error': 2,\n",
       " 'ethnic': 1,\n",
       " 'goals': 6,\n",
       " 'granted': 3,\n",
       " 'hence': 0,\n",
       " 'hypothesis': 1,\n",
       " 'implementation': 0,\n",
       " 'implications': 1,\n",
       " 'imposed': 0,\n",
       " 'integration': 2,\n",
       " 'internal': 12,\n",
       " 'investigation': 4,\n",
       " 'job': 29,\n",
       " 'label': 8,\n",
       " 'mechanism': 0,\n",
       " 'obvious': 23,\n",
       " 'occupational': 0,\n",
       " 'option': 4,\n",
       " 'output': 2,\n",
       " 'overall': 5,\n",
       " 'parallel': 2,\n",
       " 'parameters': 0,\n",
       " 'phase': 6,\n",
       " 'predicted': 0,\n",
       " 'principal': 0,\n",
       " '\\x0cprior': 0,\n",
       " 'professional': 8,\n",
       " 'project': 13,\n",
       " 'promote': 9,\n",
       " 'regime': 0,\n",
       " 'resolution': 0,\n",
       " 'retained': 0,\n",
       " 'series': 30,\n",
       " 'statistics': 0,\n",
       " 'status': 4,\n",
       " 'stress': 4,\n",
       " 'subsequent': 1,\n",
       " 'sum': 0,\n",
       " 'summary': 3,\n",
       " 'undertaken': 0,\n",
       " 'academic': 8,\n",
       " 'adjustment': 0,\n",
       " 'alter': 2,\n",
       " 'amendment': 0,\n",
       " 'aware': 27,\n",
       " 'capacity': 2,\n",
       " 'challenge': 31,\n",
       " 'clause': 0,\n",
       " 'compounds': 0,\n",
       " 'conflict': 22,\n",
       " 'consultation': 0,\n",
       " 'contact': 2,\n",
       " 'decline': 1,\n",
       " 'discretion': 0,\n",
       " 'draft': 1,\n",
       " 'enable': 1,\n",
       " 'energy': 12,\n",
       " 'enforcement': 1,\n",
       " 'entities': 1,\n",
       " 'equivalent': 4,\n",
       " 'evolution': 2,\n",
       " 'expansion': 0,\n",
       " 'exposure': 0,\n",
       " 'external': 11,\n",
       " 'facilitate': 1,\n",
       " 'fundamental': 3,\n",
       " 'generated': 0,\n",
       " 'generation': 4,\n",
       " 'image': 17,\n",
       " 'liberal': 3,\n",
       " 'licence': 0,\n",
       " 'logic': 8,\n",
       " 'marginal': 0,\n",
       " 'medical': 20,\n",
       " 'mental': 16,\n",
       " 'modified': 0,\n",
       " 'monitoring': 0,\n",
       " 'network': 9,\n",
       " 'notion': 5,\n",
       " 'objective': 0,\n",
       " 'orientation': 0,\n",
       " 'perspective': 5,\n",
       " 'precise': 0,\n",
       " 'prime': 4,\n",
       " 'psychology': 1,\n",
       " '\\x0cpursue': 0,\n",
       " 'ratio': 0,\n",
       " 'rejected': 6,\n",
       " 'revenue': 0,\n",
       " 'stability': 0,\n",
       " 'styles': 5,\n",
       " 'substitution': 0,\n",
       " 'sustainable': 0,\n",
       " 'symbolic': 2,\n",
       " 'target': 12,\n",
       " 'transition': 21,\n",
       " 'trend': 4,\n",
       " 'version': 32,\n",
       " 'welfare': 0,\n",
       " 'whereas': 11,\n",
       " 'abstract': 2,\n",
       " 'accurate': 7,\n",
       " 'acknowledged': 3,\n",
       " 'aggregate': 0,\n",
       " 'allocation': 0,\n",
       " 'assigned': 6,\n",
       " 'attached': 3,\n",
       " 'author': 64,\n",
       " 'bond': 1,\n",
       " 'brief': 2,\n",
       " 'capable': 6,\n",
       " 'cited': 7,\n",
       " 'cooperative': 1,\n",
       " 'discrimination': 8,\n",
       " 'display': 1,\n",
       " 'diversity': 3,\n",
       " 'domain': 0,\n",
       " 'edition': 1,\n",
       " 'enhanced': 0,\n",
       " 'estate': 1,\n",
       " 'exceed': 0,\n",
       " 'expert': 1,\n",
       " 'explicit': 3,\n",
       " 'federal': 0,\n",
       " 'fees': 4,\n",
       " 'flexibility': 0,\n",
       " 'furthermore': 1,\n",
       " 'gender': 201,\n",
       " 'ignored': 1,\n",
       " 'incentive': 0,\n",
       " 'incidence': 0,\n",
       " 'incorporated': 2,\n",
       " 'index': 0,\n",
       " 'inhibition': 0,\n",
       " 'initiatives': 1,\n",
       " 'input': 0,\n",
       " 'instructions': 1,\n",
       " 'intelligence': 6,\n",
       " 'interval': 1,\n",
       " 'lecture': 0,\n",
       " 'migration': 0,\n",
       " 'minimum': 2,\n",
       " 'ministry': 0,\n",
       " 'motivation': 5,\n",
       " 'neutral': 8,\n",
       " '\\x0cnevertheless': 0,\n",
       " 'overseas': 0,\n",
       " 'preceding': 0,\n",
       " 'presumption': 3,\n",
       " 'rational': 7,\n",
       " 'recovery': 3,\n",
       " 'revealed': 6,\n",
       " 'scope': 3,\n",
       " 'subsidiary': 0,\n",
       " 'tapes': 0,\n",
       " 'trace': 1,\n",
       " 'transformation': 4,\n",
       " 'transport': 0,\n",
       " 'underlying': 3,\n",
       " 'utility': 1,\n",
       " 'adaptation': 4,\n",
       " 'adults': 7,\n",
       " 'advocate': 7,\n",
       " 'aid': 1,\n",
       " 'channel': 35,\n",
       " 'chemical': 1,\n",
       " 'classical': 6,\n",
       " 'comprehensive': 1,\n",
       " 'comprise': 0,\n",
       " 'confirmed': 3,\n",
       " 'contrary': 4,\n",
       " 'converted': 0,\n",
       " 'couple': 47,\n",
       " 'decades': 13,\n",
       " 'definite': 1,\n",
       " 'deny': 2,\n",
       " 'differentiation': 1,\n",
       " 'disposal': 0,\n",
       " 'dynamic': 3,\n",
       " 'eliminate': 0,\n",
       " 'empirical': 0,\n",
       " 'equipment': 0,\n",
       " 'extract': 0,\n",
       " 'file': 0,\n",
       " 'finite': 1,\n",
       " 'foundation': 3,\n",
       " 'global': 3,\n",
       " 'grade': 5,\n",
       " 'guarantee': 1,\n",
       " 'hierarchical': 0,\n",
       " 'identical': 2,\n",
       " 'ideology': 12,\n",
       " 'inferred': 0,\n",
       " 'innovation': 0,\n",
       " 'insert': 3,\n",
       " 'intervention': 1,\n",
       " 'isolated': 4,\n",
       " 'media': 88,\n",
       " 'mode': 3,\n",
       " 'paradigm': 0,\n",
       " 'phenomenon': 20,\n",
       " 'priority': 0,\n",
       " 'prohibited': 0,\n",
       " 'publication': 1,\n",
       " '\\x0cquotation': 0,\n",
       " 'release': 7,\n",
       " 'reverse': 2,\n",
       " 'simulation': 0,\n",
       " 'solely': 6,\n",
       " 'somewhat': 0,\n",
       " 'submitted': 0,\n",
       " 'successive': 0,\n",
       " 'survive': 8,\n",
       " 'thesis': 2,\n",
       " 'topic': 16,\n",
       " 'transmission': 0,\n",
       " 'ultimately': 8,\n",
       " 'unique': 13,\n",
       " 'visible': 3,\n",
       " 'voluntary': 0,\n",
       " 'abandon': 0,\n",
       " 'accompanied': 0,\n",
       " 'accumulation': 0,\n",
       " 'ambiguous': 3,\n",
       " 'appendix': 0,\n",
       " 'appreciation': 1,\n",
       " 'arbitrary': 4,\n",
       " 'automatically': 4,\n",
       " 'bias': 4,\n",
       " 'chart': 3,\n",
       " 'clarity': 1,\n",
       " 'conformity': 5,\n",
       " 'commodity': 1,\n",
       " 'complement': 0,\n",
       " 'contemporary': 2,\n",
       " 'contradiction': 0,\n",
       " 'crucial': 0,\n",
       " 'currency': 2,\n",
       " 'denote': 1,\n",
       " 'detected': 0,\n",
       " 'deviation': 0,\n",
       " 'displacement': 0,\n",
       " 'dramatic': 7,\n",
       " 'eventually': 16,\n",
       " 'exhibit': 2,\n",
       " 'exploitation': 2,\n",
       " 'fluctuations': 0,\n",
       " 'guidelines': 0,\n",
       " 'highlighted': 0,\n",
       " 'implicit': 0,\n",
       " 'induced': 0,\n",
       " 'inevitably': 3,\n",
       " 'infrastructure': 0,\n",
       " 'inspection': 0,\n",
       " 'intensity': 4,\n",
       " 'manipulation': 1,\n",
       " 'minimised': 0,\n",
       " 'nuclear': 1,\n",
       " 'offset': 4,\n",
       " 'paragraph': 8,\n",
       " 'plus': 9,\n",
       " 'practitioners': 0,\n",
       " 'predominantly': 1,\n",
       " 'prospect': 1,\n",
       " '\\x0cradical': 0,\n",
       " 'random': 6,\n",
       " 'reinforced': 4,\n",
       " 'restore': 0,\n",
       " 'revision': 0,\n",
       " 'schedule': 0,\n",
       " 'tension': 9,\n",
       " 'termination': 0,\n",
       " 'theme': 2,\n",
       " 'thereby': 3,\n",
       " 'uniform': 2,\n",
       " 'vehicle': 0,\n",
       " 'via': 4,\n",
       " 'virtually': 3,\n",
       " 'widespread': 3,\n",
       " 'visual': 6,\n",
       " 'accommodation': 0,\n",
       " 'analogous': 0,\n",
       " 'anticipated': 0,\n",
       " 'assurance': 0,\n",
       " 'attained': 0,\n",
       " 'behalf': 3,\n",
       " 'bulk': 3,\n",
       " 'ceases': 0,\n",
       " 'coherence': 2,\n",
       " 'coincide': 0,\n",
       " 'commenced': 0,\n",
       " 'incompatible': 0,\n",
       " 'concurrent': 0,\n",
       " 'confined': 0,\n",
       " 'controversy': 3,\n",
       " 'conversely': 2,\n",
       " 'device': 2,\n",
       " 'devoted': 0,\n",
       " 'diminished': 0,\n",
       " 'distorted/distortion - equal figures': 0,\n",
       " 'duration': 1,\n",
       " 'erosion': 1,\n",
       " 'ethical': 4,\n",
       " 'format': 3,\n",
       " 'founded': 0,\n",
       " 'inherent': 5,\n",
       " 'insights': 1,\n",
       " 'integral': 2,\n",
       " 'intermediate': 0,\n",
       " 'manual': 0,\n",
       " 'mature': 2,\n",
       " 'mediation': 0,\n",
       " 'medium': 4,\n",
       " 'military': 4,\n",
       " 'minimal': 2,\n",
       " 'mutual': 2,\n",
       " 'norms': 8,\n",
       " 'overlap': 1,\n",
       " 'passive': 4,\n",
       " 'portion': 2,\n",
       " 'preliminary': 0,\n",
       " 'protocol': 0,\n",
       " 'qualitative': 0,\n",
       " 'refine': 0,\n",
       " 'relaxed': 4,\n",
       " '\\x0crestraints': 0,\n",
       " 'revolution': 5,\n",
       " 'rigid': 2,\n",
       " 'route': 0,\n",
       " 'scenario': 1,\n",
       " 'sphere': 1,\n",
       " 'subordinate': 0,\n",
       " 'supplementary': 0,\n",
       " 'suspended': 0,\n",
       " 'team': 36,\n",
       " 'temporary': 1,\n",
       " 'trigger': 4,\n",
       " 'unified': 0,\n",
       " 'violation': 1,\n",
       " 'vision': 2,\n",
       " 'adjacent': 1,\n",
       " 'albeit': 0,\n",
       " 'assembly': 0,\n",
       " 'collapse': 0,\n",
       " 'colleagues': 9,\n",
       " 'compiled': 0,\n",
       " 'conceived': 2,\n",
       " 'convinced': 4,\n",
       " 'depression': 6,\n",
       " 'encountered': 1,\n",
       " 'enormous': 1,\n",
       " 'forthcoming': 0,\n",
       " 'inclination': 0,\n",
       " 'integrity': 4,\n",
       " 'intrinsic': 1,\n",
       " 'invoked': 0,\n",
       " 'levy': 0,\n",
       " 'likewise': 2,\n",
       " 'nonetheless': 3,\n",
       " 'notwithstanding': 0,\n",
       " 'odd': 4,\n",
       " 'ongoing': 2,\n",
       " 'panel': 0,\n",
       " 'persistent': 0,\n",
       " 'posed': 2,\n",
       " 'reluctant': 0,\n",
       " 'so-called': 0,\n",
       " 'straightforward': 1,\n",
       " 'undergo': 1,\n",
       " 'whereby': 0}"
      ]
     },
     "execution_count": 49,
     "metadata": {},
     "output_type": "execute_result"
    }
   ],
   "source": [
    "AWL_dic"
   ]
  },
  {
   "cell_type": "code",
   "execution_count": 50,
   "id": "ee3b15fc-dedb-4300-b705-0ced376bb067",
   "metadata": {},
   "outputs": [
    {
     "name": "stdout",
     "output_type": "stream",
     "text": [
      "2831\n"
     ]
    }
   ],
   "source": [
    "values = sum(AWL_dic.values())\n",
    "print(values)"
   ]
  },
  {
   "cell_type": "code",
   "execution_count": 51,
   "id": "c5c2aeb8-b252-4aa7-8073-266b6164d6f0",
   "metadata": {},
   "outputs": [
    {
     "data": {
      "text/plain": [
       "1.9289602965325048"
      ]
     },
     "execution_count": 51,
     "metadata": {},
     "output_type": "execute_result"
    }
   ],
   "source": [
    "values/len(words)*100"
   ]
  },
  {
   "cell_type": "code",
   "execution_count": 52,
   "id": "207e648d-4ba4-4350-a046-8faf43726c45",
   "metadata": {},
   "outputs": [
    {
     "data": {
      "text/plain": [
       "570"
      ]
     },
     "execution_count": 52,
     "metadata": {},
     "output_type": "execute_result"
    }
   ],
   "source": [
    "len(AWL)"
   ]
  },
  {
   "cell_type": "code",
   "execution_count": 53,
   "id": "c6c75c93-703a-42c6-b0a0-e7e450d60b27",
   "metadata": {},
   "outputs": [
    {
     "data": {
      "text/plain": [
       "0"
      ]
     },
     "execution_count": 53,
     "metadata": {},
     "output_type": "execute_result"
    }
   ],
   "source": [
    "#oraciones con POSIBLES nominalizaciones\n",
    "\n",
    "nominalization = []\n",
    "for oracion in flat_sentences_nopunc:\n",
    "     for word in oracion:\n",
    "        nom = False \n",
    "        for term in terminacion: \n",
    "                if word.endswith(term):\n",
    "                    nom = True \n",
    "                    if nom==True and word not in no_nom:\n",
    "                        if word in nouns:\n",
    "                                nominalization +=[word]\n",
    "len(nominalization) "
   ]
  },
  {
   "cell_type": "code",
   "execution_count": 54,
   "id": "465305b6-8c2d-4940-a7e5-bad7798d74f8",
   "metadata": {},
   "outputs": [
    {
     "data": {
      "text/plain": [
       "978"
      ]
     },
     "execution_count": 54,
     "metadata": {},
     "output_type": "execute_result"
    }
   ],
   "source": [
    "#lista POSIBLES nominalizaciones, solo palabras\n",
    "nom1= []\n",
    "for word in words:\n",
    "    for term in terminacion:\n",
    "        if word.endswith(term):\n",
    "            if word not in no_nom:\n",
    "                if word not in nom1:\n",
    "                    if word in nouns:\n",
    "                        nom1+=[word]\n",
    "len(nom1)"
   ]
  },
  {
   "cell_type": "code",
   "execution_count": 55,
   "id": "ea40ffcc-a512-400c-a155-ae71f96eb30e",
   "metadata": {},
   "outputs": [
    {
     "data": {
      "text/plain": [
       "0.666380490995687"
      ]
     },
     "execution_count": 55,
     "metadata": {},
     "output_type": "execute_result"
    }
   ],
   "source": [
    "len(nom1)/len(words)*100"
   ]
  },
  {
   "cell_type": "code",
   "execution_count": null,
   "id": "61880e0e-5855-428d-a558-e48f9e23be62",
   "metadata": {},
   "outputs": [],
   "source": []
  }
 ],
 "metadata": {
  "kernelspec": {
   "display_name": "Python 3",
   "language": "python",
   "name": "python3"
  },
  "language_info": {
   "codemirror_mode": {
    "name": "ipython",
    "version": 3
   },
   "file_extension": ".py",
   "mimetype": "text/x-python",
   "name": "python",
   "nbconvert_exporter": "python",
   "pygments_lexer": "ipython3",
   "version": "3.8.8"
  }
 },
 "nbformat": 4,
 "nbformat_minor": 5
}
