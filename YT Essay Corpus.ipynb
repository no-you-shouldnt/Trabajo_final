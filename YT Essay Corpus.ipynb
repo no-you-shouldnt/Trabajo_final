{
 "cells": [
  {
   "cell_type": "code",
   "execution_count": 13,
   "id": "1d67fdb4-aad1-43e2-949c-664d82eb1075",
   "metadata": {},
   "outputs": [],
   "source": [
    "#leyendo texto 1 de prueba\n",
    "with open('Essays/TiffanyFerg/CGIinfluencers.txt') as f:\n",
    "    contents=f.read()"
   ]
  },
  {
   "cell_type": "code",
   "execution_count": 14,
   "id": "bc98573f-6644-4c5a-9a08-66dbbe12e0d3",
   "metadata": {},
   "outputs": [],
   "source": [
    "##Abriendo corpus\n",
    "##Abriendo corpus\n",
    "import glob\n",
    "\n",
    "lista_files = glob.glob('YTessays/*.txt')\n",
    "corpus = []\n",
    "\n",
    "for file in lista_files:\n",
    "    with open(file, 'r', encoding='utf8') as f:\n",
    "        corpus+=[f.read()]"
   ]
  },
  {
   "cell_type": "code",
   "execution_count": 15,
   "id": "cd9dd9bf-b5ef-4505-8c67-ad3b187aea16",
   "metadata": {},
   "outputs": [],
   "source": [
    "#importando librerias\n",
    "import spacy\n",
    "import nltk\n",
    "import string"
   ]
  },
  {
   "cell_type": "code",
   "execution_count": 16,
   "id": "4e2fce56-63cb-495b-aaf8-fa7feae6b852",
   "metadata": {},
   "outputs": [
    {
     "name": "stderr",
     "output_type": "stream",
     "text": [
      "[nltk_data] Downloading package punkt to\n",
      "[nltk_data]     C:\\Users\\pauba\\AppData\\Roaming\\nltk_data...\n",
      "[nltk_data]   Package punkt is already up-to-date!\n"
     ]
    },
    {
     "data": {
      "text/plain": [
       "True"
      ]
     },
     "execution_count": 16,
     "metadata": {},
     "output_type": "execute_result"
    }
   ],
   "source": [
    "nltk.download('punkt')"
   ]
  },
  {
   "cell_type": "code",
   "execution_count": 17,
   "id": "20361ab2-6bda-46f4-b9bb-561d725c68e9",
   "metadata": {},
   "outputs": [],
   "source": [
    "#eliminar () y []\n",
    "def a(test_str):\n",
    "    ret = ''\n",
    "    skip1c = 0\n",
    "    skip2c = 0\n",
    "    for i in test_str:\n",
    "        if i == '[':\n",
    "            skip1c += 1\n",
    "        elif i == '(':\n",
    "            skip2c += 1\n",
    "        elif i == ']' and skip1c > 0:\n",
    "            skip1c -= 1\n",
    "        elif i == ')'and skip2c > 0:\n",
    "            skip2c -= 1\n",
    "        elif skip1c == 0 and skip2c == 0:\n",
    "            ret += i\n",
    "    return ret"
   ]
  },
  {
   "cell_type": "code",
   "execution_count": 18,
   "id": "14780019-9aa6-4c52-a49a-c526220df1a8",
   "metadata": {},
   "outputs": [],
   "source": [
    "corpus = a(corpus)"
   ]
  },
  {
   "cell_type": "code",
   "execution_count": 19,
   "id": "a6ae884b-c67b-4443-b710-6b0f085cb5e7",
   "metadata": {},
   "outputs": [],
   "source": [
    "#dividir por salto de linea\n",
    "corpus= corpus.split('\\n')"
   ]
  },
  {
   "cell_type": "code",
   "execution_count": 20,
   "id": "34c624d8-96bd-449d-8378-ec716a91a987",
   "metadata": {},
   "outputs": [
    {
     "data": {
      "text/plain": [
       "['(\"Faceshopping\" by Sophie)',\n",
       " '♪ My face is the front of shop ♪',\n",
       " '♪ My face is the real shop front ♪',\n",
       " '♪ My shop is the face I front ♪',\n",
       " \"♪ I'm real when I shop my face ♪\",\n",
       " '♪ Artificial bloom ♪',\n",
       " '♪ Hydroponic skin ♪',\n",
       " '♪ Chemical release ♪',\n",
       " '♪ Synthesize the real ♪',\n",
       " \"(upbeat electronic music) - Hey guys, it's Natalie,\",\n",
       " 'welcome back to my channel.',\n",
       " \"Today I'm gonna do a makeup tutorial, as always,\",\n",
       " 'but first, story time, story time, story time!',\n",
       " 'I just wanna be upfront with you guys',\n",
       " \"and let you know that I've had some facial surgery.\"]"
      ]
     },
     "execution_count": 20,
     "metadata": {},
     "output_type": "execute_result"
    }
   ],
   "source": [
    "corpus[:15]"
   ]
  },
  {
   "cell_type": "code",
   "execution_count": 21,
   "id": "09aff06e-63fd-47fc-a975-6d2ecb5dd082",
   "metadata": {},
   "outputs": [],
   "source": [
    "#cortando lineas que no nos interesan (intro y outro)\n",
    "corpus = corpus[2:]"
   ]
  },
  {
   "cell_type": "code",
   "execution_count": 22,
   "id": "42d62326-be95-4b3d-817f-a1bfbe6bc0ff",
   "metadata": {},
   "outputs": [
    {
     "data": {
      "text/plain": [
       "17000"
      ]
     },
     "execution_count": 22,
     "metadata": {},
     "output_type": "execute_result"
    }
   ],
   "source": [
    "len(corpus)"
   ]
  },
  {
   "cell_type": "code",
   "execution_count": 23,
   "id": "2510c493-7857-46ca-9a32-cddbf7b058db",
   "metadata": {},
   "outputs": [],
   "source": [
    "#dividir en oraciones, importar la funcion\n",
    "from nltk import sent_tokenize"
   ]
  },
  {
   "cell_type": "code",
   "execution_count": 24,
   "id": "34f16613-b9c2-4ec3-9a90-b9097145f6c0",
   "metadata": {},
   "outputs": [],
   "source": [
    "#dividir en oraciones\n",
    "sentences = []\n",
    "for sentence in corpus:\n",
    "    sent_token = sent_tokenize(sentence)\n",
    "    sentences+=[sent_token]"
   ]
  },
  {
   "cell_type": "code",
   "execution_count": 25,
   "id": "3ba60933-2a54-4a8d-9400-618c95b1cd43",
   "metadata": {},
   "outputs": [
    {
     "data": {
      "text/plain": [
       "[['♪ My face is the real shop front ♪'],\n",
       " ['♪ My shop is the face I front ♪'],\n",
       " [\"♪ I'm real when I shop my face ♪\"],\n",
       " ['♪ Artificial bloom ♪'],\n",
       " ['♪ Hydroponic skin ♪'],\n",
       " ['♪ Chemical release ♪'],\n",
       " ['♪ Synthesize the real ♪'],\n",
       " [\"(upbeat electronic music) - Hey guys, it's Natalie,\"],\n",
       " ['welcome back to my channel.'],\n",
       " [\"Today I'm gonna do a makeup tutorial, as always,\"],\n",
       " ['but first, story time, story time, story time!'],\n",
       " ['I just wanna be upfront with you guys'],\n",
       " [\"and let you know that I've had some facial surgery.\"],\n",
       " [\"I'm always gonna be honest with you guys\"],\n",
       " ['about this kind of thing because you mean so much to me.']]"
      ]
     },
     "execution_count": 25,
     "metadata": {},
     "output_type": "execute_result"
    }
   ],
   "source": [
    "sentences[:15]"
   ]
  },
  {
   "cell_type": "code",
   "execution_count": 26,
   "id": "2cab91a6-580d-477e-9af2-f5a533a787f8",
   "metadata": {},
   "outputs": [
    {
     "data": {
      "text/plain": [
       "17000"
      ]
     },
     "execution_count": 26,
     "metadata": {},
     "output_type": "execute_result"
    }
   ],
   "source": [
    "#numero de oraciones\n",
    "len(sentences)"
   ]
  },
  {
   "cell_type": "code",
   "execution_count": 33,
   "id": "3eff9026-d769-47a8-9ea0-4afe5ec09d91",
   "metadata": {},
   "outputs": [
    {
     "data": {
      "text/plain": [
       "708.3333333333334"
      ]
     },
     "execution_count": 33,
     "metadata": {},
     "output_type": "execute_result"
    }
   ],
   "source": [
    "#promedio oraciones\n",
    "len(sentences)/24"
   ]
  },
  {
   "cell_type": "code",
   "execution_count": 34,
   "id": "5213c312-cca6-4c3b-8c1e-21d79e8ed727",
   "metadata": {},
   "outputs": [
    {
     "data": {
      "text/plain": [
       "True"
      ]
     },
     "execution_count": 34,
     "metadata": {},
     "output_type": "execute_result"
    }
   ],
   "source": [
    "#reglas de nominalization\n",
    "terminacion = 'ment', 'tion', 'sion', 'ibility', 'ity', 'ness', 'al', 'ing'\n",
    "s='involvement'\n",
    "s.endswith(terminacion)"
   ]
  },
  {
   "cell_type": "code",
   "execution_count": 35,
   "id": "cef0e8f3-730d-49ff-9987-3e0a343cfbf8",
   "metadata": {},
   "outputs": [
    {
     "data": {
      "text/plain": [
       "754"
      ]
     },
     "execution_count": 35,
     "metadata": {},
     "output_type": "execute_result"
    }
   ],
   "source": [
    "#oraciones con POSIBLES nominalizaciones\n",
    "nominalization = []\n",
    "for oracion in sentences:\n",
    "    for word in oracion:\n",
    "        if word.endswith(terminacion):\n",
    "            nominalization +=[word]\n",
    "len(nominalization)"
   ]
  },
  {
   "cell_type": "code",
   "execution_count": 36,
   "id": "00667dfc-2816-42a7-96f0-8385b6a8c442",
   "metadata": {},
   "outputs": [
    {
     "data": {
      "text/plain": [
       "4.435294117647059"
      ]
     },
     "execution_count": 36,
     "metadata": {},
     "output_type": "execute_result"
    }
   ],
   "source": [
    "##porcentaje nominalizaciones\n",
    "len(nominalization)/len(sentences)*100"
   ]
  },
  {
   "cell_type": "code",
   "execution_count": 27,
   "id": "796cb18d-a852-45d0-a99b-7d4365b7ccca",
   "metadata": {},
   "outputs": [],
   "source": [
    "#aplanar la lista de strings\n",
    "flat_sentences = []\n",
    "for item in sentences:\n",
    "        for word in item:\n",
    "            flat_sentences+=[word]"
   ]
  },
  {
   "cell_type": "code",
   "execution_count": 28,
   "id": "e155e649-9285-49a2-ae09-7ffb83df3597",
   "metadata": {},
   "outputs": [],
   "source": [
    "#palabras en minuscula\n",
    "flat_sentences_lower =[]\n",
    "\n",
    "for sentence in flat_sentences:\n",
    "    flat_sentences_lower+=[sentence.lower()]"
   ]
  },
  {
   "cell_type": "code",
   "execution_count": 29,
   "id": "8278cdac-b1ad-4a83-acff-8d75ab595731",
   "metadata": {},
   "outputs": [
    {
     "data": {
      "text/plain": [
       "['♪ my face is the real shop front ♪',\n",
       " '♪ my shop is the face i front ♪',\n",
       " \"♪ i'm real when i shop my face ♪\",\n",
       " '♪ artificial bloom ♪',\n",
       " '♪ hydroponic skin ♪']"
      ]
     },
     "execution_count": 29,
     "metadata": {},
     "output_type": "execute_result"
    }
   ],
   "source": [
    "flat_sentences_lower [:5]"
   ]
  },
  {
   "cell_type": "code",
   "execution_count": 30,
   "id": "ddf07744-c84b-4ec3-9e2a-d7c1a337580b",
   "metadata": {},
   "outputs": [],
   "source": [
    "##eliminar puntuación\n",
    "import re\n",
    "\n",
    "def remove_punctuation(s):\n",
    "    return re.sub(r'[^\\w\\s]','',s)"
   ]
  },
  {
   "cell_type": "code",
   "execution_count": 31,
   "id": "fc76b179-3723-40e0-a324-30add6ccec55",
   "metadata": {},
   "outputs": [],
   "source": [
    "flat_sentences_nopunc =[]\n",
    "\n",
    "for sent in flat_sentences_lower:\n",
    "    flat_sentences_nopunc+=[remove_punctuation(sent)]"
   ]
  },
  {
   "cell_type": "code",
   "execution_count": 32,
   "id": "522bde11-2738-466a-94a5-25ae83ea5585",
   "metadata": {},
   "outputs": [
    {
     "data": {
      "text/plain": [
       "[' my face is the real shop front ',\n",
       " ' my shop is the face i front ',\n",
       " ' im real when i shop my face ',\n",
       " ' artificial bloom ',\n",
       " ' hydroponic skin ',\n",
       " ' chemical release ',\n",
       " ' synthesize the real ',\n",
       " 'upbeat electronic music  hey guys its natalie',\n",
       " 'welcome back to my channel',\n",
       " 'today im gonna do a makeup tutorial as always',\n",
       " 'but first story time story time story time',\n",
       " 'i just wanna be upfront with you guys',\n",
       " 'and let you know that ive had some facial surgery',\n",
       " 'im always gonna be honest with you guys',\n",
       " 'about this kind of thing because you mean so much to me']"
      ]
     },
     "execution_count": 32,
     "metadata": {},
     "output_type": "execute_result"
    }
   ],
   "source": [
    "flat_sentences_nopunc[:15]"
   ]
  },
  {
   "cell_type": "code",
   "execution_count": null,
   "id": "46bb308d-91c9-4e9e-aae2-1c56af27077a",
   "metadata": {},
   "outputs": [],
   "source": []
  }
 ],
 "metadata": {
  "kernelspec": {
   "display_name": "Python 3",
   "language": "python",
   "name": "python3"
  },
  "language_info": {
   "codemirror_mode": {
    "name": "ipython",
    "version": 3
   },
   "file_extension": ".py",
   "mimetype": "text/x-python",
   "name": "python",
   "nbconvert_exporter": "python",
   "pygments_lexer": "ipython3",
   "version": "3.8.8"
  }
 },
 "nbformat": 4,
 "nbformat_minor": 5
}
