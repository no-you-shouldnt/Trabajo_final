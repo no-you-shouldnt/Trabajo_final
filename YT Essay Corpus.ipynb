{
 "cells": [
  {
   "cell_type": "code",
   "execution_count": 65,
   "id": "1d67fdb4-aad1-43e2-949c-664d82eb1075",
   "metadata": {},
   "outputs": [],
   "source": [
    "#leyendo texto 1 de prueba\n",
    "#este en realidad ya no sirve pero lo dejo como evidencia de que se hizo prueba con este texto\n",
    "\n",
    "with open('Essays/TiffanyFerg/CGIinfluencers.txt') as f:\n",
    "    contents=f.read()"
   ]
  },
  {
   "cell_type": "code",
   "execution_count": 66,
   "id": "bc98573f-6644-4c5a-9a08-66dbbe12e0d3",
   "metadata": {},
   "outputs": [],
   "source": [
    "##Abriendo corpus\n",
    "import glob\n",
    "\n",
    "lista_files = glob.glob('YTessays/*.txt')\n",
    "corpus = []\n",
    "\n",
    "for file in lista_files:\n",
    "    with open(file, 'r', encoding='utf8') as f:\n",
    "        corpus+=[f.read()]"
   ]
  },
  {
   "cell_type": "code",
   "execution_count": 67,
   "id": "cd9dd9bf-b5ef-4505-8c67-ad3b187aea16",
   "metadata": {},
   "outputs": [],
   "source": [
    "#importando librerias\n",
    "import spacy\n",
    "import nltk\n",
    "import string"
   ]
  },
  {
   "cell_type": "code",
   "execution_count": 68,
   "id": "4e2fce56-63cb-495b-aaf8-fa7feae6b852",
   "metadata": {},
   "outputs": [
    {
     "name": "stderr",
     "output_type": "stream",
     "text": [
      "[nltk_data] Downloading package punkt to\n",
      "[nltk_data]     C:\\Users\\pauba\\AppData\\Roaming\\nltk_data...\n",
      "[nltk_data]   Package punkt is already up-to-date!\n"
     ]
    },
    {
     "data": {
      "text/plain": [
       "True"
      ]
     },
     "execution_count": 68,
     "metadata": {},
     "output_type": "execute_result"
    }
   ],
   "source": [
    "nltk.download('punkt')"
   ]
  },
  {
   "cell_type": "code",
   "execution_count": 69,
   "id": "20361ab2-6bda-46f4-b9bb-561d725c68e9",
   "metadata": {},
   "outputs": [],
   "source": [
    "#eliminar () y []\n",
    "def a(test_str):\n",
    "    ret = ''\n",
    "    skip1c = 0\n",
    "    skip2c = 0\n",
    "    for i in test_str:\n",
    "        if i == '[':\n",
    "            skip1c += 1\n",
    "        elif i == '(':\n",
    "            skip2c += 1\n",
    "        elif i == ']' and skip1c > 0:\n",
    "            skip1c -= 1\n",
    "        elif i == ')'and skip2c > 0:\n",
    "            skip2c -= 1\n",
    "        elif skip1c == 0 and skip2c == 0:\n",
    "            ret += i\n",
    "    return ret"
   ]
  },
  {
   "cell_type": "code",
   "execution_count": 70,
   "id": "14780019-9aa6-4c52-a49a-c526220df1a8",
   "metadata": {},
   "outputs": [],
   "source": [
    "corpus = a(corpus)"
   ]
  },
  {
   "cell_type": "code",
   "execution_count": 71,
   "id": "a6ae884b-c67b-4443-b710-6b0f085cb5e7",
   "metadata": {},
   "outputs": [],
   "source": [
    "#dividir por salto de linea\n",
    "corpus= corpus.split('\\n')"
   ]
  },
  {
   "cell_type": "code",
   "execution_count": 72,
   "id": "34c624d8-96bd-449d-8378-ec716a91a987",
   "metadata": {},
   "outputs": [
    {
     "data": {
      "text/plain": [
       "['(\"Faceshopping\" by Sophie)',\n",
       " '♪ My face is the front of shop ♪',\n",
       " '♪ My face is the real shop front ♪',\n",
       " '♪ My shop is the face I front ♪',\n",
       " \"♪ I'm real when I shop my face ♪\",\n",
       " '♪ Artificial bloom ♪',\n",
       " '♪ Hydroponic skin ♪',\n",
       " '♪ Chemical release ♪',\n",
       " '♪ Synthesize the real ♪',\n",
       " \"(upbeat electronic music) - Hey guys, it's Natalie,\",\n",
       " 'welcome back to my channel.',\n",
       " \"Today I'm gonna do a makeup tutorial, as always,\",\n",
       " 'but first, story time, story time, story time!',\n",
       " 'I just wanna be upfront with you guys',\n",
       " \"and let you know that I've had some facial surgery.\"]"
      ]
     },
     "execution_count": 72,
     "metadata": {},
     "output_type": "execute_result"
    }
   ],
   "source": [
    "corpus[:15]"
   ]
  },
  {
   "cell_type": "code",
   "execution_count": 73,
   "id": "42d62326-be95-4b3d-817f-a1bfbe6bc0ff",
   "metadata": {},
   "outputs": [
    {
     "data": {
      "text/plain": [
       "17002"
      ]
     },
     "execution_count": 73,
     "metadata": {},
     "output_type": "execute_result"
    }
   ],
   "source": [
    "len(corpus)"
   ]
  },
  {
   "cell_type": "code",
   "execution_count": 74,
   "id": "2510c493-7857-46ca-9a32-cddbf7b058db",
   "metadata": {},
   "outputs": [],
   "source": [
    "#dividir en oraciones, importar la funcion\n",
    "from nltk import sent_tokenize"
   ]
  },
  {
   "cell_type": "code",
   "execution_count": 75,
   "id": "34f16613-b9c2-4ec3-9a90-b9097145f6c0",
   "metadata": {},
   "outputs": [],
   "source": [
    "#dividir en oraciones\n",
    "sentences = []\n",
    "for sentence in corpus:\n",
    "    sent_token = sent_tokenize(sentence)\n",
    "    sentences+=[sent_token]"
   ]
  },
  {
   "cell_type": "code",
   "execution_count": 76,
   "id": "3ba60933-2a54-4a8d-9400-618c95b1cd43",
   "metadata": {},
   "outputs": [
    {
     "data": {
      "text/plain": [
       "[['(\"Faceshopping\" by Sophie)'],\n",
       " ['♪ My face is the front of shop ♪'],\n",
       " ['♪ My face is the real shop front ♪'],\n",
       " ['♪ My shop is the face I front ♪'],\n",
       " [\"♪ I'm real when I shop my face ♪\"],\n",
       " ['♪ Artificial bloom ♪'],\n",
       " ['♪ Hydroponic skin ♪'],\n",
       " ['♪ Chemical release ♪'],\n",
       " ['♪ Synthesize the real ♪'],\n",
       " [\"(upbeat electronic music) - Hey guys, it's Natalie,\"],\n",
       " ['welcome back to my channel.'],\n",
       " [\"Today I'm gonna do a makeup tutorial, as always,\"],\n",
       " ['but first, story time, story time, story time!'],\n",
       " ['I just wanna be upfront with you guys'],\n",
       " [\"and let you know that I've had some facial surgery.\"]]"
      ]
     },
     "execution_count": 76,
     "metadata": {},
     "output_type": "execute_result"
    }
   ],
   "source": [
    "sentences[:15]"
   ]
  },
  {
   "cell_type": "code",
   "execution_count": 77,
   "id": "2cab91a6-580d-477e-9af2-f5a533a787f8",
   "metadata": {},
   "outputs": [
    {
     "data": {
      "text/plain": [
       "17002"
      ]
     },
     "execution_count": 77,
     "metadata": {},
     "output_type": "execute_result"
    }
   ],
   "source": [
    "#numero de oraciones\n",
    "len(sentences)"
   ]
  },
  {
   "cell_type": "code",
   "execution_count": 78,
   "id": "3eff9026-d769-47a8-9ea0-4afe5ec09d91",
   "metadata": {},
   "outputs": [
    {
     "data": {
      "text/plain": [
       "708.4166666666666"
      ]
     },
     "execution_count": 78,
     "metadata": {},
     "output_type": "execute_result"
    }
   ],
   "source": [
    "#promedio oraciones\n",
    "len(sentences)/24"
   ]
  },
  {
   "cell_type": "code",
   "execution_count": 79,
   "id": "5213c312-cca6-4c3b-8c1e-21d79e8ed727",
   "metadata": {},
   "outputs": [],
   "source": [
    "#reglas de nominalization\n",
    "terminacion = 'ment','ments','tions', 'tion','sions', 'sion', 'ibility','ibilities', 'ity','ities', 'ness','nesses', 'al','als','ings', 'ing'\n",
    "s='involvement'\n",
    "s.endswith(terminacion)"
   ]
  },
  {
   "cell_type": "code",
   "execution_count": 80,
   "id": "cef0e8f3-730d-49ff-9987-3e0a343cfbf8",
   "metadata": {},
   "outputs": [
    {
     "data": {
      "text/plain": [
       "883"
      ]
     },
     "execution_count": 80,
     "metadata": {},
     "output_type": "execute_result"
    }
   ],
   "source": [
    "#oraciones con POSIBLES nominalizaciones\n",
    "\n",
    "nominalization = []\n",
    "for oracion in sentences:\n",
    "    for word in oracion:\n",
    "        if word.endswith(terminacion):\n",
    "            if word not in no_nom:\n",
    "                 nominalization +=[word]\n",
    "len(nominalization)"
   ]
  },
  {
   "cell_type": "code",
   "execution_count": 81,
   "id": "b4207ca4-5ab7-4834-aaf5-efca9ef6d959",
   "metadata": {},
   "outputs": [
    {
     "data": {
      "text/plain": [
       "['and you guys are just so special',\n",
       " '(regal classical music) - A coronal incision',\n",
       " 'of the nasal septum, facilitating a reconstruction',\n",
       " 'But hypothetically speaking, I think the reality',\n",
       " 'telling me that I was suffering',\n",
       " \"(tense music) guys it's the only thing\",\n",
       " 'and Mozart sh*t you out while he was getting',\n",
       " 'heteronormative, and tragically sincere aspiration',\n",
       " 'I wanna say, \"F*ck you,\" by looking',\n",
       " \"but I think it's actually pretty normal\",\n",
       " 'The incel newspeak word for beauty is looksmaxing',\n",
       " '(intense rock music) It is imperative to implement',\n",
       " \"If you read looksmax forums, they're filled with discussions\",\n",
       " \"and said that women wear makeup because they're trying\",\n",
       " \"Here's a chart I made illustrating\",\n",
       " 'how women would engage in sexual bartering',\n",
       " \"And I'm not just saying that 'cause I'm trying\",\n",
       " '(ominous music) Your disgusting',\n",
       " \"I'm perfect aware that it's wild exaggeration\",\n",
       " 'of photo doctoring people have been doing',\n",
       " 'this is just me supporting corporations',\n",
       " \"Now if I'm not running late for something\",\n",
       " 'for 10 minutes and contemplate the futility',\n",
       " 'Where I can see an escape from my particular doom spiral',\n",
       " 'I can strut with confidence because I am basking',\n",
       " \"So, that's it for me, I guess I have nothing\",\n",
       " 'for bringing justice and accountability',\n",
       " 'to use social media shaming',\n",
       " 'The promise of canceling was that it was going',\n",
       " \"It's, in a way, the 21st century version\",\n",
       " \"Now there's a version of this conversation\",\n",
       " 'without these Millennial jackals trying',\n",
       " 'are finally being held accountable for their actions',\n",
       " 'The most high-profile YouTube canceling',\n",
       " \"There's a traditional understanding of justice according\",\n",
       " 'is an incredibly vague statement',\n",
       " \"So I'm immediately gonna feel a little bit skeptical\",\n",
       " \"But I'm not gonna have an opportunity\",\n",
       " 'Essentialism is when we go from criticizing',\n",
       " 'not a teenage twink hung up on wanting',\n",
       " \"when what you're really doing is attacking\",\n",
       " \"I see a very young person who's still working\",\n",
       " 'on understanding his own sexuality and is trying',\n",
       " 'to figure out where his attraction',\n",
       " 'we have to immediately escalate every situation',\n",
       " '\"but that stereotype and implication',\n",
       " 'but he also demonstrates a clear understanding',\n",
       " \"And that's what happened to James during\",\n",
       " 'What if you belong to a marginalized community',\n",
       " 'to learn about cancel culture and the entertainment',\n",
       " 'I am a prime target for cancellation',\n",
       " \"So basically I'm canceled for collaborating\",\n",
       " 'He grew up in a world where there was not anything',\n",
       " 'like the visibility and access to information',\n",
       " 'He wanted to create more positive trans representation',\n",
       " 'I was having myself, although I ended up deciding',\n",
       " '- \"One must remember, there is such a thing',\n",
       " \"Now, so far, I've been telling\",\n",
       " \"so much, they're willing\",\n",
       " \"So that's a vish of transness\",\n",
       " 'truscum obviously being',\n",
       " 'He certainly said some things',\n",
       " 'because truscum often call themselves transsexuals',\n",
       " 'the word transsexual was just the word for his identity',\n",
       " 'he feels like these ungrateful Millennials',\n",
       " \"it's not that he invalidates non-binary identities\",\n",
       " 'of people have been doing nothing',\n",
       " 'it does upset me when he does this distancing thing',\n",
       " 'as much as possible instead of splitting',\n",
       " \"I don't think it would be the right thing\",\n",
       " 'the whole transgender umbrella instead of trying',\n",
       " \"and I'm finally able to reveal\",\n",
       " 'If your answer is social justice advocates fighting',\n",
       " \"So I'm pretty suspicious of anyone pushing\",\n",
       " 'they, \"say I can\\'t believe you\\'re ignoring']"
      ]
     },
     "execution_count": 81,
     "metadata": {},
     "output_type": "execute_result"
    }
   ],
   "source": [
    "nominalization[:75]"
   ]
  },
  {
   "cell_type": "code",
   "execution_count": 82,
   "id": "00667dfc-2816-42a7-96f0-8385b6a8c442",
   "metadata": {},
   "outputs": [
    {
     "data": {
      "text/plain": [
       "5.193506646276909"
      ]
     },
     "execution_count": 82,
     "metadata": {},
     "output_type": "execute_result"
    }
   ],
   "source": [
    "##porcentaje nominalizaciones\n",
    "\n",
    "len(nominalization)/len(sentences)*100"
   ]
  },
  {
   "cell_type": "code",
   "execution_count": 83,
   "id": "796cb18d-a852-45d0-a99b-7d4365b7ccca",
   "metadata": {},
   "outputs": [],
   "source": [
    "#aplanar la lista de strings\n",
    "\n",
    "flat_sentences = []\n",
    "for item in sentences:\n",
    "        for word in item:\n",
    "            flat_sentences+=[word]"
   ]
  },
  {
   "cell_type": "code",
   "execution_count": 84,
   "id": "7f1aca73-2fe0-40fb-b09a-af2b4c8faab7",
   "metadata": {},
   "outputs": [
    {
     "data": {
      "text/plain": [
       "['(\"Faceshopping\" by Sophie)',\n",
       " '♪ My face is the front of shop ♪',\n",
       " '♪ My face is the real shop front ♪',\n",
       " '♪ My shop is the face I front ♪',\n",
       " \"♪ I'm real when I shop my face ♪\"]"
      ]
     },
     "execution_count": 84,
     "metadata": {},
     "output_type": "execute_result"
    }
   ],
   "source": [
    "flat_sentences[:5]"
   ]
  },
  {
   "cell_type": "code",
   "execution_count": 85,
   "id": "e155e649-9285-49a2-ae09-7ffb83df3597",
   "metadata": {},
   "outputs": [],
   "source": [
    "#palabras en minuscula\n",
    "\n",
    "flat_sentences_lower =[]\n",
    "\n",
    "for sentence in flat_sentences:\n",
    "    flat_sentences_lower+=[sentence.lower()]"
   ]
  },
  {
   "cell_type": "code",
   "execution_count": 86,
   "id": "8278cdac-b1ad-4a83-acff-8d75ab595731",
   "metadata": {},
   "outputs": [
    {
     "data": {
      "text/plain": [
       "['(\"faceshopping\" by sophie)',\n",
       " '♪ my face is the front of shop ♪',\n",
       " '♪ my face is the real shop front ♪',\n",
       " '♪ my shop is the face i front ♪',\n",
       " \"♪ i'm real when i shop my face ♪\"]"
      ]
     },
     "execution_count": 86,
     "metadata": {},
     "output_type": "execute_result"
    }
   ],
   "source": [
    "flat_sentences_lower [:5]"
   ]
  },
  {
   "cell_type": "code",
   "execution_count": 87,
   "id": "ddf07744-c84b-4ec3-9e2a-d7c1a337580b",
   "metadata": {},
   "outputs": [],
   "source": [
    "##eliminar puntuación\n",
    "\n",
    "import re\n",
    "\n",
    "def remove_punctuation(s):\n",
    "    return re.sub(r'[^\\w\\s]','',s)"
   ]
  },
  {
   "cell_type": "code",
   "execution_count": 88,
   "id": "fc76b179-3723-40e0-a324-30add6ccec55",
   "metadata": {},
   "outputs": [],
   "source": [
    "flat_sentences_nopunc =[]\n",
    "\n",
    "for sent in flat_sentences_lower:\n",
    "    flat_sentences_nopunc+=[remove_punctuation(sent)]"
   ]
  },
  {
   "cell_type": "code",
   "execution_count": 89,
   "id": "522bde11-2738-466a-94a5-25ae83ea5585",
   "metadata": {},
   "outputs": [
    {
     "data": {
      "text/plain": [
       "['faceshopping by sophie',\n",
       " ' my face is the front of shop ',\n",
       " ' my face is the real shop front ',\n",
       " ' my shop is the face i front ',\n",
       " ' im real when i shop my face ',\n",
       " ' artificial bloom ',\n",
       " ' hydroponic skin ',\n",
       " ' chemical release ',\n",
       " ' synthesize the real ',\n",
       " 'upbeat electronic music  hey guys its natalie',\n",
       " 'welcome back to my channel',\n",
       " 'today im gonna do a makeup tutorial as always',\n",
       " 'but first story time story time story time',\n",
       " 'i just wanna be upfront with you guys',\n",
       " 'and let you know that ive had some facial surgery']"
      ]
     },
     "execution_count": 89,
     "metadata": {},
     "output_type": "execute_result"
    }
   ],
   "source": [
    "flat_sentences_nopunc[:15]"
   ]
  },
  {
   "cell_type": "code",
   "execution_count": 90,
   "id": "56ccba6a-01d8-4b29-813e-303ad40daa9b",
   "metadata": {},
   "outputs": [
    {
     "data": {
      "text/plain": [
       "['faceshopping',\n",
       " 'by',\n",
       " 'sophie',\n",
       " '',\n",
       " 'my',\n",
       " 'face',\n",
       " 'is',\n",
       " 'the',\n",
       " 'front',\n",
       " 'of',\n",
       " 'shop',\n",
       " '',\n",
       " '',\n",
       " 'my',\n",
       " 'face']"
      ]
     },
     "execution_count": 90,
     "metadata": {},
     "output_type": "execute_result"
    }
   ],
   "source": [
    "##SEPARAR POR PALABRAS\n",
    "\n",
    "words=[]\n",
    "for sentence in flat_sentences_nopunc:\n",
    "    for word in sentence.split(' '):\n",
    "        words+=[word]\n",
    "words[:15]"
   ]
  },
  {
   "cell_type": "code",
   "execution_count": 91,
   "id": "5579ff31-d447-4e5d-bc8c-ba4016e7c3f5",
   "metadata": {},
   "outputs": [],
   "source": [
    "##eliminar espacios en blanco\n",
    "words = [palabra for palabra in words if len(palabra)>0]"
   ]
  },
  {
   "cell_type": "code",
   "execution_count": 92,
   "id": "39ddffc4-600a-4418-ab4d-35ec7fc4ba9d",
   "metadata": {},
   "outputs": [
    {
     "data": {
      "text/plain": [
       "['faceshopping',\n",
       " 'by',\n",
       " 'sophie',\n",
       " 'my',\n",
       " 'face',\n",
       " 'is',\n",
       " 'the',\n",
       " 'front',\n",
       " 'of',\n",
       " 'shop',\n",
       " 'my',\n",
       " 'face',\n",
       " 'is',\n",
       " 'the',\n",
       " 'real']"
      ]
     },
     "execution_count": 92,
     "metadata": {},
     "output_type": "execute_result"
    }
   ],
   "source": [
    "words[:15]"
   ]
  },
  {
   "cell_type": "code",
   "execution_count": 93,
   "id": "84f99c04-3172-481a-a5b5-9e5ca368ef7e",
   "metadata": {},
   "outputs": [
    {
     "data": {
      "text/plain": [
       "146763"
      ]
     },
     "execution_count": 93,
     "metadata": {},
     "output_type": "execute_result"
    }
   ],
   "source": [
    "len(words)"
   ]
  },
  {
   "cell_type": "code",
   "execution_count": 94,
   "id": "8a33d5fc-b26a-4f7e-863e-66cbfb813161",
   "metadata": {},
   "outputs": [
    {
     "data": {
      "text/plain": [
       "8.632102105634631"
      ]
     },
     "execution_count": 94,
     "metadata": {},
     "output_type": "execute_result"
    }
   ],
   "source": [
    "#promedio palabra por oración\n",
    "\n",
    "len(words)/len(sentences)"
   ]
  },
  {
   "cell_type": "code",
   "execution_count": 95,
   "id": "178cac45-5a08-4491-b0b9-248e1efa99c5",
   "metadata": {},
   "outputs": [
    {
     "data": {
      "text/plain": [
       "6115.125"
      ]
     },
     "execution_count": 95,
     "metadata": {},
     "output_type": "execute_result"
    }
   ],
   "source": [
    "#promedio palabra por texto\n",
    "\n",
    "len(words)/24"
   ]
  },
  {
   "cell_type": "code",
   "execution_count": 96,
   "id": "48d902e9-f4a7-4201-80bc-5f7713af5178",
   "metadata": {},
   "outputs": [],
   "source": [
    "##palabras uncias\n",
    "\n",
    "types = []\n",
    "for palabra in words:\n",
    "    if palabra not in types:\n",
    "        types += [palabra]"
   ]
  },
  {
   "cell_type": "code",
   "execution_count": 97,
   "id": "cd9b8607-cba2-42d5-9051-a1766fc30565",
   "metadata": {},
   "outputs": [
    {
     "data": {
      "text/plain": [
       "['faceshopping',\n",
       " 'by',\n",
       " 'sophie',\n",
       " 'my',\n",
       " 'face',\n",
       " 'is',\n",
       " 'the',\n",
       " 'front',\n",
       " 'of',\n",
       " 'shop',\n",
       " 'real',\n",
       " 'i',\n",
       " 'im',\n",
       " 'when',\n",
       " 'artificial']"
      ]
     },
     "execution_count": 97,
     "metadata": {},
     "output_type": "execute_result"
    }
   ],
   "source": [
    "types[:15]"
   ]
  },
  {
   "cell_type": "code",
   "execution_count": 98,
   "id": "b77d9327-30bb-47de-9b52-235240459c64",
   "metadata": {},
   "outputs": [
    {
     "data": {
      "text/plain": [
       "11506"
      ]
     },
     "execution_count": 98,
     "metadata": {},
     "output_type": "execute_result"
    }
   ],
   "source": [
    "#numero de palabras unicas\n",
    "len(types)"
   ]
  },
  {
   "cell_type": "code",
   "execution_count": 99,
   "id": "0120676c-4a21-4bee-95b6-e28a9d15ddd9",
   "metadata": {},
   "outputs": [
    {
     "data": {
      "text/plain": [
       "7.839850643554574"
      ]
     },
     "execution_count": 99,
     "metadata": {},
     "output_type": "execute_result"
    }
   ],
   "source": [
    "# % de palabras unicas dentro de las palabras totales\n",
    "len(types)/len(words)*100"
   ]
  },
  {
   "cell_type": "code",
   "execution_count": 100,
   "id": "1f1f536a-8897-470f-b51e-26b687abb89f",
   "metadata": {},
   "outputs": [
    {
     "name": "stdout",
     "output_type": "stream",
     "text": [
      "Apple Apple PROPN NNP nsubj Xxxxx True False\n",
      "is be AUX VBZ aux xx True True\n",
      "looking look VERB VBG ROOT xxxx True False\n",
      "at at ADP IN prep xx True True\n",
      "buying buy VERB VBG pcomp xxxx True False\n",
      "U.K. U.K. PROPN NNP dobj X.X. False False\n",
      "startup startup NOUN NN advcl xxxx True False\n",
      "for for ADP IN prep xxx True True\n",
      "$ $ SYM $ quantmod $ False False\n",
      "1 1 NUM CD compound d False False\n",
      "billion billion NUM CD pobj xxxx True False\n"
     ]
    }
   ],
   "source": [
    "import spacy\n",
    "\n",
    "nlp = spacy.load(\"en_core_web_sm\")\n",
    "doc = nlp(\"Apple is looking at buying U.K. startup for $1 billion\")\n",
    "\n",
    "for token in doc:\n",
    "    print(token.text, token.lemma_, token.pos_, token.tag_, token.dep_,\n",
    "            token.shape_, token.is_alpha, token.is_stop)"
   ]
  },
  {
   "cell_type": "code",
   "execution_count": null,
   "id": "219652bd-83d1-425f-b462-7b3298ba46da",
   "metadata": {},
   "outputs": [],
   "source": []
  },
  {
   "cell_type": "code",
   "execution_count": null,
   "id": "bc8ba818-fd2a-4b9a-ad78-e98b7cbb0f10",
   "metadata": {},
   "outputs": [],
   "source": []
  }
 ],
 "metadata": {
  "kernelspec": {
   "display_name": "Python 3",
   "language": "python",
   "name": "python3"
  },
  "language_info": {
   "codemirror_mode": {
    "name": "ipython",
    "version": 3
   },
   "file_extension": ".py",
   "mimetype": "text/x-python",
   "name": "python",
   "nbconvert_exporter": "python",
   "pygments_lexer": "ipython3",
   "version": "3.8.8"
  }
 },
 "nbformat": 4,
 "nbformat_minor": 5
}
