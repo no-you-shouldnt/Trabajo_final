{
 "cells": [
  {
   "cell_type": "code",
   "execution_count": 47,
   "id": "1d67fdb4-aad1-43e2-949c-664d82eb1075",
   "metadata": {},
   "outputs": [
    {
     "name": "stdout",
     "output_type": "stream",
     "text": [
      "Hello my dudes, my name is Tiffany, welcome back to my series, Internet Analysis, where\n",
      "I like to research and discuss things relevant to social issues and media.\n",
      "Today I wanna discuss Digital Influencers, Artificial Influencers.\n",
      "Lil Miquela, if you're familiar?\n",
      "We'll get into it.\n",
      "This was actually written as a project for one\n",
      "of my media courses, but I thought I would\n",
      "knock out two birds with one stone, and share what I've discovered with you guys.\n",
      "I'm actually now just one final paper away from graduating with my Bachelor's Degree!\n",
      "FINALLY!\n",
      "So, you guys can expect a lot more uploads in the next year, and forever after that.\n",
      "BUT, before we jump into today's video, I've gotta give a shout-out to today's sponsor,\n",
      "Green Chef.\n",
      "During quarantine I have been cooking most of my meals at home,\n",
      "other than the occasional take-out.\n",
      "But honestly, I've gotten very bored and uninspired.\n",
      "Sometimes I just want something new, to mix things up, ya know?\n",
      "Green Chef is a USDA certified organic meal kit company, that offers plans\n",
      "for a variety of lifestyles, including Paleo, Keto, Vegan, and vegetarian.\n",
      "With Green Chef, it's easy to eat well and discover new recipes every week that you'll\n",
      "love to cook.\n",
      "This week, my boyfriend and I made these Mexican pinto bean 'meatballs' with jasmine rice and\n",
      "vegan Chipotle aioli.\n",
      "I admittedly am not the most advanced home chef, but these recipe sheets come with\n",
      "step-by-step instructions and helpful guiding photos, so the whole process is very quick\n",
      "& easy.\n",
      "Even for me!\n",
      "The Green Chef box was delivered contactless, straight to my door, and the ingredients came\n",
      "pre-measured, perfectly portioned, with minimal prep required.\n",
      "Which is very convenient, and helps me minimize food waste.\n",
      "It is one of my biggest pet-peeves, when a recipe needs like, the tiniest little portion\n",
      "of something, but I have to buy a BIG amount of it.\n",
      "This meal turned out SO good, I was very proud of myself, and it's exciting to have something\n",
      "new to be able to add to our weekly meal rotation!\n",
      "If you wanna try out Green Chef, you can go to GreenChef.us/TIFFANYFERG80,\n",
      "to get $80 off across 4 boxes, with FREE Shipping for your first order.\n",
      "Thank you, Green Chef, now let's get into the video!\n",
      "Daniel Boorstin wrote a book called 'The Image', which was published in 1962, and even though\n",
      "it was written WAY before the rise of the internet\n",
      "or social media, much of his arguments are still very relevant today.\n",
      "In one chapter he writes about celebrities: \"The Graphic Revolution suddenly gave us,\n",
      "among other things, the means of fabricating well-knownness.\n",
      "We have filled our world with artificial fame.\n",
      "The celebrity is a person who is known for his well-knownness.\n",
      "His qualities- or rather, his lack of qualities- illustrate our peculiar problems.\n",
      "He is neither good nor bad, great nor petty.\n",
      "He is the human pseudo-event.\"\n",
      "I can only imagine what Boorstin would have to say about 'Influencers'?\n",
      "Influencer is a marketing term to describe someone with a substantial or loyal\n",
      "following on social media, who utilizes their influence to promote or sell products to their\n",
      "audience.\n",
      "Though, many influencers don't want to be referred to as such.\n",
      "We prefer terms like 'Content Creator', so that\n",
      "we feel like our primary purpose isn't just to sell stuff.\n",
      "I do acknowledge the irony that this video is sponsored.\n",
      "To many, the very concept of 'influencers' is fake, contrived.\n",
      "meticulously planned 'candid' content, orchestrated to be relatable.\n",
      "Which, yes, filtering your life through any sort of medium does take away\n",
      "some reality or 'authenticity'.\n",
      "Can anything in the digital universe be 100% real?\n",
      "Anyway, it can be difficult for all of us users of social media, to grapple with\n",
      "what's real vs. fake online.\n",
      "Instagram Vs. Reality...\n",
      "Social media apps such as Instagram are all about Images.\n",
      "They are clear ideals about how we're supposed to look, or about how our pictures are supposed\n",
      "to be taken, or what our feed should look like.\n",
      "There's a lot of pressure to be 'Aesthetic'.\n",
      "We know that social media is not 'real', but there are very real pressures to present our\n",
      "'Best Selves', and we really do compare ourselves to what we see.\n",
      "\"You might become anxious that you're not as attractive or successful as other people\n",
      "you are exposed to, even as you're harnessed by the system to make someone out there\n",
      "feel the same way.\"\n",
      "This is even more complicated with the popularization of things like beauty filters\n",
      "& Facetune, which I made videos about a few\n",
      "years back, if you're interested.\n",
      "Pages such as the sub-Reddit \"Instagram vs Reality\" show photos that have been\n",
      "edited to extremes.\n",
      "People can, and do, edit their photos, essentially creating artificial versions of themselves\n",
      "to fit social media standards of beauty.\n",
      "We've become accustom to seeing the 'Instagram face', or these anatomically impossible proportions.\n",
      "And by the way, I am absolutely sympathetic of people who are affected by body dysmorphia\n",
      "or related issues.\n",
      "I definitely do not support the pages that try to call out, or embarrass, or humiliate\n",
      "people for editing their photos.\n",
      "But I do worry about these posts, and the accounts that perpetuate these very\n",
      "harmful standards of beauty.\n",
      "So, when we look at social media, to what extent can we say that these are\n",
      "'real posts' by real people?\n",
      "And what does 'Real' mean?\n",
      "Unedited, authentic, raw, physical, human?\n",
      "Well, it doesn't get LESS real than 'Artificial Influencers'.\n",
      "Allow me to introduce you to Lil Miquela.\n",
      "She is a CGI influencer with nearly 3 million followers on Instagram.\n",
      "I would say she's the personification of a beauty filter, but she's not a person;\n",
      "she is a self-described change-seeking robot.\n",
      "To be clear, she's not a robot either, but ok.\n",
      "\"She is a digital humanoid fantasy, a promotional bot, an algorithm of desire.\n",
      "Devised to influence online & offline, real & fake at the same time,\n",
      "Lil Miquela is an embodiment of machine behaviorism & post-digital living.\"\n",
      "Lil Miquela is an Instagram model, YouTuber, musician...\n",
      "She has a whole digital 'squad' of other virtual influencers, and she hangs out with real people.\n",
      "So my question is, what is appealing about these digital influencers?\n",
      "Human influencers are real people sharing their lives.\n",
      "People follow them for their personality or their art, or their expertise.\n",
      "So why would anyone want to follow a robot, whose whole brand image has been carefully\n",
      "constructed by a corporate team?\n",
      "The strangeness, first of all!\n",
      "You would think that the 'uncanny valley' effect would scare people away, and\n",
      "I'm sure it does, but a lot of people are just\n",
      "intrigued by the weirdness.\n",
      "Looking at the comments, a lot of people are tagging their friends, saying \"Is this a robot?\n",
      "Is this a person?\n",
      "She looks like a SIM.\"\n",
      "And maybe there's something to the idea that some of us just prefer digital representations\n",
      "of ourselves.That's why we love filters, or creating digital avatars.\n",
      "Playing The SIMS.\n",
      "It's like Second Life.\n",
      "But also, of course, digital influencers are designed to be stylish and appealing.\n",
      "\"Lil Miquela's coolness reinforces youth pining for fame, money, slim body,\n",
      "and otherworldly beauty.\"\n",
      "And, just like any other influencers, they wanna sell you stuff!\n",
      "Lil' Miquela has worked with major fashion brands like Prada & Calvin Klein.\n",
      "And wow, even a robot influencer, controlled by a major media brand,\n",
      "doesn't correctly disclose her advertisements.\n",
      "Come on!\n",
      "#Sponsored!\n",
      "Digital influencers are also designed to be 'relatable'.\n",
      "Lil Miquela has captions like, \"Not posting my Spotify Wrapped 'cause it's all BlackPink\",\n",
      "or that Thanksgiving is trash.\n",
      "And this is of course very disturbing when you actually think about the\n",
      "personification of brands.\n",
      "It's all over Twitter, every company brand account speaks like a person,\n",
      "in a very 'How do you do fellow kids?'\n",
      "meme kind of way.\n",
      "I will say, though, Lil Miquela's are probably\n",
      "written by someone younger, so they don't seem that out of place.\n",
      "But still...\n",
      "Moving on, these virtual influencers are also self-proclaimed Activists.\n",
      "Lil' Miquela promotes voting & BLM, she donates to fundraisers.\n",
      "I found this influencer named NooNoouri, whose bio says, \"Digital character, Activist, Vegan\".\n",
      "She did a sponsored post for BOSS Alive fragrance.\n",
      "Yes, the irony.\n",
      "I was looking through her Instagram stories, and seeing all of this 'activism', and it\n",
      "is actually just such a weird, neoliberal nightmare.\n",
      "to see a character's account, run by a brand, trying to include Black Lives Matter as part\n",
      "of its image, as part of its branding.\n",
      "On the surface, of course, this seems like a good thing, it's promoting important information,\n",
      "trying to raise awareness.\n",
      "But again, this is all carefully orchestrated and part of branding the image\n",
      "of an avatar that does not exist.\n",
      "Look at this, the irony of a digital being posting hashtag 'We are all the same'.\n",
      "Like, WHO is behind these characters?\n",
      "Who is potentially digitally cosplaying as a BIPOC avatar?\n",
      "SO many questions...\n",
      "NooNoouri also posted, \"Please, we are all humans\".\n",
      "Is this a joke?\n",
      "Or is this actually very subversive satire about performative activism?\n",
      "Well, at least you could say that that's potentially better than another digital influencer named\n",
      "Bermuda, who apparently was created as a pro-Trump 'Robot Supremacist'...\n",
      "\"Hello darkness, my old friend...\"\n",
      "This really is a nightmare.\n",
      "So, that brings me to this question.\n",
      "What is the future of the influencer industry?\n",
      "Many of these corporations and investors believe that digital and AI influencers are the future.\n",
      "According to CBS, the digital influencer market is set to reach $2 Billion in the next 2 years.\n",
      "And their goal is to have digital influencers across every social media platform, not just\n",
      "Instagram, but also YouTube, Twitter, Tik-Tok, Twitch.\n",
      "By the way, there are also digital supermodels.\n",
      "Shudu is known as the world's first digital supermodel, and she is signed with an agency\n",
      "which is the world's first all-digital modeling agency.\n",
      "So, there are some of those digital supermodels that do have their own social\n",
      "media presence, but there are also some digital\n",
      "models that are created specifically for ad campaigns,\n",
      "and do not exist outside of that.\n",
      "So they're essentially brand assets that they can\n",
      "use in whatever marketing materials they wish.\n",
      "\"This year, Lil Miquela signed with CAA and is projected to earn over $10 Million!\"\n",
      "I used to believe that performers and artists, including content creators, were kind of safe\n",
      "from the threat of automation.\n",
      "There's no way we're gonna be replaced!\n",
      "But actually, that could happen!\n",
      "Every time a digital influencer is hired for a\n",
      "campaign, that is directly taking money away from real, human creators.\n",
      "And especially those in marginalized communities that already might not have as many opportunities.\n",
      "Digital influencers and models are being used for 'diversity'.\n",
      "These brands want to \"represent\" BIPOC, LGBTQ+, body positive people, they wanna have\n",
      "an inclusive image.\n",
      "So why not just hire REAL people who actually embody those identities?\n",
      "Just- Just an idea.\n",
      "Just a thought!\n",
      "I'm getting heated...\n",
      "Lastly, I wanna touch on A.I.\n",
      "Influencers.\n",
      "And I wanna make the distinction between Digital Influencers who are created by, run by, real\n",
      "people, brand teams, versus influencers that actually\n",
      "rely on artificial intelligence.\n",
      "Human influencers must learn how to adapt to ever-changing algorithms, direct our content\n",
      "toward what's popular, or what's most appealing to our audiences.\n",
      "And the human teams that run digital influencer accounts also have to do those same things.\n",
      "But wouldn't AI influencers be much more effective at studying, learning from, and\n",
      "responding to these algorithms?\n",
      "Therefore, they have a huge advantage over human creators and\n",
      "even over the digital influencers.\n",
      "Let me share my nightmare scenario: Assuming AI influencers only care about increasing\n",
      "engagement and profit, and obviously they don't have morals, or a conscience, because\n",
      "they're the epitome of a capitalist creation of the attention economy....\n",
      "are there ANY limits to what these AI influencers might do for attention?\n",
      "I mean, we already have this problem with creators who don't have much care or consideration\n",
      "for their content, or the impact, the consequences of what they do.\n",
      "Imagine, for example, the AI influencer notes how popular right-wing content is.\n",
      "The AI influencer falls down the rabbit hole, and soon, they're joining the likes of Prager\n",
      "U and creating right-wing propoganda.\n",
      "Why?\n",
      "Simply because it feeds engagement and growth, and that's the bottom line!\n",
      "And actually, something like this has already happened...\n",
      "Microsoft launched a chat-bot named Tay in 2016 that was designed to Tweet like a teen.\n",
      "It was taken offline about a day later, after it began\n",
      "tweeting out racist and sexist remarks that it's AI\n",
      "picked up from interacting on Twitter.\n",
      "In conclusion, I have raised just a few of the concerns that I have about these\n",
      "digital influencers and the impacts that they may have.\n",
      "And not just selfishly, because they might take my job!\n",
      "And right now it might be obvious which influencers are digital.\n",
      "They might look like a SIM, or maybe their bio says 'Robot'.\n",
      "But many digital influencers today, and certainly many in the future, will be able to seamlessly\n",
      "blend in with other, real human creators.\n",
      "Legally and ethically I think it's very important that these 'digital beings' must disclose\n",
      "themselves as such.\n",
      "Especially if they're selling anything.\n",
      "We also have to remember that young children are also encountering digital influencers,\n",
      "like Lil Miquela.\n",
      "\"Of her millions of young followers, how many of them are fully conscious of her misrepresentation?\n",
      "Truth in Advertising, the industry watchdog, is calling for FTC reform.\"\n",
      "Consumers deserve to know whether a recommendation is coming from a corporate\n",
      "team, or a literal AI, rather than a person.\n",
      "There's much more to say and explore about the potential impacts of these digital influencers,\n",
      "or AI creators, but that is beyond the extent of this video essay.\n",
      "So, that is my video, it's much shorter than my usual content because this project was\n",
      "limited to 10 minutes.\n",
      "I added some extra stuff for this YouTube version, but yeah, that's my project.\n",
      "I was really glad to be able to do at least ONE\n",
      "video project!\n",
      "This whole semester, I've been in ALL media and film courses.\n",
      "I've written too many papers, and it was nice to be in my element,\n",
      "at least for a minute.\n",
      "Like I said, I only have one more final left, and is my brain completely squished right\n",
      "now?\n",
      "Yes.\n",
      "But, I'm gonna get through it, and then I will be done.\n",
      "DONE!\n",
      "Done with college!\n",
      "(J'ai fini!)\n",
      "Thank you guys so much for watching this, if you watched the whole thing, please leave\n",
      "a comment.\n",
      "We've gotta feed the engagement! hahah I am an influencer, please buy my products!\n",
      "But again, thank you Green Chef for sponsoring this video,\n",
      "check out the link in the description if you wanna check it out.\n",
      "I fully realize all the irony of me, ya know, analyzing influencer culture and all of that,\n",
      "as an influencer.\n",
      "But also, I think it's important for us to be\n",
      "aware of our own industry, and again,\n",
      "as a media studies major, I should be engaging with this type of content critically.\n",
      "Anyway, I hope you guys enjoyed this, I'm gonna go now.\n",
      "If you'd like, you can check out my vlog channel, which is where I post other sorts\n",
      "of more personal content.\n",
      "I also have a Podcast called Previously Gifted.\n",
      "Both of these channels I will be a lot more active on in the next coming times.\n",
      "That is all.\n",
      "K, thanks, bye!\n"
     ]
    }
   ],
   "source": [
    "#leyendo texto 1 de prueba\n",
    "with open('C:/Users/pauba/Documents/GitHub/Trabajo-Final/Essays/TiffanyFerg/CGIinfluencers.txt') as f:\n",
    "    contents=f.read()\n",
    "    print(contents)"
   ]
  },
  {
   "cell_type": "code",
   "execution_count": 48,
   "id": "189ef7f4-7798-4864-b558-44fa91dcd74b",
   "metadata": {},
   "outputs": [
    {
     "data": {
      "text/plain": [
       "'Hello my dudes, my name is Tiffany, welcome back to my series, Internet Analysis, where\\nI like to research and discuss things relevant to social issues and media.\\nToday I wanna discuss Digital Influencers, Artificial Influencers.\\nLil Miquela, if you\\'re familiar?\\nWe\\'ll get into it.\\nThis was actually written as a project for one\\nof my media courses, but I thought I would\\nknock out two birds with one stone, and share what I\\'ve discovered with you guys.\\nI\\'m actually now just one final paper away from graduating with my Bachelor\\'s Degree!\\nFINALLY!\\nSo, you guys can expect a lot more uploads in the next year, and forever after that.\\nBUT, before we jump into today\\'s video, I\\'ve gotta give a shout-out to today\\'s sponsor,\\nGreen Chef.\\nDuring quarantine I have been cooking most of my meals at home,\\nother than the occasional take-out.\\nBut honestly, I\\'ve gotten very bored and uninspired.\\nSometimes I just want something new, to mix things up, ya know?\\nGreen Chef is a USDA certified organic meal kit company, that offers plans\\nfor a variety of lifestyles, including Paleo, Keto, Vegan, and vegetarian.\\nWith Green Chef, it\\'s easy to eat well and discover new recipes every week that you\\'ll\\nlove to cook.\\nThis week, my boyfriend and I made these Mexican pinto bean \\'meatballs\\' with jasmine rice and\\nvegan Chipotle aioli.\\nI admittedly am not the most advanced home chef, but these recipe sheets come with\\nstep-by-step instructions and helpful guiding photos, so the whole process is very quick\\n& easy.\\nEven for me!\\nThe Green Chef box was delivered contactless, straight to my door, and the ingredients came\\npre-measured, perfectly portioned, with minimal prep required.\\nWhich is very convenient, and helps me minimize food waste.\\nIt is one of my biggest pet-peeves, when a recipe needs like, the tiniest little portion\\nof something, but I have to buy a BIG amount of it.\\nThis meal turned out SO good, I was very proud of myself, and it\\'s exciting to have something\\nnew to be able to add to our weekly meal rotation!\\nIf you wanna try out Green Chef, you can go to GreenChef.us/TIFFANYFERG80,\\nto get $80 off across 4 boxes, with FREE Shipping for your first order.\\nThank you, Green Chef, now let\\'s get into the video!\\nDaniel Boorstin wrote a book called \\'The Image\\', which was published in 1962, and even though\\nit was written WAY before the rise of the internet\\nor social media, much of his arguments are still very relevant today.\\nIn one chapter he writes about celebrities: \"The Graphic Revolution suddenly gave us,\\namong other things, the means of fabricating well-knownness.\\nWe have filled our world with artificial fame.\\nThe celebrity is a person who is known for his well-knownness.\\nHis qualities- or rather, his lack of qualities- illustrate our peculiar problems.\\nHe is neither good nor bad, great nor petty.\\nHe is the human pseudo-event.\"\\nI can only imagine what Boorstin would have to say about \\'Influencers\\'?\\nInfluencer is a marketing term to describe someone with a substantial or loyal\\nfollowing on social media, who utilizes their influence to promote or sell products to their\\naudience.\\nThough, many influencers don\\'t want to be referred to as such.\\nWe prefer terms like \\'Content Creator\\', so that\\nwe feel like our primary purpose isn\\'t just to sell stuff.\\nI do acknowledge the irony that this video is sponsored.\\nTo many, the very concept of \\'influencers\\' is fake, contrived.\\nmeticulously planned \\'candid\\' content, orchestrated to be relatable.\\nWhich, yes, filtering your life through any sort of medium does take away\\nsome reality or \\'authenticity\\'.\\nCan anything in the digital universe be 100% real?\\nAnyway, it can be difficult for all of us users of social media, to grapple with\\nwhat\\'s real vs. fake online.\\nInstagram Vs. Reality...\\nSocial media apps such as Instagram are all about Images.\\nThey are clear ideals about how we\\'re supposed to look, or about how our pictures are supposed\\nto be taken, or what our feed should look like.\\nThere\\'s a lot of pressure to be \\'Aesthetic\\'.\\nWe know that social media is not \\'real\\', but there are very real pressures to present our\\n\\'Best Selves\\', and we really do compare ourselves to what we see.\\n\"You might become anxious that you\\'re not as attractive or successful as other people\\nyou are exposed to, even as you\\'re harnessed by the system to make someone out there\\nfeel the same way.\"\\nThis is even more complicated with the popularization of things like beauty filters\\n& Facetune, which I made videos about a few\\nyears back, if you\\'re interested.\\nPages such as the sub-Reddit \"Instagram vs Reality\" show photos that have been\\nedited to extremes.\\nPeople can, and do, edit their photos, essentially creating artificial versions of themselves\\nto fit social media standards of beauty.\\nWe\\'ve become accustom to seeing the \\'Instagram face\\', or these anatomically impossible proportions.\\nAnd by the way, I am absolutely sympathetic of people who are affected by body dysmorphia\\nor related issues.\\nI definitely do not support the pages that try to call out, or embarrass, or humiliate\\npeople for editing their photos.\\nBut I do worry about these posts, and the accounts that perpetuate these very\\nharmful standards of beauty.\\nSo, when we look at social media, to what extent can we say that these are\\n\\'real posts\\' by real people?\\nAnd what does \\'Real\\' mean?\\nUnedited, authentic, raw, physical, human?\\nWell, it doesn\\'t get LESS real than \\'Artificial Influencers\\'.\\nAllow me to introduce you to Lil Miquela.\\nShe is a CGI influencer with nearly 3 million followers on Instagram.\\nI would say she\\'s the personification of a beauty filter, but she\\'s not a person;\\nshe is a self-described change-seeking robot.\\nTo be clear, she\\'s not a robot either, but ok.\\n\"She is a digital humanoid fantasy, a promotional bot, an algorithm of desire.\\nDevised to influence online & offline, real & fake at the same time,\\nLil Miquela is an embodiment of machine behaviorism & post-digital living.\"\\nLil Miquela is an Instagram model, YouTuber, musician...\\nShe has a whole digital \\'squad\\' of other virtual influencers, and she hangs out with real people.\\nSo my question is, what is appealing about these digital influencers?\\nHuman influencers are real people sharing their lives.\\nPeople follow them for their personality or their art, or their expertise.\\nSo why would anyone want to follow a robot, whose whole brand image has been carefully\\nconstructed by a corporate team?\\nThe strangeness, first of all!\\nYou would think that the \\'uncanny valley\\' effect would scare people away, and\\nI\\'m sure it does, but a lot of people are just\\nintrigued by the weirdness.\\nLooking at the comments, a lot of people are tagging their friends, saying \"Is this a robot?\\nIs this a person?\\nShe looks like a SIM.\"\\nAnd maybe there\\'s something to the idea that some of us just prefer digital representations\\nof ourselves.That\\'s why we love filters, or creating digital avatars.\\nPlaying The SIMS.\\nIt\\'s like Second Life.\\nBut also, of course, digital influencers are designed to be stylish and appealing.\\n\"Lil Miquela\\'s coolness reinforces youth pining for fame, money, slim body,\\nand otherworldly beauty.\"\\nAnd, just like any other influencers, they wanna sell you stuff!\\nLil\\' Miquela has worked with major fashion brands like Prada & Calvin Klein.\\nAnd wow, even a robot influencer, controlled by a major media brand,\\ndoesn\\'t correctly disclose her advertisements.\\nCome on!\\n#Sponsored!\\nDigital influencers are also designed to be \\'relatable\\'.\\nLil Miquela has captions like, \"Not posting my Spotify Wrapped \\'cause it\\'s all BlackPink\",\\nor that Thanksgiving is trash.\\nAnd this is of course very disturbing when you actually think about the\\npersonification of brands.\\nIt\\'s all over Twitter, every company brand account speaks like a person,\\nin a very \\'How do you do fellow kids?\\'\\nmeme kind of way.\\nI will say, though, Lil Miquela\\'s are probably\\nwritten by someone younger, so they don\\'t seem that out of place.\\nBut still...\\nMoving on, these virtual influencers are also self-proclaimed Activists.\\nLil\\' Miquela promotes voting & BLM, she donates to fundraisers.\\nI found this influencer named NooNoouri, whose bio says, \"Digital character, Activist, Vegan\".\\nShe did a sponsored post for BOSS Alive fragrance.\\nYes, the irony.\\nI was looking through her Instagram stories, and seeing all of this \\'activism\\', and it\\nis actually just such a weird, neoliberal nightmare.\\nto see a character\\'s account, run by a brand, trying to include Black Lives Matter as part\\nof its image, as part of its branding.\\nOn the surface, of course, this seems like a good thing, it\\'s promoting important information,\\ntrying to raise awareness.\\nBut again, this is all carefully orchestrated and part of branding the image\\nof an avatar that does not exist.\\nLook at this, the irony of a digital being posting hashtag \\'We are all the same\\'.\\nLike, WHO is behind these characters?\\nWho is potentially digitally cosplaying as a BIPOC avatar?\\nSO many questions...\\nNooNoouri also posted, \"Please, we are all humans\".\\nIs this a joke?\\nOr is this actually very subversive satire about performative activism?\\nWell, at least you could say that that\\'s potentially better than another digital influencer named\\nBermuda, who apparently was created as a pro-Trump \\'Robot Supremacist\\'...\\n\"Hello darkness, my old friend...\"\\nThis really is a nightmare.\\nSo, that brings me to this question.\\nWhat is the future of the influencer industry?\\nMany of these corporations and investors believe that digital and AI influencers are the future.\\nAccording to CBS, the digital influencer market is set to reach $2 Billion in the next 2 years.\\nAnd their goal is to have digital influencers across every social media platform, not just\\nInstagram, but also YouTube, Twitter, Tik-Tok, Twitch.\\nBy the way, there are also digital supermodels.\\nShudu is known as the world\\'s first digital supermodel, and she is signed with an agency\\nwhich is the world\\'s first all-digital modeling agency.\\nSo, there are some of those digital supermodels that do have their own social\\nmedia presence, but there are also some digital\\nmodels that are created specifically for ad campaigns,\\nand do not exist outside of that.\\nSo they\\'re essentially brand assets that they can\\nuse in whatever marketing materials they wish.\\n\"This year, Lil Miquela signed with CAA and is projected to earn over $10 Million!\"\\nI used to believe that performers and artists, including content creators, were kind of safe\\nfrom the threat of automation.\\nThere\\'s no way we\\'re gonna be replaced!\\nBut actually, that could happen!\\nEvery time a digital influencer is hired for a\\ncampaign, that is directly taking money away from real, human creators.\\nAnd especially those in marginalized communities that already might not have as many opportunities.\\nDigital influencers and models are being used for \\'diversity\\'.\\nThese brands want to \"represent\" BIPOC, LGBTQ+, body positive people, they wanna have\\nan inclusive image.\\nSo why not just hire REAL people who actually embody those identities?\\nJust- Just an idea.\\nJust a thought!\\nI\\'m getting heated...\\nLastly, I wanna touch on A.I.\\nInfluencers.\\nAnd I wanna make the distinction between Digital Influencers who are created by, run by, real\\npeople, brand teams, versus influencers that actually\\nrely on artificial intelligence.\\nHuman influencers must learn how to adapt to ever-changing algorithms, direct our content\\ntoward what\\'s popular, or what\\'s most appealing to our audiences.\\nAnd the human teams that run digital influencer accounts also have to do those same things.\\nBut wouldn\\'t AI influencers be much more effective at studying, learning from, and\\nresponding to these algorithms?\\nTherefore, they have a huge advantage over human creators and\\neven over the digital influencers.\\nLet me share my nightmare scenario: Assuming AI influencers only care about increasing\\nengagement and profit, and obviously they don\\'t have morals, or a conscience, because\\nthey\\'re the epitome of a capitalist creation of the attention economy....\\nare there ANY limits to what these AI influencers might do for attention?\\nI mean, we already have this problem with creators who don\\'t have much care or consideration\\nfor their content, or the impact, the consequences of what they do.\\nImagine, for example, the AI influencer notes how popular right-wing content is.\\nThe AI influencer falls down the rabbit hole, and soon, they\\'re joining the likes of Prager\\nU and creating right-wing propoganda.\\nWhy?\\nSimply because it feeds engagement and growth, and that\\'s the bottom line!\\nAnd actually, something like this has already happened...\\nMicrosoft launched a chat-bot named Tay in 2016 that was designed to Tweet like a teen.\\nIt was taken offline about a day later, after it began\\ntweeting out racist and sexist remarks that it\\'s AI\\npicked up from interacting on Twitter.\\nIn conclusion, I have raised just a few of the concerns that I have about these\\ndigital influencers and the impacts that they may have.\\nAnd not just selfishly, because they might take my job!\\nAnd right now it might be obvious which influencers are digital.\\nThey might look like a SIM, or maybe their bio says \\'Robot\\'.\\nBut many digital influencers today, and certainly many in the future, will be able to seamlessly\\nblend in with other, real human creators.\\nLegally and ethically I think it\\'s very important that these \\'digital beings\\' must disclose\\nthemselves as such.\\nEspecially if they\\'re selling anything.\\nWe also have to remember that young children are also encountering digital influencers,\\nlike Lil Miquela.\\n\"Of her millions of young followers, how many of them are fully conscious of her misrepresentation?\\nTruth in Advertising, the industry watchdog, is calling for FTC reform.\"\\nConsumers deserve to know whether a recommendation is coming from a corporate\\nteam, or a literal AI, rather than a person.\\nThere\\'s much more to say and explore about the potential impacts of these digital influencers,\\nor AI creators, but that is beyond the extent of this video essay.\\nSo, that is my video, it\\'s much shorter than my usual content because this project was\\nlimited to 10 minutes.\\nI added some extra stuff for this YouTube version, but yeah, that\\'s my project.\\nI was really glad to be able to do at least ONE\\nvideo project!\\nThis whole semester, I\\'ve been in ALL media and film courses.\\nI\\'ve written too many papers, and it was nice to be in my element,\\nat least for a minute.\\nLike I said, I only have one more final left, and is my brain completely squished right\\nnow?\\nYes.\\nBut, I\\'m gonna get through it, and then I will be done.\\nDONE!\\nDone with college!\\n()\\nThank you guys so much for watching this, if you watched the whole thing, please leave\\na comment.\\nWe\\'ve gotta feed the engagement! hahah I am an influencer, please buy my products!\\nBut again, thank you Green Chef for sponsoring this video,\\ncheck out the link in the description if you wanna check it out.\\nI fully realize all the irony of me, ya know, analyzing influencer culture and all of that,\\nas an influencer.\\nBut also, I think it\\'s important for us to be\\naware of our own industry, and again,\\nas a media studies major, I should be engaging with this type of content critically.\\nAnyway, I hope you guys enjoyed this, I\\'m gonna go now.\\nIf you\\'d like, you can check out my vlog channel, which is where I post other sorts\\nof more personal content.\\nI also have a Podcast called Previously Gifted.\\nBoth of these channels I will be a lot more active on in the next coming times.\\nThat is all.\\nK, thanks, bye!'"
      ]
     },
     "execution_count": 48,
     "metadata": {},
     "output_type": "execute_result"
    }
   ],
   "source": [
    "#eliminar cosas ()\n",
    "import re \n",
    "re.sub(\"([\\(\\[]).*?([\\)\\]])\", \"\\g<1>\\g<2>\", contents)"
   ]
  },
  {
   "cell_type": "code",
   "execution_count": 49,
   "id": "cd9dd9bf-b5ef-4505-8c67-ad3b187aea16",
   "metadata": {},
   "outputs": [],
   "source": [
    "#importando librerias\n",
    "import spacy\n",
    "import nltk\n",
    "import string"
   ]
  },
  {
   "cell_type": "code",
   "execution_count": 50,
   "id": "4e2fce56-63cb-495b-aaf8-fa7feae6b852",
   "metadata": {},
   "outputs": [
    {
     "name": "stderr",
     "output_type": "stream",
     "text": [
      "[nltk_data] Downloading package punkt to\n",
      "[nltk_data]     C:\\Users\\pauba\\AppData\\Roaming\\nltk_data...\n",
      "[nltk_data]   Package punkt is already up-to-date!\n"
     ]
    },
    {
     "data": {
      "text/plain": [
       "True"
      ]
     },
     "execution_count": 50,
     "metadata": {},
     "output_type": "execute_result"
    }
   ],
   "source": [
    "nltk.download('punkt')"
   ]
  },
  {
   "cell_type": "code",
   "execution_count": 51,
   "id": "009bca75-0ad1-4422-bf45-0db329b662d1",
   "metadata": {},
   "outputs": [],
   "source": [
    "#dividir por salto de linea\n",
    "contents= contents.split('\\n')"
   ]
  },
  {
   "cell_type": "code",
   "execution_count": 52,
   "id": "09aff06e-63fd-47fc-a975-6d2ecb5dd082",
   "metadata": {},
   "outputs": [],
   "source": [
    "#cortando lineas que no nos interesan (intro y outro)\n",
    "contents = contents[2:]"
   ]
  },
  {
   "cell_type": "code",
   "execution_count": 53,
   "id": "42d62326-be95-4b3d-817f-a1bfbe6bc0ff",
   "metadata": {},
   "outputs": [
    {
     "data": {
      "text/plain": [
       "267"
      ]
     },
     "execution_count": 53,
     "metadata": {},
     "output_type": "execute_result"
    }
   ],
   "source": [
    "len(contents)"
   ]
  },
  {
   "cell_type": "code",
   "execution_count": 54,
   "id": "8e55a994-1e4e-4978-b295-b4d76199b7d1",
   "metadata": {},
   "outputs": [],
   "source": [
    "contents= contents[:260]"
   ]
  },
  {
   "cell_type": "code",
   "execution_count": 55,
   "id": "2510c493-7857-46ca-9a32-cddbf7b058db",
   "metadata": {},
   "outputs": [],
   "source": [
    "#dividir en oraciones, importar la funcion\n",
    "from nltk import sent_tokenize"
   ]
  },
  {
   "cell_type": "code",
   "execution_count": 56,
   "id": "34f16613-b9c2-4ec3-9a90-b9097145f6c0",
   "metadata": {},
   "outputs": [],
   "source": [
    "#dividir en oraciones\n",
    "sentences = []\n",
    "for sentence in contents:\n",
    "    sent_token = sent_tokenize(sentence)\n",
    "    sentences+=[sent_token]"
   ]
  },
  {
   "cell_type": "code",
   "execution_count": 57,
   "id": "3ba60933-2a54-4a8d-9400-618c95b1cd43",
   "metadata": {},
   "outputs": [
    {
     "data": {
      "text/plain": [
       "[['Today I wanna discuss Digital Influencers, Artificial Influencers.'],\n",
       " [\"Lil Miquela, if you're familiar?\"],\n",
       " [\"We'll get into it.\"],\n",
       " ['This was actually written as a project for one'],\n",
       " ['of my media courses, but I thought I would'],\n",
       " [\"knock out two birds with one stone, and share what I've discovered with you guys.\"],\n",
       " [\"I'm actually now just one final paper away from graduating with my Bachelor's Degree!\"],\n",
       " ['FINALLY!'],\n",
       " ['So, you guys can expect a lot more uploads in the next year, and forever after that.'],\n",
       " [\"BUT, before we jump into today's video, I've gotta give a shout-out to today's sponsor,\"],\n",
       " ['Green Chef.'],\n",
       " ['During quarantine I have been cooking most of my meals at home,'],\n",
       " ['other than the occasional take-out.'],\n",
       " [\"But honestly, I've gotten very bored and uninspired.\"],\n",
       " ['Sometimes I just want something new, to mix things up, ya know?']]"
      ]
     },
     "execution_count": 57,
     "metadata": {},
     "output_type": "execute_result"
    }
   ],
   "source": [
    "sentences[:15]"
   ]
  },
  {
   "cell_type": "code",
   "execution_count": 58,
   "id": "2cab91a6-580d-477e-9af2-f5a533a787f8",
   "metadata": {},
   "outputs": [
    {
     "data": {
      "text/plain": [
       "260"
      ]
     },
     "execution_count": 58,
     "metadata": {},
     "output_type": "execute_result"
    }
   ],
   "source": [
    "#numero de oraciones\n",
    "len(sentences)"
   ]
  },
  {
   "cell_type": "code",
   "execution_count": 59,
   "id": "796cb18d-a852-45d0-a99b-7d4365b7ccca",
   "metadata": {},
   "outputs": [],
   "source": [
    "#aplanar la lista de strings\n",
    "flat_sentences = []\n",
    "for item in sentences:\n",
    "        for word in item:\n",
    "            flat_sentences+=[word]"
   ]
  },
  {
   "cell_type": "code",
   "execution_count": 60,
   "id": "e155e649-9285-49a2-ae09-7ffb83df3597",
   "metadata": {},
   "outputs": [],
   "source": [
    "#palabras en minuscula\n",
    "flat_sentences_lower =[]\n",
    "\n",
    "for sentence in flat_sentences:\n",
    "    flat_sentences_lower+=[sentence.lower()]"
   ]
  },
  {
   "cell_type": "code",
   "execution_count": 61,
   "id": "c608cc60-67d1-4606-8fcd-f2afc17f62e2",
   "metadata": {},
   "outputs": [],
   "source": [
    "#remover puntuacion\n",
    "def remove_punctuation(self,text):\n",
    "    \"\"\" Get rid of punctuation except apostrophes \"\"\"\n",
    "    return re.sub(r\"[^\\P{P}\\']+\", \"\", text)"
   ]
  },
  {
   "cell_type": "code",
   "execution_count": 62,
   "id": "e9416eb8-e806-4ccd-808d-d4cac3f52a4a",
   "metadata": {},
   "outputs": [
    {
     "ename": "TypeError",
     "evalue": "remove_punctuation() missing 1 required positional argument: 'text'",
     "output_type": "error",
     "traceback": [
      "\u001b[1;31m---------------------------------------------------------------------------\u001b[0m",
      "\u001b[1;31mTypeError\u001b[0m                                 Traceback (most recent call last)",
      "\u001b[1;32m<ipython-input-62-759b3f189a0b>\u001b[0m in \u001b[0;36m<module>\u001b[1;34m\u001b[0m\n\u001b[0;32m      2\u001b[0m \u001b[1;33m\u001b[0m\u001b[0m\n\u001b[0;32m      3\u001b[0m \u001b[1;32mfor\u001b[0m \u001b[0mpunto\u001b[0m \u001b[1;32min\u001b[0m \u001b[0mflat_sentences_lower\u001b[0m\u001b[1;33m:\u001b[0m\u001b[1;33m\u001b[0m\u001b[1;33m\u001b[0m\u001b[0m\n\u001b[1;32m----> 4\u001b[1;33m     \u001b[0mflat_sentences_nopunc\u001b[0m\u001b[1;33m+=\u001b[0m\u001b[1;33m[\u001b[0m\u001b[0mremove_punctuation\u001b[0m\u001b[1;33m(\u001b[0m\u001b[0mflat_sentences_lower\u001b[0m\u001b[1;33m)\u001b[0m\u001b[1;33m]\u001b[0m\u001b[1;33m\u001b[0m\u001b[1;33m\u001b[0m\u001b[0m\n\u001b[0m",
      "\u001b[1;31mTypeError\u001b[0m: remove_punctuation() missing 1 required positional argument: 'text'"
     ]
    }
   ],
   "source": [
    "flat_sentences_nopunc =[]\n",
    "\n",
    "for punto in flat_sentences_lower:\n",
    "    flat_sentences_nopunc+=[remove_punctuation(flat_sentences_lower)]"
   ]
  },
  {
   "cell_type": "code",
   "execution_count": null,
   "id": "d5bf297a-9162-4f9d-87d7-12b1e0c3c5b0",
   "metadata": {},
   "outputs": [],
   "source": []
  },
  {
   "cell_type": "code",
   "execution_count": null,
   "id": "f3e7b033-4aae-4902-b27e-8af6603b8e82",
   "metadata": {},
   "outputs": [],
   "source": []
  }
 ],
 "metadata": {
  "kernelspec": {
   "display_name": "Python 3",
   "language": "python",
   "name": "python3"
  },
  "language_info": {
   "codemirror_mode": {
    "name": "ipython",
    "version": 3
   },
   "file_extension": ".py",
   "mimetype": "text/x-python",
   "name": "python",
   "nbconvert_exporter": "python",
   "pygments_lexer": "ipython3",
   "version": "3.8.8"
  }
 },
 "nbformat": 4,
 "nbformat_minor": 5
}
