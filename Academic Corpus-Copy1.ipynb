{
 "cells": [
  {
   "cell_type": "code",
   "execution_count": 48,
   "id": "46f66689-95d3-41d7-bed2-b5fb41cfb504",
   "metadata": {},
   "outputs": [],
   "source": [
    "#leyendo texto 1 de prueba\n",
    "with open('Academic/nf0069.txt') as f:\n",
    "    contents=f.read()"
   ]
  },
  {
   "cell_type": "code",
   "execution_count": 49,
   "id": "402931af-666f-406f-93c6-507dc9ef1283",
   "metadata": {},
   "outputs": [],
   "source": [
    "##quitar cosas () y []\n",
    "def a(test_str):\n",
    "    ret = ''\n",
    "    skip1c = 0\n",
    "    skip2c = 0\n",
    "    for i in test_str:\n",
    "        if i == '[':\n",
    "            skip1c += 1\n",
    "        elif i == '(':\n",
    "            skip2c += 1\n",
    "        elif i == ']' and skip1c > 0:\n",
    "            skip1c -= 1\n",
    "        elif i == ')'and skip2c > 0:\n",
    "            skip2c -= 1\n",
    "        elif skip1c == 0 and skip2c == 0:\n",
    "            ret += i\n",
    "    return ret"
   ]
  },
  {
   "cell_type": "code",
   "execution_count": 50,
   "id": "1f36376d-5e73-4c7e-9484-4deb5ff27d5d",
   "metadata": {},
   "outputs": [],
   "source": [
    "contents = a(contents)"
   ]
  },
  {
   "cell_type": "code",
   "execution_count": 51,
   "id": "f743ede8-6903-4b79-bb8f-d89e18433842",
   "metadata": {},
   "outputs": [],
   "source": [
    "#dividir por salto de linea\n",
    "contents= contents.split('\\n')"
   ]
  },
  {
   "cell_type": "code",
   "execution_count": 52,
   "id": "93e11fbb-c7c5-4b87-b9bb-445f7151884c",
   "metadata": {},
   "outputs": [
    {
     "data": {
      "text/plain": [
       "['nf0069: when talking about the French gangster film very often and ',\n",
       " \"paradoxically in French one talks about the policier that's the name of the \",\n",
       " 'genre so when you you see the word policier er I-E police which relates to the ',\n",
       " \"police it doesn't necessarily mean that it's to do with a police film or police \",\n",
       " \"procedure as the you have in the American genres but it's co-, covers all er \",\n",
       " 'virtually all the films er to do with crime er pretty much from the nineteen-',\n",
       " 'fifties onwards so er a gangster film and a police film will both be called ',\n",
       " \"policier in French and sometimes you'll see the in slang this becomes polar er \",\n",
       " \"i'm sorry i hope it's not too awkward if i move er polar is P-O-L-A-R er is yep \",\n",
       " 'sf0070: sorry ',\n",
       " \"nf0069: okay we're just beginning polar is the slang word for policier so le \",\n",
       " 'polar refers to the genre of the police crime gangster movie in French er ',\n",
       " 'specifically from the nineteen-fifties late forties fifties onwards and so that ',\n",
       " 'i will ',\n",
       " 'talk today about a particular genre or subgenre of French crime films and film ']"
      ]
     },
     "execution_count": 52,
     "metadata": {},
     "output_type": "execute_result"
    }
   ],
   "source": [
    "contents[:15]"
   ]
  },
  {
   "cell_type": "code",
   "execution_count": 53,
   "id": "4ef2d9cb-3d8e-4970-88a6-09973b6659dd",
   "metadata": {},
   "outputs": [
    {
     "data": {
      "text/plain": [
       "578"
      ]
     },
     "execution_count": 53,
     "metadata": {},
     "output_type": "execute_result"
    }
   ],
   "source": [
    "len(contents)"
   ]
  },
  {
   "cell_type": "code",
   "execution_count": 54,
   "id": "7d017f88-9694-4ef2-bce5-9c3ee0731281",
   "metadata": {},
   "outputs": [],
   "source": [
    "#dividir en oraciones, importar la funcion\n",
    "from nltk import sent_tokenize\n",
    "\n",
    "#dividir en oraciones\n",
    "sentences = []\n",
    "for sentence in contents:\n",
    "    sent_token = sent_tokenize(sentence)\n",
    "    sentences+=[sent_token]"
   ]
  },
  {
   "cell_type": "code",
   "execution_count": 55,
   "id": "c49fd659-83f4-4127-81a4-dd7903c32579",
   "metadata": {},
   "outputs": [
    {
     "data": {
      "text/plain": [
       "True"
      ]
     },
     "execution_count": 55,
     "metadata": {},
     "output_type": "execute_result"
    }
   ],
   "source": [
    "terminacion = 'ment', 'tion', 'sion', 'ibility', 'ity', 'ness', 'al', 'ing'\n",
    "s='involvement'\n",
    "s.endswith(terminacion)"
   ]
  },
  {
   "cell_type": "code",
   "execution_count": 56,
   "id": "ed64e647-db2f-4e11-be22-f2d383da2373",
   "metadata": {},
   "outputs": [
    {
     "data": {
      "text/plain": [
       "0"
      ]
     },
     "execution_count": 56,
     "metadata": {},
     "output_type": "execute_result"
    }
   ],
   "source": [
    "nominalization = []\n",
    "for oracion in contents:\n",
    "    for term in terminacion:\n",
    "        for word in oracion:\n",
    "            if word.endswith(terminacion):\n",
    "                nominalization +=[word]\n",
    "len(nominalization)                "
   ]
  },
  {
   "cell_type": "code",
   "execution_count": 40,
   "id": "be165311-2074-48bc-b4f1-89747921335f",
   "metadata": {},
   "outputs": [
    {
     "data": {
      "text/plain": [
       "2.422145328719723"
      ]
     },
     "execution_count": 40,
     "metadata": {},
     "output_type": "execute_result"
    }
   ],
   "source": [
    "len(nominalization)/len(contents)*100"
   ]
  },
  {
   "cell_type": "code",
   "execution_count": 10,
   "id": "1655b5a4-0997-4fea-acf5-01949a50de97",
   "metadata": {},
   "outputs": [],
   "source": [
    "#aplanar la lista de strings\n",
    "flat_sentences = []\n",
    "for item in sentences:\n",
    "        for word in item:\n",
    "            flat_sentences+=[word]"
   ]
  },
  {
   "cell_type": "code",
   "execution_count": 11,
   "id": "f5d55da1-c3c7-44e4-92b0-3537cb9d1882",
   "metadata": {},
   "outputs": [],
   "source": [
    "#remover puntuación\n",
    "import re\n",
    "\n",
    "def remove_punctuation(s):\n",
    "    return re.sub(r'[^\\w\\s]','',s)"
   ]
  },
  {
   "cell_type": "code",
   "execution_count": 12,
   "id": "fe6362f5-0595-48e9-99d7-1d27fc2714f3",
   "metadata": {},
   "outputs": [],
   "source": [
    "flat_sentences_nopunc =[]\n",
    "\n",
    "for sent in flat_sentences:\n",
    "    flat_sentences_nopunc+=[remove_punctuation(sent)]"
   ]
  },
  {
   "cell_type": "code",
   "execution_count": 13,
   "id": "8c6c22f2-f4f2-46a1-aa89-d524980ca780",
   "metadata": {},
   "outputs": [
    {
     "data": {
      "text/plain": [
       "['nf0069 when talking about the French gangster film very often and',\n",
       " 'paradoxically in French one talks about the policier thats the name of the',\n",
       " 'genre so when you you see the word policier er IE police which relates to the',\n",
       " 'police it doesnt necessarily mean that its to do with a police film or police',\n",
       " 'procedure as the you have in the American genres but its co covers all er',\n",
       " 'virtually all the films er to do with crime er pretty much from the nineteen',\n",
       " 'fifties onwards so er a gangster film and a police film will both be called',\n",
       " 'policier in French and sometimes youll see the in slang this becomes polar er',\n",
       " 'im sorry i hope its not too awkward if i move er polar is POLAR er is yep',\n",
       " 'sf0070 sorry',\n",
       " 'nf0069 okay were just beginning polar is the slang word for policier so le',\n",
       " 'polar refers to the genre of the police crime gangster movie in French er',\n",
       " 'specifically from the nineteenfifties late forties fifties onwards and so that',\n",
       " 'i will',\n",
       " 'talk today about a particular genre or subgenre of French crime films and film']"
      ]
     },
     "execution_count": 13,
     "metadata": {},
     "output_type": "execute_result"
    }
   ],
   "source": [
    "flat_sentences_nopunc[:15]"
   ]
  },
  {
   "cell_type": "code",
   "execution_count": 14,
   "id": "85693a6c-b350-40d0-ba8f-4c2b35e4ddd4",
   "metadata": {},
   "outputs": [
    {
     "data": {
      "text/plain": [
       "True"
      ]
     },
     "execution_count": 14,
     "metadata": {},
     "output_type": "execute_result"
    }
   ],
   "source": [
    "terminacion = 'ment', 'tion', 'sion', 'ibility', 'ity', 'ness', 'al', 'ing'\n",
    "s='involvement'\n",
    "s.endswith(terminacion)"
   ]
  },
  {
   "cell_type": "code",
   "execution_count": 16,
   "id": "d7f9432d-f387-401d-811f-27822a65640b",
   "metadata": {},
   "outputs": [],
   "source": [
    "#dividir en oraciones\n",
    "sentences2 = []\n",
    "for sentence in flat_sentences_nopunc:\n",
    "    sent_token = sent_tokenize(sentence)\n",
    "    sentences2+=[sent_token]"
   ]
  },
  {
   "cell_type": "code",
   "execution_count": 17,
   "id": "87ea2edd-1913-4252-83f3-97d185a3a05d",
   "metadata": {},
   "outputs": [
    {
     "ename": "AttributeError",
     "evalue": "'str' object has no attribute 'endwith'",
     "output_type": "error",
     "traceback": [
      "\u001b[1;31m---------------------------------------------------------------------------\u001b[0m",
      "\u001b[1;31mAttributeError\u001b[0m                            Traceback (most recent call last)",
      "\u001b[1;32m<ipython-input-17-91dfabae46f1>\u001b[0m in \u001b[0;36m<module>\u001b[1;34m\u001b[0m\n\u001b[0;32m      2\u001b[0m \u001b[1;32mfor\u001b[0m \u001b[0moracion\u001b[0m \u001b[1;32min\u001b[0m \u001b[0mflat_sentences_nopunc\u001b[0m\u001b[1;33m:\u001b[0m\u001b[1;33m\u001b[0m\u001b[1;33m\u001b[0m\u001b[0m\n\u001b[0;32m      3\u001b[0m     \u001b[1;32mfor\u001b[0m \u001b[0mword\u001b[0m \u001b[1;32min\u001b[0m \u001b[0moracion\u001b[0m\u001b[1;33m:\u001b[0m\u001b[1;33m\u001b[0m\u001b[1;33m\u001b[0m\u001b[0m\n\u001b[1;32m----> 4\u001b[1;33m         \u001b[1;32mif\u001b[0m \u001b[0mword\u001b[0m\u001b[1;33m.\u001b[0m\u001b[0mendwith\u001b[0m\u001b[1;33m(\u001b[0m\u001b[0mterminacion\u001b[0m\u001b[1;33m)\u001b[0m\u001b[1;33m:\u001b[0m\u001b[1;33m\u001b[0m\u001b[1;33m\u001b[0m\u001b[0m\n\u001b[0m\u001b[0;32m      5\u001b[0m             \u001b[0mnominalization\u001b[0m \u001b[1;33m+=\u001b[0m\u001b[1;33m[\u001b[0m\u001b[0mword\u001b[0m\u001b[1;33m]\u001b[0m\u001b[1;33m\u001b[0m\u001b[1;33m\u001b[0m\u001b[0m\n",
      "\u001b[1;31mAttributeError\u001b[0m: 'str' object has no attribute 'endwith'"
     ]
    }
   ],
   "source": [
    "nominalization = []\n",
    "for oracion in flat_sentences_nopunc:\n",
    "    for word in oracion:\n",
    "        if word.endwith(terminacion):\n",
    "            nominalization +=[word]\n"
   ]
  },
  {
   "cell_type": "code",
   "execution_count": null,
   "id": "29f3d18a-d689-4508-94b5-e19e3f1bd79d",
   "metadata": {},
   "outputs": [],
   "source": []
  }
 ],
 "metadata": {
  "kernelspec": {
   "display_name": "Python 3",
   "language": "python",
   "name": "python3"
  },
  "language_info": {
   "codemirror_mode": {
    "name": "ipython",
    "version": 3
   },
   "file_extension": ".py",
   "mimetype": "text/x-python",
   "name": "python",
   "nbconvert_exporter": "python",
   "pygments_lexer": "ipython3",
   "version": "3.8.8"
  }
 },
 "nbformat": 4,
 "nbformat_minor": 5
}
