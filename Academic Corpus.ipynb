{
 "cells": [
  {
   "cell_type": "code",
   "execution_count": 1,
   "id": "46f66689-95d3-41d7-bed2-b5fb41cfb504",
   "metadata": {},
   "outputs": [],
   "source": [
    "#leyendo texto 1 de prueba\n",
    "#este en realidad ya no sirve pero lo dejo como evidencia de que se hizo prueba con este texto\n",
    "\n",
    "with open('Academic/nf0069.txt') as f:\n",
    "    contents=f.read()"
   ]
  },
  {
   "cell_type": "code",
   "execution_count": null,
   "id": "578dae1f-22b0-41b1-87b0-275d47d23303",
   "metadata": {},
   "outputs": [],
   "source": []
  },
  {
   "cell_type": "markdown",
   "id": "d730e506-ce3e-4104-ba96-08169f07a1ae",
   "metadata": {},
   "source": [
    "## código nuevo"
   ]
  },
  {
   "cell_type": "code",
   "execution_count": 43,
   "id": "280799ca-b5d3-44a9-8316-454e9ccd2a36",
   "metadata": {},
   "outputs": [],
   "source": [
    "##Abriendo corpus\n",
    "import glob\n",
    "\n",
    "lista_files = glob.glob('Academic/*.txt')\n",
    "corpus = []\n",
    "\n",
    "for file in lista_files:\n",
    "    with open(file, 'r', encoding='utf8') as f:\n",
    "        corpus+=[f.read()]"
   ]
  },
  {
   "cell_type": "code",
   "execution_count": 44,
   "id": "e50a9481-fb33-42aa-9fdd-a87be91a9cfc",
   "metadata": {},
   "outputs": [
    {
     "data": {
      "text/plain": [
       "8"
      ]
     },
     "execution_count": 44,
     "metadata": {},
     "output_type": "execute_result"
    }
   ],
   "source": [
    "## número de textos\n",
    "\n",
    "len(corpus)"
   ]
  },
  {
   "cell_type": "code",
   "execution_count": 45,
   "id": "9e4ca694-fd55-4fef-8429-76873bdd319c",
   "metadata": {},
   "outputs": [
    {
     "data": {
      "text/plain": [
       "\"nf0069: when talking about the French gangster film very often and \\nparadoxically in French one talks about the policier that's the name of the \\ngenre so when you you see the word policier er I-E police which relates to the \\npolice it doesn't necessa\""
      ]
     },
     "execution_count": 45,
     "metadata": {},
     "output_type": "execute_result"
    }
   ],
   "source": [
    "corpus[0][:250]"
   ]
  },
  {
   "cell_type": "code",
   "execution_count": 46,
   "id": "9d386d12-25cc-4639-b268-2431e21c9d02",
   "metadata": {},
   "outputs": [],
   "source": [
    "#importando librerias\n",
    "import spacy\n",
    "import nltk\n",
    "import string"
   ]
  },
  {
   "cell_type": "code",
   "execution_count": 47,
   "id": "5e42abac-df96-41e7-81d9-20ae160809c4",
   "metadata": {},
   "outputs": [
    {
     "name": "stderr",
     "output_type": "stream",
     "text": [
      "[nltk_data] Downloading package punkt to\n",
      "[nltk_data]     C:\\Users\\pauba\\AppData\\Roaming\\nltk_data...\n",
      "[nltk_data]   Package punkt is already up-to-date!\n"
     ]
    },
    {
     "data": {
      "text/plain": [
       "True"
      ]
     },
     "execution_count": 47,
     "metadata": {},
     "output_type": "execute_result"
    }
   ],
   "source": [
    "nltk.download('punkt')"
   ]
  },
  {
   "cell_type": "code",
   "execution_count": 48,
   "id": "1ec6727e-e629-4947-b723-c3226af63a7d",
   "metadata": {},
   "outputs": [],
   "source": [
    "#eliminar () y []\n",
    "def a(test_str):\n",
    "    ret = ''\n",
    "    skip1c = 0\n",
    "    skip2c = 0\n",
    "    for i in test_str:\n",
    "        if i == '[':\n",
    "            skip1c += 1\n",
    "        elif i == '(':\n",
    "            skip2c += 1\n",
    "        elif i == ']' and skip1c > 0:\n",
    "            skip1c -= 1\n",
    "        elif i == ')'and skip2c > 0:\n",
    "            skip2c -= 1\n",
    "        elif skip1c == 0 and skip2c == 0:\n",
    "            ret += i\n",
    "    return ret"
   ]
  },
  {
   "cell_type": "code",
   "execution_count": 49,
   "id": "5832246c-2b4d-4d97-8a83-bbb941fcb514",
   "metadata": {},
   "outputs": [],
   "source": [
    "## aplicamos la función \"a\" a cada texto del corpus\n",
    "\n",
    "corpus = [a(c) for c in corpus]"
   ]
  },
  {
   "cell_type": "code",
   "execution_count": 50,
   "id": "05f5cdc7-3a9f-45e9-83d9-a32e8e9dec3e",
   "metadata": {},
   "outputs": [
    {
     "data": {
      "text/plain": [
       "\"nf0069: when talking about the French gangster film very often and \\nparadoxically in French one talks about the policier that's the name of the \\ngenre so when you you see the word policier er I-E police which relates to the \\npolice it doesn't necessa\""
      ]
     },
     "execution_count": 50,
     "metadata": {},
     "output_type": "execute_result"
    }
   ],
   "source": [
    "corpus[0][:250]"
   ]
  },
  {
   "cell_type": "code",
   "execution_count": 51,
   "id": "d615c67a-a170-4bd4-8d41-82e7c22a7ecd",
   "metadata": {},
   "outputs": [],
   "source": [
    "#dividir por salto de linea (cada texto)\n",
    "corpus = [c.replace('♪','').split('\\n') for c in corpus]"
   ]
  },
  {
   "cell_type": "code",
   "execution_count": 52,
   "id": "793279cf-23fd-4c5c-8186-2546d9b9691d",
   "metadata": {},
   "outputs": [
    {
     "data": {
      "text/plain": [
       "['nf0069: when talking about the French gangster film very often and ',\n",
       " \"paradoxically in French one talks about the policier that's the name of the \",\n",
       " 'genre so when you you see the word policier er I-E police which relates to the ',\n",
       " \"police it doesn't necessarily mean that it's to do with a police film or police \",\n",
       " \"procedure as the you have in the American genres but it's co-, covers all er \"]"
      ]
     },
     "execution_count": 52,
     "metadata": {},
     "output_type": "execute_result"
    }
   ],
   "source": [
    "corpus[0][:5]"
   ]
  },
  {
   "cell_type": "code",
   "execution_count": 53,
   "id": "50f26bc3-f83b-4295-ba59-6baddc54f716",
   "metadata": {},
   "outputs": [],
   "source": [
    "#eliminamos strings vacíos (cada texto)\n",
    "\n",
    "corpus = [[sentence.strip() for sentence in c if len(sentence)>0] for c in corpus]"
   ]
  },
  {
   "cell_type": "code",
   "execution_count": 54,
   "id": "1f564df9-7d0c-42f3-b5f2-baa2ac20eb2a",
   "metadata": {},
   "outputs": [],
   "source": [
    "# volvemos a juntar las oraciones :)\n",
    "\n",
    "corpus = [' '.join(c) for c in corpus]"
   ]
  },
  {
   "cell_type": "code",
   "execution_count": 55,
   "id": "8d22e8a8-7cbb-4411-9d63-4f1aa57f190b",
   "metadata": {},
   "outputs": [
    {
     "data": {
      "text/plain": [
       "\"nf0069: when talking about the French gangster film very often and paradoxically in French one talks about the policier that's the name of the genre so when you you see the word policier er I-E police which relates to the police it doesn't necessaril\""
      ]
     },
     "execution_count": 55,
     "metadata": {},
     "output_type": "execute_result"
    }
   ],
   "source": [
    "corpus[0][:250]"
   ]
  },
  {
   "cell_type": "code",
   "execution_count": 56,
   "id": "7b748350-3c2f-4054-9913-6a66b7bf85c8",
   "metadata": {},
   "outputs": [],
   "source": [
    "#dividir en oraciones, importar la funcion\n",
    "from nltk import sent_tokenize"
   ]
  },
  {
   "cell_type": "code",
   "execution_count": 57,
   "id": "0d146bc3-2578-410a-b94d-08f8c89658f8",
   "metadata": {},
   "outputs": [],
   "source": [
    "#dividir en oraciones cada texto\n",
    "sentence_list = []\n",
    "for texto in corpus:\n",
    "    sentences = sent_tokenize(texto)\n",
    "    sentence_list+=[sentences]"
   ]
  },
  {
   "cell_type": "code",
   "execution_count": 58,
   "id": "41c5fd41-f3be-4686-b39b-36bc7cc54a42",
   "metadata": {},
   "outputs": [
    {
     "data": {
      "text/plain": [
       "8"
      ]
     },
     "execution_count": 58,
     "metadata": {},
     "output_type": "execute_result"
    }
   ],
   "source": [
    "len(sentence_list)"
   ]
  },
  {
   "cell_type": "code",
   "execution_count": 59,
   "id": "6a7d4ce2-7b38-473f-a01b-5c81bae4f8f3",
   "metadata": {
    "scrolled": true,
    "tags": []
   },
   "outputs": [
    {
     "data": {
      "text/plain": [
       "[\"nf0069: when talking about the French gangster film very often and paradoxically in French one talks about the policier that's the name of the genre so when you you see the word policier er I-E police which relates to the police it doesn't necessarily mean that it's to do with a police film or police procedure as the you have in the American genres but it's co-, covers all er virtually all the films er to do with crime er pretty much from the nineteen- fifties onwards so er a gangster film and a police film will both be called policier in French and sometimes you'll see the in slang this becomes polar er i'm sorry i hope it's not too awkward if i move er polar is P-O-L-A-R er is yep sf0070: sorry nf0069: okay we're just beginning polar is the slang word for policier so le polar refers to the genre of the police crime gangster movie in French er specifically from the nineteen-fifties late forties fifties onwards and so that i will talk today about a particular genre or subgenre of French crime films and film noir which arises in the mid-fifties especially with three key movies which are the ones that are at the top of your handout er and that is Touchez pas au Grisbi which i'll refer to as Grisbi er Du Rififi Chez les Hommes ri-, Rififi and er Bob le Flambeur the film you're going to see this afternoon er okay and er the theme of the lecture in a sense will be that of hybridity and especially hybridity between French and American culture French and America cinema er and to start starting with literature so that if you look at the bottom of your handout there's er a kind of s-, skeleton of the er lecture and er i will start with the literary origins of the genre because er when it comes to those gangster films those policiers of the mid-fifties starting particularly with Touchez pas au Grisbi but also some Eddie Constantine movies er earlier on er they are films which are very directly related to er literature to crime literature and in particular the famous Serie Noire er which i've already mentioned which was an imprint of the er French publisher Gallimard er which started at the er immediately at the end of the war and has remained extremely successful i brought you so just to make you er like to one of these to show you er this is an original Serie Noire book er it's very precious to me it actually happens to be the one on which er Goddard's film Pierrot le Fou is very loosely based er in English or American it's called Obsession and this one in French it's called Le DÃ©mon d'Onze Heures if you read it it's very very distantly related to Pierrot le Fou in case you know that film er but i just wanted to show you er the cover that is the original cover er of the Serie Noire and as you can see it's the the background is black and it uses red er yellow lettering er and the series was founded by Marcel Duhamel his name is on your er er handout who was er an ex-member of the surrealist group in the nineteen-twenties and he was very er much linked to the surrealists throughout the twenties and the thirties and James Naremore in the book More than Night which i've already quoted from says that er er Duhamel was particularly er interested in er the researches into sexuality which the surrealists conducted er during the the twenties and early nineteen-thirties and in the American hard- boiled er thriller what the surrealists saw as i've already mentioned was er this notion of eroticized crime whi-, su-, subverting as it were er the fabric of bourgeois society so that er one can see then the relationship er directed to the surrealists through the person of Duhamel er who then in forty-six begins the series of the Serie Noire and the Serie Noire published primar-, initially primarily American writers in translation and famously it always says underneath traduit de l'Americain translated from the American not from the English er even though sometimes some of the writers were British but er and also famously a number of French writers wrote for the Serie Noire under American pseudonyms er such was the the aura of so they pretended er to translate work into French from the American which in fact they had written into French in the first place but the the the basis of the Serie Noire was to to publish to translate and publish American writers and Duhamel encouraged also people like Chester Himes for example to to write for the series er Duhamel one finds also linked to the cinema er in two ways one is that he was he he appears in a number of films by Jean Renoir in the thirties as an actor and also he wri-, he wrote the preface to the book on film noir by Borde and Chaumeton fa-, book that's already been mentioned er several times er and i think i er also wanted to show you the the cover er and also the cover of another er Gallimard book to make the point that which i think is is very telling the design of that series is that the book combined the kind of sobriety of Gallimard publishing this is this was Gallimard very famous literary er imprint looks like this is er a copy of er a book by Marcel Proust but i could have picked up any they all look the same they have the this cream background and the red lettering and this this this design hasn't changed er throughout the century practically and there is that sense of classicism sobriety and what one sees here i think is is the a kind of mixture of that sobriety and classicism with the lurid colours of pulp fiction the black and the yellow er colours which tend to appear on a number of artefacts to to around crime and it this is er this is some press material for a film called Du Rififi Chez les Femmes which was er a kind of rip off as it were and and follow up to Rififi Chez les Hommes and you see that the black and white background and the and the lurid er yellow colour so er and the er the reason why er i'm talking about the er the Serie Noire writers er in relation to the films is is that they are on the one hand those indirect connections through Duhamel between surrealism er literary culture and the cinema but also because the three films we're talking about were directly based on or written by er writers from the Serie Noire and in particular you have it on your er handout er Albert Simonin er who wrote Touchez pas au Grisbi er and i have here the the book Touchez pas au Grisbi alas it's not an original Serie Noire it's a vulgar folio reprint of the late eight-, eighties but and you can see that on the cover what they've put is a a kind of er a graphic version of er Gabin Jeanne Moreau in the film er so that's the s-, sort of obvious er connection to the movie for the readers of the eighties er but er Simonin then wrote er Touchez pas au Grisbi in slang and er the the the book was adapted to the film that you've saw you've seen this morning and Auguste Le Breton wrote er Rififi and he wrote the dialogues of Bob le Flambeur which you will see this afternoon er after the lecture and the the importance of Le Breton of those writers in the fifties is shown by the fact that er Jean-Pierre Melville the director of Bob le Flambeur has er said that he used Le Breton as a marketing ploy that er at the time he made Bob le Flambeur in nineteen-fifty- five fifty-six er he was not a well known director the film doesn't have a star unlike Grisbi which had Jean Gabin the star of Bob le Flambeur in nineteen- fifty-six was Auguste Le Breton that's the name that sold the movie today of course er it's Jean-Pierre Melville's name which which is prominent but at the time er Melville recognized that he needed er Le Breton in order to er to sell his film and Le Breton wrote the dialogue er in the slang which was accustomed to er the writers of the Serie Noire in French okay just a word then about er language er and and that is that er tho-, those books were written in slang er in the argot that's the French word for slang er but you you'll come across it a number of times er which er was a a kind of romanticized version of crooks' slang er which has a long history er in in French language going back to the late Middle Ages er and which was revived in the nineteenth century by a number of classic writers like Victor Hugo but also er some of the writers of the popular novels which were the antecedents of the crime novels people like EugÃ¨ne Sue his name is written on the er on the handout so that er that sla-, slang if you like had lo-, very er old history and and er distant origins in French language er and went through a number of revivals and in the post-war period went through a particularly dramatic revival through the writers of the of the Serie Noire and the importance of the slang er is is on is felt on many levels and it's it advertises itself immediately from the titles of the film so for the French audience of the mid-fifties words like grisbi er ha-, chnouf as in Razzia sur la Chnouf which means drugs er rififi and so on were words which were not er necessarily in everyday use but but had that aura of crim-, criminal language so that right from the title of the films the their er the nature of the literature on which the films were based and the criminal milieu which was evoked in the film was was made evident er and of course er if you if you don't speak French the er the kind of flavour of it er is lost and we we have to be reconciled to that but it is quite an important aspect of of the films the way in which the lines are spoken and the the words of slang er which are used and it's it's it was er very important to the film in a way which is made very self- conscious in the films so i want to show you now two extracts before we er move on to er the the the the gangster films themselves er and especially Grisbi and Bob le Flambeur i want to show you an extract first of all from er a film with Eddie Constantine er and then an extract from Rififi so i know some of you i hope most of you have seen Rififi but er nevertheless we'll s-, we'll look at an extract so backtracking a little bit er on on on on the handouts still on the literary origins er you see that i make mention of American hard-, hard-boiled writers which i've already mentioned so people like Dashiell Hammett Raymond Chandler and so on all those writers who were translated into the Serie Noire but another one another writer who was translated and who may not be as meaningful to you today as Chandler and Hammett are was Peter Cheyney who wrote er a series of novels with a a private detective called Lemmy Caution er and a-, according to er Jill Forbes er the f-, the very first er book published by Serie Noire was a book called Poison Ivy by Cheyney er and that's it's er and it's the book which is adapted er into a film called La MÃ´me Vert-de-Gris which would translate as The Vert-de-Gris Chick er sort of that that's the sort of flavour of it and which was a film wh-, the f-, wh-, the film which really made Eddie Constantine into a star and i'm going to show you a quick extract er now Eddie Constantine er was an American but who'd come to work in France he was a singer and he er was a protÃ©gÃ© of e-, of the singer Edith Piaf I-E lover and she kind of helped his career initially and then er he started getting parts small parts in movies and with er La MÃ´me Vert-de-Gris he became a major star through the the the mid-fifties and er through the fifties really and the i i will come to sa-, to talk talk later on about er the attitude to American culture in those films but the er interesting aspect of con-, Eddie Constantine and i pronounce him on on purpose as Constantine and not Constantine because he was known as Eddie Constantine in effect he became a French star and in fact after he made those movies er he tried to revive his career in America and and sort of didn't it didn't work so he was really a French star but a French star as an American and in those er movies of the mid- fifties what he represented was the American which in the context of the film meant a man who was tall who was muscular athletic er who leaps and and er er leaps about er the frame who knocks people er out and so on and he's very often placed in contrast with French counterparts who tend to be older fatter less athletic and so on sort of if you think of Jean Gabin in Grisbi right and now you're going to see Eddie Constantine in La MÃ´me Vert-de-Gris you see what i mean er so er this is a bit towards the end of the film where and i i there are no er subtitles i apologize for that but er it'll be quite obvious he's been caught by the gang of villains he's investigating and among those villains is the famous chick the la mÃ´me vert-de-gris the woman er and you will see that she does a kind of dramatic er turnaround and sort of comes onto his side but just watch for the er er just watch for er the movements his presence in the frame and if you speak a little bit of French just listen to his accent when he when he speaks nf0069: so that's him nf0069: okay er the we'll sto-, stop it here then then then there's a long pursuit on the on the roof er er can can you sorry eject this one and put the next one in thanks as you can i mean as you can see er i think compared to Grisbi this morning really there's a much more a lot more action er and there's er more than you see in this extract in the rest of the film er more physical action er and and the the his figure and and his er er body movements are very different from what you see in something like Grisbi and what you will see in Bob le Flambeur this afternoon er but what is also very obvious is the kind of er self-consciousness and the parody that that that perma-, p-, pervades the film and that's something which is i think er very er true of the genre in general but especially so of this Peter Cheyney adaptation it's already in the literature it's already in the books themselves but the way they play them the way Eddie Constantine er says his lines for example very much emphasizes this parodic element er and this self- consciousness and that's the link to er the next extract from Rififi about the self-consciousness and also i wanted to show you that particular moment er well it's very nice anyway but also because er it er reveals the self-consciousness about the use of language and and slang it's towards the beginning of the film and it's the a scene in a cabaret with a a woman who is who sings er the the theme song Rififi er and in the the the words of the song talks about the word rififi itself okay so let's have a look nf0069: what's interesting er about this er well many things are interesting about this er extract but it's the importance that's given to crime as a spectacle er which is then er m-, what we see here is the perfect er mise-en- abyme yes you know the expression mise-en-abyme a kind of repeated mirror image of something so that wha-, what we have here are for example the relationship between the gangster and the gangster moll that's all d-, signified by the words of the song but also signified by the silhouettes of the dancers er that we see er projected er and at the same time the importance of the language and the importance of er the c-, the criminal element are themselves made into a spectacle in the the song of the woman and a-, and also the dancers er mise-en-abyme in case you er it's comes a term that comes from heraldry which means that you know there's an image within an image within an image so that that moment really condenses a lot of what the rest of the film does er in the mode which is of course not er if you've s-, for those who've seen the whole film er that the mode is not the same throughout the film the film is much bleaker than this particular moment would suggest er er s-, particularly compared to Grisbi and Bob le Flambeur but nevertheless er i think that there is that that very interesting highlighting of the the the elements of the film and also the crim-, of crime as a spectacle okay now er a few words er my point two on the handout about the place of the gangster films in the French film industry of the time er the films we're talking about were all very popular movies er at the box office er and hence and especially with Grisbi er Bob le Flambeur and Rififi er they're films which won prizes and which were popular at the box office and and that's one of the reasons why they started er a kind of a new wave of the genre of the policiers er in French cinema er but what's interesting about them with the exception of Bob le Flambeur which was very much an independent production is that films like Rififi like Grisbi were very much if you like in Hollywood terms there would be A productions in the sense of the directors were well known they're films with stars with large budgets with sets and so on for instance the sets of Rififi were designed by Alexander Trauner who Alexander Trauner who was er well known set designer er in fact from the er period of the the poetic realist films ver-, one of the best known set designers in French cinema er and so these are very much A productions g-, big productions but of course with quote unquote B subjects er and that itself gave rise to a lot of controversy at the time the fact that so much talent and money in in the view of some was was as it were quote unquote wasted on er unimportant trivial and immoral subjects so that er even in a French context where censorship was much less er intent on questions of morals of sexual sexual depiction and morality generally er there were controversies about these films er the fact that the criminals of course are presented sym-, er with sympathy er that that the spectator is is expected to identify wi-, with them you identify with Max and his friends and you identify with Bob and his friends in Bob le Flambeur er as you will see er have created controversy and er i know the the reason why the print of er Grisbi you saw this morning was incomplete er is that er was due to the British censor so the censorship was was worse on the British side of er as usual er in in relations to morality and and and sexuality and the scene i will show you er in a little while from gris-, er from Grisbi is the scene y-, that that's missing but there were there are little bits which are missing and which are no doubt due to to censorship er and w-, one point i would i would plant here in your mind is that and and because i'll come back to it at the end of the lecture is er the fact that a star like Jean Gabin er er saw the renewal of his career in Grisbi er and shortly after this film in the late fifties and early sixties two of the biggest new stars of French cinema namely Jean-Paul Belmondo and Alain Delon began their careers also playing criminals or er or policemen sometimes but or g-, b-, y-, very often gangsters so that there is as it were in the mid-fifties to the early sixties a rise in French cinema of the male star as gangster as a criminal or a delinquent and and that's that's a very er interesting point and it contrasts quite sharply with what happened er before the war and and here you can make a direct comparison with Gabin because although in PÃ©pÃ© le Moko he played a gangster er in in his other films he tended to play er a worker maybe a worker driven to crime but to er a h-, a an honest working class hero and as we discussed even in PÃ©pÃ© he was portraying a kind of er honest working class character even though he's a gangster and with er when we move to the mid-fifties and early sixties we we see a change a very important change er in the way er major male stars begin to er be associated primarily with figures of gangsters er and the point i would make about the place of the films in the French film industry er was that they combined popular box office well they combined box office popularity with critical er acclaim in many cases and i think that we can then see them as a very important transitional er y-, cycle if you like between the tradition of quality and the new wave that's about to come and it's interesting that er most of these films certainly Grisbi and and certainly Rififi very much slot within the tradition of quality in terms as i say of stars budgets sets et cetera er yet the subjects are not typical quality subjects and er at the same time they are films which are approved of by the n-, the future new wave directors as critics and indeed when the new wave directors begin to make movies most of them er start by making er thrillers or films with delinquent characters and gangsters so think of Godard and A Bout de Souffle think of Truffaut and Shoot the Pianist er er es-, tho-, think of Chabrol er virtually all most of the new wave directors begin by making er thrillers so i think those films we're looking at this week are very important as a transitional point between tradition of quality and new wave er another er person i haven't mentioned here is Louis Malle who made Lift to the Scaffold Ascenseur Pour l'Echafaud in fifty-seven whi-, which is a thriller er okay so that that's i think the the the main point here about how these films are placed within the film industry and although some of the critics raise objections as i said about the morality of the films in particular Georges er interestingly er a critic on the left Georges Sadoul er who's a Communist critic er raised objections to Grisbi very much along the lines of what a pity that Jacques Becker with all his talent is making a thriller er now the next point i want to come to is er in a way the the the one of the most important points of about studying those films for us er at er in this course is the relationship between er French national identity and American cultural artefacts and cultura-, and American cinema and how that relationship is played out in the thrillers so er as you can see on your on your handout the first point i would make here is to contrast in these films and this is very much something i want us to discuss tomorrow in the seminar er er to look at the contrast or a-, at least the relationship between the iconography which one may say is a very much er a Hollywood iconography of the the gangsters er now Max and his friends in Grisbi don't wear trench coats but as you will see in Bob we do see trench coat the hats the guns er the sharp suits and so on er we have er the iconography that Colin McArthur talks about in ho-, er Underworld U-S-A is very much there er the cigarettes the drinks the well dressed people jukeboxes er jazz musicians er a lot of er artefacts and objects er that we associate or certainly at the time were associated with American culture litter these films so the way the the characters dress the locations they inhabit er think about the ubiquitous cabaret er wh-, which you've just seen in in Rififi you've seen that in in in Grisbi you will see it in Bob le Flambeur er music the role of music and and et cetera er very much connotes an American iconography and an iconography which people then could relate directly to American gangster films they could see and they'd been seeing since the thirties okay however at the same time er it's certainly in Grisbi and in er Bob le Flambeur interestingly differently in Rififi and i hope tomorrow there'll be enough people who've seen Rififi so we can discuss that in in detail er at the same time as we have this American iconography er which is very pervasive both visually and aurally we also have er a particular French type of mise en scÃ¨ne which we may recognize you may recognize already from films you've seen er in the last two weeks er a more mundane er er type of er delivery if you like of the story and more of an emphasis on the quotidian on er the temps mort the sort of dead time er a l-, a lot of the time when it doesn't seem that very much is happening er i used a quote which is from Roland Barthes' er text on on your han-, on the back of the handout which where he describes Grisbi in one of his rare look at looks at er a f-, a film at a French film as the world of understatement the sense that in the mise en scÃ¨ne in the way the characters er move in the way they they behave er between each other and so on er there's a sense of understatement of minimalism er we are not we're not even in the world of the Eddie Constantine movie with a lot of movement and jumping about and so on and knocking people on the on the on the head and so on er we're certainly not in in the world of the American gangster film we're in a sort of very different world a very hybrid world er i would argue between er the American gangster film and particular traditions of French er quote unquote realist depictions er and i would also use er here i think as as very er telling a quote by er FranÃ§ois Truffaut who who wrote in his review of Grisbi what happens to the character is less important important than how it happens so what happens to the characters in Grisbi is less important than how it happens and therefore one one has this kind of understated mise en scÃ¨ne throughout the film which may seem actually surprising at as er at first indeed it's the first French gangster film one sees er it seems that not very much is happening li-, as in PÃ©pÃ© le Moko the heist the main criminal activity has already taken place it's off screen it's already happened we're in a kind of er the world in which they they're discussing and they're looking at the reactions the are you all right  the impact of of the crime but not the crime itself okay and here comes the m-, the little bit from Grisbi which you did not see this morning thanks to the British censor of the fifties  and that is when er Max takes his friend Riton to er his new flat you remember and they have this little scene which has become very famous actually er er of Max and Riton eating the pÃ¢tÃ© and drinking wine while Max is explaining to his friend about er er where he's gone wrong basically and if you remember at the end of that scene he says right okay well we're tired let's go to bed now and there's a cut to the scene in the bank where Max is taking the gold er bullion to to give it to his uncle the fence yes remember you're with me okay so this is what comes in between nf0069: oh okay we can st-, we can stop it there they just er we just see Max go er get up and go to the bank yeah so can you think of why this would have been deleted from the print  no any idea sm0072: well 'cause i've never been candidate so er because because staying together and all that kind of wouldn't say homosexual but homoerotic sort of bonding between nf0069: mm sm0072: kind of nf0069: yeah well i think that that's well that's apparently that was the reason that it was felt to be slightly shocking those two men putting on their pyjamas and and  er going to er bed although they go s-, separate beds er and but that the reason why i'm i'm i think it's well first of all it's important you see it so you've seen the complete movie almost although there are l-, odd little bits missing as well er is is really er the fact that it the film can do without it in terms of narrative it is not particularly important in relation to er the unfolding of of the story of Grisbi and in fact you can you can understand the film p-, perfectly well without it er yet one one could argue i would argue that it's also it's a key scene er in er in the film in emphasizing this mise en scÃ¨ne of er of the everyday of the quotidian these are two er and and of course er the-, these are two gangsters er but what we see them is doing their teeth and putting on their pyjamas and and er in a way which emphasizes er their lack of glamour although they wear very nice pyjamas but but nevertheless they they're kind of er just like middle-aged men going to bed and in fact are musing over the a-, the issue of ageing er and Truffaut said in his review of the film er that apart from saying what happens is less important than how it happens and this scene demonstrates that it's not what happens it's the how it's it's the relationship between these men which is the depicted purely in terms of everyday quotidian actions like going to do your teeth er but Truffaut er also said that this is a film about ageing it's about about turning fifty and so on and so forth and as you you've noticed what when you watched the film this morning it's got a lot of you know er remarks about er wanting to retire getting old being tired and so on and when Riton looks at his the bags under his eyes you recall that it refers to an earlier conversation where Max says you know look at yourself you know you should you should retire you know you've had enough er so that but but it it's it's very much that that sort of that sense of muted everyday action which is at the centre of the film and yet this is a gangster movie this is a film about gangsters and about criminals er so it seems seems to me to to emph-, to really focus on that hybrid between a French style of mise en scÃ¨ne and an American type of narrative and also iconography okay er two other points about er the the Franco-American er relationship in the film one is to do with the use of foreigners and foreignness in the films er that you will have noticed in Grisbi but this is true in Rififi and you will see that in Bob that er all the poli-, the French policiers of that period very much emphasize foreign characters er a-, among the French characters now er there's of course the Eddie Constantine film where he's clearly an American but in in the the the more typical g-, French gangster films of the mid and late fifties what we have is a lot of Italians and a lot of Corsicans now that refers to er there's there's the ref-, referential reality of er the Corsican Mafia which was an important part of the French underworld er and also with the Italians a kind of nod towards the American gangster film and references to the Italian er and Sicilian Mafia er but also one might want to see thi-, this emphasis on foreign characters er and and and look at how er they er behave in relation to the French ones er as another er displaced image of the relationship between France and America in the films er that the er the contrast between the behaviour of the French characters and the behaviour of the non-French characters is always to the advantage of the French ones er that the non-French characters tend to be the one who betray who are weak er et cetera so that what what what what one has there i think encapsulated is the way in which the films play very often on on a f-, on on one level on contrasting unfavourably the French characters they tend to be less good-looking er less slim less athletic and so on so on the surface there there's a kind of parody of of er particular att-, er French attitude yet at the same time the narrative resolution usually gives them the upper hand so there's a kind of interesting er play there on er national identity er and as i say one can read it as as a displacement of er Franco-American relationship er and er w-, as one goes towards the late fifties and the early sixties and we'll we'll see that er when we look at er Alphaville and talk about the new wave and the new wave attitude to the thriller er there there's there's a more overt er move towards imitating American characters er everybody knows about Jean-Paul Belmondo in A Bout de Souffle imitating Bogart there's a more kind of self-conscious er play on on Frenchness and non-Frenchness but in those mid-fifties gangster film it's the Italians and the Corsicans and also and the kind of Latin characters or er characters with perhaps not to you but to French people foreign sounding names like an-, Angelo for example and so on er at the same time note that all the main characters in the film the French characters have American sounding names so it's no accident that the heroes are called Max Bob Tony right in Rififi Tony le StÃ©phanois er in in Grisbi we have Max le Menteur and in er Bob we have Bob le Flambeur le flambeur means the gambler in in slang so that sm0073: nf0069: as if you y-, sorry sm0073: i thought it was somebody with the name FlambÃ© nf0069: well well flambÃ© in slang means means er yes flambÃ© means to burn but it's it means in slang it means to play to gamble er and er the you remember what i said about PÃ©pÃ© le Moko yes that pep-, in PÃ©pÃ© you have the the very French name PÃ©pÃ© very French sounding and le Moko evoked dark darkness er coffee strong coffee et cetera or the the exoticism of the character now think about that name and think of Max le Menteur Bob le Flambeur Tony er er but especially Max and Bob what we have there is a reversal we have the character s-, now have an American sounding name and the name that's attached to it is as it were redresses the balance to just show that they are French after all so Max le Menteur and Bob le Flambeur yeah so there's an interesting play on on the hero's name er and just a quick word er er on the use of music er in the films er and we'll come back to that er tomorrow in our discussion but the policiers er of the mid- fifties the gangster films of the mid-fifties er herald the arrival of jazz music in mainstream French cinema now of course in French cinema in general in French culture jazz had arrived in in the nineteen-twenties in the wake of the First World War and was very popular but especially popular with an intellectual elite er and and that that that's quite clear er there's an enormous enthusiasm for jazz in France er but i-, restricted to a certain artistic intellectual milieu er what the policiers and er in the same way if you like as the er Serie Noire literature er broadens the audience for American literature to a very wide French public reading readership in the same way the films broaden the audience of jazz music to a very wide French er er set of viewers and er what what is very interesting to trace through the films is the er the way in which well the the the part the music plays and that's what i want to discuss with you tomorrow as well is look at how that jazz music plays but note that what the films do and that's why they were successful in in in a way broadcasting the jazz to to a wide audience was to propose there again a kind of hybrid which if you like you could call French jazz that what what you have is music that is clearly influenced by jazz music by American jazz music but is very often composed by French composers er and er the and the what we can measure the success they had by the fact that the the theme tune in both Grisbi and Rififi became er big hits in in the mid-fifties and er this is the sheet music for Grisbi er er and apparently the film started a mini craze for harmonica er music er at at the time er thanks to the success of the er of the theme tune Grisbi which you remember is Max's tune the f-, one of the first things he says is i'm going to put my tune on er yeah remember er and think about when you see Bob er er in a in a little while think about the the role that that music plays er in setting that hybrid mood between Frenchness and Americanness er aurally in a s-, and and how that interacts with the way the mise en scÃ¨ne and the narrative work er visually so er and the the l-, i want to finish er with er the last point on the on your er handout which is er to to offer two er not contrasting but interlocking symptomatic readings of these films er many people have thought about the success of those American gangster films er er sorry French gangster films of the mid-fifties er and er sought to understand their popularity and why at that particular moment in time er given that there had been crime films before there had been gangster films before you know about PÃ©pÃ© le Moko you've seen Quai des OrfÃ¨vres and so on why it was at that moment in the mid-fifties that er this particular cycle of Grisbi Rififi Bob and and a few others you've got on the sheet why these at that particular moment these worked so well and were so successful and and started er what what what became in fact er the second major genre of French cinema after comedy er so two possible er readings i will highlight now and er for you to think about while you watch Bob one is to do with er the argument you've heard last week in relation to Quai des OrfÃ¨vres er to some extent is that one could read these films as a displacement er of issues to do with the war and the German occupation of France er this is the a reading proposed by people like Robin Buss er Jean-Pierre Melville himself when he talks about Bob le Flambeur very much proposes this particular reading of er Bob le Flambeur and and his other gangster film as films which are in in effect talking about the German occupation about the resistance about the war in France and w-, one could read them as er a nostalgic revisiting of the war and also a nostalgic hankering after the prewar period er this is something which i- , incidentally is very explicit in a a British film which i i've put on your related viewing list called League of Gentlemen er it's a very different film er but er there the r-, the er nostalgia for the war is incredibly explicit here i would just say two things er that w-, might help us understand er or at least er see whether one can back up this particular reading of a film one would be the emphasis on old men on men on the edge of retirement men who've who've had enough who've seen all the battles who've been through it all and what one could read that as men who've been through the war er and so on but also who are there's constant emphasis in in in those films about how er the the underground world is not what it used to be that it was better before that there was a real code of honour among among the the gangsters and you know that Grisbi in English is called Honour Among Thieves er and er the other thing is that there are moments in those films where the iconography e-, evokes er the resistance evokes er i mean there are scenes in cellars er evokes literally underground activities er with the er the resi-, to do with the resistance er there are characters tortured or whom we see in a position er tied up as if they were about to be tortured or had been tortured and and the-, these evoke very very sort of strong images of the resistance er and resistance l-, er linked activities okay so that's one type of reading and and there's a lot of course these films are totally to do with honour loyalty and betrayal and of course loyalty and betrayal are are are kind of values which one c-, one can associate with what happened in the underground resistance against the the German ge-, in the during the German occupation er okay so that that's one way so it would be a symptomatic displaced reading the second one is which is proposed by people like Jill Forbes er and and er and a couple of others is to read these films as a mirror quote unquote of contemporary French society a society which was er moving towards modernity which was being quote unquote Americanized er in in terms of er consumer goods in terms of of culture er and a culture of consumption that er France in the nineteen-fifties is er moving out of of of the post-war er recession and and is is a country being rebuilt we're on almost we're three years away from General de Gaulle's Fifth Republic and and the real modernization of France it's the beginning of what er historians called call er les trentes glorieuses which er means er lit-, means literally the three the thirty glorious years meaning the forties er er well from the mid-forties to the mid er to the late sixties and and seventies the thirty years of economic boom and the rise of the consumer society er France in the fifties then is is beginning to be in the grips of consumer society er of er increased wealth of economic boom and one could read then the gangsters as being about er a community which used to be the working class community of the thirties poetic realist films er of community of workers of producers who've become a community of consumers and consumers who are motivated by individual er gain and er and greed and so if you like one can then read the gangsters as symptomatic of French society at large er and it's er er desire for consumption er think about how the films are littered with images of conspicuous consumption of wealth of high living living of er er people drinking champagne or whisky in cabarets and er driving huge cars sometimes American cars and kind of desiring the objects which are er in for the French linked then to modernity and in the f-, in the context of France in the fifties that means to America so that the and the g-, the we see the gangsters if you like in the grips of desire for a trilogy which the trilo-, the the which the the gangster film er very much focused on which is of money er consumer goods and women er and g-, and among those consumer goods cars figure very importantly so that and think about the way the gangsters are now very much seen as professionals as organized it's we're we're moving towards the idea of organized crime as the bi-, as a business er and that in the context of France in the fifties er the idea of organized business would again connote America er rather than than France er one of the key novels of France in the sixties was a novel called Les Choses er which means er things by Georges Perec er and er it was it was published in sixty- three but it's very much about French society in the fifties and early sixties er er it's a sort of parody of a young couple totally whose life is totally dominated by things goods objects objects that they desire and then one can read the gangsters as er a figuration if you like of that desire for for objects for things er for er capital er for er for gain and and consumer goods and and again i go and here i would go back just to finish to the point i made about the new stars of French cinema er the renewal of Gabin's er er stardom and the the the new stardom of Jean-Paul Belmondo and Alain Delon as perhaps an image of that er mirroring of French society okay now we can discuss tomorrow whether you agree with er one of those two readings or or you think both can be read er concurrently er and er we will i will just my last word would be to say that er the figuring of the this hybrid culture between France and America is for you to to bear that in mind and sort of carry it through the course and see how when we arrive to a film like Lion that hybridization of French and cul-, and American culture is so different and whereas here we have a utopia of American goods when we come to Lion we have a complete dystopia of of what American culture means so i'll just er finish on end on this i'm sorry we're just a few minutes late but we did start late er so we'll have er a mini break now and we'll start the er the video of Bob le Flambeur okay remember there isn't a print so that's why you're seeing the tape okay\"]"
      ]
     },
     "execution_count": 59,
     "metadata": {},
     "output_type": "execute_result"
    }
   ],
   "source": [
    "sentence_list[0][:5]"
   ]
  },
  {
   "cell_type": "code",
   "execution_count": 60,
   "id": "e68d674f-0bde-497f-b591-cdb295cdf568",
   "metadata": {},
   "outputs": [
    {
     "name": "stdout",
     "output_type": "stream",
     "text": [
      "1\n",
      "1\n",
      "1\n",
      "1\n",
      "1\n",
      "1\n",
      "1\n",
      "1\n"
     ]
    }
   ],
   "source": [
    "#numero de oraciones por texto\n",
    "\n",
    "for c in sentence_list:\n",
    "    print(len(c))"
   ]
  },
  {
   "cell_type": "code",
   "execution_count": 61,
   "id": "61320783-4321-4a7a-90e8-e784f5423aae",
   "metadata": {},
   "outputs": [],
   "source": [
    "#### los datos de youtube tienen dos formas:\n",
    "\n",
    "## corpus: lista de strings de largo 24\n",
    "## sentence_list: lista de listas de strings, que indican las oraciones de cada texto"
   ]
  },
  {
   "cell_type": "markdown",
   "id": "7d1ab037-df6b-4673-82f8-3a2f4bf80917",
   "metadata": {},
   "source": [
    "## análisis!"
   ]
  },
  {
   "cell_type": "markdown",
   "id": "cd58f024-9a04-4697-82ed-d8d94574f837",
   "metadata": {},
   "source": [
    "### 1. Nominalizaciones\n",
    "El trabajo aquí es con listas de oraciones. Extraemos los sustantivos :)"
   ]
  },
  {
   "cell_type": "code",
   "execution_count": 62,
   "id": "2b26d9f4-be89-491f-8c8a-a055e152c733",
   "metadata": {
    "scrolled": true,
    "tags": []
   },
   "outputs": [
    {
     "name": "stdout",
     "output_type": "stream",
     "text": [
      "Requirement already satisfied: spacy in c:\\users\\pauba\\anaconda3\\lib\\site-packages (3.0.6)\n",
      "Requirement already satisfied: setuptools in c:\\users\\pauba\\anaconda3\\lib\\site-packages (from spacy) (52.0.0.post20210125)\n",
      "Requirement already satisfied: preshed<3.1.0,>=3.0.2 in c:\\users\\pauba\\anaconda3\\lib\\site-packages (from spacy) (3.0.5)\n",
      "Requirement already satisfied: pydantic<1.8.0,>=1.7.1 in c:\\users\\pauba\\anaconda3\\lib\\site-packages (from spacy) (1.7.3)\n",
      "Requirement already satisfied: packaging>=20.0 in c:\\users\\pauba\\anaconda3\\lib\\site-packages (from spacy) (20.9)\n",
      "Requirement already satisfied: srsly<3.0.0,>=2.4.1 in c:\\users\\pauba\\anaconda3\\lib\\site-packages (from spacy) (2.4.1)\n",
      "Requirement already satisfied: murmurhash<1.1.0,>=0.28.0 in c:\\users\\pauba\\anaconda3\\lib\\site-packages (from spacy) (1.0.5)\n",
      "Requirement already satisfied: pathy>=0.3.5 in c:\\users\\pauba\\anaconda3\\lib\\site-packages (from spacy) (0.6.0)\n",
      "Requirement already satisfied: jinja2 in c:\\users\\pauba\\anaconda3\\lib\\site-packages (from spacy) (2.11.3)\n",
      "Requirement already satisfied: cymem<2.1.0,>=2.0.2 in c:\\users\\pauba\\anaconda3\\lib\\site-packages (from spacy) (2.0.5)\n",
      "Requirement already satisfied: tqdm<5.0.0,>=4.38.0 in c:\\users\\pauba\\anaconda3\\lib\\site-packages (from spacy) (4.59.0)\n",
      "Requirement already satisfied: numpy>=1.15.0 in c:\\users\\pauba\\anaconda3\\lib\\site-packages (from spacy) (1.20.1)\n",
      "Requirement already satisfied: requests<3.0.0,>=2.13.0 in c:\\users\\pauba\\anaconda3\\lib\\site-packages (from spacy) (2.25.1)\n",
      "Requirement already satisfied: catalogue<2.1.0,>=2.0.3 in c:\\users\\pauba\\anaconda3\\lib\\site-packages (from spacy) (2.0.6)\n",
      "Requirement already satisfied: spacy-legacy<3.1.0,>=3.0.4 in c:\\users\\pauba\\anaconda3\\lib\\site-packages (from spacy) (3.0.8)\n",
      "Requirement already satisfied: typer<0.4.0,>=0.3.0 in c:\\users\\pauba\\anaconda3\\lib\\site-packages (from spacy) (0.3.2)\n",
      "Requirement already satisfied: blis<0.8.0,>=0.4.0 in c:\\users\\pauba\\anaconda3\\lib\\site-packages (from spacy) (0.7.4)\n",
      "Requirement already satisfied: thinc<8.1.0,>=8.0.3 in c:\\users\\pauba\\anaconda3\\lib\\site-packages (from spacy) (8.0.3)\n",
      "Requirement already satisfied: wasabi<1.1.0,>=0.8.1 in c:\\users\\pauba\\anaconda3\\lib\\site-packages (from spacy) (0.8.2)\n",
      "Requirement already satisfied: pyparsing>=2.0.2 in c:\\users\\pauba\\anaconda3\\lib\\site-packages (from packaging>=20.0->spacy) (2.4.7)\n",
      "Requirement already satisfied: smart-open<6.0.0,>=5.0.0 in c:\\users\\pauba\\anaconda3\\lib\\site-packages (from pathy>=0.3.5->spacy) (5.2.1)\n",
      "Requirement already satisfied: certifi>=2017.4.17 in c:\\users\\pauba\\anaconda3\\lib\\site-packages (from requests<3.0.0,>=2.13.0->spacy) (2020.12.5)\n",
      "Requirement already satisfied: chardet<5,>=3.0.2 in c:\\users\\pauba\\anaconda3\\lib\\site-packages (from requests<3.0.0,>=2.13.0->spacy) (4.0.0)\n",
      "Requirement already satisfied: urllib3<1.27,>=1.21.1 in c:\\users\\pauba\\anaconda3\\lib\\site-packages (from requests<3.0.0,>=2.13.0->spacy) (1.26.4)\n",
      "Requirement already satisfied: idna<3,>=2.5 in c:\\users\\pauba\\anaconda3\\lib\\site-packages (from requests<3.0.0,>=2.13.0->spacy) (2.10)\n",
      "Requirement already satisfied: click<7.2.0,>=7.1.1 in c:\\users\\pauba\\anaconda3\\lib\\site-packages (from typer<0.4.0,>=0.3.0->spacy) (7.1.2)\n",
      "Requirement already satisfied: MarkupSafe>=0.23 in c:\\users\\pauba\\anaconda3\\lib\\site-packages (from jinja2->spacy) (1.1.1)\n"
     ]
    }
   ],
   "source": [
    "!pip install spacy\n",
    "!spacy download en"
   ]
  },
  {
   "cell_type": "code",
   "execution_count": 63,
   "id": "6245f030-dc88-4de7-a8af-0f74bda4ee57",
   "metadata": {},
   "outputs": [],
   "source": [
    "oraciones_nlp = []"
   ]
  },
  {
   "cell_type": "code",
   "execution_count": 64,
   "id": "93982dbe-41a0-46ef-b2f9-bcbcd579c8cd",
   "metadata": {},
   "outputs": [],
   "source": [
    "##TAGGEANDO EL LEMMA Y EL POS\n",
    "import spacy\n",
    "nlp = spacy.load(\"en_core_web_sm\")\n",
    "\n",
    "for sentence_text in sentence_list:\n",
    "    if len(sentence_text)>1:\n",
    "        sent = []\n",
    "        for sentence in sentence_text:\n",
    "            doc = nlp(sentence)\n",
    "            sent += [[(token.text.lower(),token.pos_) for token in doc]]\n",
    "        oraciones_nlp += [sent]"
   ]
  },
  {
   "cell_type": "code",
   "execution_count": 65,
   "id": "8da6762c-eb06-450a-b020-889030f26466",
   "metadata": {},
   "outputs": [
    {
     "data": {
      "text/plain": [
       "8"
      ]
     },
     "execution_count": 65,
     "metadata": {},
     "output_type": "execute_result"
    }
   ],
   "source": [
    "len(sentence_list)"
   ]
  },
  {
   "cell_type": "code",
   "execution_count": 66,
   "id": "57d7dbd8-e3ee-4c68-960d-511d06daedc1",
   "metadata": {},
   "outputs": [
    {
     "data": {
      "text/plain": [
       "0"
      ]
     },
     "execution_count": 66,
     "metadata": {},
     "output_type": "execute_result"
    }
   ],
   "source": [
    "len(oraciones_nlp)"
   ]
  },
  {
   "cell_type": "code",
   "execution_count": 67,
   "id": "2db82848-e4bb-4407-9f79-cadb8fc93153",
   "metadata": {},
   "outputs": [],
   "source": [
    "def number_tokens_types(oraciones):\n",
    "    number = []\n",
    "    for oracion in oraciones:\n",
    "        number+=[pair[0] for pair in oracion]\n",
    "    return len(number),len(set(number))"
   ]
  },
  {
   "cell_type": "code",
   "execution_count": 68,
   "id": "4ba5a9bd-b541-4712-9cfc-8bc2e6d940cd",
   "metadata": {},
   "outputs": [],
   "source": [
    "## número de tokens y types para los 23 textos (dejé fuera el que era una sola oración)\n",
    "\n",
    "for oraciones in oraciones_nlp:\n",
    "    print(number_tokens_types(oraciones))"
   ]
  },
  {
   "cell_type": "code",
   "execution_count": 69,
   "id": "2bbd697d-63bf-49e5-9a86-56e9aaf3742c",
   "metadata": {},
   "outputs": [],
   "source": [
    "def number_nouns(oraciones):\n",
    "    number = []\n",
    "    for oracion in oraciones:\n",
    "        number+=[pair for pair in oracion if pair[1]=='NOUN']\n",
    "    return len(number),len(set(number))"
   ]
  },
  {
   "cell_type": "code",
   "execution_count": 70,
   "id": "24a48a94-a475-4cf2-9bde-1921a6c95689",
   "metadata": {},
   "outputs": [],
   "source": [
    "## número de nouns tokens y types para los 23 textos (dejé fuera el que era una sola oración)\n",
    "\n",
    "for oraciones in oraciones_nlp:\n",
    "    print(number_nouns(oraciones))"
   ]
  },
  {
   "cell_type": "code",
   "execution_count": 71,
   "id": "e5d76e67-fa0d-42bc-a03b-ff28d19afecc",
   "metadata": {},
   "outputs": [],
   "source": [
    "#reglas de nominalization\n",
    "no_nom = ['thing', 'things', 'somethings', 'something', 'anything', 'everything', 'nothing','original', 'special', 'normal', 'version', 'tutorial', 'moment']\n",
    "terminacion = ['ment','ments','tions', 'tion','sions', 'sion', 'ibility','ibilities', 'ity','ities', 'ness','nesses', 'al','als','ings', 'ing'] "
   ]
  },
  {
   "cell_type": "code",
   "execution_count": 72,
   "id": "f5348baf-9700-42e0-b831-e1f9d37a514b",
   "metadata": {},
   "outputs": [],
   "source": [
    "def nominalization(oraciones):\n",
    "    nom = []\n",
    "    for oracion in oraciones:\n",
    "        for pair in oracion:\n",
    "            if pair[0] not in no_nom:\n",
    "                if pair[1]=='NOUN':\n",
    "                    for END in terminacion:\n",
    "                        if pair[0].endswith(END):\n",
    "                            nom+=[pair[0]]\n",
    "    return nom"
   ]
  },
  {
   "cell_type": "code",
   "execution_count": 73,
   "id": "c4a3edec-ec07-40d1-940e-38b3a5e60e5d",
   "metadata": {
    "scrolled": true,
    "tags": []
   },
   "outputs": [],
   "source": [
    "for oraciones in oraciones_nlp:\n",
    "    print(nominalization(oraciones))"
   ]
  },
  {
   "cell_type": "code",
   "execution_count": 74,
   "id": "27f2b28a-f718-4df9-933f-137589dc2c56",
   "metadata": {},
   "outputs": [
    {
     "data": {
      "text/plain": [
       "0.041666666666666664"
      ]
     },
     "execution_count": 74,
     "metadata": {},
     "output_type": "execute_result"
    }
   ],
   "source": [
    "#promedio oraciones\n",
    "len(sentences)/24"
   ]
  },
  {
   "cell_type": "markdown",
   "id": "b5a5e164-e3eb-4732-81c0-cc15e4662d3c",
   "metadata": {},
   "source": [
    "## Palabras académicas"
   ]
  },
  {
   "cell_type": "code",
   "execution_count": 75,
   "id": "e7ccbf76-8def-485c-b2ff-135750253b5a",
   "metadata": {},
   "outputs": [],
   "source": [
    "#abriendo la lista de palabras academicas\n",
    "with open('AcademicWordList.txt') as f:\n",
    "    AWL=f.read()"
   ]
  },
  {
   "cell_type": "code",
   "execution_count": 76,
   "id": "012c825b-e975-4f55-9f14-14f9b6f7d794",
   "metadata": {},
   "outputs": [],
   "source": [
    "#dividir por salto de linea\n",
    "AWL= AWL.split('\\n')"
   ]
  },
  {
   "cell_type": "code",
   "execution_count": 77,
   "id": "37ba5705-be21-45ed-a242-95b281d69121",
   "metadata": {},
   "outputs": [],
   "source": [
    "##palabras uncias\n",
    "\n",
    "for palabra in AWL:\n",
    "    if palabra not in AWL:\n",
    "        AWL += [palabra]"
   ]
  },
  {
   "cell_type": "code",
   "execution_count": 78,
   "id": "5d3fc1ff-4395-49bb-b6e8-b8ccee08bb9b",
   "metadata": {},
   "outputs": [
    {
     "data": {
      "text/plain": [
       "['analysis',\n",
       " 'approach',\n",
       " 'area',\n",
       " 'assessment',\n",
       " 'assume',\n",
       " 'authority',\n",
       " 'available',\n",
       " 'benefit',\n",
       " 'concept',\n",
       " 'consistent']"
      ]
     },
     "execution_count": 78,
     "metadata": {},
     "output_type": "execute_result"
    }
   ],
   "source": [
    "##eliminar espacios en blanco\n",
    "AWL = [palabra for palabra in AWL if len(palabra)>0]\n",
    "AWL[:10]"
   ]
  },
  {
   "cell_type": "code",
   "execution_count": 79,
   "id": "25db4c9f-8e52-4e9a-9e52-b129539fea3c",
   "metadata": {},
   "outputs": [],
   "source": [
    "AWL_dic={palabra:0 for palabra in AWL}"
   ]
  },
  {
   "cell_type": "code",
   "execution_count": 80,
   "id": "03250d51-e0d9-46c8-a710-f5fb487d8f67",
   "metadata": {},
   "outputs": [
    {
     "data": {
      "text/plain": [
       "['nf0069:',\n",
       " 'when',\n",
       " 'talking',\n",
       " 'about',\n",
       " 'the',\n",
       " 'French',\n",
       " 'gangster',\n",
       " 'film',\n",
       " 'very',\n",
       " 'often',\n",
       " 'and',\n",
       " 'paradoxically',\n",
       " 'in',\n",
       " 'French',\n",
       " 'one']"
      ]
     },
     "execution_count": 80,
     "metadata": {},
     "output_type": "execute_result"
    }
   ],
   "source": [
    "##SEPARAR POR PALABRAS\n",
    "\n",
    "words=[]\n",
    "for text in corpus:\n",
    "    for word in text.split(' '):\n",
    "        words+=[word]\n",
    "words[:15]"
   ]
  },
  {
   "cell_type": "code",
   "execution_count": 81,
   "id": "84c85a57-7898-488a-811b-c2f844d5d16e",
   "metadata": {},
   "outputs": [],
   "source": [
    "for palabra in words:\n",
    "    if palabra in AWL:    \n",
    "        AWL_dic[palabra]+=1\n",
    "    "
   ]
  },
  {
   "cell_type": "code",
   "execution_count": 82,
   "id": "5b946166-c8c3-4da9-a431-8962abebcf46",
   "metadata": {
    "scrolled": true,
    "tags": []
   },
   "outputs": [
    {
     "data": {
      "text/plain": [
       "{'analysis': 7,\n",
       " 'approach': 6,\n",
       " 'area': 17,\n",
       " 'assessment': 0,\n",
       " 'assume': 8,\n",
       " 'authority': 4,\n",
       " 'available': 5,\n",
       " 'benefit': 5,\n",
       " 'concept': 0,\n",
       " 'consistent': 0,\n",
       " 'constitutional': 0,\n",
       " 'context': 34,\n",
       " 'contract': 3,\n",
       " 'create': 7,\n",
       " 'data': 1,\n",
       " 'definition': 2,\n",
       " 'derived': 0,\n",
       " 'distribution': 9,\n",
       " 'economic': 67,\n",
       " 'environment': 7,\n",
       " 'established': 2,\n",
       " 'estimate': 0,\n",
       " 'evidence': 0,\n",
       " 'export': 13,\n",
       " 'factors': 15,\n",
       " 'financial': 9,\n",
       " 'formula': 0,\n",
       " 'function': 3,\n",
       " 'identified': 1,\n",
       " 'income': 9,\n",
       " 'indicate': 0,\n",
       " 'individual': 11,\n",
       " 'interpretation': 0,\n",
       " 'involved': 13,\n",
       " 'issues': 21,\n",
       " 'labour': 107,\n",
       " 'legal': 4,\n",
       " 'legislation': 3,\n",
       " 'major': 35,\n",
       " 'method': 0,\n",
       " 'occur': 2,\n",
       " 'percent': 0,\n",
       " 'period': 42,\n",
       " 'policy': 47,\n",
       " 'principle': 23,\n",
       " '\\x0cprocedure': 0,\n",
       " 'process': 10,\n",
       " 'required': 5,\n",
       " 'research': 1,\n",
       " 'response': 4,\n",
       " 'role': 15,\n",
       " 'section': 3,\n",
       " 'sector': 17,\n",
       " 'significant': 7,\n",
       " 'similar': 11,\n",
       " 'source': 5,\n",
       " 'specific': 7,\n",
       " 'structure': 10,\n",
       " 'theory': 55,\n",
       " 'variables': 0,\n",
       " 'achieve': 6,\n",
       " 'acquisition': 3,\n",
       " 'administration': 5,\n",
       " 'affect': 0,\n",
       " 'appropriate': 5,\n",
       " 'aspects': 8,\n",
       " 'assistance': 1,\n",
       " 'categories': 0,\n",
       " 'chapter': 2,\n",
       " 'commission': 0,\n",
       " 'community': 14,\n",
       " 'complex': 7,\n",
       " 'computer': 4,\n",
       " 'conclusion': 1,\n",
       " 'conduct': 3,\n",
       " 'consequences': 2,\n",
       " 'construction': 0,\n",
       " 'consumer': 9,\n",
       " 'credit': 2,\n",
       " 'cultural': 9,\n",
       " 'design': 4,\n",
       " 'distinction': 7,\n",
       " 'elements': 17,\n",
       " 'equation': 1,\n",
       " 'evaluation': 0,\n",
       " 'features': 1,\n",
       " 'final': 5,\n",
       " 'focus': 13,\n",
       " 'impact': 12,\n",
       " 'injury': 1,\n",
       " 'institute': 0,\n",
       " 'investment': 15,\n",
       " 'items': 1,\n",
       " 'journal': 0,\n",
       " 'maintenance': 0,\n",
       " 'normal': 4,\n",
       " 'obtained': 0,\n",
       " 'participation': 0,\n",
       " 'perceived': 7,\n",
       " 'positive': 6,\n",
       " 'potential': 3,\n",
       " 'previous': 5,\n",
       " 'primary': 9,\n",
       " 'purchase': 0,\n",
       " 'range': 0,\n",
       " '\\x0cregion': 0,\n",
       " 'regulations': 2,\n",
       " 'relevant': 6,\n",
       " 'resident': 0,\n",
       " 'resources': 17,\n",
       " 'restricted': 1,\n",
       " 'security': 1,\n",
       " 'sought': 2,\n",
       " 'select': 0,\n",
       " 'site': 0,\n",
       " 'strategies': 0,\n",
       " 'survey': 0,\n",
       " 'text': 5,\n",
       " 'traditional': 1,\n",
       " 'transfer': 15,\n",
       " 'alternative': 6,\n",
       " 'circumstances': 1,\n",
       " 'comments': 1,\n",
       " 'compensation': 0,\n",
       " 'components': 0,\n",
       " 'consent': 0,\n",
       " 'considerable': 5,\n",
       " 'constant': 2,\n",
       " 'constraints': 0,\n",
       " 'contribution': 0,\n",
       " 'convention': 7,\n",
       " 'coordination': 8,\n",
       " 'core': 5,\n",
       " 'corporate': 1,\n",
       " 'corresponding': 1,\n",
       " 'criteria': 3,\n",
       " 'deduction': 0,\n",
       " 'demonstrate': 0,\n",
       " 'document': 1,\n",
       " 'dominant': 7,\n",
       " 'emphasis': 10,\n",
       " 'ensure': 4,\n",
       " 'excluded': 0,\n",
       " 'framework': 1,\n",
       " 'funds': 1,\n",
       " 'illustrated': 0,\n",
       " 'immigration': 15,\n",
       " 'implies': 0,\n",
       " 'initial': 1,\n",
       " 'instance': 13,\n",
       " 'interaction': 0,\n",
       " 'justification': 6,\n",
       " 'layer': 0,\n",
       " 'link': 3,\n",
       " 'location': 14,\n",
       " 'maximum': 6,\n",
       " 'minorities': 11,\n",
       " 'negative': 7,\n",
       " 'outcomes': 4,\n",
       " 'partnership': 0,\n",
       " 'philosophy': 1,\n",
       " 'physical': 1,\n",
       " 'proportion': 1,\n",
       " 'published': 9,\n",
       " 'reaction': 0,\n",
       " '\\x0cregistered': 0,\n",
       " 'reliance': 1,\n",
       " 'removed': 0,\n",
       " 'scheme': 7,\n",
       " 'sequence': 9,\n",
       " 'sex': 1,\n",
       " 'shift': 14,\n",
       " 'specified': 0,\n",
       " 'sufficient': 0,\n",
       " 'task': 0,\n",
       " 'technical': 3,\n",
       " 'techniques': 0,\n",
       " 'technology': 18,\n",
       " 'validity': 0,\n",
       " 'volume': 1,\n",
       " 'access': 6,\n",
       " 'adequate': 2,\n",
       " 'annual': 0,\n",
       " 'apparent': 2,\n",
       " 'approximated': 0,\n",
       " 'attitudes': 0,\n",
       " 'attributed': 0,\n",
       " 'civil': 9,\n",
       " 'code': 1,\n",
       " 'commitment': 4,\n",
       " 'communication': 1,\n",
       " 'concentration': 2,\n",
       " 'conference': 0,\n",
       " 'contrast': 11,\n",
       " 'cycle': 2,\n",
       " 'debate': 5,\n",
       " 'despite': 9,\n",
       " 'dimensions': 2,\n",
       " 'domestic': 3,\n",
       " 'emerged': 3,\n",
       " 'error': 0,\n",
       " 'ethnic': 18,\n",
       " 'goals': 1,\n",
       " 'granted': 1,\n",
       " 'hence': 2,\n",
       " 'hypothesis': 0,\n",
       " 'implementation': 2,\n",
       " 'implications': 3,\n",
       " 'imposed': 1,\n",
       " 'integration': 5,\n",
       " 'internal': 2,\n",
       " 'investigation': 0,\n",
       " 'job': 7,\n",
       " 'label': 0,\n",
       " 'mechanism': 7,\n",
       " 'obvious': 10,\n",
       " 'occupational': 1,\n",
       " 'option': 2,\n",
       " 'output': 5,\n",
       " 'overall': 12,\n",
       " 'parallel': 1,\n",
       " 'parameters': 0,\n",
       " 'phase': 0,\n",
       " 'predicted': 0,\n",
       " 'principal': 0,\n",
       " '\\x0cprior': 0,\n",
       " 'professional': 20,\n",
       " 'project': 1,\n",
       " 'promote': 1,\n",
       " 'regime': 3,\n",
       " 'resolution': 1,\n",
       " 'retained': 0,\n",
       " 'series': 23,\n",
       " 'statistics': 0,\n",
       " 'status': 0,\n",
       " 'stress': 1,\n",
       " 'subsequent': 0,\n",
       " 'sum': 6,\n",
       " 'summary': 4,\n",
       " 'undertaken': 1,\n",
       " 'academic': 0,\n",
       " 'adjustment': 20,\n",
       " 'alter': 0,\n",
       " 'amendment': 0,\n",
       " 'aware': 4,\n",
       " 'capacity': 8,\n",
       " 'challenge': 1,\n",
       " 'clause': 0,\n",
       " 'compounds': 0,\n",
       " 'conflict': 5,\n",
       " 'consultation': 1,\n",
       " 'contact': 1,\n",
       " 'decline': 4,\n",
       " 'discretion': 0,\n",
       " 'draft': 0,\n",
       " 'enable': 0,\n",
       " 'energy': 1,\n",
       " 'enforcement': 0,\n",
       " 'entities': 0,\n",
       " 'equivalent': 5,\n",
       " 'evolution': 0,\n",
       " 'expansion': 3,\n",
       " 'exposure': 1,\n",
       " 'external': 1,\n",
       " 'facilitate': 0,\n",
       " 'fundamental': 4,\n",
       " 'generated': 5,\n",
       " 'generation': 5,\n",
       " 'image': 10,\n",
       " 'liberal': 0,\n",
       " 'licence': 0,\n",
       " 'logic': 0,\n",
       " 'marginal': 3,\n",
       " 'medical': 64,\n",
       " 'mental': 1,\n",
       " 'modified': 0,\n",
       " 'monitoring': 1,\n",
       " 'network': 7,\n",
       " 'notion': 12,\n",
       " 'objective': 6,\n",
       " 'orientation': 0,\n",
       " 'perspective': 4,\n",
       " 'precise': 2,\n",
       " 'prime': 2,\n",
       " 'psychology': 0,\n",
       " '\\x0cpursue': 0,\n",
       " 'ratio': 2,\n",
       " 'rejected': 0,\n",
       " 'revenue': 2,\n",
       " 'stability': 4,\n",
       " 'styles': 2,\n",
       " 'substitution': 0,\n",
       " 'sustainable': 1,\n",
       " 'symbolic': 1,\n",
       " 'target': 3,\n",
       " 'transition': 6,\n",
       " 'trend': 7,\n",
       " 'version': 8,\n",
       " 'welfare': 11,\n",
       " 'whereas': 11,\n",
       " 'abstract': 2,\n",
       " 'accurate': 0,\n",
       " 'acknowledged': 2,\n",
       " 'aggregate': 6,\n",
       " 'allocation': 2,\n",
       " 'assigned': 0,\n",
       " 'attached': 7,\n",
       " 'author': 0,\n",
       " 'bond': 0,\n",
       " 'brief': 4,\n",
       " 'capable': 1,\n",
       " 'cited': 0,\n",
       " 'cooperative': 2,\n",
       " 'discrimination': 29,\n",
       " 'display': 0,\n",
       " 'diversity': 7,\n",
       " 'domain': 0,\n",
       " 'edition': 0,\n",
       " 'enhanced': 0,\n",
       " 'estate': 2,\n",
       " 'exceed': 0,\n",
       " 'expert': 0,\n",
       " 'explicit': 12,\n",
       " 'federal': 0,\n",
       " 'fees': 2,\n",
       " 'flexibility': 8,\n",
       " 'furthermore': 0,\n",
       " 'gender': 2,\n",
       " 'ignored': 1,\n",
       " 'incentive': 11,\n",
       " 'incidence': 0,\n",
       " 'incorporated': 0,\n",
       " 'index': 0,\n",
       " 'inhibition': 0,\n",
       " 'initiatives': 4,\n",
       " 'input': 3,\n",
       " 'instructions': 0,\n",
       " 'intelligence': 0,\n",
       " 'interval': 0,\n",
       " 'lecture': 21,\n",
       " 'migration': 1,\n",
       " 'minimum': 2,\n",
       " 'ministry': 1,\n",
       " 'motivation': 1,\n",
       " 'neutral': 1,\n",
       " '\\x0cnevertheless': 0,\n",
       " 'overseas': 1,\n",
       " 'preceding': 0,\n",
       " 'presumption': 0,\n",
       " 'rational': 1,\n",
       " 'recovery': 0,\n",
       " 'revealed': 0,\n",
       " 'scope': 0,\n",
       " 'subsidiary': 3,\n",
       " 'tapes': 0,\n",
       " 'trace': 1,\n",
       " 'transformation': 3,\n",
       " 'transport': 4,\n",
       " 'underlying': 4,\n",
       " 'utility': 1,\n",
       " 'adaptation': 1,\n",
       " 'adults': 2,\n",
       " 'advocate': 0,\n",
       " 'aid': 9,\n",
       " 'channel': 0,\n",
       " 'chemical': 0,\n",
       " 'classical': 3,\n",
       " 'comprehensive': 0,\n",
       " 'comprise': 0,\n",
       " 'confirmed': 0,\n",
       " 'contrary': 2,\n",
       " 'converted': 0,\n",
       " 'couple': 12,\n",
       " 'decades': 3,\n",
       " 'definite': 0,\n",
       " 'deny': 3,\n",
       " 'differentiation': 3,\n",
       " 'disposal': 0,\n",
       " 'dynamic': 0,\n",
       " 'eliminate': 0,\n",
       " 'empirical': 3,\n",
       " 'equipment': 3,\n",
       " 'extract': 9,\n",
       " 'file': 0,\n",
       " 'finite': 0,\n",
       " 'foundation': 1,\n",
       " 'global': 9,\n",
       " 'grade': 0,\n",
       " 'guarantee': 3,\n",
       " 'hierarchical': 1,\n",
       " 'identical': 1,\n",
       " 'ideology': 2,\n",
       " 'inferred': 0,\n",
       " 'innovation': 4,\n",
       " 'insert': 0,\n",
       " 'intervention': 5,\n",
       " 'isolated': 1,\n",
       " 'media': 1,\n",
       " 'mode': 21,\n",
       " 'paradigm': 0,\n",
       " 'phenomenon': 5,\n",
       " 'priority': 2,\n",
       " 'prohibited': 0,\n",
       " 'publication': 0,\n",
       " '\\x0cquotation': 0,\n",
       " 'release': 0,\n",
       " 'reverse': 3,\n",
       " 'simulation': 0,\n",
       " 'solely': 0,\n",
       " 'somewhat': 0,\n",
       " 'submitted': 0,\n",
       " 'successive': 0,\n",
       " 'survive': 0,\n",
       " 'thesis': 0,\n",
       " 'topic': 6,\n",
       " 'transmission': 0,\n",
       " 'ultimately': 0,\n",
       " 'unique': 0,\n",
       " 'visible': 1,\n",
       " 'voluntary': 5,\n",
       " 'abandon': 1,\n",
       " 'accompanied': 1,\n",
       " 'accumulation': 1,\n",
       " 'ambiguous': 3,\n",
       " 'appendix': 0,\n",
       " 'appreciation': 0,\n",
       " 'arbitrary': 19,\n",
       " 'automatically': 0,\n",
       " 'bias': 3,\n",
       " 'chart': 0,\n",
       " 'clarity': 0,\n",
       " 'conformity': 0,\n",
       " 'commodity': 8,\n",
       " 'complement': 0,\n",
       " 'contemporary': 4,\n",
       " 'contradiction': 0,\n",
       " 'crucial': 3,\n",
       " 'currency': 6,\n",
       " 'denote': 0,\n",
       " 'detected': 1,\n",
       " 'deviation': 0,\n",
       " 'displacement': 2,\n",
       " 'dramatic': 5,\n",
       " 'eventually': 2,\n",
       " 'exhibit': 0,\n",
       " 'exploitation': 2,\n",
       " 'fluctuations': 0,\n",
       " 'guidelines': 0,\n",
       " 'highlighted': 1,\n",
       " 'implicit': 0,\n",
       " 'induced': 0,\n",
       " 'inevitably': 1,\n",
       " 'infrastructure': 0,\n",
       " 'inspection': 0,\n",
       " 'intensity': 1,\n",
       " 'manipulation': 0,\n",
       " 'minimised': 0,\n",
       " 'nuclear': 5,\n",
       " 'offset': 0,\n",
       " 'paragraph': 0,\n",
       " 'plus': 1,\n",
       " 'practitioners': 0,\n",
       " 'predominantly': 0,\n",
       " 'prospect': 2,\n",
       " '\\x0cradical': 0,\n",
       " 'random': 0,\n",
       " 'reinforced': 0,\n",
       " 'restore': 0,\n",
       " 'revision': 0,\n",
       " 'schedule': 2,\n",
       " 'tension': 2,\n",
       " 'termination': 0,\n",
       " 'theme': 8,\n",
       " 'thereby': 1,\n",
       " 'uniform': 0,\n",
       " 'vehicle': 0,\n",
       " 'via': 1,\n",
       " 'virtually': 4,\n",
       " 'widespread': 2,\n",
       " 'visual': 1,\n",
       " 'accommodation': 0,\n",
       " 'analogous': 0,\n",
       " 'anticipated': 0,\n",
       " 'assurance': 0,\n",
       " 'attained': 0,\n",
       " 'behalf': 4,\n",
       " 'bulk': 0,\n",
       " 'ceases': 0,\n",
       " 'coherence': 0,\n",
       " 'coincide': 0,\n",
       " 'commenced': 0,\n",
       " 'incompatible': 0,\n",
       " 'concurrent': 0,\n",
       " 'confined': 3,\n",
       " 'controversy': 2,\n",
       " 'conversely': 0,\n",
       " 'device': 0,\n",
       " 'devoted': 0,\n",
       " 'diminished': 0,\n",
       " 'distorted/distortion - equal figures': 0,\n",
       " 'duration': 0,\n",
       " 'erosion': 0,\n",
       " 'ethical': 0,\n",
       " 'format': 0,\n",
       " 'founded': 2,\n",
       " 'inherent': 0,\n",
       " 'insights': 0,\n",
       " 'integral': 0,\n",
       " 'intermediate': 0,\n",
       " 'manual': 10,\n",
       " 'mature': 0,\n",
       " 'mediation': 0,\n",
       " 'medium': 2,\n",
       " 'military': 1,\n",
       " 'minimal': 3,\n",
       " 'mutual': 0,\n",
       " 'norms': 0,\n",
       " 'overlap': 0,\n",
       " 'passive': 0,\n",
       " 'portion': 0,\n",
       " 'preliminary': 0,\n",
       " 'protocol': 0,\n",
       " 'qualitative': 0,\n",
       " 'refine': 0,\n",
       " 'relaxed': 0,\n",
       " '\\x0crestraints': 0,\n",
       " 'revolution': 4,\n",
       " 'rigid': 0,\n",
       " 'route': 11,\n",
       " 'scenario': 0,\n",
       " 'sphere': 0,\n",
       " 'subordinate': 0,\n",
       " 'supplementary': 0,\n",
       " 'suspended': 2,\n",
       " 'team': 2,\n",
       " 'temporary': 5,\n",
       " 'trigger': 0,\n",
       " 'unified': 0,\n",
       " 'violation': 0,\n",
       " 'vision': 2,\n",
       " 'adjacent': 0,\n",
       " 'albeit': 0,\n",
       " 'assembly': 0,\n",
       " 'collapse': 2,\n",
       " 'colleagues': 1,\n",
       " 'compiled': 0,\n",
       " 'conceived': 0,\n",
       " 'convinced': 0,\n",
       " 'depression': 1,\n",
       " 'encountered': 0,\n",
       " 'enormous': 5,\n",
       " 'forthcoming': 1,\n",
       " 'inclination': 0,\n",
       " 'integrity': 0,\n",
       " 'intrinsic': 0,\n",
       " 'invoked': 0,\n",
       " 'levy': 0,\n",
       " 'likewise': 0,\n",
       " 'nonetheless': 18,\n",
       " 'notwithstanding': 0,\n",
       " 'odd': 2,\n",
       " 'ongoing': 0,\n",
       " 'panel': 0,\n",
       " 'persistent': 1,\n",
       " 'posed': 1,\n",
       " 'reluctant': 0,\n",
       " 'so-called': 3,\n",
       " 'straightforward': 2,\n",
       " 'undergo': 0,\n",
       " 'whereby': 2}"
      ]
     },
     "execution_count": 82,
     "metadata": {},
     "output_type": "execute_result"
    }
   ],
   "source": [
    "AWL_dic"
   ]
  },
  {
   "cell_type": "code",
   "execution_count": 83,
   "id": "16699bdf-d416-445d-9f85-51dcc8c804f0",
   "metadata": {},
   "outputs": [
    {
     "name": "stdout",
     "output_type": "stream",
     "text": [
      "2047\n"
     ]
    }
   ],
   "source": [
    "values = sum(AWL_dic.values())\n",
    "print(values)"
   ]
  },
  {
   "cell_type": "code",
   "execution_count": 84,
   "id": "62388bfb-b3c7-4807-81d7-36aa1f84bd1f",
   "metadata": {},
   "outputs": [
    {
     "data": {
      "text/plain": [
       "3.0455417850713404"
      ]
     },
     "execution_count": 84,
     "metadata": {},
     "output_type": "execute_result"
    }
   ],
   "source": [
    "values/len(words)*100"
   ]
  },
  {
   "cell_type": "markdown",
   "id": "7785dabe-f6f8-497b-9991-508a4072225a",
   "metadata": {},
   "source": [
    "## código viejo"
   ]
  },
  {
   "cell_type": "code",
   "execution_count": 2,
   "id": "e77a1645-ebe1-4dcc-8b51-4d00b960803f",
   "metadata": {},
   "outputs": [],
   "source": [
    "##Abriendo corpus\n",
    "import glob\n",
    "lista_files = glob.glob('Academic/*.txt')\n",
    "corpus = []\n",
    "\n",
    "for file in lista_files:\n",
    "     with open(file, 'r') as file_input:\n",
    "         corpus+=[file_input.read()]"
   ]
  },
  {
   "cell_type": "code",
   "execution_count": 3,
   "id": "402931af-666f-406f-93c6-507dc9ef1283",
   "metadata": {},
   "outputs": [],
   "source": [
    "##quitar cosas () y []\n",
    "##crear funcion\n",
    "def a(test_str):\n",
    "    ret = ''\n",
    "    skip1c = 0\n",
    "    skip2c = 0\n",
    "    for i in test_str:\n",
    "        if i == '[':\n",
    "            skip1c += 1\n",
    "        elif i == '(':\n",
    "            skip2c += 1\n",
    "        elif i == ']' and skip1c > 0:\n",
    "            skip1c -= 1\n",
    "        elif i == ')'and skip2c > 0:\n",
    "            skip2c -= 1\n",
    "        elif skip1c == 0 and skip2c == 0:\n",
    "            ret += i\n",
    "    return ret"
   ]
  },
  {
   "cell_type": "code",
   "execution_count": 4,
   "id": "1f36376d-5e73-4c7e-9484-4deb5ff27d5d",
   "metadata": {},
   "outputs": [],
   "source": [
    "##quitar los () y []\n",
    "corpus = a(corpus)"
   ]
  },
  {
   "cell_type": "code",
   "execution_count": 5,
   "id": "f743ede8-6903-4b79-bb8f-d89e18433842",
   "metadata": {},
   "outputs": [],
   "source": [
    "#dividir por salto de linea\n",
    "corpus= corpus.split('\\n')"
   ]
  },
  {
   "cell_type": "code",
   "execution_count": 6,
   "id": "93e11fbb-c7c5-4b87-b9bb-445f7151884c",
   "metadata": {},
   "outputs": [
    {
     "data": {
      "text/plain": [
       "['nf0069: when talking about the French gangster film very often and ',\n",
       " \"paradoxically in French one talks about the policier that's the name of the \",\n",
       " 'genre so when you you see the word policier er I-E police which relates to the ',\n",
       " \"police it doesn't necessarily mean that it's to do with a police film or police \",\n",
       " \"procedure as the you have in the American genres but it's co-, covers all er \",\n",
       " 'virtually all the films er to do with crime er pretty much from the nineteen-',\n",
       " 'fifties onwards so er a gangster film and a police film will both be called ',\n",
       " \"policier in French and sometimes you'll see the in slang this becomes polar er \",\n",
       " \"i'm sorry i hope it's not too awkward if i move er polar is P-O-L-A-R er is yep \",\n",
       " 'sf0070: sorry ',\n",
       " \"nf0069: okay we're just beginning polar is the slang word for policier so le \",\n",
       " 'polar refers to the genre of the police crime gangster movie in French er ',\n",
       " 'specifically from the nineteen-fifties late forties fifties onwards and so that ',\n",
       " 'i will ',\n",
       " 'talk today about a particular genre or subgenre of French crime films and film ']"
      ]
     },
     "execution_count": 6,
     "metadata": {},
     "output_type": "execute_result"
    }
   ],
   "source": [
    "corpus[:15]"
   ]
  },
  {
   "cell_type": "code",
   "execution_count": 7,
   "id": "4ef2d9cb-3d8e-4970-88a6-09973b6659dd",
   "metadata": {},
   "outputs": [
    {
     "data": {
      "text/plain": [
       "5032"
      ]
     },
     "execution_count": 7,
     "metadata": {},
     "output_type": "execute_result"
    }
   ],
   "source": [
    "len(corpus)"
   ]
  },
  {
   "cell_type": "code",
   "execution_count": 8,
   "id": "7d017f88-9694-4ef2-bce5-9c3ee0731281",
   "metadata": {},
   "outputs": [],
   "source": [
    "#dividir en oraciones, importar la funcion\n",
    "from nltk import sent_tokenize\n",
    "\n",
    "#dividir en oraciones\n",
    "sentences = []\n",
    "for sentence in corpus:\n",
    "    sent_token = sent_tokenize(sentence)\n",
    "    sentences+=[sent_token]"
   ]
  },
  {
   "cell_type": "code",
   "execution_count": 9,
   "id": "16cbf737-7de4-44f1-be94-fd36a434214a",
   "metadata": {},
   "outputs": [
    {
     "data": {
      "text/plain": [
       "5032"
      ]
     },
     "execution_count": 9,
     "metadata": {},
     "output_type": "execute_result"
    }
   ],
   "source": [
    "#número de oraciones\n",
    "len(sentences)"
   ]
  },
  {
   "cell_type": "code",
   "execution_count": 10,
   "id": "553702dd-c90b-4c99-bdf3-f7938caf6b20",
   "metadata": {},
   "outputs": [
    {
     "data": {
      "text/plain": [
       "629.0"
      ]
     },
     "execution_count": 10,
     "metadata": {},
     "output_type": "execute_result"
    }
   ],
   "source": [
    "len(sentences)/8"
   ]
  },
  {
   "cell_type": "code",
   "execution_count": 11,
   "id": "fadb5b99-124e-47b2-a6f6-bd4a5996f8bd",
   "metadata": {},
   "outputs": [
    {
     "data": {
      "text/plain": [
       "True"
      ]
     },
     "execution_count": 11,
     "metadata": {},
     "output_type": "execute_result"
    }
   ],
   "source": [
    "#reglas de nominalization\n",
    "no_nom = 'thing', 'things', 'somethings', 'something', 'anything', 'everything', 'nothing','original', 'special', 'normal', 'version'\n",
    "terminacion = 'ment','ments','tions', 'tion','sions', 'sion', 'ibility','ibilities', 'ity','ities', 'ness','nesses', 'al','als','ings', 'ing' \n",
    "s='involvement'\n",
    "s.endswith(terminacion)"
   ]
  },
  {
   "cell_type": "code",
   "execution_count": 12,
   "id": "15509e8b-de88-4a43-8d43-0c514615fded",
   "metadata": {},
   "outputs": [
    {
     "data": {
      "text/plain": [
       "358"
      ]
     },
     "execution_count": 12,
     "metadata": {},
     "output_type": "execute_result"
    }
   ],
   "source": [
    "#oraciones con POSIBLES nominalizaciones\n",
    "nominalization = []\n",
    "for oracion in sentences:\n",
    "    for word in oracion:\n",
    "        if word.endswith(terminacion):\n",
    "            nominalization +=[word]\n",
    "len(nominalization)"
   ]
  },
  {
   "cell_type": "code",
   "execution_count": 13,
   "id": "1b641166-1b25-4856-abe2-3849bbe23ea9",
   "metadata": {
    "scrolled": true,
    "tags": []
   },
   "outputs": [
    {
     "data": {
      "text/plain": [
       "['that film er but i just wanted to show you er the cover that is the original',\n",
       " \"reason why er i'm talking about the er the Serie Noire writers er in relation\",\n",
       " 'to the films is is that they are on the one hand those indirect connections',\n",
       " 'and his er er body movements are very different from what you see in something',\n",
       " \"nf0069: what's interesting er about this er well many things are interesting\",\n",
       " 'the exception of Bob le Flambeur which was very much an independent production',\n",
       " 'where censorship was much less er intent on questions of morals of sexual',\n",
       " \"those films we're looking at this week are very important as a transitional\",\n",
       " \"sm0072: well 'cause i've never been candidate so er because because staying\",\n",
       " 'with the war and the German occupation of France er this is the a reading',\n",
       " 'quote unquote of contemporary French society a society which was er moving',\n",
       " \"years away from General de Gaulle's Fifth Republic and and the real\",\n",
       " \"realist films er of community of workers of producers who've become a community\",\n",
       " 'are littered with images of conspicuous consumption of wealth of high living',\n",
       " 'living of er er people drinking champagne or whisky in cabarets and er driving',\n",
       " \"even argue for that that's where he gets off so he argued that only a minimal\",\n",
       " \"that they add up to is [sniff] so it's a historical entitlement view no general\",\n",
       " 'of holdings from one person to another and third there has to be rectification',\n",
       " \"ad-, examples of such principles we've already come across like maximizing\",\n",
       " \"people who are entitled to them people's choices to transfer those entitlements\",\n",
       " 'be no distribution er redistribution',\n",
       " 'redistribution well a common answer is yes it is because once cooperation',\n",
       " 'occurs we can no longer disentangle er the contributions that each individual',\n",
       " 'critical',\n",
       " 'different case if you invent a new medicine and you charge people for supplying',\n",
       " 'might sound the practical',\n",
       " 'this fabulous basketball player and everybody is very enthusiastic about paying',\n",
       " 'simply assuming that an ideal starting point confers unqualified entitlements',\n",
       " 'natural endowments your natural abilities or disabilities your t-, natural',\n",
       " 'kind of principles that he Nozick likes they could never produce historical',\n",
       " 'pattern principle so he objects to this er choosing principles in the original',\n",
       " 'inconsistency in having a procedure that can only justify non-procedural']"
      ]
     },
     "execution_count": 13,
     "metadata": {},
     "output_type": "execute_result"
    }
   ],
   "source": [
    "#10% para analizar\n",
    "nominalization[:32]"
   ]
  },
  {
   "cell_type": "code",
   "execution_count": 14,
   "id": "ca5ee245-42af-4170-a2db-a135842daf35",
   "metadata": {},
   "outputs": [
    {
     "data": {
      "text/plain": [
       "7.114467408585055"
      ]
     },
     "execution_count": 14,
     "metadata": {},
     "output_type": "execute_result"
    }
   ],
   "source": [
    "##porcentaje nominalizaciones\n",
    "len(nominalization)/len(sentences)*100"
   ]
  },
  {
   "cell_type": "code",
   "execution_count": 15,
   "id": "1655b5a4-0997-4fea-acf5-01949a50de97",
   "metadata": {},
   "outputs": [],
   "source": [
    "#aplanar la lista de strings\n",
    "flat_sentences = []\n",
    "for item in sentences:\n",
    "        for word in item:\n",
    "            flat_sentences+=[word]"
   ]
  },
  {
   "cell_type": "code",
   "execution_count": 16,
   "id": "f5d55da1-c3c7-44e4-92b0-3537cb9d1882",
   "metadata": {},
   "outputs": [],
   "source": [
    "#remover puntuación\n",
    "import re\n",
    "\n",
    "def remove_punctuation(s):\n",
    "    return re.sub(r'[^\\w\\s]','',s)"
   ]
  },
  {
   "cell_type": "code",
   "execution_count": 17,
   "id": "fe6362f5-0595-48e9-99d7-1d27fc2714f3",
   "metadata": {},
   "outputs": [],
   "source": [
    "flat_sentences_nopunc =[]\n",
    "\n",
    "for sent in flat_sentences:\n",
    "    flat_sentences_nopunc+=[remove_punctuation(sent)]"
   ]
  },
  {
   "cell_type": "code",
   "execution_count": 18,
   "id": "8c6c22f2-f4f2-46a1-aa89-d524980ca780",
   "metadata": {},
   "outputs": [
    {
     "data": {
      "text/plain": [
       "['nf0069 when talking about the French gangster film very often and',\n",
       " 'paradoxically in French one talks about the policier thats the name of the',\n",
       " 'genre so when you you see the word policier er IE police which relates to the',\n",
       " 'police it doesnt necessarily mean that its to do with a police film or police',\n",
       " 'procedure as the you have in the American genres but its co covers all er',\n",
       " 'virtually all the films er to do with crime er pretty much from the nineteen',\n",
       " 'fifties onwards so er a gangster film and a police film will both be called',\n",
       " 'policier in French and sometimes youll see the in slang this becomes polar er',\n",
       " 'im sorry i hope its not too awkward if i move er polar is POLAR er is yep',\n",
       " 'sf0070 sorry',\n",
       " 'nf0069 okay were just beginning polar is the slang word for policier so le',\n",
       " 'polar refers to the genre of the police crime gangster movie in French er',\n",
       " 'specifically from the nineteenfifties late forties fifties onwards and so that',\n",
       " 'i will',\n",
       " 'talk today about a particular genre or subgenre of French crime films and film']"
      ]
     },
     "execution_count": 18,
     "metadata": {},
     "output_type": "execute_result"
    }
   ],
   "source": [
    "flat_sentences_nopunc[:15]"
   ]
  },
  {
   "cell_type": "code",
   "execution_count": 19,
   "id": "b0b4af9b-7c6c-4d83-8b87-226a01d46384",
   "metadata": {
    "tags": []
   },
   "outputs": [
    {
     "data": {
      "text/plain": [
       "['nf0069',\n",
       " 'when',\n",
       " 'talking',\n",
       " 'about',\n",
       " 'the',\n",
       " 'French',\n",
       " 'gangster',\n",
       " 'film',\n",
       " 'very',\n",
       " 'often',\n",
       " 'and',\n",
       " 'paradoxically',\n",
       " 'in',\n",
       " 'French',\n",
       " 'one']"
      ]
     },
     "execution_count": 19,
     "metadata": {},
     "output_type": "execute_result"
    }
   ],
   "source": [
    "##SEPARAR POR PALABRAS\n",
    "words=[]\n",
    "for sentence in flat_sentences_nopunc:\n",
    "    for word in sentence.split(' '):\n",
    "        words+=[word]\n",
    "words[:15]"
   ]
  },
  {
   "cell_type": "code",
   "execution_count": 20,
   "id": "dd337ad6-9b34-4f0f-a6c2-a3efe7cc3dae",
   "metadata": {},
   "outputs": [
    {
     "data": {
      "text/plain": [
       "67236"
      ]
     },
     "execution_count": 20,
     "metadata": {},
     "output_type": "execute_result"
    }
   ],
   "source": [
    "len(words)"
   ]
  },
  {
   "cell_type": "code",
   "execution_count": 21,
   "id": "7216c2b4-e1ff-4908-9dc1-289328c9e301",
   "metadata": {},
   "outputs": [],
   "source": [
    "##eliminar lista de palabras que no sirve, como los codigos de dialogo y \"er\"\n",
    "stopwords = ['er', 'nf0069', 'nf1167', 'nm0063', 'nm0067', 'nm0969', 'nm1123', 'nm1166', 'nm1222']\n",
    "for word in list(words):\n",
    "    if word in stopwords:\n",
    "        words.remove(word)"
   ]
  },
  {
   "cell_type": "code",
   "execution_count": 22,
   "id": "7d0ccef1-e520-4c08-9b18-7976728577a1",
   "metadata": {},
   "outputs": [],
   "source": [
    "##eliminar espacios en blanco\n",
    "words = [palabra for palabra in words if len(palabra)>0]"
   ]
  },
  {
   "cell_type": "code",
   "execution_count": 23,
   "id": "1e57b022-2b33-4fdf-83bb-b3ae36391c72",
   "metadata": {},
   "outputs": [
    {
     "data": {
      "text/plain": [
       "['when',\n",
       " 'talking',\n",
       " 'about',\n",
       " 'the',\n",
       " 'French',\n",
       " 'gangster',\n",
       " 'film',\n",
       " 'very',\n",
       " 'often',\n",
       " 'and',\n",
       " 'paradoxically',\n",
       " 'in',\n",
       " 'French',\n",
       " 'one',\n",
       " 'talks']"
      ]
     },
     "execution_count": 23,
     "metadata": {},
     "output_type": "execute_result"
    }
   ],
   "source": [
    "words[:15]"
   ]
  },
  {
   "cell_type": "code",
   "execution_count": 24,
   "id": "6dc60f29-0f2f-4e9a-b6f3-6ad26394772b",
   "metadata": {},
   "outputs": [
    {
     "data": {
      "text/plain": [
       "64738"
      ]
     },
     "execution_count": 24,
     "metadata": {},
     "output_type": "execute_result"
    }
   ],
   "source": [
    "len(words)"
   ]
  },
  {
   "cell_type": "code",
   "execution_count": 25,
   "id": "9436f3ab-e50f-4a50-99f3-40256f846850",
   "metadata": {},
   "outputs": [
    {
     "data": {
      "text/plain": [
       "12.865262321144675"
      ]
     },
     "execution_count": 25,
     "metadata": {},
     "output_type": "execute_result"
    }
   ],
   "source": [
    "#promedio palabra por oración\n",
    "\n",
    "len(words)/len(sentences)"
   ]
  },
  {
   "cell_type": "code",
   "execution_count": 26,
   "id": "e6799761-d230-48dc-aaef-d88d40aa7104",
   "metadata": {},
   "outputs": [
    {
     "data": {
      "text/plain": [
       "8092.25"
      ]
     },
     "execution_count": 26,
     "metadata": {},
     "output_type": "execute_result"
    }
   ],
   "source": [
    "#promedio palabra por texto\n",
    "len(words)/8"
   ]
  },
  {
   "cell_type": "code",
   "execution_count": 27,
   "id": "3c0e70e9-97ca-4084-a863-006887627495",
   "metadata": {},
   "outputs": [],
   "source": [
    "##palabras uncias\n",
    "\n",
    "types = []\n",
    "for palabra in words:\n",
    "    if palabra not in types:\n",
    "        types += [palabra]"
   ]
  },
  {
   "cell_type": "code",
   "execution_count": 28,
   "id": "64017cc5-1bd6-4ee6-8526-67efbf661eda",
   "metadata": {},
   "outputs": [
    {
     "data": {
      "text/plain": [
       "['when',\n",
       " 'talking',\n",
       " 'about',\n",
       " 'the',\n",
       " 'French',\n",
       " 'gangster',\n",
       " 'film',\n",
       " 'very',\n",
       " 'often',\n",
       " 'and',\n",
       " 'paradoxically',\n",
       " 'in',\n",
       " 'one',\n",
       " 'talks',\n",
       " 'policier']"
      ]
     },
     "execution_count": 28,
     "metadata": {},
     "output_type": "execute_result"
    }
   ],
   "source": [
    "types[:15]"
   ]
  },
  {
   "cell_type": "code",
   "execution_count": 29,
   "id": "55d23367-a77c-4954-832a-ec3dcefb8637",
   "metadata": {},
   "outputs": [
    {
     "data": {
      "text/plain": [
       "5964"
      ]
     },
     "execution_count": 29,
     "metadata": {},
     "output_type": "execute_result"
    }
   ],
   "source": [
    "len(types)"
   ]
  },
  {
   "cell_type": "code",
   "execution_count": 30,
   "id": "6edb3b7c-9662-4f75-a0e8-ad44b6c05d2e",
   "metadata": {},
   "outputs": [
    {
     "data": {
      "text/plain": [
       "9.212518150081868"
      ]
     },
     "execution_count": 30,
     "metadata": {},
     "output_type": "execute_result"
    }
   ],
   "source": [
    "len(types)/len(words)*100"
   ]
  },
  {
   "cell_type": "code",
   "execution_count": 31,
   "id": "af4286d5-3abb-443f-9be5-0f0835fe7df7",
   "metadata": {
    "scrolled": true,
    "tags": []
   },
   "outputs": [
    {
     "name": "stdout",
     "output_type": "stream",
     "text": [
      "Requirement already satisfied: spacy in c:\\users\\pauba\\anaconda3\\lib\\site-packages (3.0.6)\n",
      "Requirement already satisfied: setuptools in c:\\users\\pauba\\anaconda3\\lib\\site-packages (from spacy) (52.0.0.post20210125)\n",
      "Requirement already satisfied: typer<0.4.0,>=0.3.0 in c:\\users\\pauba\\anaconda3\\lib\\site-packages (from spacy) (0.3.2)\n",
      "Requirement already satisfied: preshed<3.1.0,>=3.0.2 in c:\\users\\pauba\\anaconda3\\lib\\site-packages (from spacy) (3.0.5)\n",
      "Requirement already satisfied: jinja2 in c:\\users\\pauba\\anaconda3\\lib\\site-packages (from spacy) (2.11.3)\n",
      "Requirement already satisfied: wasabi<1.1.0,>=0.8.1 in c:\\users\\pauba\\anaconda3\\lib\\site-packages (from spacy) (0.8.2)\n",
      "Requirement already satisfied: blis<0.8.0,>=0.4.0 in c:\\users\\pauba\\anaconda3\\lib\\site-packages (from spacy) (0.7.4)\n",
      "Requirement already satisfied: tqdm<5.0.0,>=4.38.0 in c:\\users\\pauba\\anaconda3\\lib\\site-packages (from spacy) (4.59.0)\n",
      "Requirement already satisfied: numpy>=1.15.0 in c:\\users\\pauba\\anaconda3\\lib\\site-packages (from spacy) (1.20.1)\n",
      "Requirement already satisfied: requests<3.0.0,>=2.13.0 in c:\\users\\pauba\\anaconda3\\lib\\site-packages (from spacy) (2.25.1)\n",
      "Requirement already satisfied: packaging>=20.0 in c:\\users\\pauba\\anaconda3\\lib\\site-packages (from spacy) (20.9)\n",
      "Requirement already satisfied: catalogue<2.1.0,>=2.0.3 in c:\\users\\pauba\\anaconda3\\lib\\site-packages (from spacy) (2.0.6)\n",
      "Requirement already satisfied: pathy>=0.3.5 in c:\\users\\pauba\\anaconda3\\lib\\site-packages (from spacy) (0.6.0)\n",
      "Requirement already satisfied: cymem<2.1.0,>=2.0.2 in c:\\users\\pauba\\anaconda3\\lib\\site-packages (from spacy) (2.0.5)\n",
      "Requirement already satisfied: pydantic<1.8.0,>=1.7.1 in c:\\users\\pauba\\anaconda3\\lib\\site-packages (from spacy) (1.7.3)\n",
      "Requirement already satisfied: srsly<3.0.0,>=2.4.1 in c:\\users\\pauba\\anaconda3\\lib\\site-packages (from spacy) (2.4.1)\n",
      "Requirement already satisfied: spacy-legacy<3.1.0,>=3.0.4 in c:\\users\\pauba\\anaconda3\\lib\\site-packages (from spacy) (3.0.8)\n",
      "Requirement already satisfied: murmurhash<1.1.0,>=0.28.0 in c:\\users\\pauba\\anaconda3\\lib\\site-packages (from spacy) (1.0.5)\n",
      "Requirement already satisfied: thinc<8.1.0,>=8.0.3 in c:\\users\\pauba\\anaconda3\\lib\\site-packages (from spacy) (8.0.3)\n",
      "Requirement already satisfied: pyparsing>=2.0.2 in c:\\users\\pauba\\anaconda3\\lib\\site-packages (from packaging>=20.0->spacy) (2.4.7)\n",
      "Requirement already satisfied: smart-open<6.0.0,>=5.0.0 in c:\\users\\pauba\\anaconda3\\lib\\site-packages (from pathy>=0.3.5->spacy) (5.2.1)\n",
      "Requirement already satisfied: chardet<5,>=3.0.2 in c:\\users\\pauba\\anaconda3\\lib\\site-packages (from requests<3.0.0,>=2.13.0->spacy) (4.0.0)\n",
      "Requirement already satisfied: urllib3<1.27,>=1.21.1 in c:\\users\\pauba\\anaconda3\\lib\\site-packages (from requests<3.0.0,>=2.13.0->spacy) (1.26.4)\n",
      "Requirement already satisfied: idna<3,>=2.5 in c:\\users\\pauba\\anaconda3\\lib\\site-packages (from requests<3.0.0,>=2.13.0->spacy) (2.10)\n",
      "Requirement already satisfied: certifi>=2017.4.17 in c:\\users\\pauba\\anaconda3\\lib\\site-packages (from requests<3.0.0,>=2.13.0->spacy) (2020.12.5)\n",
      "Requirement already satisfied: click<7.2.0,>=7.1.1 in c:\\users\\pauba\\anaconda3\\lib\\site-packages (from typer<0.4.0,>=0.3.0->spacy) (7.1.2)\n",
      "Requirement already satisfied: MarkupSafe>=0.23 in c:\\users\\pauba\\anaconda3\\lib\\site-packages (from jinja2->spacy) (1.1.1)\n",
      "Collecting en-core-web-sm==3.0.0\n",
      "  Downloading https://github.com/explosion/spacy-models/releases/download/en_core_web_sm-3.0.0/en_core_web_sm-3.0.0-py3-none-any.whl (13.7 MB)\n",
      "Requirement already satisfied: spacy<3.1.0,>=3.0.0 in c:\\users\\pauba\\anaconda3\\lib\\site-packages (from en-core-web-sm==3.0.0) (3.0.6)\n",
      "Requirement already satisfied: typer<0.4.0,>=0.3.0 in c:\\users\\pauba\\anaconda3\\lib\\site-packages (from spacy<3.1.0,>=3.0.0->en-core-web-sm==3.0.0) (0.3.2)\n",
      "Requirement already satisfied: thinc<8.1.0,>=8.0.3 in c:\\users\\pauba\\anaconda3\\lib\\site-packages (from spacy<3.1.0,>=3.0.0->en-core-web-sm==3.0.0) (8.0.3)\n",
      "Requirement already satisfied: cymem<2.1.0,>=2.0.2 in c:\\users\\pauba\\anaconda3\\lib\\site-packages (from spacy<3.1.0,>=3.0.0->en-core-web-sm==3.0.0) (2.0.5)\n",
      "Requirement already satisfied: preshed<3.1.0,>=3.0.2 in c:\\users\\pauba\\anaconda3\\lib\\site-packages (from spacy<3.1.0,>=3.0.0->en-core-web-sm==3.0.0) (3.0.5)\n",
      "Requirement already satisfied: murmurhash<1.1.0,>=0.28.0 in c:\\users\\pauba\\anaconda3\\lib\\site-packages (from spacy<3.1.0,>=3.0.0->en-core-web-sm==3.0.0) (1.0.5)\n",
      "Requirement already satisfied: pathy>=0.3.5 in c:\\users\\pauba\\anaconda3\\lib\\site-packages (from spacy<3.1.0,>=3.0.0->en-core-web-sm==3.0.0) (0.6.0)\n",
      "Requirement already satisfied: spacy-legacy<3.1.0,>=3.0.4 in c:\\users\\pauba\\anaconda3\\lib\\site-packages (from spacy<3.1.0,>=3.0.0->en-core-web-sm==3.0.0) (3.0.8)\n",
      "Requirement already satisfied: catalogue<2.1.0,>=2.0.3 in c:\\users\\pauba\\anaconda3\\lib\\site-packages (from spacy<3.1.0,>=3.0.0->en-core-web-sm==3.0.0) (2.0.6)\n",
      "Requirement already satisfied: jinja2 in c:\\users\\pauba\\anaconda3\\lib\\site-packages (from spacy<3.1.0,>=3.0.0->en-core-web-sm==3.0.0) (2.11.3)\n",
      "Requirement already satisfied: numpy>=1.15.0 in c:\\users\\pauba\\anaconda3\\lib\\site-packages (from spacy<3.1.0,>=3.0.0->en-core-web-sm==3.0.0) (1.20.1)\n",
      "Requirement already satisfied: wasabi<1.1.0,>=0.8.1 in c:\\users\\pauba\\anaconda3\\lib\\site-packages (from spacy<3.1.0,>=3.0.0->en-core-web-sm==3.0.0) (0.8.2)\n",
      "Requirement already satisfied: requests<3.0.0,>=2.13.0 in c:\\users\\pauba\\anaconda3\\lib\\site-packages (from spacy<3.1.0,>=3.0.0->en-core-web-sm==3.0.0) (2.25.1)\n",
      "Requirement already satisfied: blis<0.8.0,>=0.4.0 in c:\\users\\pauba\\anaconda3\\lib\\site-packages (from spacy<3.1.0,>=3.0.0->en-core-web-sm==3.0.0) (0.7.4)\n",
      "Requirement already satisfied: srsly<3.0.0,>=2.4.1 in c:\\users\\pauba\\anaconda3\\lib\\site-packages (from spacy<3.1.0,>=3.0.0->en-core-web-sm==3.0.0) (2.4.1)\n",
      "Requirement already satisfied: tqdm<5.0.0,>=4.38.0 in c:\\users\\pauba\\anaconda3\\lib\\site-packages (from spacy<3.1.0,>=3.0.0->en-core-web-sm==3.0.0) (4.59.0)\n",
      "Requirement already satisfied: setuptools in c:\\users\\pauba\\anaconda3\\lib\\site-packages (from spacy<3.1.0,>=3.0.0->en-core-web-sm==3.0.0) (52.0.0.post20210125)\n",
      "Requirement already satisfied: packaging>=20.0 in c:\\users\\pauba\\anaconda3\\lib\\site-packages (from spacy<3.1.0,>=3.0.0->en-core-web-sm==3.0.0) (20.9)\n",
      "Requirement already satisfied: pydantic<1.8.0,>=1.7.1 in c:\\users\\pauba\\anaconda3\\lib\\site-packages (from spacy<3.1.0,>=3.0.0->en-core-web-sm==3.0.0) (1.7.3)\n",
      "Requirement already satisfied: pyparsing>=2.0.2 in c:\\users\\pauba\\anaconda3\\lib\\site-packages (from packaging>=20.0->spacy<3.1.0,>=3.0.0->en-core-web-sm==3.0.0) (2.4.7)\n",
      "Requirement already satisfied: smart-open<6.0.0,>=5.0.0 in c:\\users\\pauba\\anaconda3\\lib\\site-packages (from pathy>=0.3.5->spacy<3.1.0,>=3.0.0->en-core-web-sm==3.0.0) (5.2.1)\n",
      "Requirement already satisfied: urllib3<1.27,>=1.21.1 in c:\\users\\pauba\\anaconda3\\lib\\site-packages (from requests<3.0.0,>=2.13.0->spacy<3.1.0,>=3.0.0->en-core-web-sm==3.0.0) (1.26.4)\n",
      "Requirement already satisfied: certifi>=2017.4.17 in c:\\users\\pauba\\anaconda3\\lib\\site-packages (from requests<3.0.0,>=2.13.0->spacy<3.1.0,>=3.0.0->en-core-web-sm==3.0.0) (2020.12.5)\n",
      "Requirement already satisfied: idna<3,>=2.5 in c:\\users\\pauba\\anaconda3\\lib\\site-packages (from requests<3.0.0,>=2.13.0->spacy<3.1.0,>=3.0.0->en-core-web-sm==3.0.0) (2.10)\n",
      "Requirement already satisfied: chardet<5,>=3.0.2 in c:\\users\\pauba\\anaconda3\\lib\\site-packages (from requests<3.0.0,>=2.13.0->spacy<3.1.0,>=3.0.0->en-core-web-sm==3.0.0) (4.0.0)\n",
      "Requirement already satisfied: click<7.2.0,>=7.1.1 in c:\\users\\pauba\\anaconda3\\lib\\site-packages (from typer<0.4.0,>=0.3.0->spacy<3.1.0,>=3.0.0->en-core-web-sm==3.0.0) (7.1.2)\n",
      "Requirement already satisfied: MarkupSafe>=0.23 in c:\\users\\pauba\\anaconda3\\lib\\site-packages (from jinja2->spacy<3.1.0,>=3.0.0->en-core-web-sm==3.0.0) (1.1.1)\n",
      "[!] As of spaCy v3.0, shortcuts like 'en' are deprecated. Please use the full\n",
      "pipeline package name 'en_core_web_sm' instead.\n",
      "[+] Download and installation successful\n",
      "You can now load the package via spacy.load('en_core_web_sm')\n"
     ]
    }
   ],
   "source": [
    "#descagando spacy\n",
    "import sys\n",
    "!{sys.executable} -m pip install spacy\n",
    "!{sys.executable} -m spacy download en"
   ]
  },
  {
   "cell_type": "code",
   "execution_count": 32,
   "id": "191234d3-e5df-4132-b3df-66170bca0f7e",
   "metadata": {
    "scrolled": true,
    "tags": []
   },
   "outputs": [],
   "source": [
    "##TAGGEANDO EL LEMMA Y EL POS\n",
    "nouns=[]\n",
    "nlp = spacy.load(\"en_core_web_sm\")\n",
    "for oracion in flat_sentences_nopunc:\n",
    "    doc = nlp(oracion)\n",
    "\n",
    "    for token in doc:\n",
    "        ##print(token.text, token.lemma_, token.pos_, token.tag_)\n",
    "        if token.pos_ ==\"NOUN\":\n",
    "            nouns+=[token.text]\n",
    "nouns[:15]"
   ]
  },
  {
   "cell_type": "code",
   "execution_count": 33,
   "id": "b67f74a7-56b6-4013-a16c-a63653e8291f",
   "metadata": {},
   "outputs": [
    {
     "data": {
      "text/plain": [
       "True"
      ]
     },
     "execution_count": 33,
     "metadata": {},
     "output_type": "execute_result"
    }
   ],
   "source": [
    "#reglas de nominalization\n",
    "no_nom = 'thing', 'things', 'somethings', 'something', 'anything', 'everything', 'nothing', 'original', 'special', 'normal', 'version'\n",
    "terminacion = 'ment','ments','tions', 'tion','sions', 'sion', 'ibility','ibilities', 'ity','ities', 'ness','nesses', 'al','als','ings', 'ing'\n",
    "s='involvement'\n",
    "s.endswith(terminacion)"
   ]
  },
  {
   "cell_type": "code",
   "execution_count": 34,
   "id": "74b408c2-abe8-4953-9c21-98944fa9ad6c",
   "metadata": {},
   "outputs": [
    {
     "data": {
      "text/plain": [
       "359"
      ]
     },
     "execution_count": 34,
     "metadata": {},
     "output_type": "execute_result"
    }
   ],
   "source": [
    "#oraciones con POSIBLES nominalizaciones\n",
    "nominalization = []\n",
    "for oracion in sentences:\n",
    "     for word in oracion:\n",
    "        nom = False \n",
    "        for term in terminacion: \n",
    "                if word.endswith(term):\n",
    "                    nom = True \n",
    "                    if nom==True and word not in no_nom: \n",
    "                            nominalization +=[word]\n",
    "len(nominalization)   "
   ]
  },
  {
   "cell_type": "code",
   "execution_count": 35,
   "id": "1bf1a822-bd4d-4951-b09e-ba7a9aa3d752",
   "metadata": {
    "scrolled": true,
    "tags": []
   },
   "outputs": [
    {
     "data": {
      "text/plain": [
       "['that film er but i just wanted to show you er the cover that is the original',\n",
       " \"reason why er i'm talking about the er the Serie Noire writers er in relation\",\n",
       " 'to the films is is that they are on the one hand those indirect connections',\n",
       " 'and his er er body movements are very different from what you see in something',\n",
       " \"nf0069: what's interesting er about this er well many things are interesting\",\n",
       " 'the exception of Bob le Flambeur which was very much an independent production',\n",
       " 'where censorship was much less er intent on questions of morals of sexual',\n",
       " \"those films we're looking at this week are very important as a transitional\",\n",
       " \"sm0072: well 'cause i've never been candidate so er because because staying\",\n",
       " 'with the war and the German occupation of France er this is the a reading',\n",
       " 'quote unquote of contemporary French society a society which was er moving',\n",
       " \"years away from General de Gaulle's Fifth Republic and and the real\",\n",
       " \"realist films er of community of workers of producers who've become a community\",\n",
       " 'are littered with images of conspicuous consumption of wealth of high living',\n",
       " 'living of er er people drinking champagne or whisky in cabarets and er driving',\n",
       " \"even argue for that that's where he gets off so he argued that only a minimal\",\n",
       " \"that they add up to is [sniff] so it's a historical entitlement view no general\",\n",
       " 'of holdings from one person to another and third there has to be rectification',\n",
       " \"ad-, examples of such principles we've already come across like maximizing\",\n",
       " \"people who are entitled to them people's choices to transfer those entitlements\",\n",
       " 'be no distribution er redistribution',\n",
       " 'redistribution well a common answer is yes it is because once cooperation',\n",
       " 'occurs we can no longer disentangle er the contributions that each individual',\n",
       " 'critical',\n",
       " 'different case if you invent a new medicine and you charge people for supplying',\n",
       " 'might sound the practical',\n",
       " 'this fabulous basketball player and everybody is very enthusiastic about paying',\n",
       " 'simply assuming that an ideal starting point confers unqualified entitlements',\n",
       " 'natural endowments your natural abilities or disabilities your t-, natural',\n",
       " 'kind of principles that he Nozick likes they could never produce historical',\n",
       " 'pattern principle so he objects to this er choosing principles in the original',\n",
       " 'inconsistency in having a procedure that can only justify non-procedural',\n",
       " 'against ever er yielding procedural principles of justice and ty-, historical',\n",
       " 'that position',\n",
       " \"there aren't a lot of other universities doing\",\n",
       " \"following way you might think to yourselves well look it's a bit like engaging\"]"
      ]
     },
     "execution_count": 35,
     "metadata": {},
     "output_type": "execute_result"
    }
   ],
   "source": [
    "#10% de nominalicaciones para analizar\n",
    "nominalization[:36]"
   ]
  },
  {
   "cell_type": "code",
   "execution_count": 54,
   "id": "2f006ef7-3fa5-4f53-8a25-d299bb64f504",
   "metadata": {},
   "outputs": [],
   "source": [
    "import spacy"
   ]
  },
  {
   "cell_type": "code",
   "execution_count": 55,
   "id": "a9cee095-3499-4555-bfe8-15eb0aa76ee8",
   "metadata": {
    "scrolled": true,
    "tags": []
   },
   "outputs": [
    {
     "data": {
      "text/plain": [
       "['gangster',\n",
       " 'film',\n",
       " 'talks',\n",
       " 'name',\n",
       " 'genre',\n",
       " 'word',\n",
       " 'police',\n",
       " 'police',\n",
       " 'police',\n",
       " 'film',\n",
       " 'police',\n",
       " 'procedure',\n",
       " 'genres',\n",
       " 'co',\n",
       " 'films']"
      ]
     },
     "execution_count": 55,
     "metadata": {},
     "output_type": "execute_result"
    }
   ],
   "source": [
    "##TAGGEANDO EL LEMMA Y EL POS\n",
    "nouns=[]\n",
    "nlp = spacy.load(\"en_core_web_sm\")\n",
    "for oracion in flat_sentences_nopunc:\n",
    "    doc = nlp(oracion)\n",
    "\n",
    "    for token in doc:\n",
    "        ##print(token.text, token.lemma_, token.pos_, token.tag_)\n",
    "        if token.pos_ ==\"NOUN\":\n",
    "            nouns+=[token.text]\n",
    "nouns[:15]"
   ]
  },
  {
   "cell_type": "code",
   "execution_count": 56,
   "id": "01840ebe-706e-4c36-a567-adc457ff2514",
   "metadata": {},
   "outputs": [],
   "source": [
    "#lista POSIBLES nominalizaciones, solo palabras\n",
    "nom1= []\n",
    "for word in words:\n",
    "    for term in terminacion:\n",
    "        if word.endswith(term):\n",
    "            if word not in no_nom:\n",
    "                if word not in nom1:\n",
    "                    nom1+=[word]"
   ]
  },
  {
   "cell_type": "code",
   "execution_count": 57,
   "id": "4cffaae6-38c9-43cd-9e8b-8305fdc57980",
   "metadata": {},
   "outputs": [
    {
     "data": {
      "text/plain": [
       "['talking',\n",
       " 'beginning',\n",
       " 'going',\n",
       " 'hybridity',\n",
       " 'starting',\n",
       " 'Obsession',\n",
       " 'lettering',\n",
       " 'sexuality',\n",
       " 'during',\n",
       " 'notion',\n",
       " 'subverting',\n",
       " 'translation',\n",
       " 'several',\n",
       " 'telling',\n",
       " 'publishing']"
      ]
     },
     "execution_count": 57,
     "metadata": {},
     "output_type": "execute_result"
    }
   ],
   "source": [
    "nom1[:15]"
   ]
  },
  {
   "cell_type": "code",
   "execution_count": 58,
   "id": "9b5128b1-7eb6-405a-889a-d233dd92887a",
   "metadata": {},
   "outputs": [
    {
     "data": {
      "text/plain": [
       "1075"
      ]
     },
     "execution_count": 58,
     "metadata": {},
     "output_type": "execute_result"
    }
   ],
   "source": [
    "len(nom1)"
   ]
  },
  {
   "cell_type": "code",
   "execution_count": 59,
   "id": "77216ed6-38e9-4f2f-a407-5b5114e44ef1",
   "metadata": {},
   "outputs": [],
   "source": [
    "#abriendo la lista de palabras academicas\n",
    "with open('AcademicWordList.txt') as f:\n",
    "    AWL=f.read()"
   ]
  },
  {
   "cell_type": "code",
   "execution_count": 60,
   "id": "cedac1ca-064d-4e34-ab9b-9779c0affcee",
   "metadata": {},
   "outputs": [],
   "source": [
    "#dividir por salto de linea\n",
    "AWL= AWL.split('\\n')"
   ]
  },
  {
   "cell_type": "code",
   "execution_count": 61,
   "id": "a6945ef3-8ed8-43ef-a8da-26c8523231b3",
   "metadata": {},
   "outputs": [],
   "source": [
    "##palabras uncias\n",
    "\n",
    "for palabra in AWL:\n",
    "    if palabra not in AWL:\n",
    "        AWL += [palabra]"
   ]
  },
  {
   "cell_type": "code",
   "execution_count": 62,
   "id": "97350caa-9f80-4dac-8634-9a3b20f2be08",
   "metadata": {},
   "outputs": [
    {
     "data": {
      "text/plain": [
       "['analysis',\n",
       " 'approach',\n",
       " 'area',\n",
       " 'assessment',\n",
       " 'assume',\n",
       " 'authority',\n",
       " 'available',\n",
       " 'benefit',\n",
       " 'concept',\n",
       " 'consistent']"
      ]
     },
     "execution_count": 62,
     "metadata": {},
     "output_type": "execute_result"
    }
   ],
   "source": [
    "AWL[:10]"
   ]
  },
  {
   "cell_type": "code",
   "execution_count": 63,
   "id": "6f0e3d5f-0bc8-4dd7-aca2-111f73063e95",
   "metadata": {},
   "outputs": [
    {
     "data": {
      "text/plain": [
       "['analysis',\n",
       " 'approach',\n",
       " 'area',\n",
       " 'assessment',\n",
       " 'assume',\n",
       " 'authority',\n",
       " 'available',\n",
       " 'benefit',\n",
       " 'concept',\n",
       " 'consistent']"
      ]
     },
     "execution_count": 63,
     "metadata": {},
     "output_type": "execute_result"
    }
   ],
   "source": [
    "##eliminar espacios en blanco\n",
    "AWL = [palabra for palabra in AWL if len(palabra)>0]\n",
    "AWL[:10]"
   ]
  },
  {
   "cell_type": "code",
   "execution_count": 64,
   "id": "7b63c94c-ab3d-4d44-aa23-a54d50e111a1",
   "metadata": {},
   "outputs": [],
   "source": [
    "AWL_dic={palabra:0 for palabra in AWL}"
   ]
  },
  {
   "cell_type": "code",
   "execution_count": 65,
   "id": "60219606-8651-4e0d-a122-5a496599ffe8",
   "metadata": {},
   "outputs": [],
   "source": [
    "for palabra in words:\n",
    "    if palabra in AWL:    \n",
    "        AWL_dic[palabra]+=1"
   ]
  },
  {
   "cell_type": "code",
   "execution_count": 66,
   "id": "55cf0947-bb3f-42af-a38b-c40636b0ad7c",
   "metadata": {
    "scrolled": true,
    "tags": []
   },
   "outputs": [
    {
     "data": {
      "text/plain": [
       "{'analysis': 7,\n",
       " 'approach': 6,\n",
       " 'area': 17,\n",
       " 'assessment': 0,\n",
       " 'assume': 8,\n",
       " 'authority': 4,\n",
       " 'available': 5,\n",
       " 'benefit': 5,\n",
       " 'concept': 0,\n",
       " 'consistent': 0,\n",
       " 'constitutional': 0,\n",
       " 'context': 34,\n",
       " 'contract': 3,\n",
       " 'create': 7,\n",
       " 'data': 1,\n",
       " 'definition': 2,\n",
       " 'derived': 0,\n",
       " 'distribution': 9,\n",
       " 'economic': 67,\n",
       " 'environment': 7,\n",
       " 'established': 2,\n",
       " 'estimate': 0,\n",
       " 'evidence': 0,\n",
       " 'export': 13,\n",
       " 'factors': 15,\n",
       " 'financial': 9,\n",
       " 'formula': 0,\n",
       " 'function': 3,\n",
       " 'identified': 1,\n",
       " 'income': 9,\n",
       " 'indicate': 0,\n",
       " 'individual': 11,\n",
       " 'interpretation': 0,\n",
       " 'involved': 13,\n",
       " 'issues': 21,\n",
       " 'labour': 107,\n",
       " 'legal': 4,\n",
       " 'legislation': 3,\n",
       " 'major': 35,\n",
       " 'method': 0,\n",
       " 'occur': 2,\n",
       " 'percent': 0,\n",
       " 'period': 42,\n",
       " 'policy': 47,\n",
       " 'principle': 23,\n",
       " '\\x0cprocedure': 0,\n",
       " 'process': 10,\n",
       " 'required': 5,\n",
       " 'research': 1,\n",
       " 'response': 4,\n",
       " 'role': 15,\n",
       " 'section': 3,\n",
       " 'sector': 17,\n",
       " 'significant': 7,\n",
       " 'similar': 11,\n",
       " 'source': 5,\n",
       " 'specific': 7,\n",
       " 'structure': 10,\n",
       " 'theory': 55,\n",
       " 'variables': 0,\n",
       " 'achieve': 6,\n",
       " 'acquisition': 3,\n",
       " 'administration': 5,\n",
       " 'affect': 0,\n",
       " 'appropriate': 5,\n",
       " 'aspects': 8,\n",
       " 'assistance': 1,\n",
       " 'categories': 0,\n",
       " 'chapter': 2,\n",
       " 'commission': 0,\n",
       " 'community': 14,\n",
       " 'complex': 7,\n",
       " 'computer': 4,\n",
       " 'conclusion': 1,\n",
       " 'conduct': 3,\n",
       " 'consequences': 2,\n",
       " 'construction': 0,\n",
       " 'consumer': 9,\n",
       " 'credit': 2,\n",
       " 'cultural': 9,\n",
       " 'design': 4,\n",
       " 'distinction': 7,\n",
       " 'elements': 17,\n",
       " 'equation': 1,\n",
       " 'evaluation': 0,\n",
       " 'features': 1,\n",
       " 'final': 5,\n",
       " 'focus': 13,\n",
       " 'impact': 12,\n",
       " 'injury': 1,\n",
       " 'institute': 0,\n",
       " 'investment': 15,\n",
       " 'items': 1,\n",
       " 'journal': 0,\n",
       " 'maintenance': 0,\n",
       " 'normal': 4,\n",
       " 'obtained': 0,\n",
       " 'participation': 0,\n",
       " 'perceived': 7,\n",
       " 'positive': 6,\n",
       " 'potential': 3,\n",
       " 'previous': 5,\n",
       " 'primary': 9,\n",
       " 'purchase': 0,\n",
       " 'range': 0,\n",
       " '\\x0cregion': 0,\n",
       " 'regulations': 2,\n",
       " 'relevant': 6,\n",
       " 'resident': 0,\n",
       " 'resources': 17,\n",
       " 'restricted': 1,\n",
       " 'security': 1,\n",
       " 'sought': 2,\n",
       " 'select': 0,\n",
       " 'site': 0,\n",
       " 'strategies': 0,\n",
       " 'survey': 0,\n",
       " 'text': 5,\n",
       " 'traditional': 1,\n",
       " 'transfer': 15,\n",
       " 'alternative': 6,\n",
       " 'circumstances': 1,\n",
       " 'comments': 1,\n",
       " 'compensation': 0,\n",
       " 'components': 0,\n",
       " 'consent': 0,\n",
       " 'considerable': 5,\n",
       " 'constant': 2,\n",
       " 'constraints': 0,\n",
       " 'contribution': 0,\n",
       " 'convention': 7,\n",
       " 'coordination': 8,\n",
       " 'core': 5,\n",
       " 'corporate': 1,\n",
       " 'corresponding': 1,\n",
       " 'criteria': 3,\n",
       " 'deduction': 0,\n",
       " 'demonstrate': 0,\n",
       " 'document': 1,\n",
       " 'dominant': 7,\n",
       " 'emphasis': 10,\n",
       " 'ensure': 4,\n",
       " 'excluded': 0,\n",
       " 'framework': 1,\n",
       " 'funds': 1,\n",
       " 'illustrated': 0,\n",
       " 'immigration': 15,\n",
       " 'implies': 0,\n",
       " 'initial': 1,\n",
       " 'instance': 13,\n",
       " 'interaction': 0,\n",
       " 'justification': 6,\n",
       " 'layer': 0,\n",
       " 'link': 3,\n",
       " 'location': 14,\n",
       " 'maximum': 6,\n",
       " 'minorities': 11,\n",
       " 'negative': 7,\n",
       " 'outcomes': 4,\n",
       " 'partnership': 0,\n",
       " 'philosophy': 1,\n",
       " 'physical': 1,\n",
       " 'proportion': 1,\n",
       " 'published': 9,\n",
       " 'reaction': 0,\n",
       " '\\x0cregistered': 0,\n",
       " 'reliance': 1,\n",
       " 'removed': 0,\n",
       " 'scheme': 7,\n",
       " 'sequence': 9,\n",
       " 'sex': 1,\n",
       " 'shift': 14,\n",
       " 'specified': 0,\n",
       " 'sufficient': 0,\n",
       " 'task': 0,\n",
       " 'technical': 3,\n",
       " 'techniques': 0,\n",
       " 'technology': 18,\n",
       " 'validity': 0,\n",
       " 'volume': 1,\n",
       " 'access': 6,\n",
       " 'adequate': 2,\n",
       " 'annual': 0,\n",
       " 'apparent': 2,\n",
       " 'approximated': 0,\n",
       " 'attitudes': 0,\n",
       " 'attributed': 0,\n",
       " 'civil': 9,\n",
       " 'code': 1,\n",
       " 'commitment': 4,\n",
       " 'communication': 1,\n",
       " 'concentration': 2,\n",
       " 'conference': 0,\n",
       " 'contrast': 11,\n",
       " 'cycle': 2,\n",
       " 'debate': 5,\n",
       " 'despite': 9,\n",
       " 'dimensions': 2,\n",
       " 'domestic': 3,\n",
       " 'emerged': 3,\n",
       " 'error': 0,\n",
       " 'ethnic': 18,\n",
       " 'goals': 1,\n",
       " 'granted': 1,\n",
       " 'hence': 2,\n",
       " 'hypothesis': 0,\n",
       " 'implementation': 2,\n",
       " 'implications': 3,\n",
       " 'imposed': 1,\n",
       " 'integration': 5,\n",
       " 'internal': 2,\n",
       " 'investigation': 0,\n",
       " 'job': 7,\n",
       " 'label': 0,\n",
       " 'mechanism': 7,\n",
       " 'obvious': 10,\n",
       " 'occupational': 1,\n",
       " 'option': 2,\n",
       " 'output': 5,\n",
       " 'overall': 12,\n",
       " 'parallel': 1,\n",
       " 'parameters': 0,\n",
       " 'phase': 0,\n",
       " 'predicted': 0,\n",
       " 'principal': 0,\n",
       " '\\x0cprior': 0,\n",
       " 'professional': 20,\n",
       " 'project': 1,\n",
       " 'promote': 1,\n",
       " 'regime': 3,\n",
       " 'resolution': 1,\n",
       " 'retained': 0,\n",
       " 'series': 23,\n",
       " 'statistics': 0,\n",
       " 'status': 0,\n",
       " 'stress': 1,\n",
       " 'subsequent': 0,\n",
       " 'sum': 6,\n",
       " 'summary': 4,\n",
       " 'undertaken': 1,\n",
       " 'academic': 0,\n",
       " 'adjustment': 20,\n",
       " 'alter': 0,\n",
       " 'amendment': 0,\n",
       " 'aware': 4,\n",
       " 'capacity': 8,\n",
       " 'challenge': 1,\n",
       " 'clause': 0,\n",
       " 'compounds': 0,\n",
       " 'conflict': 5,\n",
       " 'consultation': 1,\n",
       " 'contact': 1,\n",
       " 'decline': 4,\n",
       " 'discretion': 0,\n",
       " 'draft': 0,\n",
       " 'enable': 0,\n",
       " 'energy': 1,\n",
       " 'enforcement': 0,\n",
       " 'entities': 0,\n",
       " 'equivalent': 5,\n",
       " 'evolution': 0,\n",
       " 'expansion': 3,\n",
       " 'exposure': 1,\n",
       " 'external': 1,\n",
       " 'facilitate': 0,\n",
       " 'fundamental': 4,\n",
       " 'generated': 5,\n",
       " 'generation': 5,\n",
       " 'image': 10,\n",
       " 'liberal': 0,\n",
       " 'licence': 0,\n",
       " 'logic': 0,\n",
       " 'marginal': 3,\n",
       " 'medical': 64,\n",
       " 'mental': 1,\n",
       " 'modified': 0,\n",
       " 'monitoring': 1,\n",
       " 'network': 7,\n",
       " 'notion': 12,\n",
       " 'objective': 6,\n",
       " 'orientation': 0,\n",
       " 'perspective': 4,\n",
       " 'precise': 2,\n",
       " 'prime': 2,\n",
       " 'psychology': 0,\n",
       " '\\x0cpursue': 0,\n",
       " 'ratio': 2,\n",
       " 'rejected': 0,\n",
       " 'revenue': 2,\n",
       " 'stability': 4,\n",
       " 'styles': 2,\n",
       " 'substitution': 0,\n",
       " 'sustainable': 1,\n",
       " 'symbolic': 1,\n",
       " 'target': 3,\n",
       " 'transition': 6,\n",
       " 'trend': 7,\n",
       " 'version': 8,\n",
       " 'welfare': 11,\n",
       " 'whereas': 11,\n",
       " 'abstract': 2,\n",
       " 'accurate': 0,\n",
       " 'acknowledged': 2,\n",
       " 'aggregate': 6,\n",
       " 'allocation': 2,\n",
       " 'assigned': 0,\n",
       " 'attached': 7,\n",
       " 'author': 0,\n",
       " 'bond': 0,\n",
       " 'brief': 4,\n",
       " 'capable': 1,\n",
       " 'cited': 0,\n",
       " 'cooperative': 2,\n",
       " 'discrimination': 29,\n",
       " 'display': 0,\n",
       " 'diversity': 7,\n",
       " 'domain': 0,\n",
       " 'edition': 0,\n",
       " 'enhanced': 0,\n",
       " 'estate': 2,\n",
       " 'exceed': 0,\n",
       " 'expert': 0,\n",
       " 'explicit': 12,\n",
       " 'federal': 0,\n",
       " 'fees': 2,\n",
       " 'flexibility': 8,\n",
       " 'furthermore': 0,\n",
       " 'gender': 2,\n",
       " 'ignored': 1,\n",
       " 'incentive': 11,\n",
       " 'incidence': 0,\n",
       " 'incorporated': 0,\n",
       " 'index': 0,\n",
       " 'inhibition': 0,\n",
       " 'initiatives': 4,\n",
       " 'input': 3,\n",
       " 'instructions': 0,\n",
       " 'intelligence': 0,\n",
       " 'interval': 0,\n",
       " 'lecture': 20,\n",
       " 'migration': 1,\n",
       " 'minimum': 2,\n",
       " 'ministry': 1,\n",
       " 'motivation': 1,\n",
       " 'neutral': 1,\n",
       " '\\x0cnevertheless': 0,\n",
       " 'overseas': 1,\n",
       " 'preceding': 0,\n",
       " 'presumption': 0,\n",
       " 'rational': 1,\n",
       " 'recovery': 0,\n",
       " 'revealed': 0,\n",
       " 'scope': 0,\n",
       " 'subsidiary': 3,\n",
       " 'tapes': 0,\n",
       " 'trace': 1,\n",
       " 'transformation': 3,\n",
       " 'transport': 4,\n",
       " 'underlying': 4,\n",
       " 'utility': 1,\n",
       " 'adaptation': 1,\n",
       " 'adults': 2,\n",
       " 'advocate': 0,\n",
       " 'aid': 9,\n",
       " 'channel': 0,\n",
       " 'chemical': 0,\n",
       " 'classical': 3,\n",
       " 'comprehensive': 0,\n",
       " 'comprise': 0,\n",
       " 'confirmed': 0,\n",
       " 'contrary': 2,\n",
       " 'converted': 0,\n",
       " 'couple': 12,\n",
       " 'decades': 3,\n",
       " 'definite': 0,\n",
       " 'deny': 3,\n",
       " 'differentiation': 3,\n",
       " 'disposal': 0,\n",
       " 'dynamic': 0,\n",
       " 'eliminate': 0,\n",
       " 'empirical': 3,\n",
       " 'equipment': 3,\n",
       " 'extract': 9,\n",
       " 'file': 0,\n",
       " 'finite': 0,\n",
       " 'foundation': 1,\n",
       " 'global': 9,\n",
       " 'grade': 0,\n",
       " 'guarantee': 3,\n",
       " 'hierarchical': 1,\n",
       " 'identical': 1,\n",
       " 'ideology': 2,\n",
       " 'inferred': 0,\n",
       " 'innovation': 4,\n",
       " 'insert': 0,\n",
       " 'intervention': 5,\n",
       " 'isolated': 1,\n",
       " 'media': 1,\n",
       " 'mode': 21,\n",
       " 'paradigm': 0,\n",
       " 'phenomenon': 5,\n",
       " 'priority': 2,\n",
       " 'prohibited': 0,\n",
       " 'publication': 0,\n",
       " '\\x0cquotation': 0,\n",
       " 'release': 0,\n",
       " 'reverse': 3,\n",
       " 'simulation': 0,\n",
       " 'solely': 0,\n",
       " 'somewhat': 0,\n",
       " 'submitted': 0,\n",
       " 'successive': 0,\n",
       " 'survive': 0,\n",
       " 'thesis': 0,\n",
       " 'topic': 6,\n",
       " 'transmission': 0,\n",
       " 'ultimately': 0,\n",
       " 'unique': 0,\n",
       " 'visible': 1,\n",
       " 'voluntary': 5,\n",
       " 'abandon': 1,\n",
       " 'accompanied': 1,\n",
       " 'accumulation': 1,\n",
       " 'ambiguous': 3,\n",
       " 'appendix': 0,\n",
       " 'appreciation': 0,\n",
       " 'arbitrary': 19,\n",
       " 'automatically': 0,\n",
       " 'bias': 3,\n",
       " 'chart': 0,\n",
       " 'clarity': 0,\n",
       " 'conformity': 0,\n",
       " 'commodity': 8,\n",
       " 'complement': 0,\n",
       " 'contemporary': 4,\n",
       " 'contradiction': 0,\n",
       " 'crucial': 3,\n",
       " 'currency': 6,\n",
       " 'denote': 0,\n",
       " 'detected': 1,\n",
       " 'deviation': 0,\n",
       " 'displacement': 2,\n",
       " 'dramatic': 5,\n",
       " 'eventually': 2,\n",
       " 'exhibit': 0,\n",
       " 'exploitation': 2,\n",
       " 'fluctuations': 0,\n",
       " 'guidelines': 0,\n",
       " 'highlighted': 1,\n",
       " 'implicit': 0,\n",
       " 'induced': 0,\n",
       " 'inevitably': 1,\n",
       " 'infrastructure': 0,\n",
       " 'inspection': 0,\n",
       " 'intensity': 1,\n",
       " 'manipulation': 0,\n",
       " 'minimised': 0,\n",
       " 'nuclear': 5,\n",
       " 'offset': 0,\n",
       " 'paragraph': 0,\n",
       " 'plus': 1,\n",
       " 'practitioners': 0,\n",
       " 'predominantly': 0,\n",
       " 'prospect': 2,\n",
       " '\\x0cradical': 0,\n",
       " 'random': 0,\n",
       " 'reinforced': 0,\n",
       " 'restore': 0,\n",
       " 'revision': 0,\n",
       " 'schedule': 2,\n",
       " 'tension': 2,\n",
       " 'termination': 0,\n",
       " 'theme': 8,\n",
       " 'thereby': 1,\n",
       " 'uniform': 0,\n",
       " 'vehicle': 0,\n",
       " 'via': 1,\n",
       " 'virtually': 4,\n",
       " 'widespread': 2,\n",
       " 'visual': 1,\n",
       " 'accommodation': 0,\n",
       " 'analogous': 0,\n",
       " 'anticipated': 0,\n",
       " 'assurance': 0,\n",
       " 'attained': 0,\n",
       " 'behalf': 4,\n",
       " 'bulk': 0,\n",
       " 'ceases': 0,\n",
       " 'coherence': 0,\n",
       " 'coincide': 0,\n",
       " 'commenced': 0,\n",
       " 'incompatible': 0,\n",
       " 'concurrent': 0,\n",
       " 'confined': 3,\n",
       " 'controversy': 2,\n",
       " 'conversely': 0,\n",
       " 'device': 0,\n",
       " 'devoted': 0,\n",
       " 'diminished': 0,\n",
       " 'distorted/distortion - equal figures': 0,\n",
       " 'duration': 0,\n",
       " 'erosion': 0,\n",
       " 'ethical': 0,\n",
       " 'format': 0,\n",
       " 'founded': 2,\n",
       " 'inherent': 0,\n",
       " 'insights': 0,\n",
       " 'integral': 0,\n",
       " 'intermediate': 0,\n",
       " 'manual': 10,\n",
       " 'mature': 0,\n",
       " 'mediation': 0,\n",
       " 'medium': 2,\n",
       " 'military': 1,\n",
       " 'minimal': 3,\n",
       " 'mutual': 0,\n",
       " 'norms': 0,\n",
       " 'overlap': 0,\n",
       " 'passive': 0,\n",
       " 'portion': 0,\n",
       " 'preliminary': 0,\n",
       " 'protocol': 0,\n",
       " 'qualitative': 0,\n",
       " 'refine': 0,\n",
       " 'relaxed': 0,\n",
       " '\\x0crestraints': 0,\n",
       " 'revolution': 4,\n",
       " 'rigid': 0,\n",
       " 'route': 11,\n",
       " 'scenario': 0,\n",
       " 'sphere': 0,\n",
       " 'subordinate': 0,\n",
       " 'supplementary': 0,\n",
       " 'suspended': 2,\n",
       " 'team': 2,\n",
       " 'temporary': 5,\n",
       " 'trigger': 0,\n",
       " 'unified': 0,\n",
       " 'violation': 0,\n",
       " 'vision': 2,\n",
       " 'adjacent': 0,\n",
       " 'albeit': 0,\n",
       " 'assembly': 0,\n",
       " 'collapse': 2,\n",
       " 'colleagues': 1,\n",
       " 'compiled': 0,\n",
       " 'conceived': 0,\n",
       " 'convinced': 0,\n",
       " 'depression': 1,\n",
       " 'encountered': 0,\n",
       " 'enormous': 5,\n",
       " 'forthcoming': 1,\n",
       " 'inclination': 0,\n",
       " 'integrity': 0,\n",
       " 'intrinsic': 0,\n",
       " 'invoked': 0,\n",
       " 'levy': 0,\n",
       " 'likewise': 0,\n",
       " 'nonetheless': 18,\n",
       " 'notwithstanding': 0,\n",
       " 'odd': 2,\n",
       " 'ongoing': 0,\n",
       " 'panel': 0,\n",
       " 'persistent': 1,\n",
       " 'posed': 1,\n",
       " 'reluctant': 0,\n",
       " 'so-called': 0,\n",
       " 'straightforward': 2,\n",
       " 'undergo': 0,\n",
       " 'whereby': 2}"
      ]
     },
     "execution_count": 66,
     "metadata": {},
     "output_type": "execute_result"
    }
   ],
   "source": [
    "AWL_dic"
   ]
  },
  {
   "cell_type": "code",
   "execution_count": 67,
   "id": "2ef89fc9-7299-4dd6-a760-580948b5e251",
   "metadata": {},
   "outputs": [
    {
     "name": "stdout",
     "output_type": "stream",
     "text": [
      "2043\n"
     ]
    }
   ],
   "source": [
    "values = sum(AWL_dic.values())\n",
    "print(values)"
   ]
  },
  {
   "cell_type": "code",
   "execution_count": 68,
   "id": "14b8240b-0e3d-4521-97ac-cfadbb6137cf",
   "metadata": {},
   "outputs": [
    {
     "data": {
      "text/plain": [
       "3.1557972133831753"
      ]
     },
     "execution_count": 68,
     "metadata": {},
     "output_type": "execute_result"
    }
   ],
   "source": [
    "values/len(words)*100"
   ]
  },
  {
   "cell_type": "code",
   "execution_count": 69,
   "id": "ed3e3702-d33a-46dc-8e27-976075bad32a",
   "metadata": {},
   "outputs": [
    {
     "data": {
      "text/plain": [
       "585"
      ]
     },
     "execution_count": 69,
     "metadata": {},
     "output_type": "execute_result"
    }
   ],
   "source": [
    "#lista POSIBLES nominalizaciones, solo palabras\n",
    "nom1= []\n",
    "for word in words:\n",
    "    for term in terminacion:\n",
    "        if word.endswith(term):\n",
    "            if word not in no_nom:\n",
    "                if word not in nom1:\n",
    "                    if word in nouns:\n",
    "                        nom1+=[word]\n",
    "len(nom1)"
   ]
  },
  {
   "cell_type": "code",
   "execution_count": 70,
   "id": "2a066119-3740-49c7-be17-8de15953d97a",
   "metadata": {},
   "outputs": [
    {
     "data": {
      "text/plain": [
       "0.9036423738762397"
      ]
     },
     "execution_count": 70,
     "metadata": {},
     "output_type": "execute_result"
    }
   ],
   "source": [
    "len(nom1)/len(words)*100"
   ]
  },
  {
   "cell_type": "code",
   "execution_count": null,
   "id": "a38d26c4-6d62-4d09-8b26-495f4edf6f63",
   "metadata": {},
   "outputs": [],
   "source": []
  }
 ],
 "metadata": {
  "kernelspec": {
   "display_name": "Python 3",
   "language": "python",
   "name": "python3"
  },
  "language_info": {
   "codemirror_mode": {
    "name": "ipython",
    "version": 3
   },
   "file_extension": ".py",
   "mimetype": "text/x-python",
   "name": "python",
   "nbconvert_exporter": "python",
   "pygments_lexer": "ipython3",
   "version": "3.8.8"
  }
 },
 "nbformat": 4,
 "nbformat_minor": 5
}
