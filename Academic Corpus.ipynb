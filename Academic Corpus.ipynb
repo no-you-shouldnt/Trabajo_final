{
 "cells": [
  {
   "cell_type": "code",
   "execution_count": 1,
   "id": "46f66689-95d3-41d7-bed2-b5fb41cfb504",
   "metadata": {},
   "outputs": [],
   "source": [
    "#leyendo texto 1 de prueba\n",
    "#este en realidad ya no sirve pero lo dejo como evidencia de que se hizo prueba con este texto\n",
    "\n",
    "with open('Academic/nf0069.txt') as f:\n",
    "    contents=f.read()"
   ]
  },
  {
   "cell_type": "code",
   "execution_count": 2,
   "id": "e77a1645-ebe1-4dcc-8b51-4d00b960803f",
   "metadata": {},
   "outputs": [],
   "source": [
    "##Abriendo corpus\n",
    "import glob\n",
    "lista_files = glob.glob('Academic/*.txt')\n",
    "corpus = []\n",
    "\n",
    "for file in lista_files:\n",
    "     with open(file, 'r') as file_input:\n",
    "         corpus+=[file_input.read()]"
   ]
  },
  {
   "cell_type": "code",
   "execution_count": 3,
   "id": "402931af-666f-406f-93c6-507dc9ef1283",
   "metadata": {},
   "outputs": [],
   "source": [
    "##quitar cosas () y []\n",
    "##crear funcion\n",
    "def a(test_str):\n",
    "    ret = ''\n",
    "    skip1c = 0\n",
    "    skip2c = 0\n",
    "    for i in test_str:\n",
    "        if i == '[':\n",
    "            skip1c += 1\n",
    "        elif i == '(':\n",
    "            skip2c += 1\n",
    "        elif i == ']' and skip1c > 0:\n",
    "            skip1c -= 1\n",
    "        elif i == ')'and skip2c > 0:\n",
    "            skip2c -= 1\n",
    "        elif skip1c == 0 and skip2c == 0:\n",
    "            ret += i\n",
    "    return ret"
   ]
  },
  {
   "cell_type": "code",
   "execution_count": 4,
   "id": "1f36376d-5e73-4c7e-9484-4deb5ff27d5d",
   "metadata": {},
   "outputs": [],
   "source": [
    "##quitar los () y []\n",
    "corpus = a(corpus)"
   ]
  },
  {
   "cell_type": "code",
   "execution_count": 5,
   "id": "f743ede8-6903-4b79-bb8f-d89e18433842",
   "metadata": {},
   "outputs": [],
   "source": [
    "#dividir por salto de linea\n",
    "corpus= corpus.split('\\n')"
   ]
  },
  {
   "cell_type": "code",
   "execution_count": 6,
   "id": "93e11fbb-c7c5-4b87-b9bb-445f7151884c",
   "metadata": {},
   "outputs": [
    {
     "data": {
      "text/plain": [
       "['nf0069: when talking about the French gangster film very often and ',\n",
       " \"paradoxically in French one talks about the policier that's the name of the \",\n",
       " 'genre so when you you see the word policier er I-E police which relates to the ',\n",
       " \"police it doesn't necessarily mean that it's to do with a police film or police \",\n",
       " \"procedure as the you have in the American genres but it's co-, covers all er \",\n",
       " 'virtually all the films er to do with crime er pretty much from the nineteen-',\n",
       " 'fifties onwards so er a gangster film and a police film will both be called ',\n",
       " \"policier in French and sometimes you'll see the in slang this becomes polar er \",\n",
       " \"i'm sorry i hope it's not too awkward if i move er polar is P-O-L-A-R er is yep \",\n",
       " 'sf0070: sorry ',\n",
       " \"nf0069: okay we're just beginning polar is the slang word for policier so le \",\n",
       " 'polar refers to the genre of the police crime gangster movie in French er ',\n",
       " 'specifically from the nineteen-fifties late forties fifties onwards and so that ',\n",
       " 'i will ',\n",
       " 'talk today about a particular genre or subgenre of French crime films and film ']"
      ]
     },
     "execution_count": 6,
     "metadata": {},
     "output_type": "execute_result"
    }
   ],
   "source": [
    "corpus[:15]"
   ]
  },
  {
   "cell_type": "code",
   "execution_count": 7,
   "id": "4ef2d9cb-3d8e-4970-88a6-09973b6659dd",
   "metadata": {},
   "outputs": [
    {
     "data": {
      "text/plain": [
       "5032"
      ]
     },
     "execution_count": 7,
     "metadata": {},
     "output_type": "execute_result"
    }
   ],
   "source": [
    "len(corpus)"
   ]
  },
  {
   "cell_type": "code",
   "execution_count": 8,
   "id": "7d017f88-9694-4ef2-bce5-9c3ee0731281",
   "metadata": {},
   "outputs": [],
   "source": [
    "#dividir en oraciones, importar la funcion\n",
    "from nltk import sent_tokenize\n",
    "\n",
    "#dividir en oraciones\n",
    "sentences = []\n",
    "for sentence in corpus:\n",
    "    sent_token = sent_tokenize(sentence)\n",
    "    sentences+=[sent_token]"
   ]
  },
  {
   "cell_type": "code",
   "execution_count": 9,
   "id": "16cbf737-7de4-44f1-be94-fd36a434214a",
   "metadata": {},
   "outputs": [
    {
     "data": {
      "text/plain": [
       "5032"
      ]
     },
     "execution_count": 9,
     "metadata": {},
     "output_type": "execute_result"
    }
   ],
   "source": [
    "#número de oraciones\n",
    "len(sentences)"
   ]
  },
  {
   "cell_type": "code",
   "execution_count": 10,
   "id": "553702dd-c90b-4c99-bdf3-f7938caf6b20",
   "metadata": {},
   "outputs": [
    {
     "data": {
      "text/plain": [
       "629.0"
      ]
     },
     "execution_count": 10,
     "metadata": {},
     "output_type": "execute_result"
    }
   ],
   "source": [
    "len(sentences)/8"
   ]
  },
  {
   "cell_type": "code",
   "execution_count": 11,
   "id": "fadb5b99-124e-47b2-a6f6-bd4a5996f8bd",
   "metadata": {},
   "outputs": [
    {
     "data": {
      "text/plain": [
       "True"
      ]
     },
     "execution_count": 11,
     "metadata": {},
     "output_type": "execute_result"
    }
   ],
   "source": [
    "#reglas de nominalization\n",
    "no_nom = 'thing', 'things', 'somethings', 'something', 'anything', 'everything', 'nothing','original', 'special', 'normal', 'version'\n",
    "terminacion = 'ment','ments','tions', 'tion','sions', 'sion', 'ibility','ibilities', 'ity','ities', 'ness','nesses', 'al','als','ings', 'ing' \n",
    "s='involvement'\n",
    "s.endswith(terminacion)"
   ]
  },
  {
   "cell_type": "code",
   "execution_count": 12,
   "id": "15509e8b-de88-4a43-8d43-0c514615fded",
   "metadata": {},
   "outputs": [
    {
     "data": {
      "text/plain": [
       "358"
      ]
     },
     "execution_count": 12,
     "metadata": {},
     "output_type": "execute_result"
    }
   ],
   "source": [
    "#oraciones con POSIBLES nominalizaciones\n",
    "nominalization = []\n",
    "for oracion in sentences:\n",
    "    for word in oracion:\n",
    "        if word.endswith(terminacion):\n",
    "            nominalization +=[word]\n",
    "len(nominalization)"
   ]
  },
  {
   "cell_type": "code",
   "execution_count": 13,
   "id": "1b641166-1b25-4856-abe2-3849bbe23ea9",
   "metadata": {
    "scrolled": true,
    "tags": []
   },
   "outputs": [
    {
     "data": {
      "text/plain": [
       "['that film er but i just wanted to show you er the cover that is the original',\n",
       " \"reason why er i'm talking about the er the Serie Noire writers er in relation\",\n",
       " 'to the films is is that they are on the one hand those indirect connections',\n",
       " 'and his er er body movements are very different from what you see in something',\n",
       " \"nf0069: what's interesting er about this er well many things are interesting\",\n",
       " 'the exception of Bob le Flambeur which was very much an independent production',\n",
       " 'where censorship was much less er intent on questions of morals of sexual',\n",
       " \"those films we're looking at this week are very important as a transitional\",\n",
       " \"sm0072: well 'cause i've never been candidate so er because because staying\",\n",
       " 'with the war and the German occupation of France er this is the a reading',\n",
       " 'quote unquote of contemporary French society a society which was er moving',\n",
       " \"years away from General de Gaulle's Fifth Republic and and the real\",\n",
       " \"realist films er of community of workers of producers who've become a community\",\n",
       " 'are littered with images of conspicuous consumption of wealth of high living',\n",
       " 'living of er er people drinking champagne or whisky in cabarets and er driving',\n",
       " \"even argue for that that's where he gets off so he argued that only a minimal\",\n",
       " \"that they add up to is [sniff] so it's a historical entitlement view no general\",\n",
       " 'of holdings from one person to another and third there has to be rectification',\n",
       " \"ad-, examples of such principles we've already come across like maximizing\",\n",
       " \"people who are entitled to them people's choices to transfer those entitlements\",\n",
       " 'be no distribution er redistribution',\n",
       " 'redistribution well a common answer is yes it is because once cooperation',\n",
       " 'occurs we can no longer disentangle er the contributions that each individual',\n",
       " 'critical',\n",
       " 'different case if you invent a new medicine and you charge people for supplying',\n",
       " 'might sound the practical',\n",
       " 'this fabulous basketball player and everybody is very enthusiastic about paying',\n",
       " 'simply assuming that an ideal starting point confers unqualified entitlements',\n",
       " 'natural endowments your natural abilities or disabilities your t-, natural',\n",
       " 'kind of principles that he Nozick likes they could never produce historical',\n",
       " 'pattern principle so he objects to this er choosing principles in the original',\n",
       " 'inconsistency in having a procedure that can only justify non-procedural']"
      ]
     },
     "execution_count": 13,
     "metadata": {},
     "output_type": "execute_result"
    }
   ],
   "source": [
    "#10% para analizar\n",
    "nominalization[:32]"
   ]
  },
  {
   "cell_type": "code",
   "execution_count": 14,
   "id": "ca5ee245-42af-4170-a2db-a135842daf35",
   "metadata": {},
   "outputs": [
    {
     "data": {
      "text/plain": [
       "7.114467408585055"
      ]
     },
     "execution_count": 14,
     "metadata": {},
     "output_type": "execute_result"
    }
   ],
   "source": [
    "##porcentaje nominalizaciones\n",
    "len(nominalization)/len(sentences)*100"
   ]
  },
  {
   "cell_type": "code",
   "execution_count": 15,
   "id": "1655b5a4-0997-4fea-acf5-01949a50de97",
   "metadata": {},
   "outputs": [],
   "source": [
    "#aplanar la lista de strings\n",
    "flat_sentences = []\n",
    "for item in sentences:\n",
    "        for word in item:\n",
    "            flat_sentences+=[word]"
   ]
  },
  {
   "cell_type": "code",
   "execution_count": 16,
   "id": "f5d55da1-c3c7-44e4-92b0-3537cb9d1882",
   "metadata": {},
   "outputs": [],
   "source": [
    "#remover puntuación\n",
    "import re\n",
    "\n",
    "def remove_punctuation(s):\n",
    "    return re.sub(r'[^\\w\\s]','',s)"
   ]
  },
  {
   "cell_type": "code",
   "execution_count": 17,
   "id": "fe6362f5-0595-48e9-99d7-1d27fc2714f3",
   "metadata": {},
   "outputs": [],
   "source": [
    "flat_sentences_nopunc =[]\n",
    "\n",
    "for sent in flat_sentences:\n",
    "    flat_sentences_nopunc+=[remove_punctuation(sent)]"
   ]
  },
  {
   "cell_type": "code",
   "execution_count": 18,
   "id": "8c6c22f2-f4f2-46a1-aa89-d524980ca780",
   "metadata": {},
   "outputs": [
    {
     "data": {
      "text/plain": [
       "['nf0069 when talking about the French gangster film very often and',\n",
       " 'paradoxically in French one talks about the policier thats the name of the',\n",
       " 'genre so when you you see the word policier er IE police which relates to the',\n",
       " 'police it doesnt necessarily mean that its to do with a police film or police',\n",
       " 'procedure as the you have in the American genres but its co covers all er',\n",
       " 'virtually all the films er to do with crime er pretty much from the nineteen',\n",
       " 'fifties onwards so er a gangster film and a police film will both be called',\n",
       " 'policier in French and sometimes youll see the in slang this becomes polar er',\n",
       " 'im sorry i hope its not too awkward if i move er polar is POLAR er is yep',\n",
       " 'sf0070 sorry',\n",
       " 'nf0069 okay were just beginning polar is the slang word for policier so le',\n",
       " 'polar refers to the genre of the police crime gangster movie in French er',\n",
       " 'specifically from the nineteenfifties late forties fifties onwards and so that',\n",
       " 'i will',\n",
       " 'talk today about a particular genre or subgenre of French crime films and film']"
      ]
     },
     "execution_count": 18,
     "metadata": {},
     "output_type": "execute_result"
    }
   ],
   "source": [
    "flat_sentences_nopunc[:15]"
   ]
  },
  {
   "cell_type": "code",
   "execution_count": 19,
   "id": "b0b4af9b-7c6c-4d83-8b87-226a01d46384",
   "metadata": {
    "tags": []
   },
   "outputs": [
    {
     "data": {
      "text/plain": [
       "['nf0069',\n",
       " 'when',\n",
       " 'talking',\n",
       " 'about',\n",
       " 'the',\n",
       " 'French',\n",
       " 'gangster',\n",
       " 'film',\n",
       " 'very',\n",
       " 'often',\n",
       " 'and',\n",
       " 'paradoxically',\n",
       " 'in',\n",
       " 'French',\n",
       " 'one']"
      ]
     },
     "execution_count": 19,
     "metadata": {},
     "output_type": "execute_result"
    }
   ],
   "source": [
    "##SEPARAR POR PALABRAS\n",
    "words=[]\n",
    "for sentence in flat_sentences_nopunc:\n",
    "    for word in sentence.split(' '):\n",
    "        words+=[word]\n",
    "words[:15]"
   ]
  },
  {
   "cell_type": "code",
   "execution_count": 20,
   "id": "dd337ad6-9b34-4f0f-a6c2-a3efe7cc3dae",
   "metadata": {},
   "outputs": [
    {
     "data": {
      "text/plain": [
       "67236"
      ]
     },
     "execution_count": 20,
     "metadata": {},
     "output_type": "execute_result"
    }
   ],
   "source": [
    "len(words)"
   ]
  },
  {
   "cell_type": "code",
   "execution_count": 21,
   "id": "7216c2b4-e1ff-4908-9dc1-289328c9e301",
   "metadata": {},
   "outputs": [],
   "source": [
    "##eliminar lista de palabras que no sirve, como los codigos de dialogo y \"er\"\n",
    "stopwords = ['er', 'nf0069', 'nf1167', 'nm0063', 'nm0067', 'nm0969', 'nm1123', 'nm1166', 'nm1222']\n",
    "for word in list(words):\n",
    "    if word in stopwords:\n",
    "        words.remove(word)"
   ]
  },
  {
   "cell_type": "code",
   "execution_count": 22,
   "id": "7d0ccef1-e520-4c08-9b18-7976728577a1",
   "metadata": {},
   "outputs": [],
   "source": [
    "##eliminar espacios en blanco\n",
    "words = [palabra for palabra in words if len(palabra)>0]"
   ]
  },
  {
   "cell_type": "code",
   "execution_count": 23,
   "id": "1e57b022-2b33-4fdf-83bb-b3ae36391c72",
   "metadata": {},
   "outputs": [
    {
     "data": {
      "text/plain": [
       "['when',\n",
       " 'talking',\n",
       " 'about',\n",
       " 'the',\n",
       " 'French',\n",
       " 'gangster',\n",
       " 'film',\n",
       " 'very',\n",
       " 'often',\n",
       " 'and',\n",
       " 'paradoxically',\n",
       " 'in',\n",
       " 'French',\n",
       " 'one',\n",
       " 'talks']"
      ]
     },
     "execution_count": 23,
     "metadata": {},
     "output_type": "execute_result"
    }
   ],
   "source": [
    "words[:15]"
   ]
  },
  {
   "cell_type": "code",
   "execution_count": 24,
   "id": "6dc60f29-0f2f-4e9a-b6f3-6ad26394772b",
   "metadata": {},
   "outputs": [
    {
     "data": {
      "text/plain": [
       "64738"
      ]
     },
     "execution_count": 24,
     "metadata": {},
     "output_type": "execute_result"
    }
   ],
   "source": [
    "len(words)"
   ]
  },
  {
   "cell_type": "code",
   "execution_count": 25,
   "id": "9436f3ab-e50f-4a50-99f3-40256f846850",
   "metadata": {},
   "outputs": [
    {
     "data": {
      "text/plain": [
       "12.865262321144675"
      ]
     },
     "execution_count": 25,
     "metadata": {},
     "output_type": "execute_result"
    }
   ],
   "source": [
    "#promedio palabra por oración\n",
    "\n",
    "len(words)/len(sentences)"
   ]
  },
  {
   "cell_type": "code",
   "execution_count": 26,
   "id": "e6799761-d230-48dc-aaef-d88d40aa7104",
   "metadata": {},
   "outputs": [
    {
     "data": {
      "text/plain": [
       "8092.25"
      ]
     },
     "execution_count": 26,
     "metadata": {},
     "output_type": "execute_result"
    }
   ],
   "source": [
    "#promedio palabra por texto\n",
    "len(words)/8"
   ]
  },
  {
   "cell_type": "code",
   "execution_count": 27,
   "id": "3c0e70e9-97ca-4084-a863-006887627495",
   "metadata": {},
   "outputs": [],
   "source": [
    "##palabras uncias\n",
    "\n",
    "types = []\n",
    "for palabra in words:\n",
    "    if palabra not in types:\n",
    "        types += [palabra]"
   ]
  },
  {
   "cell_type": "code",
   "execution_count": 28,
   "id": "64017cc5-1bd6-4ee6-8526-67efbf661eda",
   "metadata": {},
   "outputs": [
    {
     "data": {
      "text/plain": [
       "['when',\n",
       " 'talking',\n",
       " 'about',\n",
       " 'the',\n",
       " 'French',\n",
       " 'gangster',\n",
       " 'film',\n",
       " 'very',\n",
       " 'often',\n",
       " 'and',\n",
       " 'paradoxically',\n",
       " 'in',\n",
       " 'one',\n",
       " 'talks',\n",
       " 'policier']"
      ]
     },
     "execution_count": 28,
     "metadata": {},
     "output_type": "execute_result"
    }
   ],
   "source": [
    "types[:15]"
   ]
  },
  {
   "cell_type": "code",
   "execution_count": 29,
   "id": "55d23367-a77c-4954-832a-ec3dcefb8637",
   "metadata": {},
   "outputs": [
    {
     "data": {
      "text/plain": [
       "5964"
      ]
     },
     "execution_count": 29,
     "metadata": {},
     "output_type": "execute_result"
    }
   ],
   "source": [
    "len(types)"
   ]
  },
  {
   "cell_type": "code",
   "execution_count": 30,
   "id": "6edb3b7c-9662-4f75-a0e8-ad44b6c05d2e",
   "metadata": {},
   "outputs": [
    {
     "data": {
      "text/plain": [
       "9.212518150081868"
      ]
     },
     "execution_count": 30,
     "metadata": {},
     "output_type": "execute_result"
    }
   ],
   "source": [
    "len(types)/len(words)*100"
   ]
  },
  {
   "cell_type": "code",
   "execution_count": 31,
   "id": "af4286d5-3abb-443f-9be5-0f0835fe7df7",
   "metadata": {
    "scrolled": true,
    "tags": []
   },
   "outputs": [
    {
     "name": "stdout",
     "output_type": "stream",
     "text": [
      "Requirement already satisfied: spacy in c:\\users\\pauba\\anaconda3\\lib\\site-packages (3.0.6)\n",
      "Requirement already satisfied: setuptools in c:\\users\\pauba\\anaconda3\\lib\\site-packages (from spacy) (52.0.0.post20210125)\n",
      "Requirement already satisfied: typer<0.4.0,>=0.3.0 in c:\\users\\pauba\\anaconda3\\lib\\site-packages (from spacy) (0.3.2)\n",
      "Requirement already satisfied: preshed<3.1.0,>=3.0.2 in c:\\users\\pauba\\anaconda3\\lib\\site-packages (from spacy) (3.0.5)\n",
      "Requirement already satisfied: jinja2 in c:\\users\\pauba\\anaconda3\\lib\\site-packages (from spacy) (2.11.3)\n",
      "Requirement already satisfied: wasabi<1.1.0,>=0.8.1 in c:\\users\\pauba\\anaconda3\\lib\\site-packages (from spacy) (0.8.2)\n",
      "Requirement already satisfied: blis<0.8.0,>=0.4.0 in c:\\users\\pauba\\anaconda3\\lib\\site-packages (from spacy) (0.7.4)\n",
      "Requirement already satisfied: tqdm<5.0.0,>=4.38.0 in c:\\users\\pauba\\anaconda3\\lib\\site-packages (from spacy) (4.59.0)\n",
      "Requirement already satisfied: numpy>=1.15.0 in c:\\users\\pauba\\anaconda3\\lib\\site-packages (from spacy) (1.20.1)\n",
      "Requirement already satisfied: requests<3.0.0,>=2.13.0 in c:\\users\\pauba\\anaconda3\\lib\\site-packages (from spacy) (2.25.1)\n",
      "Requirement already satisfied: packaging>=20.0 in c:\\users\\pauba\\anaconda3\\lib\\site-packages (from spacy) (20.9)\n",
      "Requirement already satisfied: catalogue<2.1.0,>=2.0.3 in c:\\users\\pauba\\anaconda3\\lib\\site-packages (from spacy) (2.0.6)\n",
      "Requirement already satisfied: pathy>=0.3.5 in c:\\users\\pauba\\anaconda3\\lib\\site-packages (from spacy) (0.6.0)\n",
      "Requirement already satisfied: cymem<2.1.0,>=2.0.2 in c:\\users\\pauba\\anaconda3\\lib\\site-packages (from spacy) (2.0.5)\n",
      "Requirement already satisfied: pydantic<1.8.0,>=1.7.1 in c:\\users\\pauba\\anaconda3\\lib\\site-packages (from spacy) (1.7.3)\n",
      "Requirement already satisfied: srsly<3.0.0,>=2.4.1 in c:\\users\\pauba\\anaconda3\\lib\\site-packages (from spacy) (2.4.1)\n",
      "Requirement already satisfied: spacy-legacy<3.1.0,>=3.0.4 in c:\\users\\pauba\\anaconda3\\lib\\site-packages (from spacy) (3.0.8)\n",
      "Requirement already satisfied: murmurhash<1.1.0,>=0.28.0 in c:\\users\\pauba\\anaconda3\\lib\\site-packages (from spacy) (1.0.5)\n",
      "Requirement already satisfied: thinc<8.1.0,>=8.0.3 in c:\\users\\pauba\\anaconda3\\lib\\site-packages (from spacy) (8.0.3)\n",
      "Requirement already satisfied: pyparsing>=2.0.2 in c:\\users\\pauba\\anaconda3\\lib\\site-packages (from packaging>=20.0->spacy) (2.4.7)\n",
      "Requirement already satisfied: smart-open<6.0.0,>=5.0.0 in c:\\users\\pauba\\anaconda3\\lib\\site-packages (from pathy>=0.3.5->spacy) (5.2.1)\n",
      "Requirement already satisfied: chardet<5,>=3.0.2 in c:\\users\\pauba\\anaconda3\\lib\\site-packages (from requests<3.0.0,>=2.13.0->spacy) (4.0.0)\n",
      "Requirement already satisfied: urllib3<1.27,>=1.21.1 in c:\\users\\pauba\\anaconda3\\lib\\site-packages (from requests<3.0.0,>=2.13.0->spacy) (1.26.4)\n",
      "Requirement already satisfied: idna<3,>=2.5 in c:\\users\\pauba\\anaconda3\\lib\\site-packages (from requests<3.0.0,>=2.13.0->spacy) (2.10)\n",
      "Requirement already satisfied: certifi>=2017.4.17 in c:\\users\\pauba\\anaconda3\\lib\\site-packages (from requests<3.0.0,>=2.13.0->spacy) (2020.12.5)\n",
      "Requirement already satisfied: click<7.2.0,>=7.1.1 in c:\\users\\pauba\\anaconda3\\lib\\site-packages (from typer<0.4.0,>=0.3.0->spacy) (7.1.2)\n",
      "Requirement already satisfied: MarkupSafe>=0.23 in c:\\users\\pauba\\anaconda3\\lib\\site-packages (from jinja2->spacy) (1.1.1)\n",
      "Collecting en-core-web-sm==3.0.0\n",
      "  Downloading https://github.com/explosion/spacy-models/releases/download/en_core_web_sm-3.0.0/en_core_web_sm-3.0.0-py3-none-any.whl (13.7 MB)\n",
      "Requirement already satisfied: spacy<3.1.0,>=3.0.0 in c:\\users\\pauba\\anaconda3\\lib\\site-packages (from en-core-web-sm==3.0.0) (3.0.6)\n",
      "Requirement already satisfied: typer<0.4.0,>=0.3.0 in c:\\users\\pauba\\anaconda3\\lib\\site-packages (from spacy<3.1.0,>=3.0.0->en-core-web-sm==3.0.0) (0.3.2)\n",
      "Requirement already satisfied: thinc<8.1.0,>=8.0.3 in c:\\users\\pauba\\anaconda3\\lib\\site-packages (from spacy<3.1.0,>=3.0.0->en-core-web-sm==3.0.0) (8.0.3)\n",
      "Requirement already satisfied: cymem<2.1.0,>=2.0.2 in c:\\users\\pauba\\anaconda3\\lib\\site-packages (from spacy<3.1.0,>=3.0.0->en-core-web-sm==3.0.0) (2.0.5)\n",
      "Requirement already satisfied: preshed<3.1.0,>=3.0.2 in c:\\users\\pauba\\anaconda3\\lib\\site-packages (from spacy<3.1.0,>=3.0.0->en-core-web-sm==3.0.0) (3.0.5)\n",
      "Requirement already satisfied: murmurhash<1.1.0,>=0.28.0 in c:\\users\\pauba\\anaconda3\\lib\\site-packages (from spacy<3.1.0,>=3.0.0->en-core-web-sm==3.0.0) (1.0.5)\n",
      "Requirement already satisfied: pathy>=0.3.5 in c:\\users\\pauba\\anaconda3\\lib\\site-packages (from spacy<3.1.0,>=3.0.0->en-core-web-sm==3.0.0) (0.6.0)\n",
      "Requirement already satisfied: spacy-legacy<3.1.0,>=3.0.4 in c:\\users\\pauba\\anaconda3\\lib\\site-packages (from spacy<3.1.0,>=3.0.0->en-core-web-sm==3.0.0) (3.0.8)\n",
      "Requirement already satisfied: catalogue<2.1.0,>=2.0.3 in c:\\users\\pauba\\anaconda3\\lib\\site-packages (from spacy<3.1.0,>=3.0.0->en-core-web-sm==3.0.0) (2.0.6)\n",
      "Requirement already satisfied: jinja2 in c:\\users\\pauba\\anaconda3\\lib\\site-packages (from spacy<3.1.0,>=3.0.0->en-core-web-sm==3.0.0) (2.11.3)\n",
      "Requirement already satisfied: numpy>=1.15.0 in c:\\users\\pauba\\anaconda3\\lib\\site-packages (from spacy<3.1.0,>=3.0.0->en-core-web-sm==3.0.0) (1.20.1)\n",
      "Requirement already satisfied: wasabi<1.1.0,>=0.8.1 in c:\\users\\pauba\\anaconda3\\lib\\site-packages (from spacy<3.1.0,>=3.0.0->en-core-web-sm==3.0.0) (0.8.2)\n",
      "Requirement already satisfied: requests<3.0.0,>=2.13.0 in c:\\users\\pauba\\anaconda3\\lib\\site-packages (from spacy<3.1.0,>=3.0.0->en-core-web-sm==3.0.0) (2.25.1)\n",
      "Requirement already satisfied: blis<0.8.0,>=0.4.0 in c:\\users\\pauba\\anaconda3\\lib\\site-packages (from spacy<3.1.0,>=3.0.0->en-core-web-sm==3.0.0) (0.7.4)\n",
      "Requirement already satisfied: srsly<3.0.0,>=2.4.1 in c:\\users\\pauba\\anaconda3\\lib\\site-packages (from spacy<3.1.0,>=3.0.0->en-core-web-sm==3.0.0) (2.4.1)\n",
      "Requirement already satisfied: tqdm<5.0.0,>=4.38.0 in c:\\users\\pauba\\anaconda3\\lib\\site-packages (from spacy<3.1.0,>=3.0.0->en-core-web-sm==3.0.0) (4.59.0)\n",
      "Requirement already satisfied: setuptools in c:\\users\\pauba\\anaconda3\\lib\\site-packages (from spacy<3.1.0,>=3.0.0->en-core-web-sm==3.0.0) (52.0.0.post20210125)\n",
      "Requirement already satisfied: packaging>=20.0 in c:\\users\\pauba\\anaconda3\\lib\\site-packages (from spacy<3.1.0,>=3.0.0->en-core-web-sm==3.0.0) (20.9)\n",
      "Requirement already satisfied: pydantic<1.8.0,>=1.7.1 in c:\\users\\pauba\\anaconda3\\lib\\site-packages (from spacy<3.1.0,>=3.0.0->en-core-web-sm==3.0.0) (1.7.3)\n",
      "Requirement already satisfied: pyparsing>=2.0.2 in c:\\users\\pauba\\anaconda3\\lib\\site-packages (from packaging>=20.0->spacy<3.1.0,>=3.0.0->en-core-web-sm==3.0.0) (2.4.7)\n",
      "Requirement already satisfied: smart-open<6.0.0,>=5.0.0 in c:\\users\\pauba\\anaconda3\\lib\\site-packages (from pathy>=0.3.5->spacy<3.1.0,>=3.0.0->en-core-web-sm==3.0.0) (5.2.1)\n",
      "Requirement already satisfied: urllib3<1.27,>=1.21.1 in c:\\users\\pauba\\anaconda3\\lib\\site-packages (from requests<3.0.0,>=2.13.0->spacy<3.1.0,>=3.0.0->en-core-web-sm==3.0.0) (1.26.4)\n",
      "Requirement already satisfied: certifi>=2017.4.17 in c:\\users\\pauba\\anaconda3\\lib\\site-packages (from requests<3.0.0,>=2.13.0->spacy<3.1.0,>=3.0.0->en-core-web-sm==3.0.0) (2020.12.5)\n",
      "Requirement already satisfied: idna<3,>=2.5 in c:\\users\\pauba\\anaconda3\\lib\\site-packages (from requests<3.0.0,>=2.13.0->spacy<3.1.0,>=3.0.0->en-core-web-sm==3.0.0) (2.10)\n",
      "Requirement already satisfied: chardet<5,>=3.0.2 in c:\\users\\pauba\\anaconda3\\lib\\site-packages (from requests<3.0.0,>=2.13.0->spacy<3.1.0,>=3.0.0->en-core-web-sm==3.0.0) (4.0.0)\n",
      "Requirement already satisfied: click<7.2.0,>=7.1.1 in c:\\users\\pauba\\anaconda3\\lib\\site-packages (from typer<0.4.0,>=0.3.0->spacy<3.1.0,>=3.0.0->en-core-web-sm==3.0.0) (7.1.2)\n",
      "Requirement already satisfied: MarkupSafe>=0.23 in c:\\users\\pauba\\anaconda3\\lib\\site-packages (from jinja2->spacy<3.1.0,>=3.0.0->en-core-web-sm==3.0.0) (1.1.1)\n",
      "[!] As of spaCy v3.0, shortcuts like 'en' are deprecated. Please use the full\n",
      "pipeline package name 'en_core_web_sm' instead.\n",
      "[+] Download and installation successful\n",
      "You can now load the package via spacy.load('en_core_web_sm')\n"
     ]
    }
   ],
   "source": [
    "#descagando spacy\n",
    "import sys\n",
    "!{sys.executable} -m pip install spacy\n",
    "!{sys.executable} -m spacy download en"
   ]
  },
  {
   "cell_type": "code",
   "execution_count": 32,
   "id": "191234d3-e5df-4132-b3df-66170bca0f7e",
   "metadata": {
    "scrolled": true,
    "tags": []
   },
   "outputs": [],
   "source": [
    "##TAGGEANDO EL LEMMA Y EL POS\n",
    "nouns=[]\n",
    "nlp = spacy.load(\"en_core_web_sm\")\n",
    "for oracion in flat_sentences_nopunc:\n",
    "    doc = nlp(oracion)\n",
    "\n",
    "    for token in doc:\n",
    "        ##print(token.text, token.lemma_, token.pos_, token.tag_)\n",
    "        if token.pos_ ==\"NOUN\":\n",
    "            nouns+=[token.text]\n",
    "nouns[:15]"
   ]
  },
  {
   "cell_type": "code",
   "execution_count": 33,
   "id": "b67f74a7-56b6-4013-a16c-a63653e8291f",
   "metadata": {},
   "outputs": [
    {
     "data": {
      "text/plain": [
       "True"
      ]
     },
     "execution_count": 33,
     "metadata": {},
     "output_type": "execute_result"
    }
   ],
   "source": [
    "#reglas de nominalization\n",
    "no_nom = 'thing', 'things', 'somethings', 'something', 'anything', 'everything', 'nothing', 'original', 'special', 'normal', 'version'\n",
    "terminacion = 'ment','ments','tions', 'tion','sions', 'sion', 'ibility','ibilities', 'ity','ities', 'ness','nesses', 'al','als','ings', 'ing'\n",
    "s='involvement'\n",
    "s.endswith(terminacion)"
   ]
  },
  {
   "cell_type": "code",
   "execution_count": 34,
   "id": "74b408c2-abe8-4953-9c21-98944fa9ad6c",
   "metadata": {},
   "outputs": [
    {
     "data": {
      "text/plain": [
       "359"
      ]
     },
     "execution_count": 34,
     "metadata": {},
     "output_type": "execute_result"
    }
   ],
   "source": [
    "#oraciones con POSIBLES nominalizaciones\n",
    "nominalization = []\n",
    "for oracion in sentences:\n",
    "     for word in oracion:\n",
    "        nom = False \n",
    "        for term in terminacion: \n",
    "                if word.endswith(term):\n",
    "                    nom = True \n",
    "                    if nom==True and word not in no_nom: \n",
    "                            nominalization +=[word]\n",
    "len(nominalization)   "
   ]
  },
  {
   "cell_type": "code",
   "execution_count": 35,
   "id": "1bf1a822-bd4d-4951-b09e-ba7a9aa3d752",
   "metadata": {
    "scrolled": true,
    "tags": []
   },
   "outputs": [
    {
     "data": {
      "text/plain": [
       "['that film er but i just wanted to show you er the cover that is the original',\n",
       " \"reason why er i'm talking about the er the Serie Noire writers er in relation\",\n",
       " 'to the films is is that they are on the one hand those indirect connections',\n",
       " 'and his er er body movements are very different from what you see in something',\n",
       " \"nf0069: what's interesting er about this er well many things are interesting\",\n",
       " 'the exception of Bob le Flambeur which was very much an independent production',\n",
       " 'where censorship was much less er intent on questions of morals of sexual',\n",
       " \"those films we're looking at this week are very important as a transitional\",\n",
       " \"sm0072: well 'cause i've never been candidate so er because because staying\",\n",
       " 'with the war and the German occupation of France er this is the a reading',\n",
       " 'quote unquote of contemporary French society a society which was er moving',\n",
       " \"years away from General de Gaulle's Fifth Republic and and the real\",\n",
       " \"realist films er of community of workers of producers who've become a community\",\n",
       " 'are littered with images of conspicuous consumption of wealth of high living',\n",
       " 'living of er er people drinking champagne or whisky in cabarets and er driving',\n",
       " \"even argue for that that's where he gets off so he argued that only a minimal\",\n",
       " \"that they add up to is [sniff] so it's a historical entitlement view no general\",\n",
       " 'of holdings from one person to another and third there has to be rectification',\n",
       " \"ad-, examples of such principles we've already come across like maximizing\",\n",
       " \"people who are entitled to them people's choices to transfer those entitlements\",\n",
       " 'be no distribution er redistribution',\n",
       " 'redistribution well a common answer is yes it is because once cooperation',\n",
       " 'occurs we can no longer disentangle er the contributions that each individual',\n",
       " 'critical',\n",
       " 'different case if you invent a new medicine and you charge people for supplying',\n",
       " 'might sound the practical',\n",
       " 'this fabulous basketball player and everybody is very enthusiastic about paying',\n",
       " 'simply assuming that an ideal starting point confers unqualified entitlements',\n",
       " 'natural endowments your natural abilities or disabilities your t-, natural',\n",
       " 'kind of principles that he Nozick likes they could never produce historical',\n",
       " 'pattern principle so he objects to this er choosing principles in the original',\n",
       " 'inconsistency in having a procedure that can only justify non-procedural',\n",
       " 'against ever er yielding procedural principles of justice and ty-, historical',\n",
       " 'that position',\n",
       " \"there aren't a lot of other universities doing\",\n",
       " \"following way you might think to yourselves well look it's a bit like engaging\"]"
      ]
     },
     "execution_count": 35,
     "metadata": {},
     "output_type": "execute_result"
    }
   ],
   "source": [
    "#10% de nominalicaciones para analizar\n",
    "nominalization[:36]"
   ]
  },
  {
   "cell_type": "code",
   "execution_count": 54,
   "id": "2f006ef7-3fa5-4f53-8a25-d299bb64f504",
   "metadata": {},
   "outputs": [],
   "source": [
    "import spacy"
   ]
  },
  {
   "cell_type": "code",
   "execution_count": 55,
   "id": "a9cee095-3499-4555-bfe8-15eb0aa76ee8",
   "metadata": {
    "scrolled": true,
    "tags": []
   },
   "outputs": [
    {
     "data": {
      "text/plain": [
       "['gangster',\n",
       " 'film',\n",
       " 'talks',\n",
       " 'name',\n",
       " 'genre',\n",
       " 'word',\n",
       " 'police',\n",
       " 'police',\n",
       " 'police',\n",
       " 'film',\n",
       " 'police',\n",
       " 'procedure',\n",
       " 'genres',\n",
       " 'co',\n",
       " 'films']"
      ]
     },
     "execution_count": 55,
     "metadata": {},
     "output_type": "execute_result"
    }
   ],
   "source": [
    "##TAGGEANDO EL LEMMA Y EL POS\n",
    "nouns=[]\n",
    "nlp = spacy.load(\"en_core_web_sm\")\n",
    "for oracion in flat_sentences_nopunc:\n",
    "    doc = nlp(oracion)\n",
    "\n",
    "    for token in doc:\n",
    "        ##print(token.text, token.lemma_, token.pos_, token.tag_)\n",
    "        if token.pos_ ==\"NOUN\":\n",
    "            nouns+=[token.text]\n",
    "nouns[:15]"
   ]
  },
  {
   "cell_type": "code",
   "execution_count": 56,
   "id": "01840ebe-706e-4c36-a567-adc457ff2514",
   "metadata": {},
   "outputs": [],
   "source": [
    "#lista POSIBLES nominalizaciones, solo palabras\n",
    "nom1= []\n",
    "for word in words:\n",
    "    for term in terminacion:\n",
    "        if word.endswith(term):\n",
    "            if word not in no_nom:\n",
    "                if word not in nom1:\n",
    "                    nom1+=[word]"
   ]
  },
  {
   "cell_type": "code",
   "execution_count": 57,
   "id": "4cffaae6-38c9-43cd-9e8b-8305fdc57980",
   "metadata": {},
   "outputs": [
    {
     "data": {
      "text/plain": [
       "['talking',\n",
       " 'beginning',\n",
       " 'going',\n",
       " 'hybridity',\n",
       " 'starting',\n",
       " 'Obsession',\n",
       " 'lettering',\n",
       " 'sexuality',\n",
       " 'during',\n",
       " 'notion',\n",
       " 'subverting',\n",
       " 'translation',\n",
       " 'several',\n",
       " 'telling',\n",
       " 'publishing']"
      ]
     },
     "execution_count": 57,
     "metadata": {},
     "output_type": "execute_result"
    }
   ],
   "source": [
    "nom1[:15]"
   ]
  },
  {
   "cell_type": "code",
   "execution_count": 58,
   "id": "9b5128b1-7eb6-405a-889a-d233dd92887a",
   "metadata": {},
   "outputs": [
    {
     "data": {
      "text/plain": [
       "1075"
      ]
     },
     "execution_count": 58,
     "metadata": {},
     "output_type": "execute_result"
    }
   ],
   "source": [
    "len(nom1)"
   ]
  },
  {
   "cell_type": "code",
   "execution_count": 59,
   "id": "77216ed6-38e9-4f2f-a407-5b5114e44ef1",
   "metadata": {},
   "outputs": [],
   "source": [
    "#abriendo la lista de palabras academicas\n",
    "with open('AcademicWordList.txt') as f:\n",
    "    AWL=f.read()"
   ]
  },
  {
   "cell_type": "code",
   "execution_count": 60,
   "id": "cedac1ca-064d-4e34-ab9b-9779c0affcee",
   "metadata": {},
   "outputs": [],
   "source": [
    "#dividir por salto de linea\n",
    "AWL= AWL.split('\\n')"
   ]
  },
  {
   "cell_type": "code",
   "execution_count": 61,
   "id": "a6945ef3-8ed8-43ef-a8da-26c8523231b3",
   "metadata": {},
   "outputs": [],
   "source": [
    "##palabras uncias\n",
    "\n",
    "for palabra in AWL:\n",
    "    if palabra not in AWL:\n",
    "        AWL += [palabra]"
   ]
  },
  {
   "cell_type": "code",
   "execution_count": 62,
   "id": "97350caa-9f80-4dac-8634-9a3b20f2be08",
   "metadata": {},
   "outputs": [
    {
     "data": {
      "text/plain": [
       "['analysis',\n",
       " 'approach',\n",
       " 'area',\n",
       " 'assessment',\n",
       " 'assume',\n",
       " 'authority',\n",
       " 'available',\n",
       " 'benefit',\n",
       " 'concept',\n",
       " 'consistent']"
      ]
     },
     "execution_count": 62,
     "metadata": {},
     "output_type": "execute_result"
    }
   ],
   "source": [
    "AWL[:10]"
   ]
  },
  {
   "cell_type": "code",
   "execution_count": 63,
   "id": "6f0e3d5f-0bc8-4dd7-aca2-111f73063e95",
   "metadata": {},
   "outputs": [
    {
     "data": {
      "text/plain": [
       "['analysis',\n",
       " 'approach',\n",
       " 'area',\n",
       " 'assessment',\n",
       " 'assume',\n",
       " 'authority',\n",
       " 'available',\n",
       " 'benefit',\n",
       " 'concept',\n",
       " 'consistent']"
      ]
     },
     "execution_count": 63,
     "metadata": {},
     "output_type": "execute_result"
    }
   ],
   "source": [
    "##eliminar espacios en blanco\n",
    "AWL = [palabra for palabra in AWL if len(palabra)>0]\n",
    "AWL[:10]"
   ]
  },
  {
   "cell_type": "code",
   "execution_count": 64,
   "id": "7b63c94c-ab3d-4d44-aa23-a54d50e111a1",
   "metadata": {},
   "outputs": [],
   "source": [
    "AWL_dic={palabra:0 for palabra in AWL}"
   ]
  },
  {
   "cell_type": "code",
   "execution_count": 65,
   "id": "60219606-8651-4e0d-a122-5a496599ffe8",
   "metadata": {},
   "outputs": [],
   "source": [
    "for palabra in words:\n",
    "    if palabra in AWL:    \n",
    "        AWL_dic[palabra]+=1"
   ]
  },
  {
   "cell_type": "code",
   "execution_count": 66,
   "id": "55cf0947-bb3f-42af-a38b-c40636b0ad7c",
   "metadata": {
    "scrolled": true,
    "tags": []
   },
   "outputs": [
    {
     "data": {
      "text/plain": [
       "{'analysis': 7,\n",
       " 'approach': 6,\n",
       " 'area': 17,\n",
       " 'assessment': 0,\n",
       " 'assume': 8,\n",
       " 'authority': 4,\n",
       " 'available': 5,\n",
       " 'benefit': 5,\n",
       " 'concept': 0,\n",
       " 'consistent': 0,\n",
       " 'constitutional': 0,\n",
       " 'context': 34,\n",
       " 'contract': 3,\n",
       " 'create': 7,\n",
       " 'data': 1,\n",
       " 'definition': 2,\n",
       " 'derived': 0,\n",
       " 'distribution': 9,\n",
       " 'economic': 67,\n",
       " 'environment': 7,\n",
       " 'established': 2,\n",
       " 'estimate': 0,\n",
       " 'evidence': 0,\n",
       " 'export': 13,\n",
       " 'factors': 15,\n",
       " 'financial': 9,\n",
       " 'formula': 0,\n",
       " 'function': 3,\n",
       " 'identified': 1,\n",
       " 'income': 9,\n",
       " 'indicate': 0,\n",
       " 'individual': 11,\n",
       " 'interpretation': 0,\n",
       " 'involved': 13,\n",
       " 'issues': 21,\n",
       " 'labour': 107,\n",
       " 'legal': 4,\n",
       " 'legislation': 3,\n",
       " 'major': 35,\n",
       " 'method': 0,\n",
       " 'occur': 2,\n",
       " 'percent': 0,\n",
       " 'period': 42,\n",
       " 'policy': 47,\n",
       " 'principle': 23,\n",
       " '\\x0cprocedure': 0,\n",
       " 'process': 10,\n",
       " 'required': 5,\n",
       " 'research': 1,\n",
       " 'response': 4,\n",
       " 'role': 15,\n",
       " 'section': 3,\n",
       " 'sector': 17,\n",
       " 'significant': 7,\n",
       " 'similar': 11,\n",
       " 'source': 5,\n",
       " 'specific': 7,\n",
       " 'structure': 10,\n",
       " 'theory': 55,\n",
       " 'variables': 0,\n",
       " 'achieve': 6,\n",
       " 'acquisition': 3,\n",
       " 'administration': 5,\n",
       " 'affect': 0,\n",
       " 'appropriate': 5,\n",
       " 'aspects': 8,\n",
       " 'assistance': 1,\n",
       " 'categories': 0,\n",
       " 'chapter': 2,\n",
       " 'commission': 0,\n",
       " 'community': 14,\n",
       " 'complex': 7,\n",
       " 'computer': 4,\n",
       " 'conclusion': 1,\n",
       " 'conduct': 3,\n",
       " 'consequences': 2,\n",
       " 'construction': 0,\n",
       " 'consumer': 9,\n",
       " 'credit': 2,\n",
       " 'cultural': 9,\n",
       " 'design': 4,\n",
       " 'distinction': 7,\n",
       " 'elements': 17,\n",
       " 'equation': 1,\n",
       " 'evaluation': 0,\n",
       " 'features': 1,\n",
       " 'final': 5,\n",
       " 'focus': 13,\n",
       " 'impact': 12,\n",
       " 'injury': 1,\n",
       " 'institute': 0,\n",
       " 'investment': 15,\n",
       " 'items': 1,\n",
       " 'journal': 0,\n",
       " 'maintenance': 0,\n",
       " 'normal': 4,\n",
       " 'obtained': 0,\n",
       " 'participation': 0,\n",
       " 'perceived': 7,\n",
       " 'positive': 6,\n",
       " 'potential': 3,\n",
       " 'previous': 5,\n",
       " 'primary': 9,\n",
       " 'purchase': 0,\n",
       " 'range': 0,\n",
       " '\\x0cregion': 0,\n",
       " 'regulations': 2,\n",
       " 'relevant': 6,\n",
       " 'resident': 0,\n",
       " 'resources': 17,\n",
       " 'restricted': 1,\n",
       " 'security': 1,\n",
       " 'sought': 2,\n",
       " 'select': 0,\n",
       " 'site': 0,\n",
       " 'strategies': 0,\n",
       " 'survey': 0,\n",
       " 'text': 5,\n",
       " 'traditional': 1,\n",
       " 'transfer': 15,\n",
       " 'alternative': 6,\n",
       " 'circumstances': 1,\n",
       " 'comments': 1,\n",
       " 'compensation': 0,\n",
       " 'components': 0,\n",
       " 'consent': 0,\n",
       " 'considerable': 5,\n",
       " 'constant': 2,\n",
       " 'constraints': 0,\n",
       " 'contribution': 0,\n",
       " 'convention': 7,\n",
       " 'coordination': 8,\n",
       " 'core': 5,\n",
       " 'corporate': 1,\n",
       " 'corresponding': 1,\n",
       " 'criteria': 3,\n",
       " 'deduction': 0,\n",
       " 'demonstrate': 0,\n",
       " 'document': 1,\n",
       " 'dominant': 7,\n",
       " 'emphasis': 10,\n",
       " 'ensure': 4,\n",
       " 'excluded': 0,\n",
       " 'framework': 1,\n",
       " 'funds': 1,\n",
       " 'illustrated': 0,\n",
       " 'immigration': 15,\n",
       " 'implies': 0,\n",
       " 'initial': 1,\n",
       " 'instance': 13,\n",
       " 'interaction': 0,\n",
       " 'justification': 6,\n",
       " 'layer': 0,\n",
       " 'link': 3,\n",
       " 'location': 14,\n",
       " 'maximum': 6,\n",
       " 'minorities': 11,\n",
       " 'negative': 7,\n",
       " 'outcomes': 4,\n",
       " 'partnership': 0,\n",
       " 'philosophy': 1,\n",
       " 'physical': 1,\n",
       " 'proportion': 1,\n",
       " 'published': 9,\n",
       " 'reaction': 0,\n",
       " '\\x0cregistered': 0,\n",
       " 'reliance': 1,\n",
       " 'removed': 0,\n",
       " 'scheme': 7,\n",
       " 'sequence': 9,\n",
       " 'sex': 1,\n",
       " 'shift': 14,\n",
       " 'specified': 0,\n",
       " 'sufficient': 0,\n",
       " 'task': 0,\n",
       " 'technical': 3,\n",
       " 'techniques': 0,\n",
       " 'technology': 18,\n",
       " 'validity': 0,\n",
       " 'volume': 1,\n",
       " 'access': 6,\n",
       " 'adequate': 2,\n",
       " 'annual': 0,\n",
       " 'apparent': 2,\n",
       " 'approximated': 0,\n",
       " 'attitudes': 0,\n",
       " 'attributed': 0,\n",
       " 'civil': 9,\n",
       " 'code': 1,\n",
       " 'commitment': 4,\n",
       " 'communication': 1,\n",
       " 'concentration': 2,\n",
       " 'conference': 0,\n",
       " 'contrast': 11,\n",
       " 'cycle': 2,\n",
       " 'debate': 5,\n",
       " 'despite': 9,\n",
       " 'dimensions': 2,\n",
       " 'domestic': 3,\n",
       " 'emerged': 3,\n",
       " 'error': 0,\n",
       " 'ethnic': 18,\n",
       " 'goals': 1,\n",
       " 'granted': 1,\n",
       " 'hence': 2,\n",
       " 'hypothesis': 0,\n",
       " 'implementation': 2,\n",
       " 'implications': 3,\n",
       " 'imposed': 1,\n",
       " 'integration': 5,\n",
       " 'internal': 2,\n",
       " 'investigation': 0,\n",
       " 'job': 7,\n",
       " 'label': 0,\n",
       " 'mechanism': 7,\n",
       " 'obvious': 10,\n",
       " 'occupational': 1,\n",
       " 'option': 2,\n",
       " 'output': 5,\n",
       " 'overall': 12,\n",
       " 'parallel': 1,\n",
       " 'parameters': 0,\n",
       " 'phase': 0,\n",
       " 'predicted': 0,\n",
       " 'principal': 0,\n",
       " '\\x0cprior': 0,\n",
       " 'professional': 20,\n",
       " 'project': 1,\n",
       " 'promote': 1,\n",
       " 'regime': 3,\n",
       " 'resolution': 1,\n",
       " 'retained': 0,\n",
       " 'series': 23,\n",
       " 'statistics': 0,\n",
       " 'status': 0,\n",
       " 'stress': 1,\n",
       " 'subsequent': 0,\n",
       " 'sum': 6,\n",
       " 'summary': 4,\n",
       " 'undertaken': 1,\n",
       " 'academic': 0,\n",
       " 'adjustment': 20,\n",
       " 'alter': 0,\n",
       " 'amendment': 0,\n",
       " 'aware': 4,\n",
       " 'capacity': 8,\n",
       " 'challenge': 1,\n",
       " 'clause': 0,\n",
       " 'compounds': 0,\n",
       " 'conflict': 5,\n",
       " 'consultation': 1,\n",
       " 'contact': 1,\n",
       " 'decline': 4,\n",
       " 'discretion': 0,\n",
       " 'draft': 0,\n",
       " 'enable': 0,\n",
       " 'energy': 1,\n",
       " 'enforcement': 0,\n",
       " 'entities': 0,\n",
       " 'equivalent': 5,\n",
       " 'evolution': 0,\n",
       " 'expansion': 3,\n",
       " 'exposure': 1,\n",
       " 'external': 1,\n",
       " 'facilitate': 0,\n",
       " 'fundamental': 4,\n",
       " 'generated': 5,\n",
       " 'generation': 5,\n",
       " 'image': 10,\n",
       " 'liberal': 0,\n",
       " 'licence': 0,\n",
       " 'logic': 0,\n",
       " 'marginal': 3,\n",
       " 'medical': 64,\n",
       " 'mental': 1,\n",
       " 'modified': 0,\n",
       " 'monitoring': 1,\n",
       " 'network': 7,\n",
       " 'notion': 12,\n",
       " 'objective': 6,\n",
       " 'orientation': 0,\n",
       " 'perspective': 4,\n",
       " 'precise': 2,\n",
       " 'prime': 2,\n",
       " 'psychology': 0,\n",
       " '\\x0cpursue': 0,\n",
       " 'ratio': 2,\n",
       " 'rejected': 0,\n",
       " 'revenue': 2,\n",
       " 'stability': 4,\n",
       " 'styles': 2,\n",
       " 'substitution': 0,\n",
       " 'sustainable': 1,\n",
       " 'symbolic': 1,\n",
       " 'target': 3,\n",
       " 'transition': 6,\n",
       " 'trend': 7,\n",
       " 'version': 8,\n",
       " 'welfare': 11,\n",
       " 'whereas': 11,\n",
       " 'abstract': 2,\n",
       " 'accurate': 0,\n",
       " 'acknowledged': 2,\n",
       " 'aggregate': 6,\n",
       " 'allocation': 2,\n",
       " 'assigned': 0,\n",
       " 'attached': 7,\n",
       " 'author': 0,\n",
       " 'bond': 0,\n",
       " 'brief': 4,\n",
       " 'capable': 1,\n",
       " 'cited': 0,\n",
       " 'cooperative': 2,\n",
       " 'discrimination': 29,\n",
       " 'display': 0,\n",
       " 'diversity': 7,\n",
       " 'domain': 0,\n",
       " 'edition': 0,\n",
       " 'enhanced': 0,\n",
       " 'estate': 2,\n",
       " 'exceed': 0,\n",
       " 'expert': 0,\n",
       " 'explicit': 12,\n",
       " 'federal': 0,\n",
       " 'fees': 2,\n",
       " 'flexibility': 8,\n",
       " 'furthermore': 0,\n",
       " 'gender': 2,\n",
       " 'ignored': 1,\n",
       " 'incentive': 11,\n",
       " 'incidence': 0,\n",
       " 'incorporated': 0,\n",
       " 'index': 0,\n",
       " 'inhibition': 0,\n",
       " 'initiatives': 4,\n",
       " 'input': 3,\n",
       " 'instructions': 0,\n",
       " 'intelligence': 0,\n",
       " 'interval': 0,\n",
       " 'lecture': 20,\n",
       " 'migration': 1,\n",
       " 'minimum': 2,\n",
       " 'ministry': 1,\n",
       " 'motivation': 1,\n",
       " 'neutral': 1,\n",
       " '\\x0cnevertheless': 0,\n",
       " 'overseas': 1,\n",
       " 'preceding': 0,\n",
       " 'presumption': 0,\n",
       " 'rational': 1,\n",
       " 'recovery': 0,\n",
       " 'revealed': 0,\n",
       " 'scope': 0,\n",
       " 'subsidiary': 3,\n",
       " 'tapes': 0,\n",
       " 'trace': 1,\n",
       " 'transformation': 3,\n",
       " 'transport': 4,\n",
       " 'underlying': 4,\n",
       " 'utility': 1,\n",
       " 'adaptation': 1,\n",
       " 'adults': 2,\n",
       " 'advocate': 0,\n",
       " 'aid': 9,\n",
       " 'channel': 0,\n",
       " 'chemical': 0,\n",
       " 'classical': 3,\n",
       " 'comprehensive': 0,\n",
       " 'comprise': 0,\n",
       " 'confirmed': 0,\n",
       " 'contrary': 2,\n",
       " 'converted': 0,\n",
       " 'couple': 12,\n",
       " 'decades': 3,\n",
       " 'definite': 0,\n",
       " 'deny': 3,\n",
       " 'differentiation': 3,\n",
       " 'disposal': 0,\n",
       " 'dynamic': 0,\n",
       " 'eliminate': 0,\n",
       " 'empirical': 3,\n",
       " 'equipment': 3,\n",
       " 'extract': 9,\n",
       " 'file': 0,\n",
       " 'finite': 0,\n",
       " 'foundation': 1,\n",
       " 'global': 9,\n",
       " 'grade': 0,\n",
       " 'guarantee': 3,\n",
       " 'hierarchical': 1,\n",
       " 'identical': 1,\n",
       " 'ideology': 2,\n",
       " 'inferred': 0,\n",
       " 'innovation': 4,\n",
       " 'insert': 0,\n",
       " 'intervention': 5,\n",
       " 'isolated': 1,\n",
       " 'media': 1,\n",
       " 'mode': 21,\n",
       " 'paradigm': 0,\n",
       " 'phenomenon': 5,\n",
       " 'priority': 2,\n",
       " 'prohibited': 0,\n",
       " 'publication': 0,\n",
       " '\\x0cquotation': 0,\n",
       " 'release': 0,\n",
       " 'reverse': 3,\n",
       " 'simulation': 0,\n",
       " 'solely': 0,\n",
       " 'somewhat': 0,\n",
       " 'submitted': 0,\n",
       " 'successive': 0,\n",
       " 'survive': 0,\n",
       " 'thesis': 0,\n",
       " 'topic': 6,\n",
       " 'transmission': 0,\n",
       " 'ultimately': 0,\n",
       " 'unique': 0,\n",
       " 'visible': 1,\n",
       " 'voluntary': 5,\n",
       " 'abandon': 1,\n",
       " 'accompanied': 1,\n",
       " 'accumulation': 1,\n",
       " 'ambiguous': 3,\n",
       " 'appendix': 0,\n",
       " 'appreciation': 0,\n",
       " 'arbitrary': 19,\n",
       " 'automatically': 0,\n",
       " 'bias': 3,\n",
       " 'chart': 0,\n",
       " 'clarity': 0,\n",
       " 'conformity': 0,\n",
       " 'commodity': 8,\n",
       " 'complement': 0,\n",
       " 'contemporary': 4,\n",
       " 'contradiction': 0,\n",
       " 'crucial': 3,\n",
       " 'currency': 6,\n",
       " 'denote': 0,\n",
       " 'detected': 1,\n",
       " 'deviation': 0,\n",
       " 'displacement': 2,\n",
       " 'dramatic': 5,\n",
       " 'eventually': 2,\n",
       " 'exhibit': 0,\n",
       " 'exploitation': 2,\n",
       " 'fluctuations': 0,\n",
       " 'guidelines': 0,\n",
       " 'highlighted': 1,\n",
       " 'implicit': 0,\n",
       " 'induced': 0,\n",
       " 'inevitably': 1,\n",
       " 'infrastructure': 0,\n",
       " 'inspection': 0,\n",
       " 'intensity': 1,\n",
       " 'manipulation': 0,\n",
       " 'minimised': 0,\n",
       " 'nuclear': 5,\n",
       " 'offset': 0,\n",
       " 'paragraph': 0,\n",
       " 'plus': 1,\n",
       " 'practitioners': 0,\n",
       " 'predominantly': 0,\n",
       " 'prospect': 2,\n",
       " '\\x0cradical': 0,\n",
       " 'random': 0,\n",
       " 'reinforced': 0,\n",
       " 'restore': 0,\n",
       " 'revision': 0,\n",
       " 'schedule': 2,\n",
       " 'tension': 2,\n",
       " 'termination': 0,\n",
       " 'theme': 8,\n",
       " 'thereby': 1,\n",
       " 'uniform': 0,\n",
       " 'vehicle': 0,\n",
       " 'via': 1,\n",
       " 'virtually': 4,\n",
       " 'widespread': 2,\n",
       " 'visual': 1,\n",
       " 'accommodation': 0,\n",
       " 'analogous': 0,\n",
       " 'anticipated': 0,\n",
       " 'assurance': 0,\n",
       " 'attained': 0,\n",
       " 'behalf': 4,\n",
       " 'bulk': 0,\n",
       " 'ceases': 0,\n",
       " 'coherence': 0,\n",
       " 'coincide': 0,\n",
       " 'commenced': 0,\n",
       " 'incompatible': 0,\n",
       " 'concurrent': 0,\n",
       " 'confined': 3,\n",
       " 'controversy': 2,\n",
       " 'conversely': 0,\n",
       " 'device': 0,\n",
       " 'devoted': 0,\n",
       " 'diminished': 0,\n",
       " 'distorted/distortion - equal figures': 0,\n",
       " 'duration': 0,\n",
       " 'erosion': 0,\n",
       " 'ethical': 0,\n",
       " 'format': 0,\n",
       " 'founded': 2,\n",
       " 'inherent': 0,\n",
       " 'insights': 0,\n",
       " 'integral': 0,\n",
       " 'intermediate': 0,\n",
       " 'manual': 10,\n",
       " 'mature': 0,\n",
       " 'mediation': 0,\n",
       " 'medium': 2,\n",
       " 'military': 1,\n",
       " 'minimal': 3,\n",
       " 'mutual': 0,\n",
       " 'norms': 0,\n",
       " 'overlap': 0,\n",
       " 'passive': 0,\n",
       " 'portion': 0,\n",
       " 'preliminary': 0,\n",
       " 'protocol': 0,\n",
       " 'qualitative': 0,\n",
       " 'refine': 0,\n",
       " 'relaxed': 0,\n",
       " '\\x0crestraints': 0,\n",
       " 'revolution': 4,\n",
       " 'rigid': 0,\n",
       " 'route': 11,\n",
       " 'scenario': 0,\n",
       " 'sphere': 0,\n",
       " 'subordinate': 0,\n",
       " 'supplementary': 0,\n",
       " 'suspended': 2,\n",
       " 'team': 2,\n",
       " 'temporary': 5,\n",
       " 'trigger': 0,\n",
       " 'unified': 0,\n",
       " 'violation': 0,\n",
       " 'vision': 2,\n",
       " 'adjacent': 0,\n",
       " 'albeit': 0,\n",
       " 'assembly': 0,\n",
       " 'collapse': 2,\n",
       " 'colleagues': 1,\n",
       " 'compiled': 0,\n",
       " 'conceived': 0,\n",
       " 'convinced': 0,\n",
       " 'depression': 1,\n",
       " 'encountered': 0,\n",
       " 'enormous': 5,\n",
       " 'forthcoming': 1,\n",
       " 'inclination': 0,\n",
       " 'integrity': 0,\n",
       " 'intrinsic': 0,\n",
       " 'invoked': 0,\n",
       " 'levy': 0,\n",
       " 'likewise': 0,\n",
       " 'nonetheless': 18,\n",
       " 'notwithstanding': 0,\n",
       " 'odd': 2,\n",
       " 'ongoing': 0,\n",
       " 'panel': 0,\n",
       " 'persistent': 1,\n",
       " 'posed': 1,\n",
       " 'reluctant': 0,\n",
       " 'so-called': 0,\n",
       " 'straightforward': 2,\n",
       " 'undergo': 0,\n",
       " 'whereby': 2}"
      ]
     },
     "execution_count": 66,
     "metadata": {},
     "output_type": "execute_result"
    }
   ],
   "source": [
    "AWL_dic"
   ]
  },
  {
   "cell_type": "code",
   "execution_count": 67,
   "id": "2ef89fc9-7299-4dd6-a760-580948b5e251",
   "metadata": {},
   "outputs": [
    {
     "name": "stdout",
     "output_type": "stream",
     "text": [
      "2043\n"
     ]
    }
   ],
   "source": [
    "values = sum(AWL_dic.values())\n",
    "print(values)"
   ]
  },
  {
   "cell_type": "code",
   "execution_count": 68,
   "id": "14b8240b-0e3d-4521-97ac-cfadbb6137cf",
   "metadata": {},
   "outputs": [
    {
     "data": {
      "text/plain": [
       "3.1557972133831753"
      ]
     },
     "execution_count": 68,
     "metadata": {},
     "output_type": "execute_result"
    }
   ],
   "source": [
    "values/len(words)*100"
   ]
  },
  {
   "cell_type": "code",
   "execution_count": 69,
   "id": "ed3e3702-d33a-46dc-8e27-976075bad32a",
   "metadata": {},
   "outputs": [
    {
     "data": {
      "text/plain": [
       "585"
      ]
     },
     "execution_count": 69,
     "metadata": {},
     "output_type": "execute_result"
    }
   ],
   "source": [
    "#lista POSIBLES nominalizaciones, solo palabras\n",
    "nom1= []\n",
    "for word in words:\n",
    "    for term in terminacion:\n",
    "        if word.endswith(term):\n",
    "            if word not in no_nom:\n",
    "                if word not in nom1:\n",
    "                    if word in nouns:\n",
    "                        nom1+=[word]\n",
    "len(nom1)"
   ]
  },
  {
   "cell_type": "code",
   "execution_count": 70,
   "id": "2a066119-3740-49c7-be17-8de15953d97a",
   "metadata": {},
   "outputs": [
    {
     "data": {
      "text/plain": [
       "0.9036423738762397"
      ]
     },
     "execution_count": 70,
     "metadata": {},
     "output_type": "execute_result"
    }
   ],
   "source": [
    "len(nom1)/len(words)*100"
   ]
  },
  {
   "cell_type": "code",
   "execution_count": null,
   "id": "a38d26c4-6d62-4d09-8b26-495f4edf6f63",
   "metadata": {},
   "outputs": [],
   "source": []
  }
 ],
 "metadata": {
  "kernelspec": {
   "display_name": "Python 3",
   "language": "python",
   "name": "python3"
  },
  "language_info": {
   "codemirror_mode": {
    "name": "ipython",
    "version": 3
   },
   "file_extension": ".py",
   "mimetype": "text/x-python",
   "name": "python",
   "nbconvert_exporter": "python",
   "pygments_lexer": "ipython3",
   "version": "3.8.8"
  }
 },
 "nbformat": 4,
 "nbformat_minor": 5
}
