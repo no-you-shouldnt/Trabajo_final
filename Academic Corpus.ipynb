{
 "cells": [
  {
   "cell_type": "code",
   "execution_count": 18,
   "id": "46f66689-95d3-41d7-bed2-b5fb41cfb504",
   "metadata": {},
   "outputs": [],
   "source": [
    "#leyendo texto 1 de prueba\n",
    "with open('Academic/nf0069.txt') as f:\n",
    "    contents=f.read()"
   ]
  },
  {
   "cell_type": "code",
   "execution_count": 19,
   "id": "e77a1645-ebe1-4dcc-8b51-4d00b960803f",
   "metadata": {},
   "outputs": [],
   "source": [
    "##Abriendo corpus\n",
    "import glob\n",
    "lista_files = glob.glob('Academic/*.txt')\n",
    "corpus = []\n",
    "\n",
    "for file in lista_files:\n",
    "     with open(file, 'r') as file_input:\n",
    "         corpus+=[file_input.read()]"
   ]
  },
  {
   "cell_type": "code",
   "execution_count": 20,
   "id": "402931af-666f-406f-93c6-507dc9ef1283",
   "metadata": {},
   "outputs": [],
   "source": [
    "##quitar cosas () y []\n",
    "##crear funcion\n",
    "def a(test_str):\n",
    "    ret = ''\n",
    "    skip1c = 0\n",
    "    skip2c = 0\n",
    "    for i in test_str:\n",
    "        if i == '[':\n",
    "            skip1c += 1\n",
    "        elif i == '(':\n",
    "            skip2c += 1\n",
    "        elif i == ']' and skip1c > 0:\n",
    "            skip1c -= 1\n",
    "        elif i == ')'and skip2c > 0:\n",
    "            skip2c -= 1\n",
    "        elif skip1c == 0 and skip2c == 0:\n",
    "            ret += i\n",
    "    return ret"
   ]
  },
  {
   "cell_type": "code",
   "execution_count": 21,
   "id": "1f36376d-5e73-4c7e-9484-4deb5ff27d5d",
   "metadata": {},
   "outputs": [],
   "source": [
    "##quitar los () y []\n",
    "corpus = a(corpus)"
   ]
  },
  {
   "cell_type": "code",
   "execution_count": 22,
   "id": "f743ede8-6903-4b79-bb8f-d89e18433842",
   "metadata": {},
   "outputs": [],
   "source": [
    "#dividir por salto de linea\n",
    "corpus= corpus.split('\\n')"
   ]
  },
  {
   "cell_type": "code",
   "execution_count": 23,
   "id": "93e11fbb-c7c5-4b87-b9bb-445f7151884c",
   "metadata": {},
   "outputs": [
    {
     "data": {
      "text/plain": [
       "['nf0069: when talking about the French gangster film very often and ',\n",
       " \"paradoxically in French one talks about the policier that's the name of the \",\n",
       " 'genre so when you you see the word policier er I-E police which relates to the ',\n",
       " \"police it doesn't necessarily mean that it's to do with a police film or police \",\n",
       " \"procedure as the you have in the American genres but it's co-, covers all er \",\n",
       " 'virtually all the films er to do with crime er pretty much from the nineteen-',\n",
       " 'fifties onwards so er a gangster film and a police film will both be called ',\n",
       " \"policier in French and sometimes you'll see the in slang this becomes polar er \",\n",
       " \"i'm sorry i hope it's not too awkward if i move er polar is P-O-L-A-R er is yep \",\n",
       " 'sf0070: sorry ',\n",
       " \"nf0069: okay we're just beginning polar is the slang word for policier so le \",\n",
       " 'polar refers to the genre of the police crime gangster movie in French er ',\n",
       " 'specifically from the nineteen-fifties late forties fifties onwards and so that ',\n",
       " 'i will ',\n",
       " 'talk today about a particular genre or subgenre of French crime films and film ']"
      ]
     },
     "execution_count": 23,
     "metadata": {},
     "output_type": "execute_result"
    }
   ],
   "source": [
    "corpus[:15]"
   ]
  },
  {
   "cell_type": "code",
   "execution_count": 24,
   "id": "4ef2d9cb-3d8e-4970-88a6-09973b6659dd",
   "metadata": {},
   "outputs": [
    {
     "data": {
      "text/plain": [
       "5032"
      ]
     },
     "execution_count": 24,
     "metadata": {},
     "output_type": "execute_result"
    }
   ],
   "source": [
    "len(corpus)"
   ]
  },
  {
   "cell_type": "code",
   "execution_count": 25,
   "id": "7d017f88-9694-4ef2-bce5-9c3ee0731281",
   "metadata": {},
   "outputs": [],
   "source": [
    "#dividir en oraciones, importar la funcion\n",
    "from nltk import sent_tokenize\n",
    "\n",
    "#dividir en oraciones\n",
    "sentences = []\n",
    "for sentence in corpus:\n",
    "    sent_token = sent_tokenize(sentence)\n",
    "    sentences+=[sent_token]"
   ]
  },
  {
   "cell_type": "code",
   "execution_count": 26,
   "id": "16cbf737-7de4-44f1-be94-fd36a434214a",
   "metadata": {},
   "outputs": [
    {
     "data": {
      "text/plain": [
       "5032"
      ]
     },
     "execution_count": 26,
     "metadata": {},
     "output_type": "execute_result"
    }
   ],
   "source": [
    "#número de oraciones\n",
    "len(sentences)"
   ]
  },
  {
   "cell_type": "code",
   "execution_count": 27,
   "id": "553702dd-c90b-4c99-bdf3-f7938caf6b20",
   "metadata": {},
   "outputs": [
    {
     "data": {
      "text/plain": [
       "629.0"
      ]
     },
     "execution_count": 27,
     "metadata": {},
     "output_type": "execute_result"
    }
   ],
   "source": [
    "len(sentences)/8"
   ]
  },
  {
   "cell_type": "code",
   "execution_count": 28,
   "id": "fadb5b99-124e-47b2-a6f6-bd4a5996f8bd",
   "metadata": {},
   "outputs": [
    {
     "data": {
      "text/plain": [
       "True"
      ]
     },
     "execution_count": 28,
     "metadata": {},
     "output_type": "execute_result"
    }
   ],
   "source": [
    "#reglas de nominalization\n",
    "terminacion = 'ment', 'tion', 'sion', 'ibility', 'ity', 'ness', 'al', 'ing'\n",
    "s='involvement'\n",
    "s.endswith(terminacion)"
   ]
  },
  {
   "cell_type": "code",
   "execution_count": 30,
   "id": "15509e8b-de88-4a43-8d43-0c514615fded",
   "metadata": {},
   "outputs": [
    {
     "data": {
      "text/plain": [
       "324"
      ]
     },
     "execution_count": 30,
     "metadata": {},
     "output_type": "execute_result"
    }
   ],
   "source": [
    "#oraciones con POSIBLES nominalizaciones\n",
    "nominalization = []\n",
    "for oracion in sentences:\n",
    "    for word in oracion:\n",
    "        if word.endswith(terminacion):\n",
    "            nominalization +=[word]\n",
    "len(nominalization)"
   ]
  },
  {
   "cell_type": "code",
   "execution_count": 31,
   "id": "ca5ee245-42af-4170-a2db-a135842daf35",
   "metadata": {},
   "outputs": [
    {
     "data": {
      "text/plain": [
       "6.43879173290938"
      ]
     },
     "execution_count": 31,
     "metadata": {},
     "output_type": "execute_result"
    }
   ],
   "source": [
    "##porcentaje nominalizaciones\n",
    "len(nominalization)/len(sentences)*100"
   ]
  },
  {
   "cell_type": "code",
   "execution_count": 32,
   "id": "1655b5a4-0997-4fea-acf5-01949a50de97",
   "metadata": {},
   "outputs": [],
   "source": [
    "#aplanar la lista de strings\n",
    "flat_sentences = []\n",
    "for item in sentences:\n",
    "        for word in item:\n",
    "            flat_sentences+=[word]"
   ]
  },
  {
   "cell_type": "code",
   "execution_count": 13,
   "id": "f5d55da1-c3c7-44e4-92b0-3537cb9d1882",
   "metadata": {},
   "outputs": [],
   "source": [
    "#remover puntuación\n",
    "import re\n",
    "\n",
    "def remove_punctuation(s):\n",
    "    return re.sub(r'[^\\w\\s]','',s)"
   ]
  },
  {
   "cell_type": "code",
   "execution_count": 14,
   "id": "fe6362f5-0595-48e9-99d7-1d27fc2714f3",
   "metadata": {},
   "outputs": [],
   "source": [
    "flat_sentences_nopunc =[]\n",
    "\n",
    "for sent in flat_sentences:\n",
    "    flat_sentences_nopunc+=[remove_punctuation(sent)]"
   ]
  },
  {
   "cell_type": "code",
   "execution_count": 15,
   "id": "8c6c22f2-f4f2-46a1-aa89-d524980ca780",
   "metadata": {},
   "outputs": [
    {
     "data": {
      "text/plain": [
       "['nf0069 when talking about the French gangster film very often and',\n",
       " 'paradoxically in French one talks about the policier thats the name of the',\n",
       " 'genre so when you you see the word policier er IE police which relates to the',\n",
       " 'police it doesnt necessarily mean that its to do with a police film or police',\n",
       " 'procedure as the you have in the American genres but its co covers all er',\n",
       " 'virtually all the films er to do with crime er pretty much from the nineteen',\n",
       " 'fifties onwards so er a gangster film and a police film will both be called',\n",
       " 'policier in French and sometimes youll see the in slang this becomes polar er',\n",
       " 'im sorry i hope its not too awkward if i move er polar is POLAR er is yep',\n",
       " 'sf0070 sorry',\n",
       " 'nf0069 okay were just beginning polar is the slang word for policier so le',\n",
       " 'polar refers to the genre of the police crime gangster movie in French er',\n",
       " 'specifically from the nineteenfifties late forties fifties onwards and so that',\n",
       " 'i will',\n",
       " 'talk today about a particular genre or subgenre of French crime films and film']"
      ]
     },
     "execution_count": 15,
     "metadata": {},
     "output_type": "execute_result"
    }
   ],
   "source": [
    "flat_sentences_nopunc[:15]"
   ]
  },
  {
   "cell_type": "code",
   "execution_count": null,
   "id": "b0b4af9b-7c6c-4d83-8b87-226a01d46384",
   "metadata": {},
   "outputs": [],
   "source": []
  }
 ],
 "metadata": {
  "kernelspec": {
   "display_name": "Python 3",
   "language": "python",
   "name": "python3"
  },
  "language_info": {
   "codemirror_mode": {
    "name": "ipython",
    "version": 3
   },
   "file_extension": ".py",
   "mimetype": "text/x-python",
   "name": "python",
   "nbconvert_exporter": "python",
   "pygments_lexer": "ipython3",
   "version": "3.8.8"
  }
 },
 "nbformat": 4,
 "nbformat_minor": 5
}
