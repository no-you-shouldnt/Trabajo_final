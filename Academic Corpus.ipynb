{
 "cells": [
  {
   "cell_type": "code",
   "execution_count": 1,
   "id": "46f66689-95d3-41d7-bed2-b5fb41cfb504",
   "metadata": {},
   "outputs": [],
   "source": [
    "#leyendo texto 1 de prueba\n",
    "#este en realidad ya no sirve pero lo dejo como evidencia de que se hizo prueba con este texto\n",
    "with open('Academic/nf0069.txt') as f:\n",
    "    contents=f.read()"
   ]
  },
  {
   "cell_type": "code",
   "execution_count": 2,
   "id": "e77a1645-ebe1-4dcc-8b51-4d00b960803f",
   "metadata": {},
   "outputs": [],
   "source": [
    "##Abriendo corpus\n",
    "import glob\n",
    "lista_files = glob.glob('Academic/*.txt')\n",
    "corpus = []\n",
    "\n",
    "for file in lista_files:\n",
    "     with open(file, 'r') as file_input:\n",
    "         corpus+=[file_input.read()]"
   ]
  },
  {
   "cell_type": "code",
   "execution_count": 3,
   "id": "402931af-666f-406f-93c6-507dc9ef1283",
   "metadata": {},
   "outputs": [],
   "source": [
    "##quitar cosas () y []\n",
    "##crear funcion\n",
    "def a(test_str):\n",
    "    ret = ''\n",
    "    skip1c = 0\n",
    "    skip2c = 0\n",
    "    for i in test_str:\n",
    "        if i == '[':\n",
    "            skip1c += 1\n",
    "        elif i == '(':\n",
    "            skip2c += 1\n",
    "        elif i == ']' and skip1c > 0:\n",
    "            skip1c -= 1\n",
    "        elif i == ')'and skip2c > 0:\n",
    "            skip2c -= 1\n",
    "        elif skip1c == 0 and skip2c == 0:\n",
    "            ret += i\n",
    "    return ret"
   ]
  },
  {
   "cell_type": "code",
   "execution_count": 4,
   "id": "1f36376d-5e73-4c7e-9484-4deb5ff27d5d",
   "metadata": {},
   "outputs": [],
   "source": [
    "##quitar los () y []\n",
    "corpus = a(corpus)"
   ]
  },
  {
   "cell_type": "code",
   "execution_count": 5,
   "id": "f743ede8-6903-4b79-bb8f-d89e18433842",
   "metadata": {},
   "outputs": [],
   "source": [
    "#dividir por salto de linea\n",
    "corpus= corpus.split('\\n')"
   ]
  },
  {
   "cell_type": "code",
   "execution_count": 6,
   "id": "93e11fbb-c7c5-4b87-b9bb-445f7151884c",
   "metadata": {},
   "outputs": [
    {
     "data": {
      "text/plain": [
       "['nf0069: when talking about the French gangster film very often and ',\n",
       " \"paradoxically in French one talks about the policier that's the name of the \",\n",
       " 'genre so when you you see the word policier er I-E police which relates to the ',\n",
       " \"police it doesn't necessarily mean that it's to do with a police film or police \",\n",
       " \"procedure as the you have in the American genres but it's co-, covers all er \",\n",
       " 'virtually all the films er to do with crime er pretty much from the nineteen-',\n",
       " 'fifties onwards so er a gangster film and a police film will both be called ',\n",
       " \"policier in French and sometimes you'll see the in slang this becomes polar er \",\n",
       " \"i'm sorry i hope it's not too awkward if i move er polar is P-O-L-A-R er is yep \",\n",
       " 'sf0070: sorry ',\n",
       " \"nf0069: okay we're just beginning polar is the slang word for policier so le \",\n",
       " 'polar refers to the genre of the police crime gangster movie in French er ',\n",
       " 'specifically from the nineteen-fifties late forties fifties onwards and so that ',\n",
       " 'i will ',\n",
       " 'talk today about a particular genre or subgenre of French crime films and film ']"
      ]
     },
     "execution_count": 6,
     "metadata": {},
     "output_type": "execute_result"
    }
   ],
   "source": [
    "corpus[:15]"
   ]
  },
  {
   "cell_type": "code",
   "execution_count": 7,
   "id": "4ef2d9cb-3d8e-4970-88a6-09973b6659dd",
   "metadata": {},
   "outputs": [
    {
     "data": {
      "text/plain": [
       "5032"
      ]
     },
     "execution_count": 7,
     "metadata": {},
     "output_type": "execute_result"
    }
   ],
   "source": [
    "len(corpus)"
   ]
  },
  {
   "cell_type": "code",
   "execution_count": 8,
   "id": "7d017f88-9694-4ef2-bce5-9c3ee0731281",
   "metadata": {},
   "outputs": [],
   "source": [
    "#dividir en oraciones, importar la funcion\n",
    "from nltk import sent_tokenize\n",
    "\n",
    "#dividir en oraciones\n",
    "sentences = []\n",
    "for sentence in corpus:\n",
    "    sent_token = sent_tokenize(sentence)\n",
    "    sentences+=[sent_token]"
   ]
  },
  {
   "cell_type": "code",
   "execution_count": 9,
   "id": "16cbf737-7de4-44f1-be94-fd36a434214a",
   "metadata": {},
   "outputs": [
    {
     "data": {
      "text/plain": [
       "5032"
      ]
     },
     "execution_count": 9,
     "metadata": {},
     "output_type": "execute_result"
    }
   ],
   "source": [
    "#número de oraciones\n",
    "len(sentences)"
   ]
  },
  {
   "cell_type": "code",
   "execution_count": 10,
   "id": "553702dd-c90b-4c99-bdf3-f7938caf6b20",
   "metadata": {},
   "outputs": [
    {
     "data": {
      "text/plain": [
       "629.0"
      ]
     },
     "execution_count": 10,
     "metadata": {},
     "output_type": "execute_result"
    }
   ],
   "source": [
    "len(sentences)/8"
   ]
  },
  {
   "cell_type": "code",
   "execution_count": 11,
   "id": "fadb5b99-124e-47b2-a6f6-bd4a5996f8bd",
   "metadata": {},
   "outputs": [
    {
     "data": {
      "text/plain": [
       "True"
      ]
     },
     "execution_count": 11,
     "metadata": {},
     "output_type": "execute_result"
    }
   ],
   "source": [
    "#reglas de nominalization\n",
    "terminacion = 'ment','ments','tions', 'tion','sions', 'sion', 'ibility','ibilities', 'ity','ities', 'ness','nesses', 'al','als','ings', 'ing'\n",
    "s='involvement'\n",
    "s.endswith(terminacion)"
   ]
  },
  {
   "cell_type": "code",
   "execution_count": 12,
   "id": "15509e8b-de88-4a43-8d43-0c514615fded",
   "metadata": {},
   "outputs": [
    {
     "data": {
      "text/plain": [
       "358"
      ]
     },
     "execution_count": 12,
     "metadata": {},
     "output_type": "execute_result"
    }
   ],
   "source": [
    "#oraciones con POSIBLES nominalizaciones\n",
    "nominalization = []\n",
    "for oracion in sentences:\n",
    "    for word in oracion:\n",
    "        if word.endswith(terminacion):\n",
    "            nominalization +=[word]\n",
    "len(nominalization)"
   ]
  },
  {
   "cell_type": "code",
   "execution_count": 13,
   "id": "1b641166-1b25-4856-abe2-3849bbe23ea9",
   "metadata": {},
   "outputs": [
    {
     "data": {
      "text/plain": [
       "['that film er but i just wanted to show you er the cover that is the original',\n",
       " \"reason why er i'm talking about the er the Serie Noire writers er in relation\",\n",
       " 'to the films is is that they are on the one hand those indirect connections',\n",
       " 'and his er er body movements are very different from what you see in something',\n",
       " \"nf0069: what's interesting er about this er well many things are interesting\",\n",
       " 'the exception of Bob le Flambeur which was very much an independent production',\n",
       " 'where censorship was much less er intent on questions of morals of sexual',\n",
       " \"those films we're looking at this week are very important as a transitional\",\n",
       " \"sm0072: well 'cause i've never been candidate so er because because staying\",\n",
       " 'with the war and the German occupation of France er this is the a reading',\n",
       " 'quote unquote of contemporary French society a society which was er moving',\n",
       " \"years away from General de Gaulle's Fifth Republic and and the real\",\n",
       " \"realist films er of community of workers of producers who've become a community\",\n",
       " 'are littered with images of conspicuous consumption of wealth of high living',\n",
       " 'living of er er people drinking champagne or whisky in cabarets and er driving',\n",
       " \"even argue for that that's where he gets off so he argued that only a minimal\",\n",
       " \"that they add up to is [sniff] so it's a historical entitlement view no general\",\n",
       " 'of holdings from one person to another and third there has to be rectification',\n",
       " \"ad-, examples of such principles we've already come across like maximizing\",\n",
       " \"people who are entitled to them people's choices to transfer those entitlements\",\n",
       " 'be no distribution er redistribution',\n",
       " 'redistribution well a common answer is yes it is because once cooperation',\n",
       " 'occurs we can no longer disentangle er the contributions that each individual',\n",
       " 'critical',\n",
       " 'different case if you invent a new medicine and you charge people for supplying',\n",
       " 'might sound the practical',\n",
       " 'this fabulous basketball player and everybody is very enthusiastic about paying',\n",
       " 'simply assuming that an ideal starting point confers unqualified entitlements',\n",
       " 'natural endowments your natural abilities or disabilities your t-, natural',\n",
       " 'kind of principles that he Nozick likes they could never produce historical',\n",
       " 'pattern principle so he objects to this er choosing principles in the original',\n",
       " 'inconsistency in having a procedure that can only justify non-procedural']"
      ]
     },
     "execution_count": 13,
     "metadata": {},
     "output_type": "execute_result"
    }
   ],
   "source": [
    "nominalization[:32]"
   ]
  },
  {
   "cell_type": "code",
   "execution_count": 14,
   "id": "ca5ee245-42af-4170-a2db-a135842daf35",
   "metadata": {},
   "outputs": [
    {
     "data": {
      "text/plain": [
       "7.114467408585055"
      ]
     },
     "execution_count": 14,
     "metadata": {},
     "output_type": "execute_result"
    }
   ],
   "source": [
    "##porcentaje nominalizaciones\n",
    "len(nominalization)/len(sentences)*100"
   ]
  },
  {
   "cell_type": "code",
   "execution_count": 15,
   "id": "1655b5a4-0997-4fea-acf5-01949a50de97",
   "metadata": {},
   "outputs": [],
   "source": [
    "#aplanar la lista de strings\n",
    "flat_sentences = []\n",
    "for item in sentences:\n",
    "        for word in item:\n",
    "            flat_sentences+=[word]"
   ]
  },
  {
   "cell_type": "code",
   "execution_count": 16,
   "id": "f5d55da1-c3c7-44e4-92b0-3537cb9d1882",
   "metadata": {},
   "outputs": [],
   "source": [
    "#remover puntuación\n",
    "import re\n",
    "\n",
    "def remove_punctuation(s):\n",
    "    return re.sub(r'[^\\w\\s]','',s)"
   ]
  },
  {
   "cell_type": "code",
   "execution_count": 17,
   "id": "fe6362f5-0595-48e9-99d7-1d27fc2714f3",
   "metadata": {},
   "outputs": [],
   "source": [
    "flat_sentences_nopunc =[]\n",
    "\n",
    "for sent in flat_sentences:\n",
    "    flat_sentences_nopunc+=[remove_punctuation(sent)]"
   ]
  },
  {
   "cell_type": "code",
   "execution_count": 18,
   "id": "8c6c22f2-f4f2-46a1-aa89-d524980ca780",
   "metadata": {},
   "outputs": [
    {
     "data": {
      "text/plain": [
       "['nf0069 when talking about the French gangster film very often and',\n",
       " 'paradoxically in French one talks about the policier thats the name of the',\n",
       " 'genre so when you you see the word policier er IE police which relates to the',\n",
       " 'police it doesnt necessarily mean that its to do with a police film or police',\n",
       " 'procedure as the you have in the American genres but its co covers all er',\n",
       " 'virtually all the films er to do with crime er pretty much from the nineteen',\n",
       " 'fifties onwards so er a gangster film and a police film will both be called',\n",
       " 'policier in French and sometimes youll see the in slang this becomes polar er',\n",
       " 'im sorry i hope its not too awkward if i move er polar is POLAR er is yep',\n",
       " 'sf0070 sorry',\n",
       " 'nf0069 okay were just beginning polar is the slang word for policier so le',\n",
       " 'polar refers to the genre of the police crime gangster movie in French er',\n",
       " 'specifically from the nineteenfifties late forties fifties onwards and so that',\n",
       " 'i will',\n",
       " 'talk today about a particular genre or subgenre of French crime films and film']"
      ]
     },
     "execution_count": 18,
     "metadata": {},
     "output_type": "execute_result"
    }
   ],
   "source": [
    "flat_sentences_nopunc[:15]"
   ]
  },
  {
   "cell_type": "code",
   "execution_count": 19,
   "id": "b0b4af9b-7c6c-4d83-8b87-226a01d46384",
   "metadata": {
    "tags": []
   },
   "outputs": [
    {
     "data": {
      "text/plain": [
       "['nf0069',\n",
       " 'when',\n",
       " 'talking',\n",
       " 'about',\n",
       " 'the',\n",
       " 'French',\n",
       " 'gangster',\n",
       " 'film',\n",
       " 'very',\n",
       " 'often',\n",
       " 'and',\n",
       " 'paradoxically',\n",
       " 'in',\n",
       " 'French',\n",
       " 'one']"
      ]
     },
     "execution_count": 19,
     "metadata": {},
     "output_type": "execute_result"
    }
   ],
   "source": [
    "##SEPARAR POR PALABRAS\n",
    "words=[]\n",
    "for sentence in flat_sentences_nopunc:\n",
    "    for word in sentence.split(' '):\n",
    "        words+=[word]\n",
    "words[:15]"
   ]
  },
  {
   "cell_type": "code",
   "execution_count": 20,
   "id": "dd337ad6-9b34-4f0f-a6c2-a3efe7cc3dae",
   "metadata": {},
   "outputs": [
    {
     "data": {
      "text/plain": [
       "67236"
      ]
     },
     "execution_count": 20,
     "metadata": {},
     "output_type": "execute_result"
    }
   ],
   "source": [
    "len(words)"
   ]
  },
  {
   "cell_type": "code",
   "execution_count": 21,
   "id": "7d0ccef1-e520-4c08-9b18-7976728577a1",
   "metadata": {},
   "outputs": [],
   "source": [
    "##eliminar espacios en blanco\n",
    "words = [palabra for palabra in words if len(palabra)>0]"
   ]
  },
  {
   "cell_type": "code",
   "execution_count": 22,
   "id": "1e57b022-2b33-4fdf-83bb-b3ae36391c72",
   "metadata": {},
   "outputs": [
    {
     "data": {
      "text/plain": [
       "['nf0069',\n",
       " 'when',\n",
       " 'talking',\n",
       " 'about',\n",
       " 'the',\n",
       " 'French',\n",
       " 'gangster',\n",
       " 'film',\n",
       " 'very',\n",
       " 'often',\n",
       " 'and',\n",
       " 'paradoxically',\n",
       " 'in',\n",
       " 'French',\n",
       " 'one']"
      ]
     },
     "execution_count": 22,
     "metadata": {},
     "output_type": "execute_result"
    }
   ],
   "source": [
    "words[:15]"
   ]
  },
  {
   "cell_type": "code",
   "execution_count": 23,
   "id": "9436f3ab-e50f-4a50-99f3-40256f846850",
   "metadata": {},
   "outputs": [
    {
     "data": {
      "text/plain": [
       "13.358704292527822"
      ]
     },
     "execution_count": 23,
     "metadata": {},
     "output_type": "execute_result"
    }
   ],
   "source": [
    "#promedio palabra por oración\n",
    "\n",
    "len(words)/len(sentences)"
   ]
  },
  {
   "cell_type": "code",
   "execution_count": 24,
   "id": "e6799761-d230-48dc-aaef-d88d40aa7104",
   "metadata": {},
   "outputs": [
    {
     "data": {
      "text/plain": [
       "8402.625"
      ]
     },
     "execution_count": 24,
     "metadata": {},
     "output_type": "execute_result"
    }
   ],
   "source": [
    "#promedio palabra por texto\n",
    "len(words)/8"
   ]
  },
  {
   "cell_type": "code",
   "execution_count": 25,
   "id": "3c0e70e9-97ca-4084-a863-006887627495",
   "metadata": {},
   "outputs": [],
   "source": [
    "##palabras uncias\n",
    "\n",
    "types = []\n",
    "for palabra in words:\n",
    "    if palabra not in types:\n",
    "        types += [palabra]"
   ]
  },
  {
   "cell_type": "code",
   "execution_count": 26,
   "id": "64017cc5-1bd6-4ee6-8526-67efbf661eda",
   "metadata": {},
   "outputs": [
    {
     "data": {
      "text/plain": [
       "['nf0069',\n",
       " 'when',\n",
       " 'talking',\n",
       " 'about',\n",
       " 'the',\n",
       " 'French',\n",
       " 'gangster',\n",
       " 'film',\n",
       " 'very',\n",
       " 'often',\n",
       " 'and',\n",
       " 'paradoxically',\n",
       " 'in',\n",
       " 'one',\n",
       " 'talks']"
      ]
     },
     "execution_count": 26,
     "metadata": {},
     "output_type": "execute_result"
    }
   ],
   "source": [
    "types[:15]"
   ]
  },
  {
   "cell_type": "code",
   "execution_count": 27,
   "id": "55d23367-a77c-4954-832a-ec3dcefb8637",
   "metadata": {},
   "outputs": [
    {
     "data": {
      "text/plain": [
       "5972"
      ]
     },
     "execution_count": 27,
     "metadata": {},
     "output_type": "execute_result"
    }
   ],
   "source": [
    "len(types)"
   ]
  },
  {
   "cell_type": "code",
   "execution_count": 28,
   "id": "6edb3b7c-9662-4f75-a0e8-ad44b6c05d2e",
   "metadata": {},
   "outputs": [
    {
     "data": {
      "text/plain": [
       "8.884128471757338"
      ]
     },
     "execution_count": 28,
     "metadata": {},
     "output_type": "execute_result"
    }
   ],
   "source": [
    "len(types)/len(words)*100"
   ]
  },
  {
   "cell_type": "code",
   "execution_count": 29,
   "id": "af4286d5-3abb-443f-9be5-0f0835fe7df7",
   "metadata": {},
   "outputs": [
    {
     "name": "stdout",
     "output_type": "stream",
     "text": [
      "Requirement already satisfied: spacy in c:\\users\\pauba\\anaconda3\\lib\\site-packages (3.0.6)\n",
      "Requirement already satisfied: cymem<2.1.0,>=2.0.2 in c:\\users\\pauba\\anaconda3\\lib\\site-packages (from spacy) (2.0.5)\n",
      "Requirement already satisfied: tqdm<5.0.0,>=4.38.0 in c:\\users\\pauba\\anaconda3\\lib\\site-packages (from spacy) (4.59.0)\n",
      "Requirement already satisfied: jinja2 in c:\\users\\pauba\\anaconda3\\lib\\site-packages (from spacy) (2.11.3)\n",
      "Requirement already satisfied: blis<0.8.0,>=0.4.0 in c:\\users\\pauba\\anaconda3\\lib\\site-packages (from spacy) (0.7.4)\n",
      "Requirement already satisfied: murmurhash<1.1.0,>=0.28.0 in c:\\users\\pauba\\anaconda3\\lib\\site-packages (from spacy) (1.0.5)\n",
      "Requirement already satisfied: wasabi<1.1.0,>=0.8.1 in c:\\users\\pauba\\anaconda3\\lib\\site-packages (from spacy) (0.8.2)\n",
      "Requirement already satisfied: spacy-legacy<3.1.0,>=3.0.4 in c:\\users\\pauba\\anaconda3\\lib\\site-packages (from spacy) (3.0.8)\n",
      "Requirement already satisfied: pathy>=0.3.5 in c:\\users\\pauba\\anaconda3\\lib\\site-packages (from spacy) (0.6.0)\n",
      "Requirement already satisfied: preshed<3.1.0,>=3.0.2 in c:\\users\\pauba\\anaconda3\\lib\\site-packages (from spacy) (3.0.5)\n",
      "Requirement already satisfied: packaging>=20.0 in c:\\users\\pauba\\anaconda3\\lib\\site-packages (from spacy) (20.9)\n",
      "Requirement already satisfied: requests<3.0.0,>=2.13.0 in c:\\users\\pauba\\anaconda3\\lib\\site-packages (from spacy) (2.25.1)\n",
      "Requirement already satisfied: pydantic<1.8.0,>=1.7.1 in c:\\users\\pauba\\anaconda3\\lib\\site-packages (from spacy) (1.7.3)\n",
      "Requirement already satisfied: numpy>=1.15.0 in c:\\users\\pauba\\anaconda3\\lib\\site-packages (from spacy) (1.20.1)\n",
      "Requirement already satisfied: srsly<3.0.0,>=2.4.1 in c:\\users\\pauba\\anaconda3\\lib\\site-packages (from spacy) (2.4.1)\n",
      "Requirement already satisfied: setuptools in c:\\users\\pauba\\anaconda3\\lib\\site-packages (from spacy) (52.0.0.post20210125)\n",
      "Requirement already satisfied: typer<0.4.0,>=0.3.0 in c:\\users\\pauba\\anaconda3\\lib\\site-packages (from spacy) (0.3.2)\n",
      "Requirement already satisfied: thinc<8.1.0,>=8.0.3 in c:\\users\\pauba\\anaconda3\\lib\\site-packages (from spacy) (8.0.3)\n",
      "Requirement already satisfied: catalogue<2.1.0,>=2.0.3 in c:\\users\\pauba\\anaconda3\\lib\\site-packages (from spacy) (2.0.6)\n",
      "Requirement already satisfied: pyparsing>=2.0.2 in c:\\users\\pauba\\anaconda3\\lib\\site-packages (from packaging>=20.0->spacy) (2.4.7)\n",
      "Requirement already satisfied: smart-open<6.0.0,>=5.0.0 in c:\\users\\pauba\\anaconda3\\lib\\site-packages (from pathy>=0.3.5->spacy) (5.2.1)\n",
      "Requirement already satisfied: idna<3,>=2.5 in c:\\users\\pauba\\anaconda3\\lib\\site-packages (from requests<3.0.0,>=2.13.0->spacy) (2.10)\n",
      "Requirement already satisfied: chardet<5,>=3.0.2 in c:\\users\\pauba\\anaconda3\\lib\\site-packages (from requests<3.0.0,>=2.13.0->spacy) (4.0.0)\n",
      "Requirement already satisfied: certifi>=2017.4.17 in c:\\users\\pauba\\anaconda3\\lib\\site-packages (from requests<3.0.0,>=2.13.0->spacy) (2020.12.5)\n",
      "Requirement already satisfied: urllib3<1.27,>=1.21.1 in c:\\users\\pauba\\anaconda3\\lib\\site-packages (from requests<3.0.0,>=2.13.0->spacy) (1.26.4)\n",
      "Requirement already satisfied: click<7.2.0,>=7.1.1 in c:\\users\\pauba\\anaconda3\\lib\\site-packages (from typer<0.4.0,>=0.3.0->spacy) (7.1.2)\n",
      "Requirement already satisfied: MarkupSafe>=0.23 in c:\\users\\pauba\\anaconda3\\lib\\site-packages (from jinja2->spacy) (1.1.1)\n",
      "Collecting en-core-web-sm==3.0.0\n",
      "  Downloading https://github.com/explosion/spacy-models/releases/download/en_core_web_sm-3.0.0/en_core_web_sm-3.0.0-py3-none-any.whl (13.7 MB)\n",
      "Requirement already satisfied: spacy<3.1.0,>=3.0.0 in c:\\users\\pauba\\anaconda3\\lib\\site-packages (from en-core-web-sm==3.0.0) (3.0.6)\n",
      "Requirement already satisfied: wasabi<1.1.0,>=0.8.1 in c:\\users\\pauba\\anaconda3\\lib\\site-packages (from spacy<3.1.0,>=3.0.0->en-core-web-sm==3.0.0) (0.8.2)\n",
      "Requirement already satisfied: thinc<8.1.0,>=8.0.3 in c:\\users\\pauba\\anaconda3\\lib\\site-packages (from spacy<3.1.0,>=3.0.0->en-core-web-sm==3.0.0) (8.0.3)\n",
      "Requirement already satisfied: cymem<2.1.0,>=2.0.2 in c:\\users\\pauba\\anaconda3\\lib\\site-packages (from spacy<3.1.0,>=3.0.0->en-core-web-sm==3.0.0) (2.0.5)\n",
      "Requirement already satisfied: spacy-legacy<3.1.0,>=3.0.4 in c:\\users\\pauba\\anaconda3\\lib\\site-packages (from spacy<3.1.0,>=3.0.0->en-core-web-sm==3.0.0) (3.0.8)\n",
      "Requirement already satisfied: catalogue<2.1.0,>=2.0.3 in c:\\users\\pauba\\anaconda3\\lib\\site-packages (from spacy<3.1.0,>=3.0.0->en-core-web-sm==3.0.0) (2.0.6)\n",
      "Requirement already satisfied: typer<0.4.0,>=0.3.0 in c:\\users\\pauba\\anaconda3\\lib\\site-packages (from spacy<3.1.0,>=3.0.0->en-core-web-sm==3.0.0) (0.3.2)\n",
      "Requirement already satisfied: blis<0.8.0,>=0.4.0 in c:\\users\\pauba\\anaconda3\\lib\\site-packages (from spacy<3.1.0,>=3.0.0->en-core-web-sm==3.0.0) (0.7.4)\n",
      "Requirement already satisfied: jinja2 in c:\\users\\pauba\\anaconda3\\lib\\site-packages (from spacy<3.1.0,>=3.0.0->en-core-web-sm==3.0.0) (2.11.3)\n",
      "Requirement already satisfied: pydantic<1.8.0,>=1.7.1 in c:\\users\\pauba\\anaconda3\\lib\\site-packages (from spacy<3.1.0,>=3.0.0->en-core-web-sm==3.0.0) (1.7.3)\n",
      "Requirement already satisfied: packaging>=20.0 in c:\\users\\pauba\\anaconda3\\lib\\site-packages (from spacy<3.1.0,>=3.0.0->en-core-web-sm==3.0.0) (20.9)\n",
      "Requirement already satisfied: setuptools in c:\\users\\pauba\\anaconda3\\lib\\site-packages (from spacy<3.1.0,>=3.0.0->en-core-web-sm==3.0.0) (52.0.0.post20210125)\n",
      "Requirement already satisfied: requests<3.0.0,>=2.13.0 in c:\\users\\pauba\\anaconda3\\lib\\site-packages (from spacy<3.1.0,>=3.0.0->en-core-web-sm==3.0.0) (2.25.1)\n",
      "Requirement already satisfied: preshed<3.1.0,>=3.0.2 in c:\\users\\pauba\\anaconda3\\lib\\site-packages (from spacy<3.1.0,>=3.0.0->en-core-web-sm==3.0.0) (3.0.5)\n",
      "Requirement already satisfied: tqdm<5.0.0,>=4.38.0 in c:\\users\\pauba\\anaconda3\\lib\\site-packages (from spacy<3.1.0,>=3.0.0->en-core-web-sm==3.0.0) (4.59.0)\n",
      "Requirement already satisfied: murmurhash<1.1.0,>=0.28.0 in c:\\users\\pauba\\anaconda3\\lib\\site-packages (from spacy<3.1.0,>=3.0.0->en-core-web-sm==3.0.0) (1.0.5)\n",
      "Requirement already satisfied: pathy>=0.3.5 in c:\\users\\pauba\\anaconda3\\lib\\site-packages (from spacy<3.1.0,>=3.0.0->en-core-web-sm==3.0.0) (0.6.0)\n",
      "Requirement already satisfied: srsly<3.0.0,>=2.4.1 in c:\\users\\pauba\\anaconda3\\lib\\site-packages (from spacy<3.1.0,>=3.0.0->en-core-web-sm==3.0.0) (2.4.1)\n",
      "Requirement already satisfied: numpy>=1.15.0 in c:\\users\\pauba\\anaconda3\\lib\\site-packages (from spacy<3.1.0,>=3.0.0->en-core-web-sm==3.0.0) (1.20.1)\n",
      "Requirement already satisfied: pyparsing>=2.0.2 in c:\\users\\pauba\\anaconda3\\lib\\site-packages (from packaging>=20.0->spacy<3.1.0,>=3.0.0->en-core-web-sm==3.0.0) (2.4.7)\n",
      "Requirement already satisfied: smart-open<6.0.0,>=5.0.0 in c:\\users\\pauba\\anaconda3\\lib\\site-packages (from pathy>=0.3.5->spacy<3.1.0,>=3.0.0->en-core-web-sm==3.0.0) (5.2.1)\n",
      "Requirement already satisfied: idna<3,>=2.5 in c:\\users\\pauba\\anaconda3\\lib\\site-packages (from requests<3.0.0,>=2.13.0->spacy<3.1.0,>=3.0.0->en-core-web-sm==3.0.0) (2.10)\n",
      "Requirement already satisfied: urllib3<1.27,>=1.21.1 in c:\\users\\pauba\\anaconda3\\lib\\site-packages (from requests<3.0.0,>=2.13.0->spacy<3.1.0,>=3.0.0->en-core-web-sm==3.0.0) (1.26.4)\n",
      "Requirement already satisfied: certifi>=2017.4.17 in c:\\users\\pauba\\anaconda3\\lib\\site-packages (from requests<3.0.0,>=2.13.0->spacy<3.1.0,>=3.0.0->en-core-web-sm==3.0.0) (2020.12.5)\n",
      "Requirement already satisfied: chardet<5,>=3.0.2 in c:\\users\\pauba\\anaconda3\\lib\\site-packages (from requests<3.0.0,>=2.13.0->spacy<3.1.0,>=3.0.0->en-core-web-sm==3.0.0) (4.0.0)\n",
      "Requirement already satisfied: click<7.2.0,>=7.1.1 in c:\\users\\pauba\\anaconda3\\lib\\site-packages (from typer<0.4.0,>=0.3.0->spacy<3.1.0,>=3.0.0->en-core-web-sm==3.0.0) (7.1.2)\n",
      "Requirement already satisfied: MarkupSafe>=0.23 in c:\\users\\pauba\\anaconda3\\lib\\site-packages (from jinja2->spacy<3.1.0,>=3.0.0->en-core-web-sm==3.0.0) (1.1.1)\n",
      "[!] As of spaCy v3.0, shortcuts like 'en' are deprecated. Please use the full\n",
      "pipeline package name 'en_core_web_sm' instead.\n",
      "[+] Download and installation successful\n",
      "You can now load the package via spacy.load('en_core_web_sm')\n"
     ]
    }
   ],
   "source": [
    "import sys\n",
    "!{sys.executable} -m pip install spacy\n",
    "!{sys.executable} -m spacy download en"
   ]
  },
  {
   "cell_type": "code",
   "execution_count": 36,
   "id": "9dc4e3db-b8fd-4d27-bbe3-eee5b2be9ce3",
   "metadata": {},
   "outputs": [
    {
     "ename": "SyntaxError",
     "evalue": "invalid syntax (<ipython-input-36-122424cd24d0>, line 8)",
     "output_type": "error",
     "traceback": [
      "\u001b[1;36m  File \u001b[1;32m\"<ipython-input-36-122424cd24d0>\"\u001b[1;36m, line \u001b[1;32m8\u001b[0m\n\u001b[1;33m    token.shape_, token.is_alpha, token.is_stop):\u001b[0m\n\u001b[1;37m                                                 ^\u001b[0m\n\u001b[1;31mSyntaxError\u001b[0m\u001b[1;31m:\u001b[0m invalid syntax\n"
     ]
    }
   ],
   "source": [
    "import spacy\n",
    "\n",
    "nlp = spacy.load(\"en_core_web_sm\")\n",
    "for oracion in flat_sentences_nopunc:\n",
    "    doc = nlp(oracion)\n",
    "    for token in doc:\n",
    "        print(token.text, token.lemma_, token.pos_, token.tag_, token.dep_,\n",
    "            token.shape_, token.is_alpha, token.is_stop):\n",
    "        print(token.text, token.lemma_, token.pos_, token.tag_, token.dep_,\n",
    "            token.shape_, token.is_alpha, token.is_stop)"
   ]
  },
  {
   "cell_type": "code",
   "execution_count": null,
   "id": "191234d3-e5df-4132-b3df-66170bca0f7e",
   "metadata": {},
   "outputs": [
    {
     "name": "stdout",
     "output_type": "stream",
     "text": [
      "nf0069 nf0069 PROPN NNP ROOT xxdddd False False\n",
      "when when ADV WRB advmod xxxx True True\n",
      "talking talk VERB VBG ROOT xxxx True False\n",
      "about about ADP IN prep xxxx True True\n",
      "the the DET DT det xxx True True\n",
      "French french ADJ JJ amod Xxxxx True False\n",
      "gangster gangster NOUN NN compound xxxx True False\n",
      "film film NOUN NN pobj xxxx True False\n",
      "very very ADV RB advmod xxxx True True\n",
      "often often ADV RB advmod xxxx True True\n",
      "and and CCONJ CC cc xxx True True\n",
      "paradoxically paradoxically ADV RB advmod xxxx True False\n",
      "in in ADP IN prep xx True True\n",
      "French french ADJ JJ amod Xxxxx True False\n",
      "one one NUM CD nummod xxx True True\n",
      "talks talk NOUN NNS pobj xxxx True False\n",
      "about about ADP IN prep xxxx True True\n",
      "the the DET DT det xxx True True\n",
      "policier polici ADJ JJR pobj xxxx True False\n",
      "that that DET WDT nsubj xxxx True True\n",
      "s s VERB VBZ ROOT x True False\n",
      "the the DET DT det xxx True True\n",
      "name name NOUN NN attr xxxx True True\n",
      "of of ADP IN prep xx True True\n",
      "the the DET DT pobj xxx True True\n",
      "genre genre NOUN NN dep xxxx True False\n",
      "so so ADV RB advmod xx True True\n",
      "when when ADV WRB advmod xxxx True True\n",
      "you you PRON PRP advmod xxx True True\n",
      "you you PRON PRP nsubj xxx True True\n",
      "see see VERB VBP ROOT xxx True True\n",
      "the the DET DT det xxx True True\n",
      "word word NOUN NN dobj xxxx True False\n",
      "policier polici ADJ JJR amod xxxx True False\n",
      "er er INTJ UH intj xx True False\n",
      "IE IE PROPN NNP compound XX True False\n",
      "police police NOUN NNS appos xxxx True False\n",
      "which which DET WDT nsubj xxxx True True\n",
      "relates relate VERB VBZ relcl xxxx True False\n",
      "to to ADP IN prep xx True True\n",
      "the the DET DT pobj xxx True True\n",
      "police police NOUN NNS npadvmod xxxx True False\n",
      "it it PRON PRP nsubj xx True True\n",
      "does do AUX VBZ aux xxxx True True\n",
      "nt nt AUX RB aux xx True False\n",
      "necessarily necessarily ADV RB advmod xxxx True False\n",
      "mean mean VERB VB ROOT xxxx True False\n",
      "that that SCONJ IN mark xxxx True True\n",
      "its its PRON PRP nsubj xxx True True\n",
      "to to PART TO aux xx True True\n",
      "do do VERB VB ccomp xx True True\n",
      "with with ADP IN prep xxxx True True\n",
      "a a DET DT det x True True\n",
      "police police NOUN NN compound xxxx True False\n",
      "film film NOUN NN pobj xxxx True False\n",
      "or or CCONJ CC cc xx True True\n",
      "police police NOUN NNS conj xxxx True False\n",
      "procedure procedure NOUN NN ROOT xxxx True False\n",
      "as as ADP IN prep xx True True\n",
      "the the DET DT pobj xxx True True\n",
      "you you PRON PRP nsubj xxx True True\n",
      "have have VERB VBP relcl xxxx True True\n",
      "in in ADP IN prep xx True True\n",
      "the the DET DT det xxx True True\n",
      "American american ADJ JJ amod Xxxxx True False\n",
      "genres genre NOUN NNS pobj xxxx True False\n",
      "but but CCONJ CC cc xxx True True\n",
      "its its PRON PRP$ poss xxx True True\n",
      "co co NOUN NN nsubj xx True False\n",
      "covers cover VERB VBZ conj xxxx True False\n",
      "all all DET DT dobj xxx True True\n",
      "er er INTJ UH intj xx True False\n",
      "virtually virtually ADV RB advmod xxxx True False\n",
      "all all DET PDT predet xxx True True\n",
      "the the DET DT det xxx True True\n",
      "films film NOUN NNS ROOT xxxx True False\n",
      "er er INTJ UH intj xx True False\n",
      "to to PART TO aux xx True True\n",
      "do do VERB VB relcl xx True True\n",
      "with with ADP IN prep xxxx True True\n",
      "crime crime NOUN NN pobj xxxx True False\n",
      "er er INTJ UH intj xx True False\n",
      "pretty pretty ADV RB advmod xxxx True False\n",
      "much much ADV RB advmod xxxx True True\n",
      "from from ADP IN prep xxxx True True\n",
      "the the DET DT det xxx True True\n",
      "nineteen nineteen NUM CD pobj xxxx True False\n",
      "fifties fiftie VERB VBZ ROOT xxxx True False\n",
      "onwards onwards ADV RB advmod xxxx True False\n",
      "so so ADV RB cc xx True True\n",
      "er er INTJ UH intj xx True False\n",
      "a a DET DT det x True True\n",
      "gangster gangster NOUN NN compound xxxx True False\n",
      "film film NOUN NN dobj xxxx True False\n",
      "and and CCONJ CC cc xxx True True\n",
      "a a DET DT det x True True\n",
      "police police NOUN NN compound xxxx True False\n",
      "film film NOUN NN conj xxxx True False\n",
      "will will AUX MD aux xxxx True True\n",
      "both both DET DT dep xxxx True True\n",
      "be be AUX VB auxpass xx True True\n",
      "called call VERB VBN ROOT xxxx True False\n",
      "policier polici ADJ JJR advcl xxxx True False\n",
      "in in ADP IN prep xx True True\n",
      "French French PROPN NNP pobj Xxxxx True False\n",
      "and and CCONJ CC cc xxx True True\n",
      "sometimes sometimes ADV RB advmod xxxx True True\n",
      "you you PRON PRP nsubj xxx True True\n",
      "ll ll AUX MD aux xx True False\n",
      "see see VERB VB ROOT xxx True True\n",
      "the the DET DT det xxx True True\n",
      "in in ADP IN prep xx True True\n",
      "slang slang NOUN NN pobj xxxx True False\n",
      "this this DET DT nsubj xxxx True True\n",
      "becomes become VERB VBZ ccomp xxxx True True\n",
      "polar polar ADJ JJ acomp xxxx True False\n",
      "er er INTJ UH intj xx True False\n",
      "i I PRON PRP nsubj x True True\n",
      "m m VERB VBP ccomp x True False\n",
      "sorry sorry ADJ JJ acomp xxxx True False\n",
      "i I PRON PRP nsubj x True True\n",
      "hope hope VERB VBP ccomp xxxx True False\n",
      "its its PRON PRP$ poss xxx True True\n",
      "not not PART RB neg xxx True True\n",
      "too too ADV RB advmod xxx True True\n",
      "awkward awkward ADJ JJ ccomp xxxx True False\n",
      "if if SCONJ IN mark xx True True\n",
      "i I PRON PRP nsubj x True True\n",
      "move move VERB VBP advcl xxxx True True\n",
      "er er INTJ UH intj xx True False\n",
      "polar polar ADJ JJ acomp xxxx True False\n",
      "is be AUX VBZ ccomp xx True True\n",
      "POLAR POLAR PROPN NNP acomp XXXX True False\n",
      "er er INTJ UH intj xx True False\n",
      "is be AUX VBZ ROOT xx True True\n",
      "yep yep INTJ UH intj xxx True False\n",
      "sf0070 sf0070 X ADD compound xxdddd False False\n",
      "sorry sorry INTJ UH ROOT xxxx True False\n",
      "nf0069 nf0069 PROPN NNP compound xxdddd False False\n",
      "okay okay INTJ UH intj xxxx True False\n",
      "were be AUX VBD aux xxxx True True\n",
      "just just ADV RB advmod xxxx True True\n",
      "beginning begin VERB VBG csubj xxxx True False\n",
      "polar polar ADJ JJ acomp xxxx True False\n",
      "is be AUX VBZ ROOT xx True True\n",
      "the the DET DT det xxx True True\n",
      "slang slang ADJ JJ amod xxxx True False\n",
      "word word NOUN NN attr xxxx True False\n",
      "for for ADP IN prep xxx True True\n",
      "policier polici ADJ JJR pobj xxxx True False\n",
      "so so ADV RB prep xx True True\n",
      "le le X FW punct xx True False\n",
      "polar polar ADJ JJ amod xxxx True False\n",
      "refers refer VERB VBZ ROOT xxxx True False\n",
      "to to ADP IN prep xx True True\n",
      "the the DET DT det xxx True True\n",
      "genre genre NOUN NN pobj xxxx True False\n",
      "of of ADP IN prep xx True True\n",
      "the the DET DT det xxx True True\n",
      "police police NOUN NN compound xxxx True False\n",
      "crime crime NOUN NN compound xxxx True False\n",
      "gangster gangster NOUN NN compound xxxx True False\n",
      "movie movie NOUN NN pobj xxxx True False\n",
      "in in ADP IN prep xx True True\n",
      "French French PROPN NNP pobj Xxxxx True False\n",
      "er er INTJ UH intj xx True False\n",
      "specifically specifically ADV RB advmod xxxx True False\n",
      "from from ADP IN prep xxxx True True\n",
      "the the DET DT det xxx True True\n",
      "nineteenfifties nineteenfiftie NOUN NNS pobj xxxx True False\n",
      "late late ADJ JJ amod xxxx True False\n",
      "forties forty NOUN NNS nsubj xxxx True False\n",
      "fifties fiftie VERB VBZ ROOT xxxx True False\n",
      "onwards onwards ADV RB advmod xxxx True False\n",
      "and and CCONJ CC cc xxx True True\n",
      "so so SCONJ IN cc xx True True\n",
      "that that SCONJ IN ROOT xxxx True True\n",
      "i I PRON PRP ROOT x True True\n",
      "will will AUX MD punct xxxx True True\n",
      "talk talk VERB VB ROOT xxxx True False\n",
      "today today NOUN NN npadvmod xxxx True False\n",
      "about about ADP IN prep xxxx True True\n",
      "a a DET DT det x True True\n",
      "particular particular ADJ JJ amod xxxx True False\n",
      "genre genre NOUN NN pobj xxxx True False\n",
      "or or CCONJ CC cc xx True True\n",
      "subgenre subgenre NOUN NN conj xxxx True False\n",
      "of of ADP IN prep xx True True\n",
      "French french ADJ JJ amod Xxxxx True False\n",
      "crime crime NOUN NN compound xxxx True False\n",
      "films film NOUN NNS pobj xxxx True False\n",
      "and and CCONJ CC cc xxx True True\n",
      "film film NOUN NN punct xxxx True False\n",
      "noir noir NOUN NNS ROOT xxxx True False\n",
      "which which DET WDT nsubj xxxx True True\n",
      "arises arise VERB VBZ relcl xxxx True False\n",
      "in in ADP IN prep xx True True\n",
      "the the DET DT det xxx True True\n",
      "midfifties midfiftie NOUN NNS pobj xxxx True False\n",
      "especially especially ADV RB advmod xxxx True False\n",
      "with with ADP IN prep xxxx True True\n",
      "three three NUM CD nummod xxxx True True\n",
      "key key ADJ JJ amod xxx True False\n",
      "movies movie NOUN NNS pobj xxxx True False\n",
      "which which DET WDT nsubj xxxx True True\n",
      "are be VERB VBP relcl xxx True True\n",
      "the the DET DT det xxx True True\n",
      "ones one NOUN NNS ROOT xxxx True False\n",
      "that that DET WDT nsubj xxxx True True\n",
      "are be VERB VBP relcl xxx True True\n",
      "at at ADP IN prep xx True True\n",
      "the the DET DT det xxx True True\n",
      "top top NOUN NN pobj xxx True True\n",
      "of of ADP IN prep xx True True\n",
      "your your PRON PRP$ poss xxxx True True\n",
      "handout handout NOUN NN pobj xxxx True False\n",
      "er er INTJ UH intj xx True False\n",
      "and and CCONJ CC cc xxx True True\n",
      "that that DET DT nsubj xxxx True True\n",
      "is be VERB VBZ conj xx True True\n",
      "Touchez Touchez PROPN NNP compound Xxxxx True False\n",
      "pas pas NOUN NN attr xxx True False\n",
      "au au ADV RB ROOT xx True False\n",
      "Grisbi Grisbi PROPN NNP ROOT Xxxxx True False\n",
      "which which DET WDT nsubj xxxx True True\n",
      "ill ill ADJ JJ amod xxx True False\n",
      "refer refer VERB VBP relcl xxxx True False\n",
      "to to ADP IN prep xx True True\n",
      "as as ADP IN prep xx True True\n",
      "Grisbi Grisbi PROPN NNP pobj Xxxxx True False\n",
      "er er INTJ UH intj xx True False\n",
      "Du Du PROPN NNP compound Xx True False\n",
      "Rififi Rififi PROPN NNP compound Xxxxx True False\n",
      "Chez Chez PROPN NNP compound Xxxx True False\n",
      "les le NOUN NNS appos xxx True False\n",
      "Hommes Hommes PROPN NNP npadvmod Xxxxx True False\n",
      "ri ri PROPN NNP prep xx True False\n",
      "Rififi Rififi PROPN NNP appos Xxxxx True False\n",
      "and and CCONJ CC cc xxx True True\n",
      "er er INTJ UH intj xx True False\n",
      "Bob Bob PROPN NNP npadvmod Xxx True False\n",
      "le le X FW nmod xx True False\n",
      "Flambeur Flambeur PROPN NNP ROOT Xxxxx True False\n",
      "the the DET DT det xxx True True\n",
      "film film NOUN NN appos xxxx True False\n",
      "you you PRON PRP nsubj xxx True True\n",
      "re re AUX VBP aux xx True True\n",
      "going go VERB VBG relcl xxxx True False\n",
      "to to PART TO aux xx True True\n",
      "see see VERB VB xcomp xxx True True\n",
      "this this DET DT det xxxx True True\n",
      "afternoon afternoon NOUN NN npadvmod xxxx True False\n",
      "er er INTJ UH intj xx True False\n",
      "okay okay INTJ UH ROOT xxxx True False\n",
      "and and CCONJ CC ROOT xxx True True\n"
     ]
    }
   ],
   "source": [
    "nlp = spacy.load(\"en_core_web_sm\")\n",
    "for oracion in flat_sentences_nopunc:\n",
    "    doc = nlp(oracion)\n",
    "\n",
    "    for token in doc:\n",
    "        print(token.text, token.lemma_, token.pos_, token.tag_, token.dep_,\n",
    "            token.shape_, token.is_alpha, token.is_stop)"
   ]
  },
  {
   "cell_type": "code",
   "execution_count": null,
   "id": "74b408c2-abe8-4953-9c21-98944fa9ad6c",
   "metadata": {},
   "outputs": [],
   "source": []
  }
 ],
 "metadata": {
  "kernelspec": {
   "display_name": "Python 3",
   "language": "python",
   "name": "python3"
  },
  "language_info": {
   "codemirror_mode": {
    "name": "ipython",
    "version": 3
   },
   "file_extension": ".py",
   "mimetype": "text/x-python",
   "name": "python",
   "nbconvert_exporter": "python",
   "pygments_lexer": "ipython3",
   "version": "3.8.8"
  }
 },
 "nbformat": 4,
 "nbformat_minor": 5
}
