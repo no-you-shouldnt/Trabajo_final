{
 "cells": [
  {
   "cell_type": "code",
   "execution_count": 11,
   "id": "e25d4de8-1869-4791-9d12-dc10ed8af202",
   "metadata": {},
   "outputs": [
    {
     "data": {
      "text/plain": [
       "'This is a sentence. () []'"
      ]
     },
     "execution_count": 11,
     "metadata": {},
     "output_type": "execute_result"
    }
   ],
   "source": [
    ">>> import re \n",
    ">>> x = \"This is a sentence. (once a day) [twice a day]\"\n",
    ">>> re.sub(\"([\\(\\[]).*?([\\)\\]])\", \"\\g<1>\\g<2>\", x)"
   ]
  },
  {
   "cell_type": "code",
   "execution_count": null,
   "id": "ebcecfdc-9c12-448e-ab5a-b8f59a9ffa4b",
   "metadata": {},
   "outputs": [],
   "source": []
  }
 ],
 "metadata": {
  "kernelspec": {
   "display_name": "Python 3",
   "language": "python",
   "name": "python3"
  },
  "language_info": {
   "codemirror_mode": {
    "name": "ipython",
    "version": 3
   },
   "file_extension": ".py",
   "mimetype": "text/x-python",
   "name": "python",
   "nbconvert_exporter": "python",
   "pygments_lexer": "ipython3",
   "version": "3.8.8"
  }
 },
 "nbformat": 4,
 "nbformat_minor": 5
}
